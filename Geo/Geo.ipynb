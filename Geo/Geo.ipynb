{
  "cells": [
    {
      "cell_type": "markdown",
      "metadata": {
        "id": "vWnJDdRIOP6i"
      },
      "source": [
        "# Выбор локации для скважины"
      ]
    },
    {
      "cell_type": "markdown",
      "metadata": {
        "id": "BSYaFPVOOP6i"
      },
      "source": [
        "Из добывающей компании поступила задача решить, где бурить новую скважину.\n",
        "\n",
        "Нам предоставлены пробы нефти в трёх регионах: в каждом 10 000 месторождений, где измерили качество нефти и объём её запасов. Необходимо построить модель машинного обучения, которая поможет определить регион, где добыча принесёт наибольшую прибыль. Проанализируем возможную прибыль и риски техникой.\n",
        "\n",
        "Шаги для выбора локации:\n",
        "\n",
        "- В избранном регионе будем искать месторождения, для каждого определим значения признаков;\n",
        "- Построим модель и оценим объём запасов;\n",
        "- Выбирем месторождения с самым высокими оценками значений. Количество месторождений зависит от бюджета компании и стоимости разработки одной скважины;\n",
        "- Прибыль посчитаем равной суммарной прибыли отобранных месторождений."
      ]
    },
    {
      "cell_type": "markdown",
      "metadata": {
        "id": "UEg1KYpXOP6i"
      },
      "source": [
        "## Загрузка и подготовка данных"
      ]
    },
    {
      "cell_type": "code",
      "execution_count": 1,
      "metadata": {
        "id": "6NTWJCEDOP6j"
      },
      "outputs": [],
      "source": [
        "# Импортируем необходимые библиотеки\n",
        "import pandas as pd\n",
        "from sklearn.model_selection import train_test_split\n",
        "from sklearn.metrics import mean_squared_error\n",
        "from sklearn.linear_model import LinearRegression\n",
        "import numpy as np"
      ]
    },
    {
      "cell_type": "code",
      "execution_count": 2,
      "metadata": {
        "id": "SnBEFOTXOP6j"
      },
      "outputs": [],
      "source": [
        "# Загрузим данные\n",
        "df1 = pd.read_csv('geo_data_0.csv')\n",
        "df2 = pd.read_csv('geo_data_1.csv')\n",
        "df3 = pd.read_csv('geo_data_2.csv')"
      ]
    },
    {
      "cell_type": "markdown",
      "metadata": {
        "id": "YyIJYvhzOP6j"
      },
      "source": [
        "**Изучим данные первого региона**"
      ]
    },
    {
      "cell_type": "code",
      "execution_count": 3,
      "metadata": {
        "id": "WfaOysF3OP6j",
        "outputId": "ca8311fb-be27-451a-e51e-394ee4571a5c",
        "scrolled": true
      },
      "outputs": [
        {
          "data": {
            "text/html": [
              "<div>\n",
              "<style scoped>\n",
              "    .dataframe tbody tr th:only-of-type {\n",
              "        vertical-align: middle;\n",
              "    }\n",
              "\n",
              "    .dataframe tbody tr th {\n",
              "        vertical-align: top;\n",
              "    }\n",
              "\n",
              "    .dataframe thead th {\n",
              "        text-align: right;\n",
              "    }\n",
              "</style>\n",
              "<table border=\"1\" class=\"dataframe\">\n",
              "  <thead>\n",
              "    <tr style=\"text-align: right;\">\n",
              "      <th></th>\n",
              "      <th>id</th>\n",
              "      <th>f0</th>\n",
              "      <th>f1</th>\n",
              "      <th>f2</th>\n",
              "      <th>product</th>\n",
              "    </tr>\n",
              "  </thead>\n",
              "  <tbody>\n",
              "    <tr>\n",
              "      <th>0</th>\n",
              "      <td>txEyH</td>\n",
              "      <td>0.705745</td>\n",
              "      <td>-0.497823</td>\n",
              "      <td>1.221170</td>\n",
              "      <td>105.280062</td>\n",
              "    </tr>\n",
              "    <tr>\n",
              "      <th>1</th>\n",
              "      <td>2acmU</td>\n",
              "      <td>1.334711</td>\n",
              "      <td>-0.340164</td>\n",
              "      <td>4.365080</td>\n",
              "      <td>73.037750</td>\n",
              "    </tr>\n",
              "    <tr>\n",
              "      <th>2</th>\n",
              "      <td>409Wp</td>\n",
              "      <td>1.022732</td>\n",
              "      <td>0.151990</td>\n",
              "      <td>1.419926</td>\n",
              "      <td>85.265647</td>\n",
              "    </tr>\n",
              "    <tr>\n",
              "      <th>3</th>\n",
              "      <td>iJLyR</td>\n",
              "      <td>-0.032172</td>\n",
              "      <td>0.139033</td>\n",
              "      <td>2.978566</td>\n",
              "      <td>168.620776</td>\n",
              "    </tr>\n",
              "    <tr>\n",
              "      <th>4</th>\n",
              "      <td>Xdl7t</td>\n",
              "      <td>1.988431</td>\n",
              "      <td>0.155413</td>\n",
              "      <td>4.751769</td>\n",
              "      <td>154.036647</td>\n",
              "    </tr>\n",
              "  </tbody>\n",
              "</table>\n",
              "</div>"
            ],
            "text/plain": [
              "      id        f0        f1        f2     product\n",
              "0  txEyH  0.705745 -0.497823  1.221170  105.280062\n",
              "1  2acmU  1.334711 -0.340164  4.365080   73.037750\n",
              "2  409Wp  1.022732  0.151990  1.419926   85.265647\n",
              "3  iJLyR -0.032172  0.139033  2.978566  168.620776\n",
              "4  Xdl7t  1.988431  0.155413  4.751769  154.036647"
            ]
          },
          "execution_count": 3,
          "metadata": {},
          "output_type": "execute_result"
        }
      ],
      "source": [
        "df1.head()"
      ]
    },
    {
      "cell_type": "code",
      "execution_count": 4,
      "metadata": {
        "id": "vdK8Zn-OOP6k",
        "outputId": "6f5063c4-be8c-4386-9d6f-cc9df66d751b",
        "scrolled": false
      },
      "outputs": [
        {
          "name": "stdout",
          "output_type": "stream",
          "text": [
            "<class 'pandas.core.frame.DataFrame'>\n",
            "RangeIndex: 100000 entries, 0 to 99999\n",
            "Data columns (total 5 columns):\n",
            " #   Column   Non-Null Count   Dtype  \n",
            "---  ------   --------------   -----  \n",
            " 0   id       100000 non-null  object \n",
            " 1   f0       100000 non-null  float64\n",
            " 2   f1       100000 non-null  float64\n",
            " 3   f2       100000 non-null  float64\n",
            " 4   product  100000 non-null  float64\n",
            "dtypes: float64(4), object(1)\n",
            "memory usage: 3.8+ MB\n"
          ]
        }
      ],
      "source": [
        "df1.info()"
      ]
    },
    {
      "cell_type": "code",
      "execution_count": 5,
      "metadata": {
        "id": "s6Wr1UTcOP6k",
        "outputId": "a6618ee1-d0e2-4256-e5c4-c41a1fbd52b9"
      },
      "outputs": [
        {
          "data": {
            "text/plain": [
              "0"
            ]
          },
          "execution_count": 5,
          "metadata": {},
          "output_type": "execute_result"
        }
      ],
      "source": [
        "# Проверим данные на наличие дубликатов\n",
        "df1.duplicated().sum()"
      ]
    },
    {
      "cell_type": "markdown",
      "metadata": {
        "id": "MG2aWYl-OP6k"
      },
      "source": [
        "**Изучим данные второго региона**"
      ]
    },
    {
      "cell_type": "code",
      "execution_count": 6,
      "metadata": {
        "id": "dtYembV4OP6k",
        "outputId": "7bd4afe4-33ce-444b-ff46-f2be5f153f6a",
        "scrolled": false
      },
      "outputs": [
        {
          "data": {
            "text/html": [
              "<div>\n",
              "<style scoped>\n",
              "    .dataframe tbody tr th:only-of-type {\n",
              "        vertical-align: middle;\n",
              "    }\n",
              "\n",
              "    .dataframe tbody tr th {\n",
              "        vertical-align: top;\n",
              "    }\n",
              "\n",
              "    .dataframe thead th {\n",
              "        text-align: right;\n",
              "    }\n",
              "</style>\n",
              "<table border=\"1\" class=\"dataframe\">\n",
              "  <thead>\n",
              "    <tr style=\"text-align: right;\">\n",
              "      <th></th>\n",
              "      <th>id</th>\n",
              "      <th>f0</th>\n",
              "      <th>f1</th>\n",
              "      <th>f2</th>\n",
              "      <th>product</th>\n",
              "    </tr>\n",
              "  </thead>\n",
              "  <tbody>\n",
              "    <tr>\n",
              "      <th>0</th>\n",
              "      <td>kBEdx</td>\n",
              "      <td>-15.001348</td>\n",
              "      <td>-8.276000</td>\n",
              "      <td>-0.005876</td>\n",
              "      <td>3.179103</td>\n",
              "    </tr>\n",
              "    <tr>\n",
              "      <th>1</th>\n",
              "      <td>62mP7</td>\n",
              "      <td>14.272088</td>\n",
              "      <td>-3.475083</td>\n",
              "      <td>0.999183</td>\n",
              "      <td>26.953261</td>\n",
              "    </tr>\n",
              "    <tr>\n",
              "      <th>2</th>\n",
              "      <td>vyE1P</td>\n",
              "      <td>6.263187</td>\n",
              "      <td>-5.948386</td>\n",
              "      <td>5.001160</td>\n",
              "      <td>134.766305</td>\n",
              "    </tr>\n",
              "    <tr>\n",
              "      <th>3</th>\n",
              "      <td>KcrkZ</td>\n",
              "      <td>-13.081196</td>\n",
              "      <td>-11.506057</td>\n",
              "      <td>4.999415</td>\n",
              "      <td>137.945408</td>\n",
              "    </tr>\n",
              "    <tr>\n",
              "      <th>4</th>\n",
              "      <td>AHL4O</td>\n",
              "      <td>12.702195</td>\n",
              "      <td>-8.147433</td>\n",
              "      <td>5.004363</td>\n",
              "      <td>134.766305</td>\n",
              "    </tr>\n",
              "  </tbody>\n",
              "</table>\n",
              "</div>"
            ],
            "text/plain": [
              "      id         f0         f1        f2     product\n",
              "0  kBEdx -15.001348  -8.276000 -0.005876    3.179103\n",
              "1  62mP7  14.272088  -3.475083  0.999183   26.953261\n",
              "2  vyE1P   6.263187  -5.948386  5.001160  134.766305\n",
              "3  KcrkZ -13.081196 -11.506057  4.999415  137.945408\n",
              "4  AHL4O  12.702195  -8.147433  5.004363  134.766305"
            ]
          },
          "execution_count": 6,
          "metadata": {},
          "output_type": "execute_result"
        }
      ],
      "source": [
        "df2.head()"
      ]
    },
    {
      "cell_type": "code",
      "execution_count": 7,
      "metadata": {
        "id": "2QzOVCmCOP6k",
        "outputId": "cf31b123-1f12-4352-b179-0b527ea06556",
        "scrolled": true
      },
      "outputs": [
        {
          "name": "stdout",
          "output_type": "stream",
          "text": [
            "<class 'pandas.core.frame.DataFrame'>\n",
            "RangeIndex: 100000 entries, 0 to 99999\n",
            "Data columns (total 5 columns):\n",
            " #   Column   Non-Null Count   Dtype  \n",
            "---  ------   --------------   -----  \n",
            " 0   id       100000 non-null  object \n",
            " 1   f0       100000 non-null  float64\n",
            " 2   f1       100000 non-null  float64\n",
            " 3   f2       100000 non-null  float64\n",
            " 4   product  100000 non-null  float64\n",
            "dtypes: float64(4), object(1)\n",
            "memory usage: 3.8+ MB\n"
          ]
        }
      ],
      "source": [
        "df2.info()"
      ]
    },
    {
      "cell_type": "code",
      "execution_count": 8,
      "metadata": {
        "id": "87oSXtEqOP6k",
        "outputId": "12d9b67d-5675-4768-f37e-7cc48b009a4e"
      },
      "outputs": [
        {
          "data": {
            "text/plain": [
              "0"
            ]
          },
          "execution_count": 8,
          "metadata": {},
          "output_type": "execute_result"
        }
      ],
      "source": [
        "# Проверим данные на наличие дубликатов\n",
        "df2.duplicated().sum()"
      ]
    },
    {
      "cell_type": "markdown",
      "metadata": {
        "id": "t-nvJIX5OP6l"
      },
      "source": [
        "**Изучим данные третьего региона**"
      ]
    },
    {
      "cell_type": "code",
      "execution_count": 9,
      "metadata": {
        "id": "BC7WLgJbOP6l",
        "outputId": "69b0a0ac-b77f-4426-8f1c-b0f431b69776",
        "scrolled": false
      },
      "outputs": [
        {
          "data": {
            "text/html": [
              "<div>\n",
              "<style scoped>\n",
              "    .dataframe tbody tr th:only-of-type {\n",
              "        vertical-align: middle;\n",
              "    }\n",
              "\n",
              "    .dataframe tbody tr th {\n",
              "        vertical-align: top;\n",
              "    }\n",
              "\n",
              "    .dataframe thead th {\n",
              "        text-align: right;\n",
              "    }\n",
              "</style>\n",
              "<table border=\"1\" class=\"dataframe\">\n",
              "  <thead>\n",
              "    <tr style=\"text-align: right;\">\n",
              "      <th></th>\n",
              "      <th>id</th>\n",
              "      <th>f0</th>\n",
              "      <th>f1</th>\n",
              "      <th>f2</th>\n",
              "      <th>product</th>\n",
              "    </tr>\n",
              "  </thead>\n",
              "  <tbody>\n",
              "    <tr>\n",
              "      <th>0</th>\n",
              "      <td>fwXo0</td>\n",
              "      <td>-1.146987</td>\n",
              "      <td>0.963328</td>\n",
              "      <td>-0.828965</td>\n",
              "      <td>27.758673</td>\n",
              "    </tr>\n",
              "    <tr>\n",
              "      <th>1</th>\n",
              "      <td>WJtFt</td>\n",
              "      <td>0.262778</td>\n",
              "      <td>0.269839</td>\n",
              "      <td>-2.530187</td>\n",
              "      <td>56.069697</td>\n",
              "    </tr>\n",
              "    <tr>\n",
              "      <th>2</th>\n",
              "      <td>ovLUW</td>\n",
              "      <td>0.194587</td>\n",
              "      <td>0.289035</td>\n",
              "      <td>-5.586433</td>\n",
              "      <td>62.871910</td>\n",
              "    </tr>\n",
              "    <tr>\n",
              "      <th>3</th>\n",
              "      <td>q6cA6</td>\n",
              "      <td>2.236060</td>\n",
              "      <td>-0.553760</td>\n",
              "      <td>0.930038</td>\n",
              "      <td>114.572842</td>\n",
              "    </tr>\n",
              "    <tr>\n",
              "      <th>4</th>\n",
              "      <td>WPMUX</td>\n",
              "      <td>-0.515993</td>\n",
              "      <td>1.716266</td>\n",
              "      <td>5.899011</td>\n",
              "      <td>149.600746</td>\n",
              "    </tr>\n",
              "  </tbody>\n",
              "</table>\n",
              "</div>"
            ],
            "text/plain": [
              "      id        f0        f1        f2     product\n",
              "0  fwXo0 -1.146987  0.963328 -0.828965   27.758673\n",
              "1  WJtFt  0.262778  0.269839 -2.530187   56.069697\n",
              "2  ovLUW  0.194587  0.289035 -5.586433   62.871910\n",
              "3  q6cA6  2.236060 -0.553760  0.930038  114.572842\n",
              "4  WPMUX -0.515993  1.716266  5.899011  149.600746"
            ]
          },
          "execution_count": 9,
          "metadata": {},
          "output_type": "execute_result"
        }
      ],
      "source": [
        "df3.head()"
      ]
    },
    {
      "cell_type": "code",
      "execution_count": 10,
      "metadata": {
        "id": "zLXg4uy8OP6l",
        "outputId": "9d540177-dfde-48ba-996e-8658cc7ebc8a",
        "scrolled": true
      },
      "outputs": [
        {
          "name": "stdout",
          "output_type": "stream",
          "text": [
            "<class 'pandas.core.frame.DataFrame'>\n",
            "RangeIndex: 100000 entries, 0 to 99999\n",
            "Data columns (total 5 columns):\n",
            " #   Column   Non-Null Count   Dtype  \n",
            "---  ------   --------------   -----  \n",
            " 0   id       100000 non-null  object \n",
            " 1   f0       100000 non-null  float64\n",
            " 2   f1       100000 non-null  float64\n",
            " 3   f2       100000 non-null  float64\n",
            " 4   product  100000 non-null  float64\n",
            "dtypes: float64(4), object(1)\n",
            "memory usage: 3.8+ MB\n"
          ]
        }
      ],
      "source": [
        "df3.info()"
      ]
    },
    {
      "cell_type": "code",
      "execution_count": 11,
      "metadata": {
        "id": "_ra-W6ZAOP6l",
        "outputId": "50eab074-b2f3-4bc2-8ac4-c699f1b7c55b"
      },
      "outputs": [
        {
          "data": {
            "text/plain": [
              "0"
            ]
          },
          "execution_count": 11,
          "metadata": {},
          "output_type": "execute_result"
        }
      ],
      "source": [
        "# Проверим данные на наличие дубликатов\n",
        "df3.duplicated().sum()"
      ]
    },
    {
      "cell_type": "code",
      "execution_count": 12,
      "metadata": {
        "id": "R4NmenAXOP6l",
        "outputId": "20949764-9efd-49dc-fa38-2b94b6bcdd53"
      },
      "outputs": [
        {
          "name": "stdout",
          "output_type": "stream",
          "text": [
            "          id        f0        f1         f2     product\n",
            "66136  74z30  1.084962 -0.312358   6.990771  127.643327\n",
            "64022  74z30  0.741456  0.459229   5.153109  140.771492\n",
            "51970  A5aEY -0.180335  0.935548  -2.094773   33.020205\n",
            "3389   A5aEY -0.039949  0.156872   0.209861   89.249364\n",
            "69163  AGS9W -0.933795  0.116194  -3.655896   19.230453\n",
            "42529  AGS9W  1.454747 -0.479651   0.683380  126.370504\n",
            "931    HZww2  0.755284  0.368511   1.863211   30.681774\n",
            "7530   HZww2  1.061194 -0.373969  10.430210  158.828695\n",
            "63593  QcMuo  0.635635 -0.473422   0.862670   64.578675\n",
            "1949   QcMuo  0.506563 -0.323775  -2.215583   75.496502\n",
            "75715  Tdehs  0.112079  0.430296   3.218993   60.964018\n",
            "21426  Tdehs  0.829407  0.298807  -0.049563   96.035308\n",
            "92341  TtcGQ  0.110711  1.022689   0.911381  101.318008\n",
            "60140  TtcGQ  0.569276 -0.104876   6.440215   85.350186\n",
            "89582  bsk9y  0.398908 -0.400253  10.122376  163.433078\n",
            "97785  bsk9y  0.378429  0.005837   0.160827  160.637302\n",
            "41724  bxg6G -0.823752  0.546319   3.630479   93.007798\n",
            "1364   bxg6G  0.411645  0.856830  -3.653440   73.604260\n",
            "16633  fiKDv  0.157341  1.028359   5.585586   95.817889\n",
            "90815  fiKDv  0.049883  0.841313   6.394613  137.346586\n"
          ]
        }
      ],
      "source": [
        "# Проверим дубликаты в столбце 'id' первого датафрейма\n",
        "print((df1.loc[df1.duplicated(subset=['id'], keep=False)]).sort_values(by='id'))"
      ]
    },
    {
      "cell_type": "code",
      "execution_count": 13,
      "metadata": {
        "id": "Mf3sVJqPOP6l",
        "outputId": "6ceb0da9-2490-4199-a048-d563ddd196ea"
      },
      "outputs": [
        {
          "name": "stdout",
          "output_type": "stream",
          "text": [
            "          id         f0         f1        f2     product\n",
            "5849   5ltQ6  -3.435401 -12.296043  1.999796   57.085625\n",
            "84461  5ltQ6  18.213839   2.191999  3.993869  107.813044\n",
            "1305   LHZR0  11.170835  -1.945066  3.002872   80.859783\n",
            "41906  LHZR0  -8.989672  -4.286607  2.009139   57.085625\n",
            "2721   bfPNe  -9.494442  -5.463692  4.006042  110.992147\n",
            "82178  bfPNe  -6.202799  -4.820045  2.995107   84.038886\n",
            "47591  wt4Uk  -9.091098  -8.109279 -0.002314    3.179103\n",
            "82873  wt4Uk  10.259972  -9.376355  4.994297  134.766305\n"
          ]
        }
      ],
      "source": [
        "# Проверим дубликаты в столбце 'id' второго датафрейма\n",
        "print((df2.loc[df2.duplicated(subset=['id'], keep=False)]).sort_values(by='id'))"
      ]
    },
    {
      "cell_type": "code",
      "execution_count": 14,
      "metadata": {
        "id": "Azaq6OKqOP6l",
        "outputId": "8f9de901-103b-4430-a2fa-7a1af8b4eec6",
        "scrolled": true
      },
      "outputs": [
        {
          "name": "stdout",
          "output_type": "stream",
          "text": [
            "          id        f0        f1        f2     product\n",
            "45404  KUPhW  0.231846 -1.698941  4.990775   11.716299\n",
            "55967  KUPhW  1.211150  3.176408  5.543540  132.831802\n",
            "11449  VF7Jo  2.122656 -0.858275  5.746001  181.716817\n",
            "49564  VF7Jo -0.883115  0.560537  0.723601  136.233420\n",
            "44378  Vcm5J -1.229484 -2.439204  1.222909  137.968290\n",
            "95090  Vcm5J  2.587702  1.986875  2.482245   92.327572\n",
            "28039  xCHr8  1.633027  0.368135 -2.378367    6.120525\n",
            "43233  xCHr8 -0.847066  2.101796  5.597130  184.388641\n"
          ]
        }
      ],
      "source": [
        "# Проверим дубликаты в столбце 'id' третьего датафрейма\n",
        "print((df3.loc[df3.duplicated(subset=['id'], keep=False)]).sort_values(by='id'))"
      ]
    },
    {
      "cell_type": "markdown",
      "metadata": {
        "id": "vUbcgHCoOP6l"
      },
      "source": [
        "Из анализа дубликатов по столбцу **id** видно, что не смотря на дублирующее значение в столбце **id** значения в остальных столбцах - уникальные. Поэтому оставим как есть."
      ]
    },
    {
      "cell_type": "code",
      "execution_count": 15,
      "metadata": {
        "id": "rNQ9t7XtOP6l"
      },
      "outputs": [],
      "source": [
        "# Удалим столбец id из всех датасетов, т.к. он не несет никакой информации для обучения модели\n",
        "df1 = df1.drop(['id'], axis=1)\n",
        "df2 = df2.drop(['id'], axis=1)\n",
        "df3 = df3.drop(['id'], axis=1)"
      ]
    },
    {
      "cell_type": "code",
      "execution_count": 16,
      "metadata": {
        "id": "6OKdG9uLOP6m"
      },
      "outputs": [],
      "source": [
        "# Выделяем целевые и независимые признаки в регионах\n",
        "df1_features = df1.drop(['product'], axis=1)\n",
        "df1_target = df1['product']\n",
        "df2_features = df2.drop(['product'], axis=1)\n",
        "df2_target = df2['product']\n",
        "df3_features = df3.drop(['product'], axis=1)\n",
        "df3_target = df3['product']"
      ]
    },
    {
      "cell_type": "markdown",
      "metadata": {
        "id": "0cDYhLjpOP6m"
      },
      "source": [
        "## Обучение и проверка модели"
      ]
    },
    {
      "cell_type": "code",
      "execution_count": 18,
      "metadata": {
        "id": "p63LPL67OP6m"
      },
      "outputs": [],
      "source": [
        "# Делим данные трёх регионов на обучающие и валидационные выборки\n",
        "df1_features_train, df1_features_valid, df1_target_train, df1_target_valid = train_test_split(df1_features, df1_target, test_size=0.25)\n",
        "df2_features_train, df2_features_valid, df2_target_train, df2_target_valid = train_test_split(df2_features, df2_target, test_size=0.25)\n",
        "df3_features_train, df3_features_valid, df3_target_train, df3_target_valid = train_test_split(df3_features, df3_target, test_size=0.25)"
      ]
    },
    {
      "cell_type": "code",
      "execution_count": 19,
      "metadata": {
        "id": "BC-aNM8qOP6m",
        "outputId": "07ef9951-5677-4e98-d6a3-1087ec524a08"
      },
      "outputs": [
        {
          "name": "stdout",
          "output_type": "stream",
          "text": [
            "Тренировочные данные для первого региона (75000, 3) (75000,)\n",
            "Валидационные данные для первого региона (25000, 3) (25000,)\n",
            "--------\n",
            "Тренировочные данные для второго региона (75000, 3) (75000,)\n",
            "Валидационные данные для второго региона (25000, 3) (25000,)\n",
            "--------\n",
            "Тренировочные данные для третьего региона (75000, 3) (75000,)\n",
            "Валидационные данные для третьего региона (25000, 3) (25000,)\n"
          ]
        }
      ],
      "source": [
        "# Проверим правильность формирования\n",
        "\n",
        "print('Тренировочные данные для первого региона', df1_features_train.shape, df1_target_train.shape)\n",
        "print('Валидационные данные для первого региона', df1_features_valid.shape, df1_target_valid.shape)\n",
        "print('--------')\n",
        "print('Тренировочные данные для второго региона', df2_features_train.shape, df2_target_train.shape)\n",
        "print('Валидационные данные для второго региона', df2_features_valid.shape, df2_target_valid.shape)\n",
        "print('--------')\n",
        "print('Тренировочные данные для третьего региона', df3_features_train.shape, df3_target_train.shape)\n",
        "print('Валидационные данные для третьего региона', df3_features_valid.shape, df3_target_valid.shape)"
      ]
    },
    {
      "cell_type": "code",
      "execution_count": 20,
      "metadata": {
        "id": "Tup1bL4POP6m"
      },
      "outputs": [],
      "source": [
        "# Создаем нашу модель линейной регрессии\n",
        "model = LinearRegression()"
      ]
    },
    {
      "cell_type": "code",
      "execution_count": 21,
      "metadata": {
        "id": "qI4rWovvOP6m",
        "outputId": "8e76d768-0897-40f3-8ea4-e626c9326d3a"
      },
      "outputs": [
        {
          "name": "stdout",
          "output_type": "stream",
          "text": [
            "Регион №1. Средний запас сырья: 92.49350121856048, RMSE = 37.76594573544278\n"
          ]
        }
      ],
      "source": [
        "# Обучаем модель на данных региона №1\n",
        "model.fit(df1_features_train, df1_target_train)\n",
        "df1_predicted = model.predict(df1_features_valid)\n",
        "mse_df1 = mean_squared_error(df1_target_valid, df1_predicted)\n",
        "rmse_df1 = mse_df1**0.5\n",
        "df1_mean = df1_predicted.mean()\n",
        "print(f'Регион №1. Средний запас сырья: {df1_mean}, RMSE = {rmse_df1}')"
      ]
    },
    {
      "cell_type": "code",
      "execution_count": 22,
      "metadata": {
        "id": "_YU-oKGzOP6m",
        "outputId": "e92e1627-88cd-45dd-af6a-3bce872fc389"
      },
      "outputs": [
        {
          "name": "stdout",
          "output_type": "stream",
          "text": [
            "Регион №2. Средний запас сырья: 68.47261919180458, RMSE = 0.8958609139345637\n"
          ]
        }
      ],
      "source": [
        "# Обучаем модель на данных региона №2\n",
        "model.fit(df2_features_train, df2_target_train)\n",
        "df2_predicted = model.predict(df2_features_valid)\n",
        "mse_df2 = mean_squared_error(df2_target_valid, df2_predicted)\n",
        "rmse_df2 = mse_df2**0.5\n",
        "df2_mean = df2_predicted.mean()\n",
        "print(f'Регион №2. Средний запас сырья: {df2_mean}, RMSE = {rmse_df2}')"
      ]
    },
    {
      "cell_type": "code",
      "execution_count": 25,
      "metadata": {
        "id": "M_66ddsMOP6n",
        "outputId": "432eca82-087f-4466-df6d-cc2eb275aca5"
      },
      "outputs": [
        {
          "name": "stdout",
          "output_type": "stream",
          "text": [
            "Регион №3. Средний запас  сырья: 94.94420594268205, RMSE = 39.97534330066723\n"
          ]
        }
      ],
      "source": [
        "# Обучаем модель на данных региона №3\n",
        "model.fit(df3_features_train, df3_target_train)\n",
        "df3_predicted = model.predict(df3_features_valid)\n",
        "mse_df3 = mean_squared_error(df3_target_valid, df3_predicted)\n",
        "rmse_df3 = mse_df3**0.5\n",
        "df3_mean = df3_predicted.mean()\n",
        "print(f'Регион №3. Средний запас  сырья: {df3_mean}, RMSE = {rmse_df3}')"
      ]
    },
    {
      "cell_type": "markdown",
      "metadata": {
        "id": "bYDrfI9COP6n"
      },
      "source": [
        "**Вывод:**\n",
        "Судя по показателю RSME лучше всего себя показала модель 2-го региона, но она сильно уступает значениям среднего запаса сырья по сравнению с другими регионами.\n"
      ]
    },
    {
      "cell_type": "markdown",
      "metadata": {
        "id": "h3EAJSTBOP6n"
      },
      "source": [
        "## Подготовка к расчёту прибыли"
      ]
    },
    {
      "cell_type": "code",
      "execution_count": 26,
      "metadata": {
        "id": "3YdmTgzJOP6n"
      },
      "outputs": [],
      "source": [
        "# Сохраняем ключевые значения для расчетов\n",
        "regional_budget = 10000000000 # Бюджет на разработку скважин в регионе\n",
        "one_barrel_income = 450  # Доход с одного барреля сырья\n",
        "income_per_unit = 450000 # Доход с каждой единицы продукта\n",
        "wells_count = 200 # Количество лучших скважин для расчета прибыли"
      ]
    },
    {
      "cell_type": "code",
      "execution_count": 27,
      "metadata": {
        "id": "x9OOU3NlOP6n",
        "outputId": "f3e4fcfe-9d90-4e58-aa3c-1a5634b43825"
      },
      "outputs": [
        {
          "name": "stdout",
          "output_type": "stream",
          "text": [
            "Стоимость разработки одной скважины в регионе: 50000000.0\n"
          ]
        }
      ],
      "source": [
        "# Рассчитываем стоимость разработки одной скважины в регионе\n",
        "price_one_well = regional_budget/wells_count\n",
        "print('Стоимость разработки одной скважины в регионе:', price_one_well)"
      ]
    },
    {
      "cell_type": "code",
      "execution_count": 28,
      "metadata": {
        "id": "7zM70P7jOP6n",
        "outputId": "1dccbd6c-c5fa-4b37-c57b-03d8d229865e"
      },
      "outputs": [
        {
          "name": "stdout",
          "output_type": "stream",
          "text": [
            "Достаточный объём сырья для безубыточной разработки новой скважины: 111.11\n"
          ]
        }
      ],
      "source": [
        "# Рассчитываем достаточный объём сырья для безубыточной разработки новой скважины\n",
        "sufficient_volume = price_one_well / income_per_unit\n",
        "print('Достаточный объём сырья для безубыточной разработки новой скважины:', round(sufficient_volume, 2))"
      ]
    },
    {
      "cell_type": "code",
      "execution_count": 29,
      "metadata": {
        "id": "bW-7UFWKOP6o"
      },
      "outputs": [],
      "source": [
        "# Сравнение средних запасов предсказанного сырья в регионах по сравнению с объёмом достаточным для безубыточной разработки\n",
        "means = [df1_mean, df2_mean, df3_mean]"
      ]
    },
    {
      "cell_type": "code",
      "execution_count": 31,
      "metadata": {
        "id": "8f2YxU56OP6o"
      },
      "outputs": [],
      "source": [
        "def compare_volume(region_volumes):\n",
        "    for i in range(len(region_volumes)):\n",
        "        if region_volumes[i] < sufficient_volume:\n",
        "            print(f'Средний запас сырья в регионе {i+1} меньше объёма, достаточного для безубыточной разработки на {round(sufficient_volume - region_volumes[i], 2)}')\n",
        "        else:\n",
        "            print(f'Средний запас сырья в регионе {i+1} больше объёма, достаточного для безубыточной разработки на {round(region_volumes[i] - sufficient_volume, 2)}')"
      ]
    },
    {
      "cell_type": "code",
      "execution_count": 32,
      "metadata": {
        "id": "40GnKszmOP6o",
        "outputId": "05906c6c-9cf4-4aba-a2c4-ecc2417059de"
      },
      "outputs": [
        {
          "name": "stdout",
          "output_type": "stream",
          "text": [
            "Средний запас сырья в регионе 1 меньше объёма, достаточного для безубыточной разработки на 18.62\n",
            "Средний запас сырья в регионе 2 меньше объёма, достаточного для безубыточной разработки на 42.64\n",
            "Средний запас сырья в регионе 3 меньше объёма, достаточного для безубыточной разработки на 16.17\n"
          ]
        }
      ],
      "source": [
        "compare_volume(means)"
      ]
    },
    {
      "cell_type": "markdown",
      "metadata": {
        "id": "GH3l3ZzwOP6o"
      },
      "source": [
        "**Вывод:**\n",
        "\n",
        "\n",
        "Во всех регионах средний запас сырья меньше объема, достаточного для безубыточной разработки.\n",
        "\n",
        "\n",
        "Разработка месторождения во втором регионе получается слишком затратным.\n",
        "\n",
        "\n",
        "Расчитаем прибыль и риски.\n"
      ]
    },
    {
      "cell_type": "markdown",
      "metadata": {
        "id": "y9aZwOyOOP6o"
      },
      "source": [
        "## Расчёт прибыли и рисков"
      ]
    },
    {
      "cell_type": "code",
      "execution_count": 33,
      "metadata": {
        "id": "63bZQTspOP6o"
      },
      "outputs": [],
      "source": [
        "# Приведем данные к Series\n",
        "prediction_df1 = pd.Series(df1_predicted).reset_index(drop=True)\n",
        "prediction_df2 = pd.Series(df2_predicted).reset_index(drop=True)\n",
        "prediction_df3 = pd.Series(df3_predicted).reset_index(drop=True)\n",
        "target_df1 = pd.Series(df1_target_valid).reset_index(drop=True)\n",
        "target_df2 = pd.Series(df2_target_valid).reset_index(drop=True)\n",
        "target_df3 = pd.Series(df3_target_valid).reset_index(drop=True)\n",
        "\n",
        "# возьмем 500 случайных точек\n",
        "state = np.random.RandomState(12345)\n",
        "target_subsample_df1 = target_df1.sample(500, replace=True, random_state=state)\n",
        "predictions_subsample_df1 = prediction_df1[target_subsample_df1.index]\n",
        "target_subsample_df2 = target_df2.sample(500, replace=True, random_state=state)\n",
        "predictions_subsample_df2 = prediction_df2[target_subsample_df2.index]\n",
        "target_subsample_df3 = target_df3.sample(500, replace=True, random_state=state)\n",
        "predictions_subsample_df3 = prediction_df3[target_subsample_df3.index]"
      ]
    },
    {
      "cell_type": "code",
      "execution_count": 34,
      "metadata": {
        "id": "pCWxdRBKOP6o"
      },
      "outputs": [],
      "source": [
        "# Функция для расчета прибыли по 200 наилучших из 500 выбранных скважин по предсказанию модели\n",
        "def revenue(target, probabilities):\n",
        "    state = np.random.RandomState(12345)\n",
        "    probs_sorted = probabilities.sort_values(ascending=False).head(wells_count)\n",
        "    selected = target[probs_sorted.index][:wells_count]\n",
        "    revenue =  selected.sum() * income_per_unit - regional_budget\n",
        "    return revenue"
      ]
    },
    {
      "cell_type": "code",
      "execution_count": 35,
      "metadata": {
        "id": "noJE8a5LOP6o",
        "outputId": "6b00c929-32ff-4b68-a624-15344a0043c2"
      },
      "outputs": [
        {
          "name": "stdout",
          "output_type": "stream",
          "text": [
            "Прибыль для полученого объема сырья для 1-го региона: 240.75 млн. руб.\n"
          ]
        }
      ],
      "source": [
        "print('Прибыль для полученого объема сырья для 1-го региона:',\n",
        "      round(revenue(target_subsample_df1, predictions_subsample_df1)/1000000,2),'млн. руб.')"
      ]
    },
    {
      "cell_type": "code",
      "execution_count": 36,
      "metadata": {
        "id": "4VSYwAnOOP6o",
        "outputId": "772042d2-f5b0-4f84-c52b-7c8e77c2f9b2"
      },
      "outputs": [
        {
          "name": "stdout",
          "output_type": "stream",
          "text": [
            "Прибыль для полученого объема сырья для 2-го региона: 141.0 млн. руб.\n"
          ]
        }
      ],
      "source": [
        "print('Прибыль для полученого объема сырья для 2-го региона:',\n",
        "      round(revenue(target_subsample_df2, predictions_subsample_df2)/1000000,2),'млн. руб.')"
      ]
    },
    {
      "cell_type": "code",
      "execution_count": 37,
      "metadata": {
        "id": "WoDPCGEqOP6p",
        "outputId": "e3fe5fa1-57db-4498-d7fd-59a44049e024",
        "scrolled": true
      },
      "outputs": [
        {
          "name": "stdout",
          "output_type": "stream",
          "text": [
            "Прибыль для полученого объема сырья для 3-го региона: 1068.74 млн. руб.\n"
          ]
        }
      ],
      "source": [
        "print('Прибыль для полученого объема сырья для 3-го региона:',\n",
        "      round(revenue(target_subsample_df3, predictions_subsample_df3)/1000000,2),'млн. руб.')"
      ]
    },
    {
      "cell_type": "code",
      "execution_count": 38,
      "metadata": {
        "id": "AK6gz1ntOP6p"
      },
      "outputs": [],
      "source": [
        "def bootstrap (target, predictions):\n",
        "    state = np.random.RandomState(12345)\n",
        "    values = []\n",
        "    for i in range(1000):\n",
        "        target_subsample = target.sample(500, replace=True, random_state=state)\n",
        "        preds_subsample = predictions[target_subsample.index]\n",
        "        values.append(revenue(target_subsample, preds_subsample))\n",
        "\n",
        "    values = pd.Series(values)\n",
        "    lower = values.quantile(0.025)\n",
        "    hight = values.quantile(0.975)\n",
        "    loss = values[values<0]\n",
        "    mean = values.mean()\n",
        "    print(\"Средняя прибыль: {:.6f} млрд.руб.\".format(mean))\n",
        "    print(\"2,5%-квантиль: {:.6f} млрд.руб.\".format(lower))\n",
        "    print(\"97,5%-квантиль: {:.6f} млрд.руб.\".format(hight))\n",
        "    print(\"Количество убыточных экспериментов:\", loss.count())\n",
        "    print(\"Вероятность убытков: {:.2%}\".format(loss.count()/len(values)))\n",
        "    print(\"Максимальный убыток:\", loss.min())\n",
        "    print(\"Максимальная прибыль:\", values.max())\n",
        "    print(\"Количество экспериментов:\", len(values))"
      ]
    },
    {
      "cell_type": "code",
      "execution_count": 39,
      "metadata": {
        "id": "mTkREF42OP6p",
        "outputId": "9886d14b-4668-4c9a-bb89-8faa06f66319"
      },
      "outputs": [
        {
          "name": "stdout",
          "output_type": "stream",
          "text": [
            "Для 1-го региона\n",
            "Средняя прибыль: 451059347.240609 млрд.руб.\n",
            "2,5%-квантиль: -53601156.507546 млрд.руб.\n",
            "97,5%-квантиль: 983571548.648072 млрд.руб.\n",
            "Количество убыточных экспериментов: 43\n",
            "Вероятность убытков: 4.30%\n",
            "Максимальный убыток: -449363914.4861927\n",
            "Максимальная прибыль: 1323408153.6544876\n",
            "Количество экспериментов: 1000\n"
          ]
        }
      ],
      "source": [
        "print('Для 1-го региона')\n",
        "bootstrap (target_df1, prediction_df1)"
      ]
    },
    {
      "cell_type": "code",
      "execution_count": 40,
      "metadata": {
        "id": "PE4I135bOP6p",
        "outputId": "5f087e57-8fb8-43a1-8cb8-5ba312b3b25e"
      },
      "outputs": [
        {
          "name": "stdout",
          "output_type": "stream",
          "text": [
            "Для 2-го региона\n",
            "Средняя прибыль: 469111486.936253 млрд.руб.\n",
            "2,5%-квантиль: 63026441.054432 млрд.руб.\n",
            "97,5%-квантиль: 890338646.799540 млрд.руб.\n",
            "Количество убыточных экспериментов: 13\n",
            "Вероятность убытков: 1.30%\n",
            "Максимальный убыток: -226478017.35339546\n",
            "Максимальная прибыль: 1190434181.7969322\n",
            "Количество экспериментов: 1000\n"
          ]
        }
      ],
      "source": [
        "print('Для 2-го региона')\n",
        "bootstrap (target_df2, prediction_df2)"
      ]
    },
    {
      "cell_type": "code",
      "execution_count": 41,
      "metadata": {
        "id": "P1Qiv8QYOP6p",
        "outputId": "dc9f738b-256d-4f44-bd7d-a8ad2120e43a",
        "scrolled": true
      },
      "outputs": [
        {
          "name": "stdout",
          "output_type": "stream",
          "text": [
            "Для 3-го региона\n",
            "Средняя прибыль: 380964891.222014 млрд.руб.\n",
            "2,5%-квантиль: -130295157.217595 млрд.руб.\n",
            "97,5%-квантиль: 926763397.436772 млрд.руб.\n",
            "Количество убыточных экспериментов: 81\n",
            "Вероятность убытков: 8.10%\n",
            "Максимальный убыток: -529223172.99575233\n",
            "Максимальная прибыль: 1093189286.5495358\n",
            "Количество экспериментов: 1000\n"
          ]
        }
      ],
      "source": [
        "print('Для 3-го региона')\n",
        "bootstrap (target_df3, prediction_df3)"
      ]
    },
    {
      "cell_type": "markdown",
      "metadata": {
        "id": "Qdg-KpxxOP6p"
      },
      "source": [
        "**Вывод:**\n",
        "Расчет для 200 лучших точек из 500, выбранных случайным образом, показал, что наибольшую прибыль показал 1-ый и 2-ой регион.\n",
        "\n",
        "Bootstrap показал, что разработка месторождения во 2-ом регионе наименее рискованная. Максимальная прибыль во всех регионах примерно одинаковая."
      ]
    },
    {
      "cell_type": "markdown",
      "metadata": {
        "id": "sM8bOc5tOP6p"
      },
      "source": [
        "**Общий вывод:**\n",
        "\n",
        "\n",
        "Проведенный анализ показал, что целесообразно разработывать скважины во 2-ом регоине. Это подтверждает низкий показатель RMSE модели, а также низкий процент вероятности убытков (0,4%). Средняя прибыль для данного региона составила 518,68 млн. руб."
      ]
    }
  ],
  "metadata": {
    "ExecuteTimeLog": [
      {
        "duration": 60,
        "start_time": "2022-07-03T16:31:05.999Z"
      },
      {
        "duration": 7,
        "start_time": "2022-07-03T17:56:52.003Z"
      },
      {
        "duration": 1702,
        "start_time": "2022-07-03T17:56:57.251Z"
      },
      {
        "duration": 1741,
        "start_time": "2022-07-03T17:56:58.955Z"
      },
      {
        "duration": 16,
        "start_time": "2022-07-03T17:57:00.698Z"
      },
      {
        "duration": 14,
        "start_time": "2022-07-03T17:57:19.114Z"
      },
      {
        "duration": 14,
        "start_time": "2022-07-03T17:57:20.812Z"
      },
      {
        "duration": 15,
        "start_time": "2022-07-03T17:58:26.242Z"
      },
      {
        "duration": 39,
        "start_time": "2022-07-03T17:58:43.391Z"
      },
      {
        "duration": 44,
        "start_time": "2022-07-03T18:00:05.049Z"
      },
      {
        "duration": 109,
        "start_time": "2022-07-03T18:00:30.591Z"
      },
      {
        "duration": 48,
        "start_time": "2022-07-03T18:00:34.510Z"
      },
      {
        "duration": 15,
        "start_time": "2022-07-03T18:01:23.534Z"
      },
      {
        "duration": 15,
        "start_time": "2022-07-03T18:01:25.144Z"
      },
      {
        "duration": 45,
        "start_time": "2022-07-03T18:01:33.725Z"
      },
      {
        "duration": 52,
        "start_time": "2022-07-03T18:02:14.877Z"
      },
      {
        "duration": 2,
        "start_time": "2022-07-03T18:03:13.595Z"
      },
      {
        "duration": 12,
        "start_time": "2022-07-03T18:06:10.033Z"
      },
      {
        "duration": 18,
        "start_time": "2022-07-03T18:07:03.130Z"
      },
      {
        "duration": 1512,
        "start_time": "2022-07-03T18:07:09.415Z"
      },
      {
        "duration": 375,
        "start_time": "2022-07-03T18:07:10.929Z"
      },
      {
        "duration": 15,
        "start_time": "2022-07-03T18:07:11.308Z"
      },
      {
        "duration": 37,
        "start_time": "2022-07-03T18:07:11.324Z"
      },
      {
        "duration": 48,
        "start_time": "2022-07-03T18:07:11.363Z"
      },
      {
        "duration": 10,
        "start_time": "2022-07-03T18:07:11.413Z"
      },
      {
        "duration": 34,
        "start_time": "2022-07-03T18:07:11.425Z"
      },
      {
        "duration": 44,
        "start_time": "2022-07-03T18:07:11.461Z"
      },
      {
        "duration": 11,
        "start_time": "2022-07-03T18:07:11.508Z"
      },
      {
        "duration": 39,
        "start_time": "2022-07-03T18:07:11.521Z"
      },
      {
        "duration": 51,
        "start_time": "2022-07-03T18:07:11.562Z"
      },
      {
        "duration": 28,
        "start_time": "2022-07-03T18:07:11.614Z"
      },
      {
        "duration": 120,
        "start_time": "2022-07-03T18:07:11.644Z"
      },
      {
        "duration": 10,
        "start_time": "2022-07-03T18:09:10.309Z"
      },
      {
        "duration": 30,
        "start_time": "2022-07-03T18:11:32.405Z"
      },
      {
        "duration": 7,
        "start_time": "2022-07-03T18:14:05.742Z"
      },
      {
        "duration": 94,
        "start_time": "2022-07-03T18:14:26.491Z"
      },
      {
        "duration": 155,
        "start_time": "2022-07-03T18:14:35.914Z"
      },
      {
        "duration": 84,
        "start_time": "2022-07-03T18:14:39.690Z"
      },
      {
        "duration": 126,
        "start_time": "2022-07-03T18:14:43.352Z"
      },
      {
        "duration": 105,
        "start_time": "2022-07-03T18:14:59.293Z"
      },
      {
        "duration": 8,
        "start_time": "2022-07-03T18:15:04.001Z"
      },
      {
        "duration": 7,
        "start_time": "2022-07-03T18:15:09.897Z"
      },
      {
        "duration": 7,
        "start_time": "2022-07-03T18:15:16.588Z"
      },
      {
        "duration": 10,
        "start_time": "2022-07-03T18:16:04.713Z"
      },
      {
        "duration": 10,
        "start_time": "2022-07-03T18:17:14.495Z"
      },
      {
        "duration": 11,
        "start_time": "2022-07-03T18:17:35.451Z"
      },
      {
        "duration": 2,
        "start_time": "2022-07-03T18:17:46.197Z"
      },
      {
        "duration": 22,
        "start_time": "2022-07-03T18:17:47.095Z"
      },
      {
        "duration": 36,
        "start_time": "2022-07-03T18:18:41.906Z"
      },
      {
        "duration": 17,
        "start_time": "2022-07-03T18:18:47.261Z"
      },
      {
        "duration": 18,
        "start_time": "2022-07-03T18:18:49.598Z"
      },
      {
        "duration": 17,
        "start_time": "2022-07-03T18:19:25.900Z"
      },
      {
        "duration": 3,
        "start_time": "2022-07-03T18:21:26.626Z"
      },
      {
        "duration": 3,
        "start_time": "2022-07-03T18:21:29.113Z"
      },
      {
        "duration": 5,
        "start_time": "2022-07-03T18:21:30.204Z"
      },
      {
        "duration": 8,
        "start_time": "2022-07-03T18:21:54.608Z"
      },
      {
        "duration": 101,
        "start_time": "2022-07-03T18:21:55.562Z"
      },
      {
        "duration": 4,
        "start_time": "2022-07-03T18:22:31.196Z"
      },
      {
        "duration": 3,
        "start_time": "2022-07-03T18:22:33.424Z"
      },
      {
        "duration": 4,
        "start_time": "2022-07-03T18:23:38.886Z"
      },
      {
        "duration": 11,
        "start_time": "2022-07-03T18:24:00.215Z"
      },
      {
        "duration": 9,
        "start_time": "2022-07-03T18:24:16.630Z"
      },
      {
        "duration": 8,
        "start_time": "2022-07-03T18:24:18.498Z"
      },
      {
        "duration": 11,
        "start_time": "2022-07-03T18:26:48.386Z"
      },
      {
        "duration": 6,
        "start_time": "2022-07-03T18:26:51.523Z"
      },
      {
        "duration": 6,
        "start_time": "2022-07-03T18:26:52.984Z"
      },
      {
        "duration": 1044,
        "start_time": "2022-07-03T18:26:53.890Z"
      },
      {
        "duration": 1008,
        "start_time": "2022-07-03T18:28:09.444Z"
      },
      {
        "duration": 1065,
        "start_time": "2022-07-03T18:28:11.981Z"
      },
      {
        "duration": 9,
        "start_time": "2022-07-05T16:26:12.352Z"
      },
      {
        "duration": 1720,
        "start_time": "2022-07-05T16:26:17.392Z"
      },
      {
        "duration": 1753,
        "start_time": "2022-07-05T16:26:19.114Z"
      },
      {
        "duration": 15,
        "start_time": "2022-07-05T16:26:20.869Z"
      },
      {
        "duration": 22,
        "start_time": "2022-07-05T16:26:20.887Z"
      },
      {
        "duration": 49,
        "start_time": "2022-07-05T16:26:20.912Z"
      },
      {
        "duration": 10,
        "start_time": "2022-07-05T16:26:20.963Z"
      },
      {
        "duration": 42,
        "start_time": "2022-07-05T16:26:20.975Z"
      },
      {
        "duration": 45,
        "start_time": "2022-07-05T16:26:21.019Z"
      },
      {
        "duration": 10,
        "start_time": "2022-07-05T16:26:21.066Z"
      },
      {
        "duration": 19,
        "start_time": "2022-07-05T16:26:21.104Z"
      },
      {
        "duration": 47,
        "start_time": "2022-07-05T16:26:21.124Z"
      },
      {
        "duration": 36,
        "start_time": "2022-07-05T16:26:21.172Z"
      },
      {
        "duration": 13,
        "start_time": "2022-07-05T16:26:21.210Z"
      },
      {
        "duration": 32,
        "start_time": "2022-07-05T16:26:21.225Z"
      },
      {
        "duration": 7,
        "start_time": "2022-07-05T16:26:21.259Z"
      },
      {
        "duration": 5,
        "start_time": "2022-07-05T16:26:21.267Z"
      },
      {
        "duration": 45,
        "start_time": "2022-07-05T16:26:21.273Z"
      },
      {
        "duration": 116,
        "start_time": "2022-07-05T16:26:21.400Z"
      },
      {
        "duration": 131,
        "start_time": "2022-07-05T16:26:21.602Z"
      },
      {
        "duration": 3,
        "start_time": "2022-07-05T16:26:21.735Z"
      },
      {
        "duration": 116,
        "start_time": "2022-07-05T16:26:21.806Z"
      },
      {
        "duration": 9,
        "start_time": "2022-07-05T16:26:21.924Z"
      },
      {
        "duration": 8,
        "start_time": "2022-07-05T16:26:21.934Z"
      },
      {
        "duration": 13,
        "start_time": "2022-07-05T16:26:21.944Z"
      },
      {
        "duration": 11,
        "start_time": "2022-07-05T16:26:21.959Z"
      },
      {
        "duration": 21,
        "start_time": "2022-07-05T16:26:21.971Z"
      },
      {
        "duration": 19,
        "start_time": "2022-07-05T16:26:21.993Z"
      },
      {
        "duration": 10,
        "start_time": "2022-07-05T16:26:22.016Z"
      },
      {
        "duration": 5,
        "start_time": "2022-07-05T16:26:22.028Z"
      },
      {
        "duration": 7,
        "start_time": "2022-07-05T16:26:22.035Z"
      },
      {
        "duration": 7,
        "start_time": "2022-07-05T16:26:22.044Z"
      },
      {
        "duration": 1140,
        "start_time": "2022-07-05T16:26:22.053Z"
      },
      {
        "duration": 1084,
        "start_time": "2022-07-05T16:26:23.198Z"
      },
      {
        "duration": 1052,
        "start_time": "2022-07-05T16:26:24.284Z"
      },
      {
        "duration": 78,
        "start_time": "2022-07-05T16:27:37.517Z"
      },
      {
        "duration": 14,
        "start_time": "2022-07-05T16:27:42.494Z"
      },
      {
        "duration": 27,
        "start_time": "2022-07-05T16:32:57.887Z"
      },
      {
        "duration": 21,
        "start_time": "2022-07-05T16:32:58.379Z"
      },
      {
        "duration": 17,
        "start_time": "2022-07-05T16:32:58.671Z"
      },
      {
        "duration": 3,
        "start_time": "2022-07-05T16:38:19.021Z"
      },
      {
        "duration": 4,
        "start_time": "2022-07-05T16:38:35.657Z"
      },
      {
        "duration": 117,
        "start_time": "2022-07-06T17:19:34.159Z"
      },
      {
        "duration": 4,
        "start_time": "2022-07-06T17:19:37.087Z"
      },
      {
        "duration": 5,
        "start_time": "2022-07-06T17:19:38.637Z"
      },
      {
        "duration": 3,
        "start_time": "2022-07-06T17:21:55.694Z"
      },
      {
        "duration": 7,
        "start_time": "2022-07-06T17:23:40.317Z"
      },
      {
        "duration": 4,
        "start_time": "2022-07-06T17:24:08.783Z"
      },
      {
        "duration": 11,
        "start_time": "2022-07-06T17:24:31.623Z"
      },
      {
        "duration": 8,
        "start_time": "2022-07-06T17:24:37.804Z"
      },
      {
        "duration": 5,
        "start_time": "2022-07-06T17:24:42.078Z"
      },
      {
        "duration": 3,
        "start_time": "2022-07-06T17:25:27.446Z"
      },
      {
        "duration": 3,
        "start_time": "2022-07-06T17:25:28.143Z"
      },
      {
        "duration": 8,
        "start_time": "2022-07-06T17:25:29.715Z"
      },
      {
        "duration": 4,
        "start_time": "2022-07-06T17:25:54.926Z"
      },
      {
        "duration": 9,
        "start_time": "2022-07-06T17:31:58.829Z"
      },
      {
        "duration": 8,
        "start_time": "2022-07-06T17:35:15.079Z"
      },
      {
        "duration": 3,
        "start_time": "2022-07-06T17:38:43.777Z"
      },
      {
        "duration": 5,
        "start_time": "2022-07-06T17:39:00.777Z"
      },
      {
        "duration": 14,
        "start_time": "2022-07-06T17:39:01.820Z"
      },
      {
        "duration": 7,
        "start_time": "2022-07-06T17:39:13.624Z"
      },
      {
        "duration": 3,
        "start_time": "2022-07-06T17:39:14.145Z"
      },
      {
        "duration": 11,
        "start_time": "2022-07-06T17:39:34.118Z"
      },
      {
        "duration": 102,
        "start_time": "2022-07-06T17:39:45.098Z"
      },
      {
        "duration": 4,
        "start_time": "2022-07-06T17:39:49.364Z"
      },
      {
        "duration": 9,
        "start_time": "2022-07-06T17:39:50.491Z"
      },
      {
        "duration": 9,
        "start_time": "2022-07-06T17:40:13.474Z"
      },
      {
        "duration": 9,
        "start_time": "2022-07-06T17:40:14.858Z"
      },
      {
        "duration": 6,
        "start_time": "2022-07-06T17:42:56.971Z"
      },
      {
        "duration": 20,
        "start_time": "2022-07-06T17:43:00.323Z"
      },
      {
        "duration": 31,
        "start_time": "2022-07-06T17:43:35.681Z"
      },
      {
        "duration": 33,
        "start_time": "2022-07-06T17:43:53.912Z"
      },
      {
        "duration": 4,
        "start_time": "2022-07-06T17:48:44.882Z"
      },
      {
        "duration": 12,
        "start_time": "2022-07-06T17:48:45.883Z"
      },
      {
        "duration": 8,
        "start_time": "2022-07-06T17:55:08.093Z"
      },
      {
        "duration": 7,
        "start_time": "2022-07-06T17:55:19.938Z"
      },
      {
        "duration": 89,
        "start_time": "2022-07-06T17:59:22.381Z"
      },
      {
        "duration": 19,
        "start_time": "2022-07-06T18:01:03.485Z"
      },
      {
        "duration": 20,
        "start_time": "2022-07-06T18:01:15.895Z"
      },
      {
        "duration": 1526,
        "start_time": "2022-07-06T18:01:20.132Z"
      },
      {
        "duration": 507,
        "start_time": "2022-07-06T18:01:21.660Z"
      },
      {
        "duration": 15,
        "start_time": "2022-07-06T18:01:22.169Z"
      },
      {
        "duration": 28,
        "start_time": "2022-07-06T18:01:22.186Z"
      },
      {
        "duration": 50,
        "start_time": "2022-07-06T18:01:22.216Z"
      },
      {
        "duration": 35,
        "start_time": "2022-07-06T18:01:22.269Z"
      },
      {
        "duration": 18,
        "start_time": "2022-07-06T18:01:22.311Z"
      },
      {
        "duration": 47,
        "start_time": "2022-07-06T18:01:22.330Z"
      },
      {
        "duration": 38,
        "start_time": "2022-07-06T18:01:22.379Z"
      },
      {
        "duration": 19,
        "start_time": "2022-07-06T18:01:22.419Z"
      },
      {
        "duration": 78,
        "start_time": "2022-07-06T18:01:22.439Z"
      },
      {
        "duration": 13,
        "start_time": "2022-07-06T18:01:22.518Z"
      },
      {
        "duration": 10,
        "start_time": "2022-07-06T18:01:22.533Z"
      },
      {
        "duration": 63,
        "start_time": "2022-07-06T18:01:22.545Z"
      },
      {
        "duration": 8,
        "start_time": "2022-07-06T18:01:22.611Z"
      },
      {
        "duration": 2,
        "start_time": "2022-07-06T18:01:22.621Z"
      },
      {
        "duration": 83,
        "start_time": "2022-07-06T18:01:22.625Z"
      },
      {
        "duration": 108,
        "start_time": "2022-07-06T18:01:22.717Z"
      },
      {
        "duration": 189,
        "start_time": "2022-07-06T18:01:22.827Z"
      },
      {
        "duration": 107,
        "start_time": "2022-07-06T18:01:23.106Z"
      },
      {
        "duration": 5,
        "start_time": "2022-07-06T18:01:23.215Z"
      },
      {
        "duration": 12,
        "start_time": "2022-07-06T18:01:23.222Z"
      },
      {
        "duration": 11,
        "start_time": "2022-07-06T18:01:23.236Z"
      },
      {
        "duration": 5,
        "start_time": "2022-07-06T18:01:23.249Z"
      },
      {
        "duration": 122,
        "start_time": "2022-07-06T18:01:23.255Z"
      },
      {
        "duration": 0,
        "start_time": "2022-07-06T18:01:23.379Z"
      },
      {
        "duration": 0,
        "start_time": "2022-07-06T18:01:23.380Z"
      },
      {
        "duration": 0,
        "start_time": "2022-07-06T18:01:23.381Z"
      },
      {
        "duration": 0,
        "start_time": "2022-07-06T18:01:23.383Z"
      },
      {
        "duration": 0,
        "start_time": "2022-07-06T18:01:23.384Z"
      },
      {
        "duration": 0,
        "start_time": "2022-07-06T18:01:23.385Z"
      },
      {
        "duration": 0,
        "start_time": "2022-07-06T18:01:23.386Z"
      },
      {
        "duration": 0,
        "start_time": "2022-07-06T18:01:23.387Z"
      },
      {
        "duration": 0,
        "start_time": "2022-07-06T18:01:23.388Z"
      },
      {
        "duration": 0,
        "start_time": "2022-07-06T18:01:23.398Z"
      },
      {
        "duration": 4,
        "start_time": "2022-07-06T18:01:41.688Z"
      },
      {
        "duration": 4,
        "start_time": "2022-07-06T18:01:43.272Z"
      },
      {
        "duration": 10,
        "start_time": "2022-07-06T18:01:46.577Z"
      },
      {
        "duration": 245,
        "start_time": "2022-07-06T18:02:18.689Z"
      },
      {
        "duration": 263,
        "start_time": "2022-07-06T18:02:26.346Z"
      },
      {
        "duration": 8,
        "start_time": "2022-07-06T18:02:34.433Z"
      },
      {
        "duration": 1583,
        "start_time": "2022-07-06T18:02:52.994Z"
      },
      {
        "duration": 417,
        "start_time": "2022-07-06T18:02:54.579Z"
      },
      {
        "duration": 21,
        "start_time": "2022-07-06T18:02:54.997Z"
      },
      {
        "duration": 19,
        "start_time": "2022-07-06T18:02:55.020Z"
      },
      {
        "duration": 89,
        "start_time": "2022-07-06T18:02:55.041Z"
      },
      {
        "duration": 14,
        "start_time": "2022-07-06T18:02:55.132Z"
      },
      {
        "duration": 23,
        "start_time": "2022-07-06T18:02:55.149Z"
      },
      {
        "duration": 79,
        "start_time": "2022-07-06T18:02:55.174Z"
      },
      {
        "duration": 10,
        "start_time": "2022-07-06T18:02:55.254Z"
      },
      {
        "duration": 50,
        "start_time": "2022-07-06T18:02:55.266Z"
      },
      {
        "duration": 52,
        "start_time": "2022-07-06T18:02:55.318Z"
      },
      {
        "duration": 30,
        "start_time": "2022-07-06T18:02:55.371Z"
      },
      {
        "duration": 17,
        "start_time": "2022-07-06T18:02:55.403Z"
      },
      {
        "duration": 51,
        "start_time": "2022-07-06T18:02:55.425Z"
      },
      {
        "duration": 7,
        "start_time": "2022-07-06T18:02:55.478Z"
      },
      {
        "duration": 8,
        "start_time": "2022-07-06T18:02:55.501Z"
      },
      {
        "duration": 193,
        "start_time": "2022-07-06T18:02:55.519Z"
      },
      {
        "duration": 17,
        "start_time": "2022-07-06T18:02:55.714Z"
      },
      {
        "duration": 168,
        "start_time": "2022-07-06T18:02:55.737Z"
      },
      {
        "duration": 208,
        "start_time": "2022-07-06T18:02:55.907Z"
      },
      {
        "duration": 7,
        "start_time": "2022-07-06T18:02:56.116Z"
      },
      {
        "duration": 5,
        "start_time": "2022-07-06T18:02:56.125Z"
      },
      {
        "duration": 7,
        "start_time": "2022-07-06T18:02:56.132Z"
      },
      {
        "duration": 5,
        "start_time": "2022-07-06T18:02:56.141Z"
      },
      {
        "duration": 7,
        "start_time": "2022-07-06T18:02:56.148Z"
      },
      {
        "duration": 158,
        "start_time": "2022-07-06T18:02:56.157Z"
      },
      {
        "duration": 0,
        "start_time": "2022-07-06T18:02:56.318Z"
      },
      {
        "duration": 0,
        "start_time": "2022-07-06T18:02:56.319Z"
      },
      {
        "duration": 0,
        "start_time": "2022-07-06T18:02:56.319Z"
      },
      {
        "duration": 0,
        "start_time": "2022-07-06T18:02:56.320Z"
      },
      {
        "duration": 0,
        "start_time": "2022-07-06T18:02:56.321Z"
      },
      {
        "duration": 0,
        "start_time": "2022-07-06T18:02:56.323Z"
      },
      {
        "duration": 0,
        "start_time": "2022-07-06T18:02:56.324Z"
      },
      {
        "duration": 0,
        "start_time": "2022-07-06T18:02:56.325Z"
      },
      {
        "duration": 0,
        "start_time": "2022-07-06T18:02:56.326Z"
      },
      {
        "duration": 20,
        "start_time": "2022-07-06T18:03:36.927Z"
      },
      {
        "duration": 14,
        "start_time": "2022-07-06T18:04:01.511Z"
      },
      {
        "duration": 12,
        "start_time": "2022-07-06T18:04:09.322Z"
      },
      {
        "duration": 13,
        "start_time": "2022-07-06T18:06:08.972Z"
      },
      {
        "duration": 33,
        "start_time": "2022-07-06T18:07:00.261Z"
      },
      {
        "duration": 27,
        "start_time": "2022-07-06T18:07:19.061Z"
      },
      {
        "duration": 41,
        "start_time": "2022-07-06T18:07:21.373Z"
      },
      {
        "duration": 1545,
        "start_time": "2022-07-06T18:07:55.222Z"
      },
      {
        "duration": 475,
        "start_time": "2022-07-06T18:07:56.771Z"
      },
      {
        "duration": 16,
        "start_time": "2022-07-06T18:07:57.247Z"
      },
      {
        "duration": 16,
        "start_time": "2022-07-06T18:07:57.265Z"
      },
      {
        "duration": 65,
        "start_time": "2022-07-06T18:07:57.297Z"
      },
      {
        "duration": 10,
        "start_time": "2022-07-06T18:07:57.364Z"
      },
      {
        "duration": 19,
        "start_time": "2022-07-06T18:07:57.397Z"
      },
      {
        "duration": 54,
        "start_time": "2022-07-06T18:07:57.418Z"
      },
      {
        "duration": 39,
        "start_time": "2022-07-06T18:07:57.474Z"
      },
      {
        "duration": 19,
        "start_time": "2022-07-06T18:07:57.515Z"
      },
      {
        "duration": 71,
        "start_time": "2022-07-06T18:07:57.536Z"
      },
      {
        "duration": 15,
        "start_time": "2022-07-06T18:07:57.618Z"
      },
      {
        "duration": 17,
        "start_time": "2022-07-06T18:07:57.636Z"
      },
      {
        "duration": 51,
        "start_time": "2022-07-06T18:07:57.657Z"
      },
      {
        "duration": 9,
        "start_time": "2022-07-06T18:07:57.711Z"
      },
      {
        "duration": 6,
        "start_time": "2022-07-06T18:07:57.722Z"
      },
      {
        "duration": 75,
        "start_time": "2022-07-06T18:07:57.730Z"
      },
      {
        "duration": 115,
        "start_time": "2022-07-06T18:07:57.808Z"
      },
      {
        "duration": 182,
        "start_time": "2022-07-06T18:07:57.925Z"
      },
      {
        "duration": 111,
        "start_time": "2022-07-06T18:07:58.109Z"
      },
      {
        "duration": 5,
        "start_time": "2022-07-06T18:07:58.223Z"
      },
      {
        "duration": 5,
        "start_time": "2022-07-06T18:07:58.231Z"
      },
      {
        "duration": 12,
        "start_time": "2022-07-06T18:07:58.238Z"
      },
      {
        "duration": 5,
        "start_time": "2022-07-06T18:07:58.252Z"
      },
      {
        "duration": 7,
        "start_time": "2022-07-06T18:07:58.259Z"
      },
      {
        "duration": 165,
        "start_time": "2022-07-06T18:07:58.268Z"
      },
      {
        "duration": 0,
        "start_time": "2022-07-06T18:07:58.435Z"
      },
      {
        "duration": 0,
        "start_time": "2022-07-06T18:07:58.436Z"
      },
      {
        "duration": 0,
        "start_time": "2022-07-06T18:07:58.437Z"
      },
      {
        "duration": 0,
        "start_time": "2022-07-06T18:07:58.438Z"
      },
      {
        "duration": 0,
        "start_time": "2022-07-06T18:07:58.440Z"
      },
      {
        "duration": 0,
        "start_time": "2022-07-06T18:07:58.441Z"
      },
      {
        "duration": 0,
        "start_time": "2022-07-06T18:07:58.442Z"
      },
      {
        "duration": 0,
        "start_time": "2022-07-06T18:07:58.443Z"
      },
      {
        "duration": 30,
        "start_time": "2022-07-06T18:09:26.691Z"
      },
      {
        "duration": 8,
        "start_time": "2022-07-06T18:09:36.964Z"
      },
      {
        "duration": 13,
        "start_time": "2022-07-06T18:09:42.804Z"
      },
      {
        "duration": 18,
        "start_time": "2022-07-06T18:10:22.829Z"
      },
      {
        "duration": 13,
        "start_time": "2022-07-06T18:10:25.245Z"
      },
      {
        "duration": 20,
        "start_time": "2022-07-06T18:10:26.876Z"
      },
      {
        "duration": 1474,
        "start_time": "2022-07-06T18:11:17.209Z"
      },
      {
        "duration": 428,
        "start_time": "2022-07-06T18:11:18.686Z"
      },
      {
        "duration": 14,
        "start_time": "2022-07-06T18:11:19.117Z"
      },
      {
        "duration": 19,
        "start_time": "2022-07-06T18:11:19.134Z"
      },
      {
        "duration": 83,
        "start_time": "2022-07-06T18:11:19.157Z"
      },
      {
        "duration": 12,
        "start_time": "2022-07-06T18:11:19.242Z"
      },
      {
        "duration": 18,
        "start_time": "2022-07-06T18:11:19.256Z"
      },
      {
        "duration": 49,
        "start_time": "2022-07-06T18:11:19.299Z"
      },
      {
        "duration": 14,
        "start_time": "2022-07-06T18:11:19.351Z"
      },
      {
        "duration": 17,
        "start_time": "2022-07-06T18:11:19.397Z"
      },
      {
        "duration": 55,
        "start_time": "2022-07-06T18:11:19.416Z"
      },
      {
        "duration": 15,
        "start_time": "2022-07-06T18:11:19.498Z"
      },
      {
        "duration": 14,
        "start_time": "2022-07-06T18:11:19.516Z"
      },
      {
        "duration": 47,
        "start_time": "2022-07-06T18:11:19.532Z"
      },
      {
        "duration": 19,
        "start_time": "2022-07-06T18:11:19.581Z"
      },
      {
        "duration": 12,
        "start_time": "2022-07-06T18:11:19.604Z"
      },
      {
        "duration": 81,
        "start_time": "2022-07-06T18:11:19.618Z"
      },
      {
        "duration": 103,
        "start_time": "2022-07-06T18:11:19.702Z"
      },
      {
        "duration": 100,
        "start_time": "2022-07-06T18:11:19.808Z"
      },
      {
        "duration": 96,
        "start_time": "2022-07-06T18:11:19.910Z"
      },
      {
        "duration": 99,
        "start_time": "2022-07-06T18:11:20.008Z"
      },
      {
        "duration": 9,
        "start_time": "2022-07-06T18:11:20.109Z"
      },
      {
        "duration": 11,
        "start_time": "2022-07-06T18:11:20.120Z"
      },
      {
        "duration": 6,
        "start_time": "2022-07-06T18:11:20.132Z"
      },
      {
        "duration": 8,
        "start_time": "2022-07-06T18:11:20.140Z"
      },
      {
        "duration": 16,
        "start_time": "2022-07-06T18:11:20.150Z"
      },
      {
        "duration": 149,
        "start_time": "2022-07-06T18:11:20.168Z"
      },
      {
        "duration": 0,
        "start_time": "2022-07-06T18:11:20.319Z"
      },
      {
        "duration": 0,
        "start_time": "2022-07-06T18:11:20.321Z"
      },
      {
        "duration": 0,
        "start_time": "2022-07-06T18:11:20.322Z"
      },
      {
        "duration": 0,
        "start_time": "2022-07-06T18:11:20.324Z"
      },
      {
        "duration": 0,
        "start_time": "2022-07-06T18:11:20.325Z"
      },
      {
        "duration": 0,
        "start_time": "2022-07-06T18:11:20.327Z"
      },
      {
        "duration": 0,
        "start_time": "2022-07-06T18:11:20.329Z"
      },
      {
        "duration": 0,
        "start_time": "2022-07-06T18:11:20.330Z"
      },
      {
        "duration": 13,
        "start_time": "2022-07-06T18:13:35.286Z"
      },
      {
        "duration": 32,
        "start_time": "2022-07-06T18:13:36.815Z"
      },
      {
        "duration": 3,
        "start_time": "2022-07-06T18:14:15.767Z"
      },
      {
        "duration": 11,
        "start_time": "2022-07-06T18:14:22.807Z"
      },
      {
        "duration": 8,
        "start_time": "2022-07-06T18:14:45.496Z"
      },
      {
        "duration": 7,
        "start_time": "2022-07-06T18:14:57.247Z"
      },
      {
        "duration": 1641,
        "start_time": "2022-07-06T18:15:04.594Z"
      },
      {
        "duration": 432,
        "start_time": "2022-07-06T18:15:06.238Z"
      },
      {
        "duration": 36,
        "start_time": "2022-07-06T18:15:06.673Z"
      },
      {
        "duration": 30,
        "start_time": "2022-07-06T18:15:06.713Z"
      },
      {
        "duration": 86,
        "start_time": "2022-07-06T18:15:06.746Z"
      },
      {
        "duration": 16,
        "start_time": "2022-07-06T18:15:06.834Z"
      },
      {
        "duration": 50,
        "start_time": "2022-07-06T18:15:06.852Z"
      },
      {
        "duration": 87,
        "start_time": "2022-07-06T18:15:06.913Z"
      },
      {
        "duration": 16,
        "start_time": "2022-07-06T18:15:07.003Z"
      },
      {
        "duration": 61,
        "start_time": "2022-07-06T18:15:07.022Z"
      },
      {
        "duration": 87,
        "start_time": "2022-07-06T18:15:07.086Z"
      },
      {
        "duration": 31,
        "start_time": "2022-07-06T18:15:07.175Z"
      },
      {
        "duration": 29,
        "start_time": "2022-07-06T18:15:07.209Z"
      },
      {
        "duration": 53,
        "start_time": "2022-07-06T18:15:07.242Z"
      },
      {
        "duration": 19,
        "start_time": "2022-07-06T18:15:07.297Z"
      },
      {
        "duration": 6,
        "start_time": "2022-07-06T18:15:07.318Z"
      },
      {
        "duration": 90,
        "start_time": "2022-07-06T18:15:07.327Z"
      },
      {
        "duration": 182,
        "start_time": "2022-07-06T18:15:07.422Z"
      },
      {
        "duration": 197,
        "start_time": "2022-07-06T18:15:07.607Z"
      },
      {
        "duration": 4,
        "start_time": "2022-07-06T18:15:07.806Z"
      },
      {
        "duration": 110,
        "start_time": "2022-07-06T18:15:07.812Z"
      },
      {
        "duration": 9,
        "start_time": "2022-07-06T18:15:07.924Z"
      },
      {
        "duration": 8,
        "start_time": "2022-07-06T18:15:07.936Z"
      },
      {
        "duration": 17,
        "start_time": "2022-07-06T18:15:07.946Z"
      },
      {
        "duration": 14,
        "start_time": "2022-07-06T18:15:07.965Z"
      },
      {
        "duration": 24,
        "start_time": "2022-07-06T18:15:07.981Z"
      },
      {
        "duration": 14,
        "start_time": "2022-07-06T18:15:08.006Z"
      },
      {
        "duration": 23,
        "start_time": "2022-07-06T18:15:08.022Z"
      },
      {
        "duration": 4,
        "start_time": "2022-07-06T18:15:08.047Z"
      },
      {
        "duration": 18,
        "start_time": "2022-07-06T18:15:08.053Z"
      },
      {
        "duration": 25,
        "start_time": "2022-07-06T18:15:08.073Z"
      },
      {
        "duration": 11,
        "start_time": "2022-07-06T18:15:08.100Z"
      },
      {
        "duration": 17,
        "start_time": "2022-07-06T18:15:08.115Z"
      },
      {
        "duration": 150,
        "start_time": "2022-07-06T18:15:08.134Z"
      },
      {
        "duration": 0,
        "start_time": "2022-07-06T18:15:08.286Z"
      },
      {
        "duration": 0,
        "start_time": "2022-07-06T18:15:08.287Z"
      },
      {
        "duration": 9,
        "start_time": "2022-07-06T18:15:13.698Z"
      },
      {
        "duration": 6,
        "start_time": "2022-07-06T18:15:20.815Z"
      },
      {
        "duration": 8,
        "start_time": "2022-07-06T18:15:31.160Z"
      },
      {
        "duration": 7,
        "start_time": "2022-07-06T18:15:37.984Z"
      },
      {
        "duration": 6,
        "start_time": "2022-07-06T18:15:50.216Z"
      },
      {
        "duration": 8,
        "start_time": "2022-07-06T18:17:24.527Z"
      },
      {
        "duration": 6,
        "start_time": "2022-07-06T18:17:32.001Z"
      },
      {
        "duration": 6,
        "start_time": "2022-07-06T18:17:37.730Z"
      },
      {
        "duration": 11,
        "start_time": "2022-07-06T18:18:09.756Z"
      },
      {
        "duration": 6,
        "start_time": "2022-07-06T18:18:14.650Z"
      },
      {
        "duration": 13,
        "start_time": "2022-07-06T18:18:17.393Z"
      },
      {
        "duration": 7,
        "start_time": "2022-07-06T18:18:19.624Z"
      },
      {
        "duration": 6,
        "start_time": "2022-07-06T18:18:22.539Z"
      },
      {
        "duration": 9,
        "start_time": "2022-07-06T18:19:56.645Z"
      },
      {
        "duration": 6,
        "start_time": "2022-07-06T18:20:16.428Z"
      },
      {
        "duration": 12,
        "start_time": "2022-07-06T18:20:22.301Z"
      },
      {
        "duration": 7,
        "start_time": "2022-07-06T18:20:23.483Z"
      },
      {
        "duration": 4,
        "start_time": "2022-07-06T18:20:31.973Z"
      },
      {
        "duration": 8,
        "start_time": "2022-07-06T18:20:33.773Z"
      },
      {
        "duration": 7,
        "start_time": "2022-07-06T18:20:34.625Z"
      },
      {
        "duration": 7,
        "start_time": "2022-07-06T18:20:35.483Z"
      },
      {
        "duration": 5,
        "start_time": "2022-07-06T18:24:44.678Z"
      },
      {
        "duration": 921,
        "start_time": "2022-07-06T18:25:17.806Z"
      },
      {
        "duration": 998,
        "start_time": "2022-07-06T18:26:05.374Z"
      },
      {
        "duration": 947,
        "start_time": "2022-07-06T18:26:07.743Z"
      },
      {
        "duration": 97,
        "start_time": "2022-07-07T05:32:58.054Z"
      },
      {
        "duration": 6,
        "start_time": "2022-07-07T05:33:03.762Z"
      },
      {
        "duration": 1660,
        "start_time": "2022-07-07T05:33:10.802Z"
      },
      {
        "duration": 422,
        "start_time": "2022-07-07T05:33:12.464Z"
      },
      {
        "duration": 26,
        "start_time": "2022-07-07T05:33:12.888Z"
      },
      {
        "duration": 17,
        "start_time": "2022-07-07T05:33:12.917Z"
      },
      {
        "duration": 50,
        "start_time": "2022-07-07T05:33:12.935Z"
      },
      {
        "duration": 29,
        "start_time": "2022-07-07T05:33:12.986Z"
      },
      {
        "duration": 16,
        "start_time": "2022-07-07T05:33:13.017Z"
      },
      {
        "duration": 81,
        "start_time": "2022-07-07T05:33:13.035Z"
      },
      {
        "duration": 11,
        "start_time": "2022-07-07T05:33:13.117Z"
      },
      {
        "duration": 16,
        "start_time": "2022-07-07T05:33:13.130Z"
      },
      {
        "duration": 75,
        "start_time": "2022-07-07T05:33:13.148Z"
      },
      {
        "duration": 16,
        "start_time": "2022-07-07T05:33:13.226Z"
      },
      {
        "duration": 12,
        "start_time": "2022-07-07T05:33:13.244Z"
      },
      {
        "duration": 62,
        "start_time": "2022-07-07T05:33:13.258Z"
      },
      {
        "duration": 7,
        "start_time": "2022-07-07T05:33:13.322Z"
      },
      {
        "duration": 4,
        "start_time": "2022-07-07T05:33:13.331Z"
      },
      {
        "duration": 86,
        "start_time": "2022-07-07T05:33:13.337Z"
      },
      {
        "duration": 107,
        "start_time": "2022-07-07T05:33:13.425Z"
      },
      {
        "duration": 116,
        "start_time": "2022-07-07T05:33:13.599Z"
      },
      {
        "duration": 3,
        "start_time": "2022-07-07T05:33:13.718Z"
      },
      {
        "duration": 191,
        "start_time": "2022-07-07T05:33:13.724Z"
      },
      {
        "duration": 6,
        "start_time": "2022-07-07T05:33:13.917Z"
      },
      {
        "duration": 4,
        "start_time": "2022-07-07T05:33:13.925Z"
      },
      {
        "duration": 4,
        "start_time": "2022-07-07T05:33:13.931Z"
      },
      {
        "duration": 8,
        "start_time": "2022-07-07T05:33:13.936Z"
      },
      {
        "duration": 11,
        "start_time": "2022-07-07T05:33:13.946Z"
      },
      {
        "duration": 6,
        "start_time": "2022-07-07T05:33:13.960Z"
      },
      {
        "duration": 10,
        "start_time": "2022-07-07T05:33:13.969Z"
      },
      {
        "duration": 9,
        "start_time": "2022-07-07T05:33:13.981Z"
      },
      {
        "duration": 11,
        "start_time": "2022-07-07T05:33:13.992Z"
      },
      {
        "duration": 22,
        "start_time": "2022-07-07T05:33:14.005Z"
      },
      {
        "duration": 1089,
        "start_time": "2022-07-07T05:33:14.030Z"
      },
      {
        "duration": 844,
        "start_time": "2022-07-07T05:33:15.123Z"
      },
      {
        "duration": 882,
        "start_time": "2022-07-07T05:33:15.969Z"
      },
      {
        "duration": 6,
        "start_time": "2022-07-07T05:33:51.349Z"
      },
      {
        "duration": 12,
        "start_time": "2022-07-07T05:35:26.821Z"
      },
      {
        "duration": 6,
        "start_time": "2022-07-07T05:36:03.467Z"
      },
      {
        "duration": 6,
        "start_time": "2022-07-07T05:36:26.758Z"
      },
      {
        "duration": 5,
        "start_time": "2022-07-07T05:36:28.261Z"
      },
      {
        "duration": 6,
        "start_time": "2022-07-07T05:36:42.969Z"
      },
      {
        "duration": 5,
        "start_time": "2022-07-07T05:37:21.083Z"
      },
      {
        "duration": 5,
        "start_time": "2022-07-07T05:37:22.438Z"
      },
      {
        "duration": 6,
        "start_time": "2022-07-07T05:37:23.595Z"
      },
      {
        "duration": 6,
        "start_time": "2022-07-07T05:37:28.724Z"
      },
      {
        "duration": 6,
        "start_time": "2022-07-07T05:37:32.241Z"
      },
      {
        "duration": 6,
        "start_time": "2022-07-07T05:37:35.187Z"
      },
      {
        "duration": 7,
        "start_time": "2022-07-07T05:38:09.121Z"
      },
      {
        "duration": 15,
        "start_time": "2022-07-07T05:38:11.609Z"
      },
      {
        "duration": 11,
        "start_time": "2022-07-07T05:38:13.595Z"
      },
      {
        "duration": 1688,
        "start_time": "2022-07-07T05:46:36.586Z"
      },
      {
        "duration": 477,
        "start_time": "2022-07-07T05:46:38.276Z"
      },
      {
        "duration": 16,
        "start_time": "2022-07-07T05:46:38.754Z"
      },
      {
        "duration": 48,
        "start_time": "2022-07-07T05:46:38.772Z"
      },
      {
        "duration": 70,
        "start_time": "2022-07-07T05:46:38.822Z"
      },
      {
        "duration": 16,
        "start_time": "2022-07-07T05:46:38.895Z"
      },
      {
        "duration": 56,
        "start_time": "2022-07-07T05:46:38.913Z"
      },
      {
        "duration": 59,
        "start_time": "2022-07-07T05:46:38.971Z"
      },
      {
        "duration": 16,
        "start_time": "2022-07-07T05:46:39.032Z"
      },
      {
        "duration": 35,
        "start_time": "2022-07-07T05:46:39.053Z"
      },
      {
        "duration": 77,
        "start_time": "2022-07-07T05:46:39.091Z"
      },
      {
        "duration": 14,
        "start_time": "2022-07-07T05:46:39.171Z"
      },
      {
        "duration": 19,
        "start_time": "2022-07-07T05:46:39.188Z"
      },
      {
        "duration": 74,
        "start_time": "2022-07-07T05:46:39.208Z"
      },
      {
        "duration": 8,
        "start_time": "2022-07-07T05:46:39.284Z"
      },
      {
        "duration": 47,
        "start_time": "2022-07-07T05:46:39.294Z"
      },
      {
        "duration": 39,
        "start_time": "2022-07-07T05:46:39.343Z"
      },
      {
        "duration": 50,
        "start_time": "2022-07-07T05:46:39.384Z"
      },
      {
        "duration": 160,
        "start_time": "2022-07-07T05:46:39.498Z"
      },
      {
        "duration": 3,
        "start_time": "2022-07-07T05:46:39.661Z"
      },
      {
        "duration": 167,
        "start_time": "2022-07-07T05:46:39.666Z"
      },
      {
        "duration": 5,
        "start_time": "2022-07-07T05:46:39.835Z"
      },
      {
        "duration": 5,
        "start_time": "2022-07-07T05:46:39.842Z"
      },
      {
        "duration": 9,
        "start_time": "2022-07-07T05:46:39.849Z"
      },
      {
        "duration": 10,
        "start_time": "2022-07-07T05:46:39.859Z"
      },
      {
        "duration": 12,
        "start_time": "2022-07-07T05:46:39.871Z"
      },
      {
        "duration": 4,
        "start_time": "2022-07-07T05:46:39.885Z"
      },
      {
        "duration": 11,
        "start_time": "2022-07-07T05:46:39.911Z"
      },
      {
        "duration": 22,
        "start_time": "2022-07-07T05:46:39.924Z"
      },
      {
        "duration": 6,
        "start_time": "2022-07-07T05:46:39.948Z"
      },
      {
        "duration": 6,
        "start_time": "2022-07-07T05:46:39.956Z"
      },
      {
        "duration": 1026,
        "start_time": "2022-07-07T05:46:39.964Z"
      },
      {
        "duration": 940,
        "start_time": "2022-07-07T05:46:40.992Z"
      },
      {
        "duration": 915,
        "start_time": "2022-07-07T05:46:41.934Z"
      },
      {
        "duration": 154,
        "start_time": "2022-07-07T05:53:20.721Z"
      },
      {
        "duration": 1866,
        "start_time": "2022-07-07T05:53:42.817Z"
      },
      {
        "duration": 13,
        "start_time": "2022-07-07T05:55:55.299Z"
      },
      {
        "duration": 936,
        "start_time": "2022-07-07T05:55:56.649Z"
      },
      {
        "duration": 10,
        "start_time": "2022-07-07T05:56:06.096Z"
      },
      {
        "duration": 850,
        "start_time": "2022-07-07T05:59:40.312Z"
      },
      {
        "duration": 895,
        "start_time": "2022-07-07T06:00:34.417Z"
      },
      {
        "duration": 5,
        "start_time": "2022-07-07T06:03:21.195Z"
      },
      {
        "duration": 908,
        "start_time": "2022-07-07T06:03:22.011Z"
      },
      {
        "duration": 4,
        "start_time": "2022-07-07T06:04:45.378Z"
      },
      {
        "duration": 807,
        "start_time": "2022-07-07T06:04:47.211Z"
      },
      {
        "duration": 5,
        "start_time": "2022-07-07T06:07:33.332Z"
      },
      {
        "duration": 4,
        "start_time": "2022-07-07T06:07:44.972Z"
      },
      {
        "duration": 2239,
        "start_time": "2022-07-07T06:07:47.020Z"
      },
      {
        "duration": 11,
        "start_time": "2022-07-07T17:58:35.630Z"
      },
      {
        "duration": 1502,
        "start_time": "2022-07-07T17:58:41.202Z"
      },
      {
        "duration": 416,
        "start_time": "2022-07-07T17:58:42.707Z"
      },
      {
        "duration": 18,
        "start_time": "2022-07-07T17:58:43.125Z"
      },
      {
        "duration": 17,
        "start_time": "2022-07-07T17:58:43.146Z"
      },
      {
        "duration": 79,
        "start_time": "2022-07-07T17:58:43.164Z"
      },
      {
        "duration": 11,
        "start_time": "2022-07-07T17:58:43.245Z"
      },
      {
        "duration": 42,
        "start_time": "2022-07-07T17:58:43.258Z"
      },
      {
        "duration": 48,
        "start_time": "2022-07-07T17:58:43.302Z"
      },
      {
        "duration": 10,
        "start_time": "2022-07-07T17:58:43.352Z"
      },
      {
        "duration": 42,
        "start_time": "2022-07-07T17:58:43.365Z"
      },
      {
        "duration": 54,
        "start_time": "2022-07-07T17:58:43.409Z"
      },
      {
        "duration": 45,
        "start_time": "2022-07-07T17:58:43.465Z"
      },
      {
        "duration": 16,
        "start_time": "2022-07-07T17:58:43.512Z"
      },
      {
        "duration": 55,
        "start_time": "2022-07-07T17:58:43.530Z"
      },
      {
        "duration": 19,
        "start_time": "2022-07-07T17:58:43.587Z"
      },
      {
        "duration": 26,
        "start_time": "2022-07-07T17:58:43.609Z"
      },
      {
        "duration": 64,
        "start_time": "2022-07-07T17:58:43.637Z"
      },
      {
        "duration": 115,
        "start_time": "2022-07-07T17:58:43.703Z"
      },
      {
        "duration": 177,
        "start_time": "2022-07-07T17:58:43.821Z"
      },
      {
        "duration": 98,
        "start_time": "2022-07-07T17:58:44.001Z"
      },
      {
        "duration": 13,
        "start_time": "2022-07-07T17:58:44.101Z"
      },
      {
        "duration": 4,
        "start_time": "2022-07-07T17:58:44.117Z"
      },
      {
        "duration": 4,
        "start_time": "2022-07-07T17:58:44.124Z"
      },
      {
        "duration": 7,
        "start_time": "2022-07-07T17:58:44.131Z"
      },
      {
        "duration": 8,
        "start_time": "2022-07-07T17:58:44.140Z"
      },
      {
        "duration": 48,
        "start_time": "2022-07-07T17:58:44.150Z"
      },
      {
        "duration": 3,
        "start_time": "2022-07-07T17:58:44.200Z"
      },
      {
        "duration": 9,
        "start_time": "2022-07-07T17:58:44.207Z"
      },
      {
        "duration": 8,
        "start_time": "2022-07-07T17:58:44.218Z"
      },
      {
        "duration": 6,
        "start_time": "2022-07-07T17:58:44.227Z"
      },
      {
        "duration": 4,
        "start_time": "2022-07-07T17:58:44.235Z"
      },
      {
        "duration": 143,
        "start_time": "2022-07-07T17:58:44.241Z"
      },
      {
        "duration": 0,
        "start_time": "2022-07-07T17:58:44.393Z"
      },
      {
        "duration": 0,
        "start_time": "2022-07-07T17:58:44.394Z"
      },
      {
        "duration": 0,
        "start_time": "2022-07-07T17:58:44.395Z"
      },
      {
        "duration": 4444,
        "start_time": "2022-07-07T17:58:57.939Z"
      },
      {
        "duration": 5,
        "start_time": "2022-07-07T18:04:49.350Z"
      },
      {
        "duration": 34,
        "start_time": "2022-07-07T18:04:50.851Z"
      },
      {
        "duration": 1731,
        "start_time": "2022-07-07T18:05:05.815Z"
      },
      {
        "duration": 419,
        "start_time": "2022-07-07T18:05:07.548Z"
      },
      {
        "duration": 17,
        "start_time": "2022-07-07T18:05:07.969Z"
      },
      {
        "duration": 17,
        "start_time": "2022-07-07T18:05:07.999Z"
      },
      {
        "duration": 52,
        "start_time": "2022-07-07T18:05:08.018Z"
      },
      {
        "duration": 15,
        "start_time": "2022-07-07T18:05:08.098Z"
      },
      {
        "duration": 29,
        "start_time": "2022-07-07T18:05:08.115Z"
      },
      {
        "duration": 97,
        "start_time": "2022-07-07T18:05:08.147Z"
      },
      {
        "duration": 10,
        "start_time": "2022-07-07T18:05:08.246Z"
      },
      {
        "duration": 41,
        "start_time": "2022-07-07T18:05:08.259Z"
      },
      {
        "duration": 76,
        "start_time": "2022-07-07T18:05:08.302Z"
      },
      {
        "duration": 17,
        "start_time": "2022-07-07T18:05:08.399Z"
      },
      {
        "duration": 12,
        "start_time": "2022-07-07T18:05:08.418Z"
      },
      {
        "duration": 41,
        "start_time": "2022-07-07T18:05:08.432Z"
      },
      {
        "duration": 8,
        "start_time": "2022-07-07T18:05:08.497Z"
      },
      {
        "duration": 5,
        "start_time": "2022-07-07T18:05:08.506Z"
      },
      {
        "duration": 100,
        "start_time": "2022-07-07T18:05:08.513Z"
      },
      {
        "duration": 24,
        "start_time": "2022-07-07T18:05:08.699Z"
      },
      {
        "duration": 275,
        "start_time": "2022-07-07T18:05:08.724Z"
      },
      {
        "duration": 4,
        "start_time": "2022-07-07T18:05:09.001Z"
      },
      {
        "duration": 7,
        "start_time": "2022-07-07T18:05:09.007Z"
      },
      {
        "duration": 81,
        "start_time": "2022-07-07T18:05:09.017Z"
      },
      {
        "duration": 9,
        "start_time": "2022-07-07T18:05:09.100Z"
      },
      {
        "duration": 7,
        "start_time": "2022-07-07T18:05:09.111Z"
      },
      {
        "duration": 10,
        "start_time": "2022-07-07T18:05:09.120Z"
      },
      {
        "duration": 14,
        "start_time": "2022-07-07T18:05:09.133Z"
      },
      {
        "duration": 5,
        "start_time": "2022-07-07T18:05:09.149Z"
      },
      {
        "duration": 46,
        "start_time": "2022-07-07T18:05:09.158Z"
      },
      {
        "duration": 11,
        "start_time": "2022-07-07T18:05:09.207Z"
      },
      {
        "duration": 7,
        "start_time": "2022-07-07T18:05:09.222Z"
      },
      {
        "duration": 12,
        "start_time": "2022-07-07T18:05:09.232Z"
      },
      {
        "duration": 175,
        "start_time": "2022-07-07T18:05:09.246Z"
      },
      {
        "duration": 0,
        "start_time": "2022-07-07T18:05:09.423Z"
      },
      {
        "duration": 0,
        "start_time": "2022-07-07T18:05:09.424Z"
      },
      {
        "duration": 0,
        "start_time": "2022-07-07T18:05:09.426Z"
      },
      {
        "duration": 6,
        "start_time": "2022-07-07T18:06:49.444Z"
      },
      {
        "duration": 2070,
        "start_time": "2022-07-07T18:06:51.147Z"
      },
      {
        "duration": 5,
        "start_time": "2022-07-07T18:07:09.178Z"
      },
      {
        "duration": 5,
        "start_time": "2022-07-07T18:07:15.793Z"
      },
      {
        "duration": 4,
        "start_time": "2022-07-07T18:07:18.225Z"
      },
      {
        "duration": 27,
        "start_time": "2022-07-07T18:07:19.817Z"
      },
      {
        "duration": 26,
        "start_time": "2022-07-07T18:09:45.980Z"
      },
      {
        "duration": 4,
        "start_time": "2022-07-07T18:09:48.430Z"
      },
      {
        "duration": 39,
        "start_time": "2022-07-07T18:09:49.576Z"
      },
      {
        "duration": 2421,
        "start_time": "2022-07-09T05:08:36.215Z"
      },
      {
        "duration": 514,
        "start_time": "2022-07-09T05:08:38.638Z"
      },
      {
        "duration": 17,
        "start_time": "2022-07-09T05:08:39.154Z"
      },
      {
        "duration": 47,
        "start_time": "2022-07-09T05:08:39.173Z"
      },
      {
        "duration": 65,
        "start_time": "2022-07-09T05:08:39.232Z"
      },
      {
        "duration": 25,
        "start_time": "2022-07-09T05:08:39.300Z"
      },
      {
        "duration": 57,
        "start_time": "2022-07-09T05:08:39.327Z"
      },
      {
        "duration": 68,
        "start_time": "2022-07-09T05:08:39.386Z"
      },
      {
        "duration": 21,
        "start_time": "2022-07-09T05:08:39.456Z"
      },
      {
        "duration": 34,
        "start_time": "2022-07-09T05:08:39.479Z"
      },
      {
        "duration": 68,
        "start_time": "2022-07-09T05:08:39.517Z"
      },
      {
        "duration": 25,
        "start_time": "2022-07-09T05:08:39.587Z"
      },
      {
        "duration": 58,
        "start_time": "2022-07-09T05:08:39.614Z"
      },
      {
        "duration": 53,
        "start_time": "2022-07-09T05:08:39.677Z"
      },
      {
        "duration": 10,
        "start_time": "2022-07-09T05:08:39.732Z"
      },
      {
        "duration": 39,
        "start_time": "2022-07-09T05:08:39.744Z"
      },
      {
        "duration": 117,
        "start_time": "2022-07-09T05:08:39.785Z"
      },
      {
        "duration": 194,
        "start_time": "2022-07-09T05:08:39.906Z"
      },
      {
        "duration": 105,
        "start_time": "2022-07-09T05:08:40.107Z"
      },
      {
        "duration": 134,
        "start_time": "2022-07-09T05:08:40.217Z"
      },
      {
        "duration": 7,
        "start_time": "2022-07-09T05:08:40.353Z"
      },
      {
        "duration": 6,
        "start_time": "2022-07-09T05:08:40.362Z"
      },
      {
        "duration": 7,
        "start_time": "2022-07-09T05:08:40.370Z"
      },
      {
        "duration": 7,
        "start_time": "2022-07-09T05:08:40.379Z"
      },
      {
        "duration": 9,
        "start_time": "2022-07-09T05:08:40.387Z"
      },
      {
        "duration": 54,
        "start_time": "2022-07-09T05:08:40.404Z"
      },
      {
        "duration": 4,
        "start_time": "2022-07-09T05:08:40.459Z"
      },
      {
        "duration": 14,
        "start_time": "2022-07-09T05:08:40.465Z"
      },
      {
        "duration": 13,
        "start_time": "2022-07-09T05:08:40.481Z"
      },
      {
        "duration": 63,
        "start_time": "2022-07-09T05:08:40.496Z"
      },
      {
        "duration": 11,
        "start_time": "2022-07-09T05:08:40.562Z"
      },
      {
        "duration": 8,
        "start_time": "2022-07-09T05:08:40.575Z"
      },
      {
        "duration": 184,
        "start_time": "2022-07-09T05:08:40.585Z"
      },
      {
        "duration": 0,
        "start_time": "2022-07-09T05:08:40.771Z"
      },
      {
        "duration": 0,
        "start_time": "2022-07-09T05:08:40.772Z"
      },
      {
        "duration": 0,
        "start_time": "2022-07-09T05:08:40.773Z"
      },
      {
        "duration": 26,
        "start_time": "2022-07-09T05:09:40.561Z"
      },
      {
        "duration": 11,
        "start_time": "2022-07-09T05:09:44.115Z"
      },
      {
        "duration": 36,
        "start_time": "2022-07-09T05:09:46.728Z"
      },
      {
        "duration": 35,
        "start_time": "2022-07-09T05:09:49.931Z"
      },
      {
        "duration": 8,
        "start_time": "2022-07-09T05:16:42.044Z"
      },
      {
        "duration": 2953,
        "start_time": "2022-07-09T05:16:44.751Z"
      },
      {
        "duration": 5,
        "start_time": "2022-07-09T05:19:45.760Z"
      },
      {
        "duration": 2952,
        "start_time": "2022-07-09T05:19:47.896Z"
      },
      {
        "duration": 2942,
        "start_time": "2022-07-09T05:20:03.973Z"
      },
      {
        "duration": 17,
        "start_time": "2022-07-09T05:21:33.123Z"
      },
      {
        "duration": 45,
        "start_time": "2022-07-09T05:21:34.722Z"
      },
      {
        "duration": 31,
        "start_time": "2022-07-09T05:21:39.081Z"
      },
      {
        "duration": 5,
        "start_time": "2022-07-09T05:23:07.443Z"
      },
      {
        "duration": 43,
        "start_time": "2022-07-09T05:23:09.084Z"
      },
      {
        "duration": 1691,
        "start_time": "2022-07-09T05:23:24.292Z"
      },
      {
        "duration": 493,
        "start_time": "2022-07-09T05:23:25.985Z"
      },
      {
        "duration": 27,
        "start_time": "2022-07-09T05:23:26.480Z"
      },
      {
        "duration": 29,
        "start_time": "2022-07-09T05:23:26.514Z"
      },
      {
        "duration": 71,
        "start_time": "2022-07-09T05:23:26.545Z"
      },
      {
        "duration": 15,
        "start_time": "2022-07-09T05:23:26.618Z"
      },
      {
        "duration": 56,
        "start_time": "2022-07-09T05:23:26.636Z"
      },
      {
        "duration": 73,
        "start_time": "2022-07-09T05:23:26.695Z"
      },
      {
        "duration": 24,
        "start_time": "2022-07-09T05:23:26.770Z"
      },
      {
        "duration": 66,
        "start_time": "2022-07-09T05:23:26.798Z"
      },
      {
        "duration": 122,
        "start_time": "2022-07-09T05:23:26.866Z"
      },
      {
        "duration": 83,
        "start_time": "2022-07-09T05:23:26.991Z"
      },
      {
        "duration": 36,
        "start_time": "2022-07-09T05:23:27.077Z"
      },
      {
        "duration": 112,
        "start_time": "2022-07-09T05:23:27.116Z"
      },
      {
        "duration": 46,
        "start_time": "2022-07-09T05:23:27.230Z"
      },
      {
        "duration": 20,
        "start_time": "2022-07-09T05:23:27.278Z"
      },
      {
        "duration": 138,
        "start_time": "2022-07-09T05:23:27.299Z"
      },
      {
        "duration": 128,
        "start_time": "2022-07-09T05:23:27.446Z"
      },
      {
        "duration": 139,
        "start_time": "2022-07-09T05:23:27.600Z"
      },
      {
        "duration": 78,
        "start_time": "2022-07-09T05:23:27.752Z"
      },
      {
        "duration": 38,
        "start_time": "2022-07-09T05:23:27.832Z"
      },
      {
        "duration": 11,
        "start_time": "2022-07-09T05:23:27.873Z"
      },
      {
        "duration": 9,
        "start_time": "2022-07-09T05:23:27.886Z"
      },
      {
        "duration": 51,
        "start_time": "2022-07-09T05:23:27.897Z"
      },
      {
        "duration": 8,
        "start_time": "2022-07-09T05:23:27.950Z"
      },
      {
        "duration": 12,
        "start_time": "2022-07-09T05:23:27.960Z"
      },
      {
        "duration": 4,
        "start_time": "2022-07-09T05:23:27.974Z"
      },
      {
        "duration": 9,
        "start_time": "2022-07-09T05:23:27.982Z"
      },
      {
        "duration": 22,
        "start_time": "2022-07-09T05:23:27.993Z"
      },
      {
        "duration": 35,
        "start_time": "2022-07-09T05:23:28.017Z"
      },
      {
        "duration": 5,
        "start_time": "2022-07-09T05:23:28.054Z"
      },
      {
        "duration": 179,
        "start_time": "2022-07-09T05:23:28.061Z"
      },
      {
        "duration": 0,
        "start_time": "2022-07-09T05:23:28.242Z"
      },
      {
        "duration": 0,
        "start_time": "2022-07-09T05:23:28.243Z"
      },
      {
        "duration": 0,
        "start_time": "2022-07-09T05:23:28.245Z"
      },
      {
        "duration": 23,
        "start_time": "2022-07-09T05:26:42.297Z"
      },
      {
        "duration": 19,
        "start_time": "2022-07-09T05:28:14.362Z"
      },
      {
        "duration": 19,
        "start_time": "2022-07-09T05:29:00.270Z"
      },
      {
        "duration": 1676,
        "start_time": "2022-07-09T05:29:04.787Z"
      },
      {
        "duration": 469,
        "start_time": "2022-07-09T05:29:06.465Z"
      },
      {
        "duration": 16,
        "start_time": "2022-07-09T05:29:06.936Z"
      },
      {
        "duration": 21,
        "start_time": "2022-07-09T05:29:06.955Z"
      },
      {
        "duration": 86,
        "start_time": "2022-07-09T05:29:06.979Z"
      },
      {
        "duration": 13,
        "start_time": "2022-07-09T05:29:07.067Z"
      },
      {
        "duration": 46,
        "start_time": "2022-07-09T05:29:07.082Z"
      },
      {
        "duration": 78,
        "start_time": "2022-07-09T05:29:07.130Z"
      },
      {
        "duration": 17,
        "start_time": "2022-07-09T05:29:07.210Z"
      },
      {
        "duration": 27,
        "start_time": "2022-07-09T05:29:07.231Z"
      },
      {
        "duration": 62,
        "start_time": "2022-07-09T05:29:07.259Z"
      },
      {
        "duration": 19,
        "start_time": "2022-07-09T05:29:07.323Z"
      },
      {
        "duration": 10,
        "start_time": "2022-07-09T05:29:07.344Z"
      },
      {
        "duration": 65,
        "start_time": "2022-07-09T05:29:07.356Z"
      },
      {
        "duration": 22,
        "start_time": "2022-07-09T05:29:07.423Z"
      },
      {
        "duration": 4,
        "start_time": "2022-07-09T05:29:07.447Z"
      },
      {
        "duration": 52,
        "start_time": "2022-07-09T05:29:07.453Z"
      },
      {
        "duration": 123,
        "start_time": "2022-07-09T05:29:07.517Z"
      },
      {
        "duration": 170,
        "start_time": "2022-07-09T05:29:07.642Z"
      },
      {
        "duration": 108,
        "start_time": "2022-07-09T05:29:07.834Z"
      },
      {
        "duration": 7,
        "start_time": "2022-07-09T05:29:07.944Z"
      },
      {
        "duration": 6,
        "start_time": "2022-07-09T05:29:07.952Z"
      },
      {
        "duration": 5,
        "start_time": "2022-07-09T05:29:07.960Z"
      },
      {
        "duration": 5,
        "start_time": "2022-07-09T05:29:07.967Z"
      },
      {
        "duration": 9,
        "start_time": "2022-07-09T05:29:07.973Z"
      },
      {
        "duration": 20,
        "start_time": "2022-07-09T05:29:07.984Z"
      },
      {
        "duration": 22,
        "start_time": "2022-07-09T05:29:08.013Z"
      },
      {
        "duration": 14,
        "start_time": "2022-07-09T05:29:08.040Z"
      },
      {
        "duration": 5,
        "start_time": "2022-07-09T05:29:08.056Z"
      },
      {
        "duration": 8,
        "start_time": "2022-07-09T05:29:08.063Z"
      },
      {
        "duration": 166,
        "start_time": "2022-07-09T05:29:08.073Z"
      },
      {
        "duration": 0,
        "start_time": "2022-07-09T05:29:08.240Z"
      },
      {
        "duration": 0,
        "start_time": "2022-07-09T05:29:08.242Z"
      },
      {
        "duration": 0,
        "start_time": "2022-07-09T05:29:08.244Z"
      },
      {
        "duration": 0,
        "start_time": "2022-07-09T05:29:08.245Z"
      },
      {
        "duration": 0,
        "start_time": "2022-07-09T05:29:08.247Z"
      },
      {
        "duration": 30,
        "start_time": "2022-07-09T05:30:43.193Z"
      },
      {
        "duration": 1494,
        "start_time": "2022-07-09T05:31:01.961Z"
      },
      {
        "duration": 4350,
        "start_time": "2022-07-09T05:31:33.637Z"
      },
      {
        "duration": 4327,
        "start_time": "2022-07-09T05:40:16.028Z"
      },
      {
        "duration": 6,
        "start_time": "2022-07-09T05:43:31.680Z"
      },
      {
        "duration": 1410,
        "start_time": "2022-07-09T05:43:58.034Z"
      },
      {
        "duration": 1497,
        "start_time": "2022-07-09T05:44:16.716Z"
      },
      {
        "duration": 1390,
        "start_time": "2022-07-09T05:44:29.971Z"
      },
      {
        "duration": 1434,
        "start_time": "2022-07-09T05:44:31.363Z"
      },
      {
        "duration": 1466,
        "start_time": "2022-07-09T05:45:24.285Z"
      },
      {
        "duration": 1561,
        "start_time": "2022-07-09T05:45:29.290Z"
      },
      {
        "duration": 1468,
        "start_time": "2022-07-09T05:45:33.228Z"
      },
      {
        "duration": 1205,
        "start_time": "2022-07-09T05:47:58.357Z"
      },
      {
        "duration": 450,
        "start_time": "2022-07-09T05:47:59.564Z"
      },
      {
        "duration": 26,
        "start_time": "2022-07-09T05:48:00.017Z"
      },
      {
        "duration": 18,
        "start_time": "2022-07-09T05:48:00.046Z"
      },
      {
        "duration": 89,
        "start_time": "2022-07-09T05:48:00.066Z"
      },
      {
        "duration": 13,
        "start_time": "2022-07-09T05:48:00.157Z"
      },
      {
        "duration": 36,
        "start_time": "2022-07-09T05:48:00.172Z"
      },
      {
        "duration": 61,
        "start_time": "2022-07-09T05:48:00.210Z"
      },
      {
        "duration": 10,
        "start_time": "2022-07-09T05:48:00.273Z"
      },
      {
        "duration": 49,
        "start_time": "2022-07-09T05:48:00.298Z"
      },
      {
        "duration": 64,
        "start_time": "2022-07-09T05:48:00.349Z"
      },
      {
        "duration": 19,
        "start_time": "2022-07-09T05:48:00.417Z"
      },
      {
        "duration": 40,
        "start_time": "2022-07-09T05:48:00.441Z"
      },
      {
        "duration": 53,
        "start_time": "2022-07-09T05:48:00.483Z"
      },
      {
        "duration": 19,
        "start_time": "2022-07-09T05:48:00.540Z"
      },
      {
        "duration": 16,
        "start_time": "2022-07-09T05:48:00.560Z"
      },
      {
        "duration": 42,
        "start_time": "2022-07-09T05:48:00.578Z"
      },
      {
        "duration": 182,
        "start_time": "2022-07-09T05:48:00.621Z"
      },
      {
        "duration": 130,
        "start_time": "2022-07-09T05:48:00.825Z"
      },
      {
        "duration": 4,
        "start_time": "2022-07-09T05:48:00.957Z"
      },
      {
        "duration": 139,
        "start_time": "2022-07-09T05:48:01.004Z"
      },
      {
        "duration": 18,
        "start_time": "2022-07-09T05:48:01.144Z"
      },
      {
        "duration": 10,
        "start_time": "2022-07-09T05:48:01.163Z"
      },
      {
        "duration": 13,
        "start_time": "2022-07-09T05:48:01.175Z"
      },
      {
        "duration": 59,
        "start_time": "2022-07-09T05:48:01.190Z"
      },
      {
        "duration": 23,
        "start_time": "2022-07-09T05:48:01.251Z"
      },
      {
        "duration": 5,
        "start_time": "2022-07-09T05:48:01.276Z"
      },
      {
        "duration": 55,
        "start_time": "2022-07-09T05:48:01.285Z"
      },
      {
        "duration": 9,
        "start_time": "2022-07-09T05:48:01.342Z"
      },
      {
        "duration": 12,
        "start_time": "2022-07-09T05:48:01.353Z"
      },
      {
        "duration": 9,
        "start_time": "2022-07-09T05:48:01.367Z"
      },
      {
        "duration": 1444,
        "start_time": "2022-07-09T05:48:01.378Z"
      },
      {
        "duration": 1402,
        "start_time": "2022-07-09T05:48:02.831Z"
      },
      {
        "duration": 1396,
        "start_time": "2022-07-09T05:48:04.236Z"
      },
      {
        "duration": 8,
        "start_time": "2022-07-09T06:03:31.024Z"
      },
      {
        "duration": 5,
        "start_time": "2022-07-09T06:03:35.048Z"
      },
      {
        "duration": 4,
        "start_time": "2022-07-09T06:06:11.168Z"
      },
      {
        "duration": 11,
        "start_time": "2022-07-09T06:06:13.725Z"
      },
      {
        "duration": 10,
        "start_time": "2022-07-09T06:06:15.601Z"
      },
      {
        "duration": 8,
        "start_time": "2022-07-09T06:06:16.752Z"
      },
      {
        "duration": 1311,
        "start_time": "2022-07-09T06:06:40.141Z"
      },
      {
        "duration": 525,
        "start_time": "2022-07-09T06:06:41.455Z"
      },
      {
        "duration": 36,
        "start_time": "2022-07-09T06:06:41.982Z"
      },
      {
        "duration": 40,
        "start_time": "2022-07-09T06:06:42.026Z"
      },
      {
        "duration": 59,
        "start_time": "2022-07-09T06:06:42.069Z"
      },
      {
        "duration": 12,
        "start_time": "2022-07-09T06:06:42.129Z"
      },
      {
        "duration": 26,
        "start_time": "2022-07-09T06:06:42.143Z"
      },
      {
        "duration": 79,
        "start_time": "2022-07-09T06:06:42.170Z"
      },
      {
        "duration": 9,
        "start_time": "2022-07-09T06:06:42.251Z"
      },
      {
        "duration": 42,
        "start_time": "2022-07-09T06:06:42.262Z"
      },
      {
        "duration": 65,
        "start_time": "2022-07-09T06:06:42.306Z"
      },
      {
        "duration": 33,
        "start_time": "2022-07-09T06:06:42.373Z"
      },
      {
        "duration": 55,
        "start_time": "2022-07-09T06:06:42.408Z"
      },
      {
        "duration": 41,
        "start_time": "2022-07-09T06:06:42.467Z"
      },
      {
        "duration": 8,
        "start_time": "2022-07-09T06:06:42.510Z"
      },
      {
        "duration": 48,
        "start_time": "2022-07-09T06:06:42.520Z"
      },
      {
        "duration": 34,
        "start_time": "2022-07-09T06:06:42.571Z"
      },
      {
        "duration": 134,
        "start_time": "2022-07-09T06:06:42.611Z"
      },
      {
        "duration": 211,
        "start_time": "2022-07-09T06:06:42.747Z"
      },
      {
        "duration": 194,
        "start_time": "2022-07-09T06:06:42.960Z"
      },
      {
        "duration": 12,
        "start_time": "2022-07-09T06:06:43.156Z"
      },
      {
        "duration": 8,
        "start_time": "2022-07-09T06:06:43.170Z"
      },
      {
        "duration": 10,
        "start_time": "2022-07-09T06:06:43.181Z"
      },
      {
        "duration": 24,
        "start_time": "2022-07-09T06:06:43.193Z"
      },
      {
        "duration": 23,
        "start_time": "2022-07-09T06:06:43.221Z"
      },
      {
        "duration": 23,
        "start_time": "2022-07-09T06:06:43.246Z"
      },
      {
        "duration": 3,
        "start_time": "2022-07-09T06:06:43.271Z"
      },
      {
        "duration": 12,
        "start_time": "2022-07-09T06:06:43.276Z"
      },
      {
        "duration": 9,
        "start_time": "2022-07-09T06:06:43.290Z"
      },
      {
        "duration": 52,
        "start_time": "2022-07-09T06:06:43.304Z"
      },
      {
        "duration": 9,
        "start_time": "2022-07-09T06:06:43.358Z"
      },
      {
        "duration": 1920,
        "start_time": "2022-07-09T06:06:43.369Z"
      },
      {
        "duration": 1961,
        "start_time": "2022-07-09T06:06:45.291Z"
      },
      {
        "duration": 2017,
        "start_time": "2022-07-09T06:06:47.260Z"
      },
      {
        "duration": 1368,
        "start_time": "2022-07-09T08:22:44.307Z"
      },
      {
        "duration": 539,
        "start_time": "2022-07-09T08:22:45.677Z"
      },
      {
        "duration": 26,
        "start_time": "2022-07-09T08:22:46.218Z"
      },
      {
        "duration": 40,
        "start_time": "2022-07-09T08:22:46.246Z"
      },
      {
        "duration": 71,
        "start_time": "2022-07-09T08:22:46.288Z"
      },
      {
        "duration": 13,
        "start_time": "2022-07-09T08:22:46.362Z"
      },
      {
        "duration": 53,
        "start_time": "2022-07-09T08:22:46.377Z"
      },
      {
        "duration": 103,
        "start_time": "2022-07-09T08:22:46.439Z"
      },
      {
        "duration": 15,
        "start_time": "2022-07-09T08:22:46.553Z"
      },
      {
        "duration": 19,
        "start_time": "2022-07-09T08:22:46.570Z"
      },
      {
        "duration": 85,
        "start_time": "2022-07-09T08:22:46.591Z"
      },
      {
        "duration": 28,
        "start_time": "2022-07-09T08:22:46.678Z"
      },
      {
        "duration": 26,
        "start_time": "2022-07-09T08:22:46.713Z"
      },
      {
        "duration": 89,
        "start_time": "2022-07-09T08:22:46.743Z"
      },
      {
        "duration": 28,
        "start_time": "2022-07-09T08:22:46.834Z"
      },
      {
        "duration": 24,
        "start_time": "2022-07-09T08:22:46.864Z"
      },
      {
        "duration": 101,
        "start_time": "2022-07-09T08:22:46.890Z"
      },
      {
        "duration": 117,
        "start_time": "2022-07-09T08:22:46.993Z"
      },
      {
        "duration": 125,
        "start_time": "2022-07-09T08:22:47.127Z"
      },
      {
        "duration": 33,
        "start_time": "2022-07-09T08:22:47.272Z"
      },
      {
        "duration": 93,
        "start_time": "2022-07-09T08:22:47.315Z"
      },
      {
        "duration": 86,
        "start_time": "2022-07-09T08:22:47.409Z"
      },
      {
        "duration": 79,
        "start_time": "2022-07-09T08:22:47.497Z"
      },
      {
        "duration": 14,
        "start_time": "2022-07-09T08:22:47.578Z"
      },
      {
        "duration": 82,
        "start_time": "2022-07-09T08:22:47.594Z"
      },
      {
        "duration": 34,
        "start_time": "2022-07-09T08:22:47.678Z"
      },
      {
        "duration": 50,
        "start_time": "2022-07-09T08:22:47.716Z"
      },
      {
        "duration": 11,
        "start_time": "2022-07-09T08:22:47.768Z"
      },
      {
        "duration": 7,
        "start_time": "2022-07-09T08:22:47.781Z"
      },
      {
        "duration": 71,
        "start_time": "2022-07-09T08:22:47.790Z"
      },
      {
        "duration": 9,
        "start_time": "2022-07-09T08:22:47.863Z"
      },
      {
        "duration": 1959,
        "start_time": "2022-07-09T08:22:47.875Z"
      },
      {
        "duration": 1884,
        "start_time": "2022-07-09T08:22:49.844Z"
      },
      {
        "duration": 1816,
        "start_time": "2022-07-09T08:22:51.730Z"
      },
      {
        "duration": 2991,
        "start_time": "2022-07-09T11:11:50.931Z"
      },
      {
        "duration": 745,
        "start_time": "2022-07-09T11:11:53.926Z"
      },
      {
        "duration": 15,
        "start_time": "2022-07-09T11:11:54.673Z"
      },
      {
        "duration": 26,
        "start_time": "2022-07-09T11:11:54.690Z"
      },
      {
        "duration": 46,
        "start_time": "2022-07-09T11:11:54.718Z"
      },
      {
        "duration": 8,
        "start_time": "2022-07-09T11:11:54.766Z"
      },
      {
        "duration": 31,
        "start_time": "2022-07-09T11:11:54.776Z"
      },
      {
        "duration": 58,
        "start_time": "2022-07-09T11:11:54.809Z"
      },
      {
        "duration": 10,
        "start_time": "2022-07-09T11:11:54.869Z"
      },
      {
        "duration": 14,
        "start_time": "2022-07-09T11:11:54.882Z"
      },
      {
        "duration": 66,
        "start_time": "2022-07-09T11:11:54.898Z"
      },
      {
        "duration": 14,
        "start_time": "2022-07-09T11:11:54.966Z"
      },
      {
        "duration": 25,
        "start_time": "2022-07-09T11:11:54.981Z"
      },
      {
        "duration": 47,
        "start_time": "2022-07-09T11:11:55.007Z"
      },
      {
        "duration": 8,
        "start_time": "2022-07-09T11:11:55.056Z"
      },
      {
        "duration": 27,
        "start_time": "2022-07-09T11:11:55.065Z"
      },
      {
        "duration": 49,
        "start_time": "2022-07-09T11:11:55.094Z"
      },
      {
        "duration": 109,
        "start_time": "2022-07-09T11:11:55.164Z"
      },
      {
        "duration": 196,
        "start_time": "2022-07-09T11:11:55.279Z"
      },
      {
        "duration": 88,
        "start_time": "2022-07-09T11:11:55.478Z"
      },
      {
        "duration": 102,
        "start_time": "2022-07-09T11:11:55.568Z"
      },
      {
        "duration": 24,
        "start_time": "2022-07-09T11:11:55.672Z"
      },
      {
        "duration": 5,
        "start_time": "2022-07-09T11:11:55.698Z"
      },
      {
        "duration": 6,
        "start_time": "2022-07-09T11:11:55.705Z"
      },
      {
        "duration": 9,
        "start_time": "2022-07-09T11:11:55.713Z"
      },
      {
        "duration": 13,
        "start_time": "2022-07-09T11:11:55.723Z"
      },
      {
        "duration": 3,
        "start_time": "2022-07-09T11:11:55.737Z"
      },
      {
        "duration": 16,
        "start_time": "2022-07-09T11:11:55.743Z"
      },
      {
        "duration": 7,
        "start_time": "2022-07-09T11:11:55.761Z"
      },
      {
        "duration": 8,
        "start_time": "2022-07-09T11:11:55.769Z"
      },
      {
        "duration": 7,
        "start_time": "2022-07-09T11:11:55.779Z"
      },
      {
        "duration": 1502,
        "start_time": "2022-07-09T11:11:55.787Z"
      },
      {
        "duration": 1398,
        "start_time": "2022-07-09T11:11:57.291Z"
      },
      {
        "duration": 1373,
        "start_time": "2022-07-09T11:11:58.691Z"
      },
      {
        "duration": 90,
        "start_time": "2022-07-10T06:33:57.550Z"
      },
      {
        "duration": 124,
        "start_time": "2022-07-10T06:37:00.419Z"
      },
      {
        "duration": 1336,
        "start_time": "2022-07-10T06:37:21.570Z"
      },
      {
        "duration": 1168,
        "start_time": "2022-07-10T06:37:29.396Z"
      },
      {
        "duration": 410,
        "start_time": "2022-07-10T06:37:30.566Z"
      },
      {
        "duration": 34,
        "start_time": "2022-07-10T06:37:30.978Z"
      },
      {
        "duration": 15,
        "start_time": "2022-07-10T06:37:31.016Z"
      },
      {
        "duration": 70,
        "start_time": "2022-07-10T06:37:31.033Z"
      },
      {
        "duration": 13,
        "start_time": "2022-07-10T06:37:31.105Z"
      },
      {
        "duration": 22,
        "start_time": "2022-07-10T06:37:31.120Z"
      },
      {
        "duration": 77,
        "start_time": "2022-07-10T06:37:31.144Z"
      },
      {
        "duration": 11,
        "start_time": "2022-07-10T06:37:31.223Z"
      },
      {
        "duration": 16,
        "start_time": "2022-07-10T06:37:31.236Z"
      },
      {
        "duration": 84,
        "start_time": "2022-07-10T06:37:31.254Z"
      },
      {
        "duration": 18,
        "start_time": "2022-07-10T06:37:31.340Z"
      },
      {
        "duration": 16,
        "start_time": "2022-07-10T06:37:31.360Z"
      },
      {
        "duration": 35,
        "start_time": "2022-07-10T06:37:31.377Z"
      },
      {
        "duration": 36,
        "start_time": "2022-07-10T06:37:31.415Z"
      },
      {
        "duration": 6,
        "start_time": "2022-07-10T06:37:31.453Z"
      },
      {
        "duration": 13,
        "start_time": "2022-07-10T06:37:31.461Z"
      },
      {
        "duration": 46,
        "start_time": "2022-07-10T06:37:31.476Z"
      },
      {
        "duration": 211,
        "start_time": "2022-07-10T06:37:31.524Z"
      },
      {
        "duration": 109,
        "start_time": "2022-07-10T06:37:31.805Z"
      },
      {
        "duration": 83,
        "start_time": "2022-07-10T06:37:31.916Z"
      },
      {
        "duration": 136,
        "start_time": "2022-07-10T06:37:32.001Z"
      },
      {
        "duration": 8,
        "start_time": "2022-07-10T06:37:32.139Z"
      },
      {
        "duration": 5,
        "start_time": "2022-07-10T06:37:32.149Z"
      },
      {
        "duration": 6,
        "start_time": "2022-07-10T06:37:32.156Z"
      },
      {
        "duration": 15,
        "start_time": "2022-07-10T06:37:32.164Z"
      },
      {
        "duration": 14,
        "start_time": "2022-07-10T06:37:32.181Z"
      },
      {
        "duration": 8,
        "start_time": "2022-07-10T06:37:32.199Z"
      },
      {
        "duration": 19,
        "start_time": "2022-07-10T06:37:32.208Z"
      },
      {
        "duration": 7,
        "start_time": "2022-07-10T06:37:32.229Z"
      },
      {
        "duration": 7,
        "start_time": "2022-07-10T06:37:32.238Z"
      },
      {
        "duration": 6,
        "start_time": "2022-07-10T06:37:32.247Z"
      },
      {
        "duration": 1655,
        "start_time": "2022-07-10T06:37:32.254Z"
      },
      {
        "duration": 1570,
        "start_time": "2022-07-10T06:37:33.911Z"
      },
      {
        "duration": 1626,
        "start_time": "2022-07-10T06:37:35.483Z"
      },
      {
        "duration": 1433,
        "start_time": "2022-07-10T06:37:45.241Z"
      },
      {
        "duration": 1599,
        "start_time": "2022-07-10T06:38:04.094Z"
      },
      {
        "duration": 428,
        "start_time": "2022-07-10T06:38:05.696Z"
      },
      {
        "duration": 18,
        "start_time": "2022-07-10T06:38:06.126Z"
      },
      {
        "duration": 487,
        "start_time": "2022-07-10T06:38:06.146Z"
      },
      {
        "duration": 69,
        "start_time": "2022-07-10T06:38:06.635Z"
      },
      {
        "duration": 20,
        "start_time": "2022-07-10T06:38:06.706Z"
      },
      {
        "duration": 27,
        "start_time": "2022-07-10T06:38:06.728Z"
      },
      {
        "duration": 73,
        "start_time": "2022-07-10T06:38:06.757Z"
      },
      {
        "duration": 15,
        "start_time": "2022-07-10T06:38:06.832Z"
      },
      {
        "duration": 42,
        "start_time": "2022-07-10T06:38:06.850Z"
      },
      {
        "duration": 50,
        "start_time": "2022-07-10T06:38:13.027Z"
      },
      {
        "duration": 22,
        "start_time": "2022-07-10T06:38:14.167Z"
      },
      {
        "duration": 17,
        "start_time": "2022-07-10T06:38:44.661Z"
      },
      {
        "duration": 19,
        "start_time": "2022-07-10T06:39:05.277Z"
      },
      {
        "duration": 20,
        "start_time": "2022-07-10T06:39:06.346Z"
      },
      {
        "duration": 15,
        "start_time": "2022-07-10T06:39:07.877Z"
      },
      {
        "duration": 115,
        "start_time": "2022-07-10T06:47:26.065Z"
      },
      {
        "duration": 10,
        "start_time": "2022-07-10T06:49:55.281Z"
      },
      {
        "duration": 29,
        "start_time": "2022-07-10T06:50:11.329Z"
      },
      {
        "duration": 31,
        "start_time": "2022-07-10T06:55:55.583Z"
      },
      {
        "duration": 40,
        "start_time": "2022-07-10T06:56:44.383Z"
      },
      {
        "duration": 30,
        "start_time": "2022-07-10T06:57:13.387Z"
      },
      {
        "duration": 33,
        "start_time": "2022-07-10T06:57:28.498Z"
      },
      {
        "duration": 29,
        "start_time": "2022-07-10T06:57:31.249Z"
      },
      {
        "duration": 1296,
        "start_time": "2022-07-10T07:00:01.289Z"
      },
      {
        "duration": 383,
        "start_time": "2022-07-10T07:00:02.587Z"
      },
      {
        "duration": 39,
        "start_time": "2022-07-10T07:00:02.972Z"
      },
      {
        "duration": 18,
        "start_time": "2022-07-10T07:00:03.014Z"
      },
      {
        "duration": 50,
        "start_time": "2022-07-10T07:00:03.034Z"
      },
      {
        "duration": 24,
        "start_time": "2022-07-10T07:00:03.098Z"
      },
      {
        "duration": 18,
        "start_time": "2022-07-10T07:00:03.124Z"
      },
      {
        "duration": 67,
        "start_time": "2022-07-10T07:00:03.145Z"
      },
      {
        "duration": 12,
        "start_time": "2022-07-10T07:00:03.213Z"
      },
      {
        "duration": 19,
        "start_time": "2022-07-10T07:00:03.229Z"
      },
      {
        "duration": 73,
        "start_time": "2022-07-10T07:00:03.250Z"
      },
      {
        "duration": 28,
        "start_time": "2022-07-10T07:00:03.326Z"
      },
      {
        "duration": 60,
        "start_time": "2022-07-10T07:00:03.356Z"
      },
      {
        "duration": 32,
        "start_time": "2022-07-10T07:00:03.419Z"
      },
      {
        "duration": 13,
        "start_time": "2022-07-10T07:00:03.453Z"
      },
      {
        "duration": 33,
        "start_time": "2022-07-10T07:00:03.468Z"
      },
      {
        "duration": 62,
        "start_time": "2022-07-10T07:00:03.502Z"
      },
      {
        "duration": 8,
        "start_time": "2022-07-10T07:00:03.566Z"
      },
      {
        "duration": 10,
        "start_time": "2022-07-10T07:00:03.577Z"
      },
      {
        "duration": 45,
        "start_time": "2022-07-10T07:00:03.589Z"
      },
      {
        "duration": 83,
        "start_time": "2022-07-10T07:00:03.636Z"
      },
      {
        "duration": 103,
        "start_time": "2022-07-10T07:00:03.804Z"
      },
      {
        "duration": 94,
        "start_time": "2022-07-10T07:00:03.910Z"
      },
      {
        "duration": 99,
        "start_time": "2022-07-10T07:00:04.009Z"
      },
      {
        "duration": 15,
        "start_time": "2022-07-10T07:00:04.110Z"
      },
      {
        "duration": 12,
        "start_time": "2022-07-10T07:00:04.127Z"
      },
      {
        "duration": 10,
        "start_time": "2022-07-10T07:00:04.141Z"
      },
      {
        "duration": 5,
        "start_time": "2022-07-10T07:00:04.155Z"
      },
      {
        "duration": 13,
        "start_time": "2022-07-10T07:00:04.162Z"
      },
      {
        "duration": 4,
        "start_time": "2022-07-10T07:00:04.176Z"
      },
      {
        "duration": 33,
        "start_time": "2022-07-10T07:00:04.181Z"
      },
      {
        "duration": 9,
        "start_time": "2022-07-10T07:00:04.216Z"
      },
      {
        "duration": 10,
        "start_time": "2022-07-10T07:00:04.227Z"
      },
      {
        "duration": 15,
        "start_time": "2022-07-10T07:00:04.238Z"
      },
      {
        "duration": 1632,
        "start_time": "2022-07-10T07:00:04.255Z"
      },
      {
        "duration": 1648,
        "start_time": "2022-07-10T07:00:05.889Z"
      },
      {
        "duration": 1612,
        "start_time": "2022-07-10T07:00:07.539Z"
      },
      {
        "duration": 1238,
        "start_time": "2022-07-10T07:01:46.975Z"
      },
      {
        "duration": 417,
        "start_time": "2022-07-10T07:01:48.216Z"
      },
      {
        "duration": 17,
        "start_time": "2022-07-10T07:01:48.635Z"
      },
      {
        "duration": 15,
        "start_time": "2022-07-10T07:01:48.655Z"
      },
      {
        "duration": 67,
        "start_time": "2022-07-10T07:01:48.671Z"
      },
      {
        "duration": 10,
        "start_time": "2022-07-10T07:01:48.740Z"
      },
      {
        "duration": 17,
        "start_time": "2022-07-10T07:01:48.752Z"
      },
      {
        "duration": 78,
        "start_time": "2022-07-10T07:01:48.771Z"
      },
      {
        "duration": 10,
        "start_time": "2022-07-10T07:01:48.851Z"
      },
      {
        "duration": 45,
        "start_time": "2022-07-10T07:01:48.863Z"
      },
      {
        "duration": 56,
        "start_time": "2022-07-10T07:01:48.914Z"
      },
      {
        "duration": 45,
        "start_time": "2022-07-10T07:01:48.972Z"
      },
      {
        "duration": 27,
        "start_time": "2022-07-10T07:01:49.019Z"
      },
      {
        "duration": 66,
        "start_time": "2022-07-10T07:01:49.048Z"
      },
      {
        "duration": 12,
        "start_time": "2022-07-10T07:01:49.116Z"
      },
      {
        "duration": 14,
        "start_time": "2022-07-10T07:01:49.130Z"
      },
      {
        "duration": 55,
        "start_time": "2022-07-10T07:01:49.146Z"
      },
      {
        "duration": 8,
        "start_time": "2022-07-10T07:01:49.204Z"
      },
      {
        "duration": 6,
        "start_time": "2022-07-10T07:01:49.217Z"
      },
      {
        "duration": 76,
        "start_time": "2022-07-10T07:01:49.225Z"
      },
      {
        "duration": 112,
        "start_time": "2022-07-10T07:01:49.306Z"
      },
      {
        "duration": 200,
        "start_time": "2022-07-10T07:01:49.420Z"
      },
      {
        "duration": 80,
        "start_time": "2022-07-10T07:01:49.622Z"
      },
      {
        "duration": 18,
        "start_time": "2022-07-10T07:01:49.709Z"
      },
      {
        "duration": 7,
        "start_time": "2022-07-10T07:01:49.729Z"
      },
      {
        "duration": 5,
        "start_time": "2022-07-10T07:01:49.738Z"
      },
      {
        "duration": 75,
        "start_time": "2022-07-10T07:01:49.744Z"
      },
      {
        "duration": 4,
        "start_time": "2022-07-10T07:01:49.824Z"
      },
      {
        "duration": 14,
        "start_time": "2022-07-10T07:01:49.829Z"
      },
      {
        "duration": 4,
        "start_time": "2022-07-10T07:01:49.844Z"
      },
      {
        "duration": 10,
        "start_time": "2022-07-10T07:01:49.849Z"
      },
      {
        "duration": 6,
        "start_time": "2022-07-10T07:01:49.861Z"
      },
      {
        "duration": 47,
        "start_time": "2022-07-10T07:01:49.869Z"
      },
      {
        "duration": 6,
        "start_time": "2022-07-10T07:01:49.918Z"
      },
      {
        "duration": 64,
        "start_time": "2022-07-16T11:34:55.096Z"
      },
      {
        "duration": 1194,
        "start_time": "2022-07-16T11:35:00.560Z"
      },
      {
        "duration": 1872,
        "start_time": "2022-07-16T11:35:01.756Z"
      },
      {
        "duration": 21,
        "start_time": "2022-07-16T11:35:03.629Z"
      },
      {
        "duration": 30,
        "start_time": "2022-07-16T11:35:03.652Z"
      },
      {
        "duration": 47,
        "start_time": "2022-07-16T11:35:03.684Z"
      },
      {
        "duration": 19,
        "start_time": "2022-07-16T11:35:03.733Z"
      },
      {
        "duration": 19,
        "start_time": "2022-07-16T11:35:03.754Z"
      },
      {
        "duration": 45,
        "start_time": "2022-07-16T11:35:03.775Z"
      },
      {
        "duration": 28,
        "start_time": "2022-07-16T11:35:03.822Z"
      },
      {
        "duration": 21,
        "start_time": "2022-07-16T11:35:03.852Z"
      },
      {
        "duration": 48,
        "start_time": "2022-07-16T11:35:03.875Z"
      },
      {
        "duration": 50,
        "start_time": "2022-07-16T11:35:03.924Z"
      },
      {
        "duration": 27,
        "start_time": "2022-07-16T11:35:03.976Z"
      },
      {
        "duration": 51,
        "start_time": "2022-07-16T11:35:04.006Z"
      },
      {
        "duration": 13,
        "start_time": "2022-07-16T11:35:04.059Z"
      },
      {
        "duration": 28,
        "start_time": "2022-07-16T11:35:04.074Z"
      },
      {
        "duration": 35,
        "start_time": "2022-07-16T11:35:04.104Z"
      },
      {
        "duration": 11,
        "start_time": "2022-07-16T11:35:04.141Z"
      },
      {
        "duration": 7,
        "start_time": "2022-07-16T11:35:04.154Z"
      },
      {
        "duration": 22,
        "start_time": "2022-07-16T11:35:04.163Z"
      },
      {
        "duration": 162,
        "start_time": "2022-07-16T11:35:04.187Z"
      },
      {
        "duration": 212,
        "start_time": "2022-07-16T11:35:04.350Z"
      },
      {
        "duration": 21,
        "start_time": "2022-07-16T11:35:04.564Z"
      },
      {
        "duration": 54,
        "start_time": "2022-07-16T11:35:04.586Z"
      },
      {
        "duration": 117,
        "start_time": "2022-07-16T11:35:04.642Z"
      },
      {
        "duration": 12,
        "start_time": "2022-07-16T11:35:04.761Z"
      },
      {
        "duration": 7,
        "start_time": "2022-07-16T11:35:04.775Z"
      },
      {
        "duration": 9,
        "start_time": "2022-07-16T11:35:04.784Z"
      },
      {
        "duration": 7,
        "start_time": "2022-07-16T11:35:04.795Z"
      },
      {
        "duration": 14,
        "start_time": "2022-07-16T11:35:04.803Z"
      },
      {
        "duration": 3,
        "start_time": "2022-07-16T11:35:04.819Z"
      },
      {
        "duration": 9,
        "start_time": "2022-07-16T11:35:04.823Z"
      },
      {
        "duration": 15,
        "start_time": "2022-07-16T11:35:04.834Z"
      },
      {
        "duration": 14,
        "start_time": "2022-07-16T11:35:04.855Z"
      },
      {
        "duration": 5,
        "start_time": "2022-07-16T11:35:04.871Z"
      },
      {
        "duration": 1682,
        "start_time": "2022-07-16T11:35:04.878Z"
      },
      {
        "duration": 1649,
        "start_time": "2022-07-16T11:35:06.562Z"
      },
      {
        "duration": 1593,
        "start_time": "2022-07-16T11:35:08.213Z"
      },
      {
        "duration": 6,
        "start_time": "2022-07-16T11:35:23.884Z"
      },
      {
        "duration": 3,
        "start_time": "2022-07-16T11:35:28.380Z"
      },
      {
        "duration": 400,
        "start_time": "2022-07-16T11:35:28.385Z"
      },
      {
        "duration": 10,
        "start_time": "2022-07-16T11:35:28.787Z"
      },
      {
        "duration": 17,
        "start_time": "2022-07-16T11:35:28.799Z"
      },
      {
        "duration": 71,
        "start_time": "2022-07-16T11:35:28.819Z"
      },
      {
        "duration": 9,
        "start_time": "2022-07-16T11:35:28.892Z"
      },
      {
        "duration": 20,
        "start_time": "2022-07-16T11:35:28.902Z"
      },
      {
        "duration": 52,
        "start_time": "2022-07-16T11:35:28.924Z"
      },
      {
        "duration": 9,
        "start_time": "2022-07-16T11:35:28.977Z"
      },
      {
        "duration": 18,
        "start_time": "2022-07-16T11:35:28.988Z"
      },
      {
        "duration": 69,
        "start_time": "2022-07-16T11:35:29.008Z"
      },
      {
        "duration": 25,
        "start_time": "2022-07-16T11:35:29.078Z"
      },
      {
        "duration": 46,
        "start_time": "2022-07-16T11:35:29.104Z"
      },
      {
        "duration": 25,
        "start_time": "2022-07-16T11:35:29.154Z"
      },
      {
        "duration": 11,
        "start_time": "2022-07-16T11:35:29.180Z"
      },
      {
        "duration": 17,
        "start_time": "2022-07-16T11:35:29.193Z"
      },
      {
        "duration": 46,
        "start_time": "2022-07-16T11:35:29.212Z"
      },
      {
        "duration": 8,
        "start_time": "2022-07-16T11:35:29.260Z"
      },
      {
        "duration": 6,
        "start_time": "2022-07-16T11:35:29.269Z"
      },
      {
        "duration": 72,
        "start_time": "2022-07-16T11:35:29.276Z"
      },
      {
        "duration": 15,
        "start_time": "2022-07-16T11:35:31.867Z"
      },
      {
        "duration": 5,
        "start_time": "2022-07-16T11:35:33.061Z"
      },
      {
        "duration": 4,
        "start_time": "2022-07-16T11:35:41.034Z"
      },
      {
        "duration": 5,
        "start_time": "2022-07-16T11:35:57.007Z"
      }
    ],
    "colab": {
      "provenance": []
    },
    "kernelspec": {
      "display_name": "Python 3 (ipykernel)",
      "language": "python",
      "name": "python3"
    },
    "language_info": {
      "codemirror_mode": {
        "name": "ipython",
        "version": 3
      },
      "file_extension": ".py",
      "mimetype": "text/x-python",
      "name": "python",
      "nbconvert_exporter": "python",
      "pygments_lexer": "ipython3",
      "version": "3.10.11"
    },
    "toc": {
      "base_numbering": 1,
      "nav_menu": {},
      "number_sections": true,
      "sideBar": true,
      "skip_h1_title": true,
      "title_cell": "Table of Contents",
      "title_sidebar": "Contents",
      "toc_cell": false,
      "toc_position": {},
      "toc_section_display": true,
      "toc_window_display": false
    }
  },
  "nbformat": 4,
  "nbformat_minor": 0
}
