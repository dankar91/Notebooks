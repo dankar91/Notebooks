{
  "nbformat": 4,
  "nbformat_minor": 0,
  "metadata": {
    "colab": {
      "provenance": []
    },
    "kernelspec": {
      "name": "python3",
      "display_name": "Python 3"
    },
    "language_info": {
      "name": "python"
    }
  },
  "cells": [
    {
      "cell_type": "code",
      "execution_count": 41,
      "metadata": {
        "colab": {
          "base_uri": "https://localhost:8080/"
        },
        "collapsed": true,
        "id": "5Zv6-KTJLB5H",
        "outputId": "33c34d43-c217-429a-9beb-171722d0d172"
      },
      "outputs": [
        {
          "output_type": "stream",
          "name": "stdout",
          "text": [
            "Requirement already satisfied: google-api-python-client in /usr/local/lib/python3.11/dist-packages (2.160.0)\n",
            "Requirement already satisfied: httplib2<1.dev0,>=0.19.0 in /usr/local/lib/python3.11/dist-packages (from google-api-python-client) (0.22.0)\n",
            "Requirement already satisfied: google-auth!=2.24.0,!=2.25.0,<3.0.0.dev0,>=1.32.0 in /usr/local/lib/python3.11/dist-packages (from google-api-python-client) (2.27.0)\n",
            "Requirement already satisfied: google-auth-httplib2<1.0.0,>=0.2.0 in /usr/local/lib/python3.11/dist-packages (from google-api-python-client) (0.2.0)\n",
            "Requirement already satisfied: google-api-core!=2.0.*,!=2.1.*,!=2.2.*,!=2.3.0,<3.0.0.dev0,>=1.31.5 in /usr/local/lib/python3.11/dist-packages (from google-api-python-client) (2.19.2)\n",
            "Requirement already satisfied: uritemplate<5,>=3.0.1 in /usr/local/lib/python3.11/dist-packages (from google-api-python-client) (4.1.1)\n",
            "Requirement already satisfied: googleapis-common-protos<2.0.dev0,>=1.56.2 in /usr/local/lib/python3.11/dist-packages (from google-api-core!=2.0.*,!=2.1.*,!=2.2.*,!=2.3.0,<3.0.0.dev0,>=1.31.5->google-api-python-client) (1.66.0)\n",
            "Requirement already satisfied: protobuf!=3.20.0,!=3.20.1,!=4.21.0,!=4.21.1,!=4.21.2,!=4.21.3,!=4.21.4,!=4.21.5,<6.0.0.dev0,>=3.19.5 in /usr/local/lib/python3.11/dist-packages (from google-api-core!=2.0.*,!=2.1.*,!=2.2.*,!=2.3.0,<3.0.0.dev0,>=1.31.5->google-api-python-client) (4.25.6)\n",
            "Requirement already satisfied: proto-plus<2.0.0dev,>=1.22.3 in /usr/local/lib/python3.11/dist-packages (from google-api-core!=2.0.*,!=2.1.*,!=2.2.*,!=2.3.0,<3.0.0.dev0,>=1.31.5->google-api-python-client) (1.26.0)\n",
            "Requirement already satisfied: requests<3.0.0.dev0,>=2.18.0 in /usr/local/lib/python3.11/dist-packages (from google-api-core!=2.0.*,!=2.1.*,!=2.2.*,!=2.3.0,<3.0.0.dev0,>=1.31.5->google-api-python-client) (2.32.3)\n",
            "Requirement already satisfied: cachetools<6.0,>=2.0.0 in /usr/local/lib/python3.11/dist-packages (from google-auth!=2.24.0,!=2.25.0,<3.0.0.dev0,>=1.32.0->google-api-python-client) (5.5.1)\n",
            "Requirement already satisfied: pyasn1-modules>=0.2.1 in /usr/local/lib/python3.11/dist-packages (from google-auth!=2.24.0,!=2.25.0,<3.0.0.dev0,>=1.32.0->google-api-python-client) (0.4.1)\n",
            "Requirement already satisfied: rsa<5,>=3.1.4 in /usr/local/lib/python3.11/dist-packages (from google-auth!=2.24.0,!=2.25.0,<3.0.0.dev0,>=1.32.0->google-api-python-client) (4.9)\n",
            "Requirement already satisfied: pyparsing!=3.0.0,!=3.0.1,!=3.0.2,!=3.0.3,<4,>=2.4.2 in /usr/local/lib/python3.11/dist-packages (from httplib2<1.dev0,>=0.19.0->google-api-python-client) (3.2.1)\n",
            "Requirement already satisfied: pyasn1<0.7.0,>=0.4.6 in /usr/local/lib/python3.11/dist-packages (from pyasn1-modules>=0.2.1->google-auth!=2.24.0,!=2.25.0,<3.0.0.dev0,>=1.32.0->google-api-python-client) (0.6.1)\n",
            "Requirement already satisfied: charset-normalizer<4,>=2 in /usr/local/lib/python3.11/dist-packages (from requests<3.0.0.dev0,>=2.18.0->google-api-core!=2.0.*,!=2.1.*,!=2.2.*,!=2.3.0,<3.0.0.dev0,>=1.31.5->google-api-python-client) (3.4.1)\n",
            "Requirement already satisfied: idna<4,>=2.5 in /usr/local/lib/python3.11/dist-packages (from requests<3.0.0.dev0,>=2.18.0->google-api-core!=2.0.*,!=2.1.*,!=2.2.*,!=2.3.0,<3.0.0.dev0,>=1.31.5->google-api-python-client) (3.10)\n",
            "Requirement already satisfied: urllib3<3,>=1.21.1 in /usr/local/lib/python3.11/dist-packages (from requests<3.0.0.dev0,>=2.18.0->google-api-core!=2.0.*,!=2.1.*,!=2.2.*,!=2.3.0,<3.0.0.dev0,>=1.31.5->google-api-python-client) (2.3.0)\n",
            "Requirement already satisfied: certifi>=2017.4.17 in /usr/local/lib/python3.11/dist-packages (from requests<3.0.0.dev0,>=2.18.0->google-api-core!=2.0.*,!=2.1.*,!=2.2.*,!=2.3.0,<3.0.0.dev0,>=1.31.5->google-api-python-client) (2025.1.31)\n"
          ]
        }
      ],
      "source": [
        "!pip install google-api-python-client\n"
      ]
    },
    {
      "cell_type": "code",
      "source": [
        "!pip install google-api-python-client transformers matplotlib\n"
      ],
      "metadata": {
        "colab": {
          "base_uri": "https://localhost:8080/"
        },
        "collapsed": true,
        "id": "NghppwPVSpOX",
        "outputId": "0c7543a0-08be-4904-be2f-fca205b21a08"
      },
      "execution_count": 42,
      "outputs": [
        {
          "output_type": "stream",
          "name": "stdout",
          "text": [
            "Requirement already satisfied: google-api-python-client in /usr/local/lib/python3.11/dist-packages (2.160.0)\n",
            "Requirement already satisfied: transformers in /usr/local/lib/python3.11/dist-packages (4.48.2)\n",
            "Requirement already satisfied: matplotlib in /usr/local/lib/python3.11/dist-packages (3.10.0)\n",
            "Requirement already satisfied: httplib2<1.dev0,>=0.19.0 in /usr/local/lib/python3.11/dist-packages (from google-api-python-client) (0.22.0)\n",
            "Requirement already satisfied: google-auth!=2.24.0,!=2.25.0,<3.0.0.dev0,>=1.32.0 in /usr/local/lib/python3.11/dist-packages (from google-api-python-client) (2.27.0)\n",
            "Requirement already satisfied: google-auth-httplib2<1.0.0,>=0.2.0 in /usr/local/lib/python3.11/dist-packages (from google-api-python-client) (0.2.0)\n",
            "Requirement already satisfied: google-api-core!=2.0.*,!=2.1.*,!=2.2.*,!=2.3.0,<3.0.0.dev0,>=1.31.5 in /usr/local/lib/python3.11/dist-packages (from google-api-python-client) (2.19.2)\n",
            "Requirement already satisfied: uritemplate<5,>=3.0.1 in /usr/local/lib/python3.11/dist-packages (from google-api-python-client) (4.1.1)\n",
            "Requirement already satisfied: filelock in /usr/local/lib/python3.11/dist-packages (from transformers) (3.17.0)\n",
            "Requirement already satisfied: huggingface-hub<1.0,>=0.24.0 in /usr/local/lib/python3.11/dist-packages (from transformers) (0.28.1)\n",
            "Requirement already satisfied: numpy>=1.17 in /usr/local/lib/python3.11/dist-packages (from transformers) (1.26.4)\n",
            "Requirement already satisfied: packaging>=20.0 in /usr/local/lib/python3.11/dist-packages (from transformers) (24.2)\n",
            "Requirement already satisfied: pyyaml>=5.1 in /usr/local/lib/python3.11/dist-packages (from transformers) (6.0.2)\n",
            "Requirement already satisfied: regex!=2019.12.17 in /usr/local/lib/python3.11/dist-packages (from transformers) (2024.11.6)\n",
            "Requirement already satisfied: requests in /usr/local/lib/python3.11/dist-packages (from transformers) (2.32.3)\n",
            "Requirement already satisfied: tokenizers<0.22,>=0.21 in /usr/local/lib/python3.11/dist-packages (from transformers) (0.21.0)\n",
            "Requirement already satisfied: safetensors>=0.4.1 in /usr/local/lib/python3.11/dist-packages (from transformers) (0.5.2)\n",
            "Requirement already satisfied: tqdm>=4.27 in /usr/local/lib/python3.11/dist-packages (from transformers) (4.67.1)\n",
            "Requirement already satisfied: contourpy>=1.0.1 in /usr/local/lib/python3.11/dist-packages (from matplotlib) (1.3.1)\n",
            "Requirement already satisfied: cycler>=0.10 in /usr/local/lib/python3.11/dist-packages (from matplotlib) (0.12.1)\n",
            "Requirement already satisfied: fonttools>=4.22.0 in /usr/local/lib/python3.11/dist-packages (from matplotlib) (4.55.8)\n",
            "Requirement already satisfied: kiwisolver>=1.3.1 in /usr/local/lib/python3.11/dist-packages (from matplotlib) (1.4.8)\n",
            "Requirement already satisfied: pillow>=8 in /usr/local/lib/python3.11/dist-packages (from matplotlib) (11.1.0)\n",
            "Requirement already satisfied: pyparsing>=2.3.1 in /usr/local/lib/python3.11/dist-packages (from matplotlib) (3.2.1)\n",
            "Requirement already satisfied: python-dateutil>=2.7 in /usr/local/lib/python3.11/dist-packages (from matplotlib) (2.8.2)\n",
            "Requirement already satisfied: googleapis-common-protos<2.0.dev0,>=1.56.2 in /usr/local/lib/python3.11/dist-packages (from google-api-core!=2.0.*,!=2.1.*,!=2.2.*,!=2.3.0,<3.0.0.dev0,>=1.31.5->google-api-python-client) (1.66.0)\n",
            "Requirement already satisfied: protobuf!=3.20.0,!=3.20.1,!=4.21.0,!=4.21.1,!=4.21.2,!=4.21.3,!=4.21.4,!=4.21.5,<6.0.0.dev0,>=3.19.5 in /usr/local/lib/python3.11/dist-packages (from google-api-core!=2.0.*,!=2.1.*,!=2.2.*,!=2.3.0,<3.0.0.dev0,>=1.31.5->google-api-python-client) (4.25.6)\n",
            "Requirement already satisfied: proto-plus<2.0.0dev,>=1.22.3 in /usr/local/lib/python3.11/dist-packages (from google-api-core!=2.0.*,!=2.1.*,!=2.2.*,!=2.3.0,<3.0.0.dev0,>=1.31.5->google-api-python-client) (1.26.0)\n",
            "Requirement already satisfied: cachetools<6.0,>=2.0.0 in /usr/local/lib/python3.11/dist-packages (from google-auth!=2.24.0,!=2.25.0,<3.0.0.dev0,>=1.32.0->google-api-python-client) (5.5.1)\n",
            "Requirement already satisfied: pyasn1-modules>=0.2.1 in /usr/local/lib/python3.11/dist-packages (from google-auth!=2.24.0,!=2.25.0,<3.0.0.dev0,>=1.32.0->google-api-python-client) (0.4.1)\n",
            "Requirement already satisfied: rsa<5,>=3.1.4 in /usr/local/lib/python3.11/dist-packages (from google-auth!=2.24.0,!=2.25.0,<3.0.0.dev0,>=1.32.0->google-api-python-client) (4.9)\n",
            "Requirement already satisfied: fsspec>=2023.5.0 in /usr/local/lib/python3.11/dist-packages (from huggingface-hub<1.0,>=0.24.0->transformers) (2024.10.0)\n",
            "Requirement already satisfied: typing-extensions>=3.7.4.3 in /usr/local/lib/python3.11/dist-packages (from huggingface-hub<1.0,>=0.24.0->transformers) (4.12.2)\n",
            "Requirement already satisfied: six>=1.5 in /usr/local/lib/python3.11/dist-packages (from python-dateutil>=2.7->matplotlib) (1.17.0)\n",
            "Requirement already satisfied: charset-normalizer<4,>=2 in /usr/local/lib/python3.11/dist-packages (from requests->transformers) (3.4.1)\n",
            "Requirement already satisfied: idna<4,>=2.5 in /usr/local/lib/python3.11/dist-packages (from requests->transformers) (3.10)\n",
            "Requirement already satisfied: urllib3<3,>=1.21.1 in /usr/local/lib/python3.11/dist-packages (from requests->transformers) (2.3.0)\n",
            "Requirement already satisfied: certifi>=2017.4.17 in /usr/local/lib/python3.11/dist-packages (from requests->transformers) (2025.1.31)\n",
            "Requirement already satisfied: pyasn1<0.7.0,>=0.4.6 in /usr/local/lib/python3.11/dist-packages (from pyasn1-modules>=0.2.1->google-auth!=2.24.0,!=2.25.0,<3.0.0.dev0,>=1.32.0->google-api-python-client) (0.6.1)\n"
          ]
        }
      ]
    },
    {
      "cell_type": "code",
      "source": [
        "!pip install python-dotenv"
      ],
      "metadata": {
        "colab": {
          "base_uri": "https://localhost:8080/"
        },
        "collapsed": true,
        "id": "NbWKb0Q1YT3I",
        "outputId": "7abab0f1-e01d-48cb-b3eb-5867d24f2832"
      },
      "execution_count": 47,
      "outputs": [
        {
          "output_type": "stream",
          "name": "stdout",
          "text": [
            "Collecting python-dotenv\n",
            "  Downloading python_dotenv-1.0.1-py3-none-any.whl.metadata (23 kB)\n",
            "Downloading python_dotenv-1.0.1-py3-none-any.whl (19 kB)\n",
            "Installing collected packages: python-dotenv\n",
            "Successfully installed python-dotenv-1.0.1\n"
          ]
        }
      ]
    },
    {
      "cell_type": "code",
      "source": [
        "import os\n",
        "from dotenv import load_dotenv\n",
        "import re\n",
        "import matplotlib.pyplot as plt\n",
        "from googleapiclient.discovery import build\n",
        "from transformers import pipeline\n",
        "import random"
      ],
      "metadata": {
        "id": "1Z73OEeQLNGG"
      },
      "execution_count": 76,
      "outputs": []
    },
    {
      "cell_type": "code",
      "source": [
        "load_dotenv('/content/drive/MyDrive/1.env')\n",
        "youtube_api_key = os.getenv('youtube_api_key')\n",
        "\n",
        "# Замените на ваш API-ключ\n",
        "API_KEY = youtube_api_key\n",
        "# Создаем объект для работы с API YouTube\n",
        "youtube = build('youtube', 'v3', developerKey=API_KEY)"
      ],
      "metadata": {
        "id": "xCspui5fODNm"
      },
      "execution_count": 49,
      "outputs": []
    },
    {
      "cell_type": "code",
      "source": [
        "# Извлекаем видео\n",
        "def extract_video_id(url):\n",
        "    \"\"\"\n",
        "    Извлекает video_id из URL YouTube.\n",
        "\n",
        "    Поддерживаемые форматы URL:\n",
        "      - https://www.youtube.com/watch?v=VIDEO_ID\n",
        "      - https://youtu.be/VIDEO_ID\n",
        "      - https://www.youtube.com/embed/VIDEO_ID\n",
        "    \"\"\"\n",
        "    patterns = [\n",
        "        r'(?:v=)([0-9A-Za-z_-]{11})',        # стандартный URL\n",
        "        r'(?:youtu\\.be/)([0-9A-Za-z_-]{11})', # сокращённый URL\n",
        "        r'(?:embed/)([0-9A-Za-z_-]{11})'       # embed-версия\n",
        "    ]\n",
        "    for pattern in patterns:\n",
        "        match = re.search(pattern, url)\n",
        "        if match:\n",
        "            return match.group(1)\n",
        "    return None"
      ],
      "metadata": {
        "id": "AusVx0AUXKBw"
      },
      "execution_count": 50,
      "outputs": []
    },
    {
      "cell_type": "code",
      "source": [
        "# Извлекаем название видео\n",
        "def get_video_title(video_id):\n",
        "    \"\"\"\n",
        "    Получает название видео по его ID, используя YouTube Data API.\n",
        "\n",
        "    Возвращает:\n",
        "      - title (str): название видео, если информация получена,\n",
        "        или сообщение об ошибке, если данные недоступны.\n",
        "    \"\"\"\n",
        "    response = youtube.videos().list(\n",
        "        part='snippet',\n",
        "        id=video_id\n",
        "    ).execute()\n",
        "\n",
        "    items = response.get(\"items\", [])\n",
        "    if items:\n",
        "        title = items[0][\"snippet\"][\"title\"]\n",
        "        return title\n",
        "    else:\n",
        "        return \"Не удалось получить название видео.\""
      ],
      "metadata": {
        "id": "Mgzyb8aeZuOD"
      },
      "execution_count": 56,
      "outputs": []
    },
    {
      "cell_type": "code",
      "source": [
        "# Извлекаем комментарии\n",
        "def get_comments(video_id):\n",
        "    \"\"\"\n",
        "    Получает все комментарии для указанного видео по его ID.\n",
        "\n",
        "    Возвращает:\n",
        "      - comments (list): список текстов комментариев.\n",
        "    \"\"\"\n",
        "    comments = []\n",
        "    next_page_token = None\n",
        "\n",
        "    while True:\n",
        "        response = youtube.commentThreads().list(\n",
        "            part='snippet',\n",
        "            videoId=video_id,\n",
        "            textFormat=\"plainText\",\n",
        "            maxResults=100,\n",
        "            pageToken=next_page_token\n",
        "        ).execute()\n",
        "\n",
        "        for item in response.get('items', []):\n",
        "            comment = item['snippet']['topLevelComment']['snippet']['textDisplay']\n",
        "            comments.append(comment)\n",
        "\n",
        "        next_page_token = response.get('nextPageToken')\n",
        "        if not next_page_token:\n",
        "            break\n",
        "\n",
        "    return comments\n"
      ],
      "metadata": {
        "id": "p9hXUUeJSrcP"
      },
      "execution_count": 51,
      "outputs": []
    },
    {
      "cell_type": "code",
      "source": [
        "def analyze_sentiments(comments):\n",
        "    \"\"\"\n",
        "    Анализирует тональность списка комментариев с помощью модели,\n",
        "    адаптированной для русского языка.\n",
        "\n",
        "    Используется модель \"blanchefort/rubert-base-cased-sentiment\" из Hugging Face.\n",
        "\n",
        "    Возвращает:\n",
        "      - sentiment_results (list): список словарей, где для каждого комментария указаны:\n",
        "          - 'comment': сам комментарий,\n",
        "          - 'label': предсказанная категория (например, Positive, Neutral, Negative),\n",
        "          - 'score': уверенность модели.\n",
        "    \"\"\"\n",
        "    sentiment_pipeline = pipeline(\n",
        "        \"sentiment-analysis\",\n",
        "        model=\"blanchefort/rubert-base-cased-sentiment\",\n",
        "        tokenizer=\"blanchefort/rubert-base-cased-sentiment\"\n",
        "    )\n",
        "\n",
        "    sentiment_results = []\n",
        "    for comment in comments:\n",
        "        # Используем truncation=True, чтобы обрезать комментарии, если они слишком длинные\n",
        "        result = sentiment_pipeline(comment, truncation=True)[0]\n",
        "        sentiment_results.append({\n",
        "            'comment': comment,\n",
        "            'label': result['label'],\n",
        "            'score': result['score']\n",
        "        })\n",
        "    return sentiment_results"
      ],
      "metadata": {
        "id": "d9k3hBJIXRY3"
      },
      "execution_count": 68,
      "outputs": []
    },
    {
      "cell_type": "code",
      "source": [
        "if __name__ == '__main__':\n",
        "    # Запрашиваем у пользователя ссылку на YouTube видео\n",
        "    url = input(\"Введите ссылку на YouTube видео: \")\n",
        "    video_id = extract_video_id(url)\n",
        "\n",
        "    if not video_id:\n",
        "        print(\"Не удалось извлечь video_id из ссылки. Проверьте корректность URL.\")\n",
        "    else:\n",
        "        print(\"Извлеченный video_id:\", video_id)\n",
        "        video_title = get_video_title(video_id)\n",
        "        print(\"Название видео:\", video_title)\n",
        "        all_comments = get_comments(video_id)\n",
        "        print(f\"Общее количество комментариев: {len(all_comments)}\\n\")\n",
        "\n",
        "        # Анализ тональности каждого комментария с использованием модели для русского языка\n",
        "        sentiment_results = analyze_sentiments(all_comments)\n",
        "\n",
        "        # Агрегированный анализ: считаем количество комментариев по категориям\n",
        "        pos_count = 0\n",
        "        neu_count = 0\n",
        "        neg_count = 0\n",
        "\n",
        "        # Переменные для хранения примеров комментариев\n",
        "        pos_comments = []\n",
        "        neu_comments = []\n",
        "        neg_comments = []\n",
        "\n",
        "\n",
        "        for result in sentiment_results:\n",
        "            label = result['label'].lower()\n",
        "            if 'positive' in label or 'позитив' in label:\n",
        "                pos_count += 1\n",
        "                pos_comments.append(result['comment'])\n",
        "            elif 'negative' in label or 'негатив' in label:\n",
        "                neg_count += 1\n",
        "                neg_comments.append(result['comment'])\n",
        "            elif 'neutral' in label or 'нейтраль' in label:\n",
        "                neu_count += 1\n",
        "                neu_comments.append(result['comment'])\n",
        "\n",
        "        total = pos_count + neu_count + neg_count\n",
        "        print(\"Агрегированные данные по тональности:\")\n",
        "        print(f\"Позитивных комментариев: {pos_count} ({pos_count / total * 100:.2f}%)\")\n",
        "        print(f\"Нейтральных комментариев: {neu_count} ({neu_count / total * 100:.2f}%)\")\n",
        "        print(f\"Негативных комментариев: {neg_count} ({neg_count / total * 100:.2f}%)\\n\")\n",
        "\n",
        "\n",
        "        # Визуализация: Круговая диаграмма распределения тональности\n",
        "        labels = ['Позитивные', 'Нейтральные', 'Негативные']\n",
        "        sizes = [pos_count, neu_count, neg_count]\n",
        "        colors = ['green', 'grey', 'red']\n",
        "\n",
        "        plt.figure(figsize=(8, 8))\n",
        "        plt.pie(sizes, labels=labels, autopct='%1.1f%%', startangle=140, colors=colors)\n",
        "        plt.title(f'Распределение тональности комментариев под видео:\\n {video_title}\\n')\n",
        "        plt.axis('equal')  # чтобы круговая диаграмма была круглой\n",
        "        plt.show()\n",
        "\n",
        "        # Вывод примеров комментариев для каждой категории\n",
        "        pos_example = random.choice(pos_comments) if pos_comments else None\n",
        "        neu_example = random.choice(neu_comments) if neu_comments else None\n",
        "        neg_example = random.choice(neg_comments) if neg_comments else None\n",
        "\n",
        "        print(\"Примеры комментариев:\")\n",
        "        if pos_example:\n",
        "            print(\"\\nПозитивный комментарий:\")\n",
        "            print(pos_example)\n",
        "        else:\n",
        "            print(\"\\nПозитивных комментариев не найдено.\")\n",
        "\n",
        "        if neu_example:\n",
        "            print(\"\\nНейтральный комментарий:\")\n",
        "            print(neu_example)\n",
        "        else:\n",
        "            print(\"\\nНейтральных комментариев не найдено.\")\n",
        "\n",
        "        if neg_example:\n",
        "            print(\"\\nНегативный комментарий:\")\n",
        "            print(neg_example)\n",
        "        else:\n",
        "            print(\"\\nНегативных комментариев не найдено.\")"
      ],
      "metadata": {
        "colab": {
          "base_uri": "https://localhost:8080/",
          "height": 1000
        },
        "id": "XAf3IpI1XaVO",
        "outputId": "d654c53f-701a-418b-8152-4314a79b2103"
      },
      "execution_count": 77,
      "outputs": [
        {
          "output_type": "stream",
          "name": "stdout",
          "text": [
            "Введите ссылку на YouTube видео: https://www.youtube.com/watch?v=CHDFQVww-0Q&ab_channel=%D0%9F%D0%BE%D0%B4%D0%BA%D0%B0%D1%81%D1%82%D0%93%D0%BB%D0%B5%D0%B1%D0%B0%D0%A1%D0%BE%D0%BB%D0%BE%D0%BC%D0%B8%D0%BD%D0%B0\n",
            "Извлеченный video_id: CHDFQVww-0Q\n",
            "Название видео: ПОТОМ БУДЕТ ПОЗДНО! 10 правил от Биохакера №1 Вадима Каспарова\n",
            "Общее количество комментариев: 359\n",
            "\n"
          ]
        },
        {
          "output_type": "stream",
          "name": "stderr",
          "text": [
            "Device set to use cpu\n",
            "Asking to truncate to max_length but no maximum length is provided and the model has no predefined maximum length. Default to no truncation.\n"
          ]
        },
        {
          "output_type": "stream",
          "name": "stdout",
          "text": [
            "Агрегированные данные по тональности:\n",
            "Позитивных комментариев: 137 (38.16%)\n",
            "Нейтральных комментариев: 133 (37.05%)\n",
            "Негативных комментариев: 89 (24.79%)\n",
            "\n"
          ]
        },
        {
          "output_type": "display_data",
          "data": {
            "text/plain": [
              "<Figure size 800x800 with 1 Axes>"
            ],
            "image/png": "[encoded data removed]"
          },
          "metadata": {}
        },
        {
          "output_type": "stream",
          "name": "stdout",
          "text": [
            "Примеры комментариев:\n",
            "\n",
            "Позитивный комментарий:\n",
            "Впервые увидел Глеба благодаря Маркаряну. Канал растет стремительно, и Глеб, на мой взгляд, гораздо лучше более известных интервьюеров. Искренность подкупает. Никакого чсв, как у более именитых. Ждем 1млн подписчиков. Спасибо за подкасты. От победы к победе🏆\n",
            "\n",
            "Нейтральный комментарий:\n",
            "Глеб миноксидилом балуется?\n",
            "\n",
            "Негативный комментарий:\n",
            "Каспаров уважаемый человек, но подкаст получился скучным, ибо говорили про какую-то банальщину, про которую уже все давным давно знают\n"
          ]
        }
      ]
    }
  ]
}