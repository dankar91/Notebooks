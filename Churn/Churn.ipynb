{
  "cells": [
    {
      "cell_type": "markdown",
      "metadata": {
        "id": "BurU3ou8LbSk"
      },
      "source": [
        "# Отток клиентов из банка"
      ]
    },
    {
      "cell_type": "markdown",
      "metadata": {
        "id": "tGG9iwRELbSk"
      },
      "source": [
        "Из банка стали уходить клиенты. Каждый месяц. Немного, но заметно. Банковские маркетологи посчитали: сохранять текущих клиентов дешевле, чем привлекать новых.\n",
        "\n",
        "Нужно спрогнозировать, уйдёт клиент из банка в ближайшее время или нет на основании предоставленных исторические данных о поведении клиентов и расторжении договоров с банком.\n",
        "\n",
        "Источник данных: [https://www.kaggle.com/barelydedicated/bank-customer-churn-modeling](https://www.kaggle.com/barelydedicated/bank-customer-churn-modeling)"
      ]
    },
    {
      "cell_type": "markdown",
      "metadata": {
        "id": "VM0wLTQ9LbSl"
      },
      "source": [
        "## Подготовка данных"
      ]
    },
    {
      "cell_type": "code",
      "execution_count": 5,
      "metadata": {
        "colab": {
          "base_uri": "https://localhost:8080/"
        },
        "id": "njy_0ktKLqTh",
        "outputId": "f0b3bc91-c08e-4fb7-ee24-1d9a9cd5114b"
      },
      "outputs": [
        {
          "output_type": "stream",
          "name": "stdout",
          "text": [
            "Requirement already satisfied: optuna in /usr/local/lib/python3.11/dist-packages (4.2.0)\n",
            "Requirement already satisfied: alembic>=1.5.0 in /usr/local/lib/python3.11/dist-packages (from optuna) (1.14.1)\n",
            "Requirement already satisfied: colorlog in /usr/local/lib/python3.11/dist-packages (from optuna) (6.9.0)\n",
            "Requirement already satisfied: numpy in /usr/local/lib/python3.11/dist-packages (from optuna) (1.26.4)\n",
            "Requirement already satisfied: packaging>=20.0 in /usr/local/lib/python3.11/dist-packages (from optuna) (24.2)\n",
            "Requirement already satisfied: sqlalchemy>=1.4.2 in /usr/local/lib/python3.11/dist-packages (from optuna) (2.0.37)\n",
            "Requirement already satisfied: tqdm in /usr/local/lib/python3.11/dist-packages (from optuna) (4.67.1)\n",
            "Requirement already satisfied: PyYAML in /usr/local/lib/python3.11/dist-packages (from optuna) (6.0.2)\n",
            "Requirement already satisfied: Mako in /usr/local/lib/python3.11/dist-packages (from alembic>=1.5.0->optuna) (1.3.8)\n",
            "Requirement already satisfied: typing-extensions>=4 in /usr/local/lib/python3.11/dist-packages (from alembic>=1.5.0->optuna) (4.12.2)\n",
            "Requirement already satisfied: greenlet!=0.4.17 in /usr/local/lib/python3.11/dist-packages (from sqlalchemy>=1.4.2->optuna) (3.1.1)\n",
            "Requirement already satisfied: MarkupSafe>=0.9.2 in /usr/local/lib/python3.11/dist-packages (from Mako->alembic>=1.5.0->optuna) (3.0.2)\n"
          ]
        }
      ],
      "source": [
        "!pip install optuna"
      ]
    },
    {
      "cell_type": "code",
      "execution_count": 6,
      "metadata": {
        "colab": {
          "base_uri": "https://localhost:8080/",
          "height": 357
        },
        "id": "GhIvAFS8X5bS",
        "outputId": "7800f51c-c609-48a8-9cd4-6cf1df652a73"
      },
      "outputs": [
        {
          "output_type": "stream",
          "name": "stdout",
          "text": [
            "Found existing installation: scikit-learn 1.3.1\n",
            "Uninstalling scikit-learn-1.3.1:\n",
            "  Successfully uninstalled scikit-learn-1.3.1\n",
            "Collecting scikit-learn==1.3.1\n",
            "  Using cached scikit_learn-1.3.1-cp311-cp311-manylinux_2_17_x86_64.manylinux2014_x86_64.whl.metadata (11 kB)\n",
            "Requirement already satisfied: numpy<2.0,>=1.17.3 in /usr/local/lib/python3.11/dist-packages (from scikit-learn==1.3.1) (1.26.4)\n",
            "Requirement already satisfied: scipy>=1.5.0 in /usr/local/lib/python3.11/dist-packages (from scikit-learn==1.3.1) (1.13.1)\n",
            "Requirement already satisfied: joblib>=1.1.1 in /usr/local/lib/python3.11/dist-packages (from scikit-learn==1.3.1) (1.4.2)\n",
            "Requirement already satisfied: threadpoolctl>=2.0.0 in /usr/local/lib/python3.11/dist-packages (from scikit-learn==1.3.1) (3.5.0)\n",
            "Using cached scikit_learn-1.3.1-cp311-cp311-manylinux_2_17_x86_64.manylinux2014_x86_64.whl (10.9 MB)\n",
            "Installing collected packages: scikit-learn\n",
            "\u001b[31mERROR: pip's dependency resolver does not currently take into account all the packages that are installed. This behaviour is the source of the following dependency conflicts.\n",
            "imbalanced-learn 0.13.0 requires scikit-learn<2,>=1.3.2, but you have scikit-learn 1.3.1 which is incompatible.\u001b[0m\u001b[31m\n",
            "\u001b[0mSuccessfully installed scikit-learn-1.3.1\n"
          ]
        },
        {
          "output_type": "display_data",
          "data": {
            "application/vnd.colab-display-data+json": {
              "pip_warning": {
                "packages": [
                  "sklearn"
                ]
              },
              "id": "a585a61ec5e34f1bb53fcdc5a7aff51c"
            }
          },
          "metadata": {}
        }
      ],
      "source": [
        "!pip uninstall -y scikit-learn\n",
        "!pip install scikit-learn==1.3.1"
      ]
    },
    {
      "cell_type": "code",
      "execution_count": 7,
      "metadata": {
        "id": "LS23lIplLbSl"
      },
      "outputs": [],
      "source": [
        "# Импортируем необходимые библиотеки\n",
        "import pandas as pd\n",
        "from sklearn.preprocessing import StandardScaler\n",
        "import matplotlib.pyplot as plt\n",
        "import seaborn as sns\n",
        "from sklearn.utils import shuffle\n",
        "import numpy as np\n",
        "from sklearn.impute import KNNImputer\n",
        "from sklearn.model_selection import train_test_split,GridSearchCV, RandomizedSearchCV, cross_val_score\n",
        "import optuna\n",
        "from imblearn.over_sampling import SMOTE\n",
        "\n",
        "\n",
        "# Импортируем библиотеки моделей\n",
        "from sklearn.linear_model import LogisticRegression\n",
        "from sklearn.tree import DecisionTreeClassifier\n",
        "from sklearn.ensemble import RandomForestClassifier\n",
        "from xgboost.sklearn import XGBClassifier\n",
        "\n",
        "# Импортируем необходимые метрики\n",
        "from sklearn.metrics import confusion_matrix, recall_score, precision_score, f1_score, roc_auc_score, accuracy_score, roc_curve"
      ]
    },
    {
      "cell_type": "code",
      "execution_count": 8,
      "metadata": {
        "colab": {
          "base_uri": "https://localhost:8080/",
          "height": 423
        },
        "id": "00oTtUBzLbSm",
        "outputId": "3b0dfd22-57b8-48a0-a905-e18950c270c4"
      },
      "outputs": [
        {
          "output_type": "execute_result",
          "data": {
            "text/plain": [
              "      RowNumber  CustomerId    Surname  CreditScore Geography  Gender  Age  \\\n",
              "0             1    15634602   Hargrave          619    France  Female   42   \n",
              "1             2    15647311       Hill          608     Spain  Female   41   \n",
              "2             3    15619304       Onio          502    France  Female   42   \n",
              "3             4    15701354       Boni          699    France  Female   39   \n",
              "4             5    15737888   Mitchell          850     Spain  Female   43   \n",
              "...         ...         ...        ...          ...       ...     ...  ...   \n",
              "9995       9996    15606229   Obijiaku          771    France    Male   39   \n",
              "9996       9997    15569892  Johnstone          516    France    Male   35   \n",
              "9997       9998    15584532        Liu          709    France  Female   36   \n",
              "9998       9999    15682355  Sabbatini          772   Germany    Male   42   \n",
              "9999      10000    15628319     Walker          792    France  Female   28   \n",
              "\n",
              "      Tenure    Balance  NumOfProducts  HasCrCard  IsActiveMember  \\\n",
              "0        2.0       0.00              1          1               1   \n",
              "1        1.0   83807.86              1          0               1   \n",
              "2        8.0  159660.80              3          1               0   \n",
              "3        1.0       0.00              2          0               0   \n",
              "4        2.0  125510.82              1          1               1   \n",
              "...      ...        ...            ...        ...             ...   \n",
              "9995     5.0       0.00              2          1               0   \n",
              "9996    10.0   57369.61              1          1               1   \n",
              "9997     7.0       0.00              1          0               1   \n",
              "9998     3.0   75075.31              2          1               0   \n",
              "9999     NaN  130142.79              1          1               0   \n",
              "\n",
              "      EstimatedSalary  Exited  \n",
              "0           101348.88       1  \n",
              "1           112542.58       0  \n",
              "2           113931.57       1  \n",
              "3            93826.63       0  \n",
              "4            79084.10       0  \n",
              "...               ...     ...  \n",
              "9995         96270.64       0  \n",
              "9996        101699.77       0  \n",
              "9997         42085.58       1  \n",
              "9998         92888.52       1  \n",
              "9999         38190.78       0  \n",
              "\n",
              "[10000 rows x 14 columns]"
            ],
            "text/html": [
              "\n",
              "  <div id=\"df-f284f0b4-9415-4a19-8512-78c100c28e8f\" class=\"colab-df-container\">\n",
              "    <div>\n",
              "<style scoped>\n",
              "    .dataframe tbody tr th:only-of-type {\n",
              "        vertical-align: middle;\n",
              "    }\n",
              "\n",
              "    .dataframe tbody tr th {\n",
              "        vertical-align: top;\n",
              "    }\n",
              "\n",
              "    .dataframe thead th {\n",
              "        text-align: right;\n",
              "    }\n",
              "</style>\n",
              "<table border=\"1\" class=\"dataframe\">\n",
              "  <thead>\n",
              "    <tr style=\"text-align: right;\">\n",
              "      <th></th>\n",
              "      <th>RowNumber</th>\n",
              "      <th>CustomerId</th>\n",
              "      <th>Surname</th>\n",
              "      <th>CreditScore</th>\n",
              "      <th>Geography</th>\n",
              "      <th>Gender</th>\n",
              "      <th>Age</th>\n",
              "      <th>Tenure</th>\n",
              "      <th>Balance</th>\n",
              "      <th>NumOfProducts</th>\n",
              "      <th>HasCrCard</th>\n",
              "      <th>IsActiveMember</th>\n",
              "      <th>EstimatedSalary</th>\n",
              "      <th>Exited</th>\n",
              "    </tr>\n",
              "  </thead>\n",
              "  <tbody>\n",
              "    <tr>\n",
              "      <th>0</th>\n",
              "      <td>1</td>\n",
              "      <td>15634602</td>\n",
              "      <td>Hargrave</td>\n",
              "      <td>619</td>\n",
              "      <td>France</td>\n",
              "      <td>Female</td>\n",
              "      <td>42</td>\n",
              "      <td>2.0</td>\n",
              "      <td>0.00</td>\n",
              "      <td>1</td>\n",
              "      <td>1</td>\n",
              "      <td>1</td>\n",
              "      <td>101348.88</td>\n",
              "      <td>1</td>\n",
              "    </tr>\n",
              "    <tr>\n",
              "      <th>1</th>\n",
              "      <td>2</td>\n",
              "      <td>15647311</td>\n",
              "      <td>Hill</td>\n",
              "      <td>608</td>\n",
              "      <td>Spain</td>\n",
              "      <td>Female</td>\n",
              "      <td>41</td>\n",
              "      <td>1.0</td>\n",
              "      <td>83807.86</td>\n",
              "      <td>1</td>\n",
              "      <td>0</td>\n",
              "      <td>1</td>\n",
              "      <td>112542.58</td>\n",
              "      <td>0</td>\n",
              "    </tr>\n",
              "    <tr>\n",
              "      <th>2</th>\n",
              "      <td>3</td>\n",
              "      <td>15619304</td>\n",
              "      <td>Onio</td>\n",
              "      <td>502</td>\n",
              "      <td>France</td>\n",
              "      <td>Female</td>\n",
              "      <td>42</td>\n",
              "      <td>8.0</td>\n",
              "      <td>159660.80</td>\n",
              "      <td>3</td>\n",
              "      <td>1</td>\n",
              "      <td>0</td>\n",
              "      <td>113931.57</td>\n",
              "      <td>1</td>\n",
              "    </tr>\n",
              "    <tr>\n",
              "      <th>3</th>\n",
              "      <td>4</td>\n",
              "      <td>15701354</td>\n",
              "      <td>Boni</td>\n",
              "      <td>699</td>\n",
              "      <td>France</td>\n",
              "      <td>Female</td>\n",
              "      <td>39</td>\n",
              "      <td>1.0</td>\n",
              "      <td>0.00</td>\n",
              "      <td>2</td>\n",
              "      <td>0</td>\n",
              "      <td>0</td>\n",
              "      <td>93826.63</td>\n",
              "      <td>0</td>\n",
              "    </tr>\n",
              "    <tr>\n",
              "      <th>4</th>\n",
              "      <td>5</td>\n",
              "      <td>15737888</td>\n",
              "      <td>Mitchell</td>\n",
              "      <td>850</td>\n",
              "      <td>Spain</td>\n",
              "      <td>Female</td>\n",
              "      <td>43</td>\n",
              "      <td>2.0</td>\n",
              "      <td>125510.82</td>\n",
              "      <td>1</td>\n",
              "      <td>1</td>\n",
              "      <td>1</td>\n",
              "      <td>79084.10</td>\n",
              "      <td>0</td>\n",
              "    </tr>\n",
              "    <tr>\n",
              "      <th>...</th>\n",
              "      <td>...</td>\n",
              "      <td>...</td>\n",
              "      <td>...</td>\n",
              "      <td>...</td>\n",
              "      <td>...</td>\n",
              "      <td>...</td>\n",
              "      <td>...</td>\n",
              "      <td>...</td>\n",
              "      <td>...</td>\n",
              "      <td>...</td>\n",
              "      <td>...</td>\n",
              "      <td>...</td>\n",
              "      <td>...</td>\n",
              "      <td>...</td>\n",
              "    </tr>\n",
              "    <tr>\n",
              "      <th>9995</th>\n",
              "      <td>9996</td>\n",
              "      <td>15606229</td>\n",
              "      <td>Obijiaku</td>\n",
              "      <td>771</td>\n",
              "      <td>France</td>\n",
              "      <td>Male</td>\n",
              "      <td>39</td>\n",
              "      <td>5.0</td>\n",
              "      <td>0.00</td>\n",
              "      <td>2</td>\n",
              "      <td>1</td>\n",
              "      <td>0</td>\n",
              "      <td>96270.64</td>\n",
              "      <td>0</td>\n",
              "    </tr>\n",
              "    <tr>\n",
              "      <th>9996</th>\n",
              "      <td>9997</td>\n",
              "      <td>15569892</td>\n",
              "      <td>Johnstone</td>\n",
              "      <td>516</td>\n",
              "      <td>France</td>\n",
              "      <td>Male</td>\n",
              "      <td>35</td>\n",
              "      <td>10.0</td>\n",
              "      <td>57369.61</td>\n",
              "      <td>1</td>\n",
              "      <td>1</td>\n",
              "      <td>1</td>\n",
              "      <td>101699.77</td>\n",
              "      <td>0</td>\n",
              "    </tr>\n",
              "    <tr>\n",
              "      <th>9997</th>\n",
              "      <td>9998</td>\n",
              "      <td>15584532</td>\n",
              "      <td>Liu</td>\n",
              "      <td>709</td>\n",
              "      <td>France</td>\n",
              "      <td>Female</td>\n",
              "      <td>36</td>\n",
              "      <td>7.0</td>\n",
              "      <td>0.00</td>\n",
              "      <td>1</td>\n",
              "      <td>0</td>\n",
              "      <td>1</td>\n",
              "      <td>42085.58</td>\n",
              "      <td>1</td>\n",
              "    </tr>\n",
              "    <tr>\n",
              "      <th>9998</th>\n",
              "      <td>9999</td>\n",
              "      <td>15682355</td>\n",
              "      <td>Sabbatini</td>\n",
              "      <td>772</td>\n",
              "      <td>Germany</td>\n",
              "      <td>Male</td>\n",
              "      <td>42</td>\n",
              "      <td>3.0</td>\n",
              "      <td>75075.31</td>\n",
              "      <td>2</td>\n",
              "      <td>1</td>\n",
              "      <td>0</td>\n",
              "      <td>92888.52</td>\n",
              "      <td>1</td>\n",
              "    </tr>\n",
              "    <tr>\n",
              "      <th>9999</th>\n",
              "      <td>10000</td>\n",
              "      <td>15628319</td>\n",
              "      <td>Walker</td>\n",
              "      <td>792</td>\n",
              "      <td>France</td>\n",
              "      <td>Female</td>\n",
              "      <td>28</td>\n",
              "      <td>NaN</td>\n",
              "      <td>130142.79</td>\n",
              "      <td>1</td>\n",
              "      <td>1</td>\n",
              "      <td>0</td>\n",
              "      <td>38190.78</td>\n",
              "      <td>0</td>\n",
              "    </tr>\n",
              "  </tbody>\n",
              "</table>\n",
              "<p>10000 rows × 14 columns</p>\n",
              "</div>\n",
              "    <div class=\"colab-df-buttons\">\n",
              "\n",
              "  <div class=\"colab-df-container\">\n",
              "    <button class=\"colab-df-convert\" onclick=\"convertToInteractive('df-f284f0b4-9415-4a19-8512-78c100c28e8f')\"\n",
              "            title=\"Convert this dataframe to an interactive table.\"\n",
              "            style=\"display:none;\">\n",
              "\n",
              "  <svg xmlns=\"http://www.w3.org/2000/svg\" height=\"24px\" viewBox=\"0 -960 960 960\">\n",
              "    <path d=\"M120-120v-720h720v720H120Zm60-500h600v-160H180v160Zm220 220h160v-160H400v160Zm0 220h160v-160H400v160ZM180-400h160v-160H180v160Zm440 0h160v-160H620v160ZM180-180h160v-160H180v160Zm440 0h160v-160H620v160Z\"/>\n",
              "  </svg>\n",
              "    </button>\n",
              "\n",
              "  <style>\n",
              "    .colab-df-container {\n",
              "      display:flex;\n",
              "      gap: 12px;\n",
              "    }\n",
              "\n",
              "    .colab-df-convert {\n",
              "      background-color: #E8F0FE;\n",
              "      border: none;\n",
              "      border-radius: 50%;\n",
              "      cursor: pointer;\n",
              "      display: none;\n",
              "      fill: #1967D2;\n",
              "      height: 32px;\n",
              "      padding: 0 0 0 0;\n",
              "      width: 32px;\n",
              "    }\n",
              "\n",
              "    .colab-df-convert:hover {\n",
              "      background-color: #E2EBFA;\n",
              "      box-shadow: 0px 1px 2px rgba(60, 64, 67, 0.3), 0px 1px 3px 1px rgba(60, 64, 67, 0.15);\n",
              "      fill: #174EA6;\n",
              "    }\n",
              "\n",
              "    .colab-df-buttons div {\n",
              "      margin-bottom: 4px;\n",
              "    }\n",
              "\n",
              "    [theme=dark] .colab-df-convert {\n",
              "      background-color: #3B4455;\n",
              "      fill: #D2E3FC;\n",
              "    }\n",
              "\n",
              "    [theme=dark] .colab-df-convert:hover {\n",
              "      background-color: #434B5C;\n",
              "      box-shadow: 0px 1px 3px 1px rgba(0, 0, 0, 0.15);\n",
              "      filter: drop-shadow(0px 1px 2px rgba(0, 0, 0, 0.3));\n",
              "      fill: #FFFFFF;\n",
              "    }\n",
              "  </style>\n",
              "\n",
              "    <script>\n",
              "      const buttonEl =\n",
              "        document.querySelector('#df-f284f0b4-9415-4a19-8512-78c100c28e8f button.colab-df-convert');\n",
              "      buttonEl.style.display =\n",
              "        google.colab.kernel.accessAllowed ? 'block' : 'none';\n",
              "\n",
              "      async function convertToInteractive(key) {\n",
              "        const element = document.querySelector('#df-f284f0b4-9415-4a19-8512-78c100c28e8f');\n",
              "        const dataTable =\n",
              "          await google.colab.kernel.invokeFunction('convertToInteractive',\n",
              "                                                    [key], {});\n",
              "        if (!dataTable) return;\n",
              "\n",
              "        const docLinkHtml = 'Like what you see? Visit the ' +\n",
              "          '<a target=\"_blank\" href=https://colab.research.google.com/notebooks/data_table.ipynb>data table notebook</a>'\n",
              "          + ' to learn more about interactive tables.';\n",
              "        element.innerHTML = '';\n",
              "        dataTable['output_type'] = 'display_data';\n",
              "        await google.colab.output.renderOutput(dataTable, element);\n",
              "        const docLink = document.createElement('div');\n",
              "        docLink.innerHTML = docLinkHtml;\n",
              "        element.appendChild(docLink);\n",
              "      }\n",
              "    </script>\n",
              "  </div>\n",
              "\n",
              "\n",
              "<div id=\"df-e799dc19-7346-455c-9539-28bb97a3ce19\">\n",
              "  <button class=\"colab-df-quickchart\" onclick=\"quickchart('df-e799dc19-7346-455c-9539-28bb97a3ce19')\"\n",
              "            title=\"Suggest charts\"\n",
              "            style=\"display:none;\">\n",
              "\n",
              "<svg xmlns=\"http://www.w3.org/2000/svg\" height=\"24px\"viewBox=\"0 0 24 24\"\n",
              "     width=\"24px\">\n",
              "    <g>\n",
              "        <path d=\"M19 3H5c-1.1 0-2 .9-2 2v14c0 1.1.9 2 2 2h14c1.1 0 2-.9 2-2V5c0-1.1-.9-2-2-2zM9 17H7v-7h2v7zm4 0h-2V7h2v10zm4 0h-2v-4h2v4z\"/>\n",
              "    </g>\n",
              "</svg>\n",
              "  </button>\n",
              "\n",
              "<style>\n",
              "  .colab-df-quickchart {\n",
              "      --bg-color: #E8F0FE;\n",
              "      --fill-color: #1967D2;\n",
              "      --hover-bg-color: #E2EBFA;\n",
              "      --hover-fill-color: #174EA6;\n",
              "      --disabled-fill-color: #AAA;\n",
              "      --disabled-bg-color: #DDD;\n",
              "  }\n",
              "\n",
              "  [theme=dark] .colab-df-quickchart {\n",
              "      --bg-color: #3B4455;\n",
              "      --fill-color: #D2E3FC;\n",
              "      --hover-bg-color: #434B5C;\n",
              "      --hover-fill-color: #FFFFFF;\n",
              "      --disabled-bg-color: #3B4455;\n",
              "      --disabled-fill-color: #666;\n",
              "  }\n",
              "\n",
              "  .colab-df-quickchart {\n",
              "    background-color: var(--bg-color);\n",
              "    border: none;\n",
              "    border-radius: 50%;\n",
              "    cursor: pointer;\n",
              "    display: none;\n",
              "    fill: var(--fill-color);\n",
              "    height: 32px;\n",
              "    padding: 0;\n",
              "    width: 32px;\n",
              "  }\n",
              "\n",
              "  .colab-df-quickchart:hover {\n",
              "    background-color: var(--hover-bg-color);\n",
              "    box-shadow: 0 1px 2px rgba(60, 64, 67, 0.3), 0 1px 3px 1px rgba(60, 64, 67, 0.15);\n",
              "    fill: var(--button-hover-fill-color);\n",
              "  }\n",
              "\n",
              "  .colab-df-quickchart-complete:disabled,\n",
              "  .colab-df-quickchart-complete:disabled:hover {\n",
              "    background-color: var(--disabled-bg-color);\n",
              "    fill: var(--disabled-fill-color);\n",
              "    box-shadow: none;\n",
              "  }\n",
              "\n",
              "  .colab-df-spinner {\n",
              "    border: 2px solid var(--fill-color);\n",
              "    border-color: transparent;\n",
              "    border-bottom-color: var(--fill-color);\n",
              "    animation:\n",
              "      spin 1s steps(1) infinite;\n",
              "  }\n",
              "\n",
              "  @keyframes spin {\n",
              "    0% {\n",
              "      border-color: transparent;\n",
              "      border-bottom-color: var(--fill-color);\n",
              "      border-left-color: var(--fill-color);\n",
              "    }\n",
              "    20% {\n",
              "      border-color: transparent;\n",
              "      border-left-color: var(--fill-color);\n",
              "      border-top-color: var(--fill-color);\n",
              "    }\n",
              "    30% {\n",
              "      border-color: transparent;\n",
              "      border-left-color: var(--fill-color);\n",
              "      border-top-color: var(--fill-color);\n",
              "      border-right-color: var(--fill-color);\n",
              "    }\n",
              "    40% {\n",
              "      border-color: transparent;\n",
              "      border-right-color: var(--fill-color);\n",
              "      border-top-color: var(--fill-color);\n",
              "    }\n",
              "    60% {\n",
              "      border-color: transparent;\n",
              "      border-right-color: var(--fill-color);\n",
              "    }\n",
              "    80% {\n",
              "      border-color: transparent;\n",
              "      border-right-color: var(--fill-color);\n",
              "      border-bottom-color: var(--fill-color);\n",
              "    }\n",
              "    90% {\n",
              "      border-color: transparent;\n",
              "      border-bottom-color: var(--fill-color);\n",
              "    }\n",
              "  }\n",
              "</style>\n",
              "\n",
              "  <script>\n",
              "    async function quickchart(key) {\n",
              "      const quickchartButtonEl =\n",
              "        document.querySelector('#' + key + ' button');\n",
              "      quickchartButtonEl.disabled = true;  // To prevent multiple clicks.\n",
              "      quickchartButtonEl.classList.add('colab-df-spinner');\n",
              "      try {\n",
              "        const charts = await google.colab.kernel.invokeFunction(\n",
              "            'suggestCharts', [key], {});\n",
              "      } catch (error) {\n",
              "        console.error('Error during call to suggestCharts:', error);\n",
              "      }\n",
              "      quickchartButtonEl.classList.remove('colab-df-spinner');\n",
              "      quickchartButtonEl.classList.add('colab-df-quickchart-complete');\n",
              "    }\n",
              "    (() => {\n",
              "      let quickchartButtonEl =\n",
              "        document.querySelector('#df-e799dc19-7346-455c-9539-28bb97a3ce19 button');\n",
              "      quickchartButtonEl.style.display =\n",
              "        google.colab.kernel.accessAllowed ? 'block' : 'none';\n",
              "    })();\n",
              "  </script>\n",
              "</div>\n",
              "\n",
              "  <div id=\"id_a190a179-75ed-4da8-8add-00fe45fcff1e\">\n",
              "    <style>\n",
              "      .colab-df-generate {\n",
              "        background-color: #E8F0FE;\n",
              "        border: none;\n",
              "        border-radius: 50%;\n",
              "        cursor: pointer;\n",
              "        display: none;\n",
              "        fill: #1967D2;\n",
              "        height: 32px;\n",
              "        padding: 0 0 0 0;\n",
              "        width: 32px;\n",
              "      }\n",
              "\n",
              "      .colab-df-generate:hover {\n",
              "        background-color: #E2EBFA;\n",
              "        box-shadow: 0px 1px 2px rgba(60, 64, 67, 0.3), 0px 1px 3px 1px rgba(60, 64, 67, 0.15);\n",
              "        fill: #174EA6;\n",
              "      }\n",
              "\n",
              "      [theme=dark] .colab-df-generate {\n",
              "        background-color: #3B4455;\n",
              "        fill: #D2E3FC;\n",
              "      }\n",
              "\n",
              "      [theme=dark] .colab-df-generate:hover {\n",
              "        background-color: #434B5C;\n",
              "        box-shadow: 0px 1px 3px 1px rgba(0, 0, 0, 0.15);\n",
              "        filter: drop-shadow(0px 1px 2px rgba(0, 0, 0, 0.3));\n",
              "        fill: #FFFFFF;\n",
              "      }\n",
              "    </style>\n",
              "    <button class=\"colab-df-generate\" onclick=\"generateWithVariable('data')\"\n",
              "            title=\"Generate code using this dataframe.\"\n",
              "            style=\"display:none;\">\n",
              "\n",
              "  <svg xmlns=\"http://www.w3.org/2000/svg\" height=\"24px\"viewBox=\"0 0 24 24\"\n",
              "       width=\"24px\">\n",
              "    <path d=\"M7,19H8.4L18.45,9,17,7.55,7,17.6ZM5,21V16.75L18.45,3.32a2,2,0,0,1,2.83,0l1.4,1.43a1.91,1.91,0,0,1,.58,1.4,1.91,1.91,0,0,1-.58,1.4L9.25,21ZM18.45,9,17,7.55Zm-12,3A5.31,5.31,0,0,0,4.9,8.1,5.31,5.31,0,0,0,1,6.5,5.31,5.31,0,0,0,4.9,4.9,5.31,5.31,0,0,0,6.5,1,5.31,5.31,0,0,0,8.1,4.9,5.31,5.31,0,0,0,12,6.5,5.46,5.46,0,0,0,6.5,12Z\"/>\n",
              "  </svg>\n",
              "    </button>\n",
              "    <script>\n",
              "      (() => {\n",
              "      const buttonEl =\n",
              "        document.querySelector('#id_a190a179-75ed-4da8-8add-00fe45fcff1e button.colab-df-generate');\n",
              "      buttonEl.style.display =\n",
              "        google.colab.kernel.accessAllowed ? 'block' : 'none';\n",
              "\n",
              "      buttonEl.onclick = () => {\n",
              "        google.colab.notebook.generateWithVariable('data');\n",
              "      }\n",
              "      })();\n",
              "    </script>\n",
              "  </div>\n",
              "\n",
              "    </div>\n",
              "  </div>\n"
            ],
            "application/vnd.google.colaboratory.intrinsic+json": {
              "type": "dataframe",
              "variable_name": "data",
              "summary": "{\n  \"name\": \"data\",\n  \"rows\": 10000,\n  \"fields\": [\n    {\n      \"column\": \"RowNumber\",\n      \"properties\": {\n        \"dtype\": \"number\",\n        \"std\": 2886,\n        \"min\": 1,\n        \"max\": 10000,\n        \"num_unique_values\": 10000,\n        \"samples\": [\n          6253,\n          4685,\n          1732\n        ],\n        \"semantic_type\": \"\",\n        \"description\": \"\"\n      }\n    },\n    {\n      \"column\": \"CustomerId\",\n      \"properties\": {\n        \"dtype\": \"number\",\n        \"std\": 71936,\n        \"min\": 15565701,\n        \"max\": 15815690,\n        \"num_unique_values\": 10000,\n        \"samples\": [\n          15687492,\n          15736963,\n          15721730\n        ],\n        \"semantic_type\": \"\",\n        \"description\": \"\"\n      }\n    },\n    {\n      \"column\": \"Surname\",\n      \"properties\": {\n        \"dtype\": \"category\",\n        \"num_unique_values\": 2932,\n        \"samples\": [\n          \"McGuirk\",\n          \"Torkelson\",\n          \"Rapuluchukwu\"\n        ],\n        \"semantic_type\": \"\",\n        \"description\": \"\"\n      }\n    },\n    {\n      \"column\": \"CreditScore\",\n      \"properties\": {\n        \"dtype\": \"number\",\n        \"std\": 96,\n        \"min\": 350,\n        \"max\": 850,\n        \"num_unique_values\": 460,\n        \"samples\": [\n          754,\n          533,\n          744\n        ],\n        \"semantic_type\": \"\",\n        \"description\": \"\"\n      }\n    },\n    {\n      \"column\": \"Geography\",\n      \"properties\": {\n        \"dtype\": \"category\",\n        \"num_unique_values\": 3,\n        \"samples\": [\n          \"France\",\n          \"Spain\",\n          \"Germany\"\n        ],\n        \"semantic_type\": \"\",\n        \"description\": \"\"\n      }\n    },\n    {\n      \"column\": \"Gender\",\n      \"properties\": {\n        \"dtype\": \"category\",\n        \"num_unique_values\": 2,\n        \"samples\": [\n          \"Male\",\n          \"Female\"\n        ],\n        \"semantic_type\": \"\",\n        \"description\": \"\"\n      }\n    },\n    {\n      \"column\": \"Age\",\n      \"properties\": {\n        \"dtype\": \"number\",\n        \"std\": 10,\n        \"min\": 18,\n        \"max\": 92,\n        \"num_unique_values\": 70,\n        \"samples\": [\n          61,\n          42\n        ],\n        \"semantic_type\": \"\",\n        \"description\": \"\"\n      }\n    },\n    {\n      \"column\": \"Tenure\",\n      \"properties\": {\n        \"dtype\": \"number\",\n        \"std\": 2.894723234821264,\n        \"min\": 0.0,\n        \"max\": 10.0,\n        \"num_unique_values\": 11,\n        \"samples\": [\n          6.0,\n          2.0\n        ],\n        \"semantic_type\": \"\",\n        \"description\": \"\"\n      }\n    },\n    {\n      \"column\": \"Balance\",\n      \"properties\": {\n        \"dtype\": \"number\",\n        \"std\": 62397.40520238623,\n        \"min\": 0.0,\n        \"max\": 250898.09,\n        \"num_unique_values\": 6382,\n        \"samples\": [\n          117707.18,\n          133050.97\n        ],\n        \"semantic_type\": \"\",\n        \"description\": \"\"\n      }\n    },\n    {\n      \"column\": \"NumOfProducts\",\n      \"properties\": {\n        \"dtype\": \"number\",\n        \"std\": 0,\n        \"min\": 1,\n        \"max\": 4,\n        \"num_unique_values\": 4,\n        \"samples\": [\n          3,\n          4\n        ],\n        \"semantic_type\": \"\",\n        \"description\": \"\"\n      }\n    },\n    {\n      \"column\": \"HasCrCard\",\n      \"properties\": {\n        \"dtype\": \"number\",\n        \"std\": 0,\n        \"min\": 0,\n        \"max\": 1,\n        \"num_unique_values\": 2,\n        \"samples\": [\n          0,\n          1\n        ],\n        \"semantic_type\": \"\",\n        \"description\": \"\"\n      }\n    },\n    {\n      \"column\": \"IsActiveMember\",\n      \"properties\": {\n        \"dtype\": \"number\",\n        \"std\": 0,\n        \"min\": 0,\n        \"max\": 1,\n        \"num_unique_values\": 2,\n        \"samples\": [\n          0,\n          1\n        ],\n        \"semantic_type\": \"\",\n        \"description\": \"\"\n      }\n    },\n    {\n      \"column\": \"EstimatedSalary\",\n      \"properties\": {\n        \"dtype\": \"number\",\n        \"std\": 57510.49281769822,\n        \"min\": 11.58,\n        \"max\": 199992.48,\n        \"num_unique_values\": 9999,\n        \"samples\": [\n          100809.99,\n          95273.73\n        ],\n        \"semantic_type\": \"\",\n        \"description\": \"\"\n      }\n    },\n    {\n      \"column\": \"Exited\",\n      \"properties\": {\n        \"dtype\": \"number\",\n        \"std\": 0,\n        \"min\": 0,\n        \"max\": 1,\n        \"num_unique_values\": 2,\n        \"samples\": [\n          0,\n          1\n        ],\n        \"semantic_type\": \"\",\n        \"description\": \"\"\n      }\n    }\n  ]\n}"
            }
          },
          "metadata": {},
          "execution_count": 8
        }
      ],
      "source": [
        "# Импортируем данные\n",
        "data = pd.read_csv('/content/Churn.csv')\n",
        "data"
      ]
    },
    {
      "cell_type": "code",
      "execution_count": 9,
      "metadata": {
        "colab": {
          "base_uri": "https://localhost:8080/"
        },
        "id": "iyQOyWwVLbSm",
        "outputId": "afc51a7b-ea7e-4cc1-83fd-7d3850c26510"
      },
      "outputs": [
        {
          "output_type": "stream",
          "name": "stdout",
          "text": [
            "<class 'pandas.core.frame.DataFrame'>\n",
            "RangeIndex: 10000 entries, 0 to 9999\n",
            "Data columns (total 14 columns):\n",
            " #   Column           Non-Null Count  Dtype  \n",
            "---  ------           --------------  -----  \n",
            " 0   RowNumber        10000 non-null  int64  \n",
            " 1   CustomerId       10000 non-null  int64  \n",
            " 2   Surname          10000 non-null  object \n",
            " 3   CreditScore      10000 non-null  int64  \n",
            " 4   Geography        10000 non-null  object \n",
            " 5   Gender           10000 non-null  object \n",
            " 6   Age              10000 non-null  int64  \n",
            " 7   Tenure           9091 non-null   float64\n",
            " 8   Balance          10000 non-null  float64\n",
            " 9   NumOfProducts    10000 non-null  int64  \n",
            " 10  HasCrCard        10000 non-null  int64  \n",
            " 11  IsActiveMember   10000 non-null  int64  \n",
            " 12  EstimatedSalary  10000 non-null  float64\n",
            " 13  Exited           10000 non-null  int64  \n",
            "dtypes: float64(3), int64(8), object(3)\n",
            "memory usage: 1.1+ MB\n"
          ]
        }
      ],
      "source": [
        "# Посмотрим информацию по данным\n",
        "data.info()"
      ]
    },
    {
      "cell_type": "markdown",
      "metadata": {
        "id": "YeB4eQXKLbSn"
      },
      "source": [
        "### Предобработка данных"
      ]
    },
    {
      "cell_type": "markdown",
      "metadata": {
        "id": "uKbdX3XmLbSn"
      },
      "source": [
        "Приведем названия столбцов к нижнему регистру"
      ]
    },
    {
      "cell_type": "code",
      "execution_count": 10,
      "metadata": {
        "colab": {
          "base_uri": "https://localhost:8080/",
          "height": 206
        },
        "id": "vCrgLyRALbSn",
        "outputId": "672f6024-260d-4ea7-b157-3c7b3a53893f",
        "scrolled": true
      },
      "outputs": [
        {
          "output_type": "execute_result",
          "data": {
            "text/plain": [
              "   rownumber  customerid   surname  creditscore geography  gender  age  \\\n",
              "0          1    15634602  Hargrave          619    France  Female   42   \n",
              "1          2    15647311      Hill          608     Spain  Female   41   \n",
              "2          3    15619304      Onio          502    France  Female   42   \n",
              "3          4    15701354      Boni          699    France  Female   39   \n",
              "4          5    15737888  Mitchell          850     Spain  Female   43   \n",
              "\n",
              "   tenure    balance  numofproducts  hascrcard  isactivemember  \\\n",
              "0     2.0       0.00              1          1               1   \n",
              "1     1.0   83807.86              1          0               1   \n",
              "2     8.0  159660.80              3          1               0   \n",
              "3     1.0       0.00              2          0               0   \n",
              "4     2.0  125510.82              1          1               1   \n",
              "\n",
              "   estimatedsalary  exited  \n",
              "0        101348.88       1  \n",
              "1        112542.58       0  \n",
              "2        113931.57       1  \n",
              "3         93826.63       0  \n",
              "4         79084.10       0  "
            ],
            "text/html": [
              "\n",
              "  <div id=\"df-bd098645-eca6-4fa0-8801-b7c656b3bf9e\" class=\"colab-df-container\">\n",
              "    <div>\n",
              "<style scoped>\n",
              "    .dataframe tbody tr th:only-of-type {\n",
              "        vertical-align: middle;\n",
              "    }\n",
              "\n",
              "    .dataframe tbody tr th {\n",
              "        vertical-align: top;\n",
              "    }\n",
              "\n",
              "    .dataframe thead th {\n",
              "        text-align: right;\n",
              "    }\n",
              "</style>\n",
              "<table border=\"1\" class=\"dataframe\">\n",
              "  <thead>\n",
              "    <tr style=\"text-align: right;\">\n",
              "      <th></th>\n",
              "      <th>rownumber</th>\n",
              "      <th>customerid</th>\n",
              "      <th>surname</th>\n",
              "      <th>creditscore</th>\n",
              "      <th>geography</th>\n",
              "      <th>gender</th>\n",
              "      <th>age</th>\n",
              "      <th>tenure</th>\n",
              "      <th>balance</th>\n",
              "      <th>numofproducts</th>\n",
              "      <th>hascrcard</th>\n",
              "      <th>isactivemember</th>\n",
              "      <th>estimatedsalary</th>\n",
              "      <th>exited</th>\n",
              "    </tr>\n",
              "  </thead>\n",
              "  <tbody>\n",
              "    <tr>\n",
              "      <th>0</th>\n",
              "      <td>1</td>\n",
              "      <td>15634602</td>\n",
              "      <td>Hargrave</td>\n",
              "      <td>619</td>\n",
              "      <td>France</td>\n",
              "      <td>Female</td>\n",
              "      <td>42</td>\n",
              "      <td>2.0</td>\n",
              "      <td>0.00</td>\n",
              "      <td>1</td>\n",
              "      <td>1</td>\n",
              "      <td>1</td>\n",
              "      <td>101348.88</td>\n",
              "      <td>1</td>\n",
              "    </tr>\n",
              "    <tr>\n",
              "      <th>1</th>\n",
              "      <td>2</td>\n",
              "      <td>15647311</td>\n",
              "      <td>Hill</td>\n",
              "      <td>608</td>\n",
              "      <td>Spain</td>\n",
              "      <td>Female</td>\n",
              "      <td>41</td>\n",
              "      <td>1.0</td>\n",
              "      <td>83807.86</td>\n",
              "      <td>1</td>\n",
              "      <td>0</td>\n",
              "      <td>1</td>\n",
              "      <td>112542.58</td>\n",
              "      <td>0</td>\n",
              "    </tr>\n",
              "    <tr>\n",
              "      <th>2</th>\n",
              "      <td>3</td>\n",
              "      <td>15619304</td>\n",
              "      <td>Onio</td>\n",
              "      <td>502</td>\n",
              "      <td>France</td>\n",
              "      <td>Female</td>\n",
              "      <td>42</td>\n",
              "      <td>8.0</td>\n",
              "      <td>159660.80</td>\n",
              "      <td>3</td>\n",
              "      <td>1</td>\n",
              "      <td>0</td>\n",
              "      <td>113931.57</td>\n",
              "      <td>1</td>\n",
              "    </tr>\n",
              "    <tr>\n",
              "      <th>3</th>\n",
              "      <td>4</td>\n",
              "      <td>15701354</td>\n",
              "      <td>Boni</td>\n",
              "      <td>699</td>\n",
              "      <td>France</td>\n",
              "      <td>Female</td>\n",
              "      <td>39</td>\n",
              "      <td>1.0</td>\n",
              "      <td>0.00</td>\n",
              "      <td>2</td>\n",
              "      <td>0</td>\n",
              "      <td>0</td>\n",
              "      <td>93826.63</td>\n",
              "      <td>0</td>\n",
              "    </tr>\n",
              "    <tr>\n",
              "      <th>4</th>\n",
              "      <td>5</td>\n",
              "      <td>15737888</td>\n",
              "      <td>Mitchell</td>\n",
              "      <td>850</td>\n",
              "      <td>Spain</td>\n",
              "      <td>Female</td>\n",
              "      <td>43</td>\n",
              "      <td>2.0</td>\n",
              "      <td>125510.82</td>\n",
              "      <td>1</td>\n",
              "      <td>1</td>\n",
              "      <td>1</td>\n",
              "      <td>79084.10</td>\n",
              "      <td>0</td>\n",
              "    </tr>\n",
              "  </tbody>\n",
              "</table>\n",
              "</div>\n",
              "    <div class=\"colab-df-buttons\">\n",
              "\n",
              "  <div class=\"colab-df-container\">\n",
              "    <button class=\"colab-df-convert\" onclick=\"convertToInteractive('df-bd098645-eca6-4fa0-8801-b7c656b3bf9e')\"\n",
              "            title=\"Convert this dataframe to an interactive table.\"\n",
              "            style=\"display:none;\">\n",
              "\n",
              "  <svg xmlns=\"http://www.w3.org/2000/svg\" height=\"24px\" viewBox=\"0 -960 960 960\">\n",
              "    <path d=\"M120-120v-720h720v720H120Zm60-500h600v-160H180v160Zm220 220h160v-160H400v160Zm0 220h160v-160H400v160ZM180-400h160v-160H180v160Zm440 0h160v-160H620v160ZM180-180h160v-160H180v160Zm440 0h160v-160H620v160Z\"/>\n",
              "  </svg>\n",
              "    </button>\n",
              "\n",
              "  <style>\n",
              "    .colab-df-container {\n",
              "      display:flex;\n",
              "      gap: 12px;\n",
              "    }\n",
              "\n",
              "    .colab-df-convert {\n",
              "      background-color: #E8F0FE;\n",
              "      border: none;\n",
              "      border-radius: 50%;\n",
              "      cursor: pointer;\n",
              "      display: none;\n",
              "      fill: #1967D2;\n",
              "      height: 32px;\n",
              "      padding: 0 0 0 0;\n",
              "      width: 32px;\n",
              "    }\n",
              "\n",
              "    .colab-df-convert:hover {\n",
              "      background-color: #E2EBFA;\n",
              "      box-shadow: 0px 1px 2px rgba(60, 64, 67, 0.3), 0px 1px 3px 1px rgba(60, 64, 67, 0.15);\n",
              "      fill: #174EA6;\n",
              "    }\n",
              "\n",
              "    .colab-df-buttons div {\n",
              "      margin-bottom: 4px;\n",
              "    }\n",
              "\n",
              "    [theme=dark] .colab-df-convert {\n",
              "      background-color: #3B4455;\n",
              "      fill: #D2E3FC;\n",
              "    }\n",
              "\n",
              "    [theme=dark] .colab-df-convert:hover {\n",
              "      background-color: #434B5C;\n",
              "      box-shadow: 0px 1px 3px 1px rgba(0, 0, 0, 0.15);\n",
              "      filter: drop-shadow(0px 1px 2px rgba(0, 0, 0, 0.3));\n",
              "      fill: #FFFFFF;\n",
              "    }\n",
              "  </style>\n",
              "\n",
              "    <script>\n",
              "      const buttonEl =\n",
              "        document.querySelector('#df-bd098645-eca6-4fa0-8801-b7c656b3bf9e button.colab-df-convert');\n",
              "      buttonEl.style.display =\n",
              "        google.colab.kernel.accessAllowed ? 'block' : 'none';\n",
              "\n",
              "      async function convertToInteractive(key) {\n",
              "        const element = document.querySelector('#df-bd098645-eca6-4fa0-8801-b7c656b3bf9e');\n",
              "        const dataTable =\n",
              "          await google.colab.kernel.invokeFunction('convertToInteractive',\n",
              "                                                    [key], {});\n",
              "        if (!dataTable) return;\n",
              "\n",
              "        const docLinkHtml = 'Like what you see? Visit the ' +\n",
              "          '<a target=\"_blank\" href=https://colab.research.google.com/notebooks/data_table.ipynb>data table notebook</a>'\n",
              "          + ' to learn more about interactive tables.';\n",
              "        element.innerHTML = '';\n",
              "        dataTable['output_type'] = 'display_data';\n",
              "        await google.colab.output.renderOutput(dataTable, element);\n",
              "        const docLink = document.createElement('div');\n",
              "        docLink.innerHTML = docLinkHtml;\n",
              "        element.appendChild(docLink);\n",
              "      }\n",
              "    </script>\n",
              "  </div>\n",
              "\n",
              "\n",
              "<div id=\"df-ca2350b1-59bb-450f-9962-123b25265568\">\n",
              "  <button class=\"colab-df-quickchart\" onclick=\"quickchart('df-ca2350b1-59bb-450f-9962-123b25265568')\"\n",
              "            title=\"Suggest charts\"\n",
              "            style=\"display:none;\">\n",
              "\n",
              "<svg xmlns=\"http://www.w3.org/2000/svg\" height=\"24px\"viewBox=\"0 0 24 24\"\n",
              "     width=\"24px\">\n",
              "    <g>\n",
              "        <path d=\"M19 3H5c-1.1 0-2 .9-2 2v14c0 1.1.9 2 2 2h14c1.1 0 2-.9 2-2V5c0-1.1-.9-2-2-2zM9 17H7v-7h2v7zm4 0h-2V7h2v10zm4 0h-2v-4h2v4z\"/>\n",
              "    </g>\n",
              "</svg>\n",
              "  </button>\n",
              "\n",
              "<style>\n",
              "  .colab-df-quickchart {\n",
              "      --bg-color: #E8F0FE;\n",
              "      --fill-color: #1967D2;\n",
              "      --hover-bg-color: #E2EBFA;\n",
              "      --hover-fill-color: #174EA6;\n",
              "      --disabled-fill-color: #AAA;\n",
              "      --disabled-bg-color: #DDD;\n",
              "  }\n",
              "\n",
              "  [theme=dark] .colab-df-quickchart {\n",
              "      --bg-color: #3B4455;\n",
              "      --fill-color: #D2E3FC;\n",
              "      --hover-bg-color: #434B5C;\n",
              "      --hover-fill-color: #FFFFFF;\n",
              "      --disabled-bg-color: #3B4455;\n",
              "      --disabled-fill-color: #666;\n",
              "  }\n",
              "\n",
              "  .colab-df-quickchart {\n",
              "    background-color: var(--bg-color);\n",
              "    border: none;\n",
              "    border-radius: 50%;\n",
              "    cursor: pointer;\n",
              "    display: none;\n",
              "    fill: var(--fill-color);\n",
              "    height: 32px;\n",
              "    padding: 0;\n",
              "    width: 32px;\n",
              "  }\n",
              "\n",
              "  .colab-df-quickchart:hover {\n",
              "    background-color: var(--hover-bg-color);\n",
              "    box-shadow: 0 1px 2px rgba(60, 64, 67, 0.3), 0 1px 3px 1px rgba(60, 64, 67, 0.15);\n",
              "    fill: var(--button-hover-fill-color);\n",
              "  }\n",
              "\n",
              "  .colab-df-quickchart-complete:disabled,\n",
              "  .colab-df-quickchart-complete:disabled:hover {\n",
              "    background-color: var(--disabled-bg-color);\n",
              "    fill: var(--disabled-fill-color);\n",
              "    box-shadow: none;\n",
              "  }\n",
              "\n",
              "  .colab-df-spinner {\n",
              "    border: 2px solid var(--fill-color);\n",
              "    border-color: transparent;\n",
              "    border-bottom-color: var(--fill-color);\n",
              "    animation:\n",
              "      spin 1s steps(1) infinite;\n",
              "  }\n",
              "\n",
              "  @keyframes spin {\n",
              "    0% {\n",
              "      border-color: transparent;\n",
              "      border-bottom-color: var(--fill-color);\n",
              "      border-left-color: var(--fill-color);\n",
              "    }\n",
              "    20% {\n",
              "      border-color: transparent;\n",
              "      border-left-color: var(--fill-color);\n",
              "      border-top-color: var(--fill-color);\n",
              "    }\n",
              "    30% {\n",
              "      border-color: transparent;\n",
              "      border-left-color: var(--fill-color);\n",
              "      border-top-color: var(--fill-color);\n",
              "      border-right-color: var(--fill-color);\n",
              "    }\n",
              "    40% {\n",
              "      border-color: transparent;\n",
              "      border-right-color: var(--fill-color);\n",
              "      border-top-color: var(--fill-color);\n",
              "    }\n",
              "    60% {\n",
              "      border-color: transparent;\n",
              "      border-right-color: var(--fill-color);\n",
              "    }\n",
              "    80% {\n",
              "      border-color: transparent;\n",
              "      border-right-color: var(--fill-color);\n",
              "      border-bottom-color: var(--fill-color);\n",
              "    }\n",
              "    90% {\n",
              "      border-color: transparent;\n",
              "      border-bottom-color: var(--fill-color);\n",
              "    }\n",
              "  }\n",
              "</style>\n",
              "\n",
              "  <script>\n",
              "    async function quickchart(key) {\n",
              "      const quickchartButtonEl =\n",
              "        document.querySelector('#' + key + ' button');\n",
              "      quickchartButtonEl.disabled = true;  // To prevent multiple clicks.\n",
              "      quickchartButtonEl.classList.add('colab-df-spinner');\n",
              "      try {\n",
              "        const charts = await google.colab.kernel.invokeFunction(\n",
              "            'suggestCharts', [key], {});\n",
              "      } catch (error) {\n",
              "        console.error('Error during call to suggestCharts:', error);\n",
              "      }\n",
              "      quickchartButtonEl.classList.remove('colab-df-spinner');\n",
              "      quickchartButtonEl.classList.add('colab-df-quickchart-complete');\n",
              "    }\n",
              "    (() => {\n",
              "      let quickchartButtonEl =\n",
              "        document.querySelector('#df-ca2350b1-59bb-450f-9962-123b25265568 button');\n",
              "      quickchartButtonEl.style.display =\n",
              "        google.colab.kernel.accessAllowed ? 'block' : 'none';\n",
              "    })();\n",
              "  </script>\n",
              "</div>\n",
              "\n",
              "    </div>\n",
              "  </div>\n"
            ],
            "application/vnd.google.colaboratory.intrinsic+json": {
              "type": "dataframe",
              "variable_name": "data",
              "summary": "{\n  \"name\": \"data\",\n  \"rows\": 10000,\n  \"fields\": [\n    {\n      \"column\": \"rownumber\",\n      \"properties\": {\n        \"dtype\": \"number\",\n        \"std\": 2886,\n        \"min\": 1,\n        \"max\": 10000,\n        \"num_unique_values\": 10000,\n        \"samples\": [\n          6253,\n          4685,\n          1732\n        ],\n        \"semantic_type\": \"\",\n        \"description\": \"\"\n      }\n    },\n    {\n      \"column\": \"customerid\",\n      \"properties\": {\n        \"dtype\": \"number\",\n        \"std\": 71936,\n        \"min\": 15565701,\n        \"max\": 15815690,\n        \"num_unique_values\": 10000,\n        \"samples\": [\n          15687492,\n          15736963,\n          15721730\n        ],\n        \"semantic_type\": \"\",\n        \"description\": \"\"\n      }\n    },\n    {\n      \"column\": \"surname\",\n      \"properties\": {\n        \"dtype\": \"category\",\n        \"num_unique_values\": 2932,\n        \"samples\": [\n          \"McGuirk\",\n          \"Torkelson\",\n          \"Rapuluchukwu\"\n        ],\n        \"semantic_type\": \"\",\n        \"description\": \"\"\n      }\n    },\n    {\n      \"column\": \"creditscore\",\n      \"properties\": {\n        \"dtype\": \"number\",\n        \"std\": 96,\n        \"min\": 350,\n        \"max\": 850,\n        \"num_unique_values\": 460,\n        \"samples\": [\n          754,\n          533,\n          744\n        ],\n        \"semantic_type\": \"\",\n        \"description\": \"\"\n      }\n    },\n    {\n      \"column\": \"geography\",\n      \"properties\": {\n        \"dtype\": \"category\",\n        \"num_unique_values\": 3,\n        \"samples\": [\n          \"France\",\n          \"Spain\",\n          \"Germany\"\n        ],\n        \"semantic_type\": \"\",\n        \"description\": \"\"\n      }\n    },\n    {\n      \"column\": \"gender\",\n      \"properties\": {\n        \"dtype\": \"category\",\n        \"num_unique_values\": 2,\n        \"samples\": [\n          \"Male\",\n          \"Female\"\n        ],\n        \"semantic_type\": \"\",\n        \"description\": \"\"\n      }\n    },\n    {\n      \"column\": \"age\",\n      \"properties\": {\n        \"dtype\": \"number\",\n        \"std\": 10,\n        \"min\": 18,\n        \"max\": 92,\n        \"num_unique_values\": 70,\n        \"samples\": [\n          61,\n          42\n        ],\n        \"semantic_type\": \"\",\n        \"description\": \"\"\n      }\n    },\n    {\n      \"column\": \"tenure\",\n      \"properties\": {\n        \"dtype\": \"number\",\n        \"std\": 2.894723234821264,\n        \"min\": 0.0,\n        \"max\": 10.0,\n        \"num_unique_values\": 11,\n        \"samples\": [\n          6.0,\n          2.0\n        ],\n        \"semantic_type\": \"\",\n        \"description\": \"\"\n      }\n    },\n    {\n      \"column\": \"balance\",\n      \"properties\": {\n        \"dtype\": \"number\",\n        \"std\": 62397.40520238623,\n        \"min\": 0.0,\n        \"max\": 250898.09,\n        \"num_unique_values\": 6382,\n        \"samples\": [\n          117707.18,\n          133050.97\n        ],\n        \"semantic_type\": \"\",\n        \"description\": \"\"\n      }\n    },\n    {\n      \"column\": \"numofproducts\",\n      \"properties\": {\n        \"dtype\": \"number\",\n        \"std\": 0,\n        \"min\": 1,\n        \"max\": 4,\n        \"num_unique_values\": 4,\n        \"samples\": [\n          3,\n          4\n        ],\n        \"semantic_type\": \"\",\n        \"description\": \"\"\n      }\n    },\n    {\n      \"column\": \"hascrcard\",\n      \"properties\": {\n        \"dtype\": \"number\",\n        \"std\": 0,\n        \"min\": 0,\n        \"max\": 1,\n        \"num_unique_values\": 2,\n        \"samples\": [\n          0,\n          1\n        ],\n        \"semantic_type\": \"\",\n        \"description\": \"\"\n      }\n    },\n    {\n      \"column\": \"isactivemember\",\n      \"properties\": {\n        \"dtype\": \"number\",\n        \"std\": 0,\n        \"min\": 0,\n        \"max\": 1,\n        \"num_unique_values\": 2,\n        \"samples\": [\n          0,\n          1\n        ],\n        \"semantic_type\": \"\",\n        \"description\": \"\"\n      }\n    },\n    {\n      \"column\": \"estimatedsalary\",\n      \"properties\": {\n        \"dtype\": \"number\",\n        \"std\": 57510.49281769822,\n        \"min\": 11.58,\n        \"max\": 199992.48,\n        \"num_unique_values\": 9999,\n        \"samples\": [\n          100809.99,\n          95273.73\n        ],\n        \"semantic_type\": \"\",\n        \"description\": \"\"\n      }\n    },\n    {\n      \"column\": \"exited\",\n      \"properties\": {\n        \"dtype\": \"number\",\n        \"std\": 0,\n        \"min\": 0,\n        \"max\": 1,\n        \"num_unique_values\": 2,\n        \"samples\": [\n          0,\n          1\n        ],\n        \"semantic_type\": \"\",\n        \"description\": \"\"\n      }\n    }\n  ]\n}"
            }
          },
          "metadata": {},
          "execution_count": 10
        }
      ],
      "source": [
        "data.columns = data.columns.str.lower()\n",
        "data.head()"
      ]
    },
    {
      "cell_type": "markdown",
      "metadata": {
        "id": "xUc75FfuLbSn"
      },
      "source": [
        "Имеются пропущенные значения в столбце **tenure**. Заменим их на нулевые значения"
      ]
    },
    {
      "cell_type": "code",
      "execution_count": 11,
      "metadata": {
        "id": "1GtkM7h9LbSn"
      },
      "outputs": [],
      "source": [
        "imputer = KNNImputer(n_neighbors=2)\n",
        "data['tenure'] = imputer.fit_transform(data[['tenure']])"
      ]
    },
    {
      "cell_type": "markdown",
      "metadata": {
        "id": "qIdcUKjoLbSo"
      },
      "source": [
        "Проверим количество полных дубликатов"
      ]
    },
    {
      "cell_type": "code",
      "execution_count": 12,
      "metadata": {
        "colab": {
          "base_uri": "https://localhost:8080/"
        },
        "id": "f6D451l0LbSo",
        "outputId": "0deaca0e-f94a-4496-e67a-db9787e7b9ac",
        "scrolled": true
      },
      "outputs": [
        {
          "output_type": "execute_result",
          "data": {
            "text/plain": [
              "0"
            ]
          },
          "metadata": {},
          "execution_count": 12
        }
      ],
      "source": [
        "data.duplicated().sum()"
      ]
    },
    {
      "cell_type": "markdown",
      "metadata": {
        "id": "hRsBY4_fLbSo"
      },
      "source": [
        "Проверим уникальные значения в столбцах **geography** и **gender**"
      ]
    },
    {
      "cell_type": "code",
      "execution_count": 13,
      "metadata": {
        "colab": {
          "base_uri": "https://localhost:8080/"
        },
        "id": "EwoqZgAnLbSo",
        "outputId": "55f8df2c-c6df-42dc-89f4-4ca179b82032"
      },
      "outputs": [
        {
          "output_type": "execute_result",
          "data": {
            "text/plain": [
              "array(['France', 'Spain', 'Germany'], dtype=object)"
            ]
          },
          "metadata": {},
          "execution_count": 13
        }
      ],
      "source": [
        "data['geography'].unique()"
      ]
    },
    {
      "cell_type": "code",
      "execution_count": 14,
      "metadata": {
        "colab": {
          "base_uri": "https://localhost:8080/"
        },
        "id": "L5oYFi_LLbSo",
        "outputId": "eb857c7f-6043-43fa-dcc3-4e8bbdcef27b"
      },
      "outputs": [
        {
          "output_type": "execute_result",
          "data": {
            "text/plain": [
              "array(['Female', 'Male'], dtype=object)"
            ]
          },
          "metadata": {},
          "execution_count": 14
        }
      ],
      "source": [
        "data['gender'].unique()"
      ]
    },
    {
      "cell_type": "markdown",
      "metadata": {
        "id": "TDEhTkUdLbSo"
      },
      "source": [
        "Со значениями в этих столбцах все в прорядке"
      ]
    },
    {
      "cell_type": "markdown",
      "metadata": {
        "id": "59RrLoQJLbSo"
      },
      "source": [
        "Значения в столбце **customerid** должны быть уникальными в каждой строчке. Проверим на наличие дубликатов по этому столбцу"
      ]
    },
    {
      "cell_type": "code",
      "execution_count": 15,
      "metadata": {
        "colab": {
          "base_uri": "https://localhost:8080/"
        },
        "id": "lCFJCIHDLbSo",
        "outputId": "d1209659-e7d9-4e7f-9163-f0f973da71aa"
      },
      "outputs": [
        {
          "output_type": "execute_result",
          "data": {
            "text/plain": [
              "0"
            ]
          },
          "metadata": {},
          "execution_count": 15
        }
      ],
      "source": [
        "data['customerid'].duplicated().sum()"
      ]
    },
    {
      "cell_type": "markdown",
      "metadata": {
        "id": "MU_X80VJLbSp"
      },
      "source": [
        "Дубликатов по данному столбцу не обнаружено, поэтому считаем, что каждая строчка - это уникальный пользователь"
      ]
    },
    {
      "cell_type": "markdown",
      "metadata": {
        "id": "-kwHF8oYLbSp"
      },
      "source": [
        "### Подготовка данных для машинного обучения"
      ]
    },
    {
      "cell_type": "markdown",
      "metadata": {
        "id": "8jYU8mOMLbSp"
      },
      "source": [
        "Проанализировав исходные данные, ясно, что часть данных не имеют ценности для машинного обучения и их можно удалить. Так столбец **rownumber** дублирует индексы датасета, **customerid** обозначает уникальный номер клиента, а столбец **surname** обозначает фамилию клиента. На прогнозирование целевого признака эти значения никак не влияют."
      ]
    },
    {
      "cell_type": "code",
      "execution_count": 16,
      "metadata": {
        "colab": {
          "base_uri": "https://localhost:8080/",
          "height": 206
        },
        "id": "9ww-SpvHLbSp",
        "outputId": "e9b4d46d-bc6f-471b-e5c1-0f45324734ed"
      },
      "outputs": [
        {
          "output_type": "execute_result",
          "data": {
            "text/plain": [
              "   creditscore geography  gender  age  tenure    balance  numofproducts  \\\n",
              "0          619    France  Female   42     2.0       0.00              1   \n",
              "1          608     Spain  Female   41     1.0   83807.86              1   \n",
              "2          502    France  Female   42     8.0  159660.80              3   \n",
              "3          699    France  Female   39     1.0       0.00              2   \n",
              "4          850     Spain  Female   43     2.0  125510.82              1   \n",
              "\n",
              "   hascrcard  isactivemember  estimatedsalary  exited  \n",
              "0          1               1        101348.88       1  \n",
              "1          0               1        112542.58       0  \n",
              "2          1               0        113931.57       1  \n",
              "3          0               0         93826.63       0  \n",
              "4          1               1         79084.10       0  "
            ],
            "text/html": [
              "\n",
              "  <div id=\"df-86ddce08-62d9-42f2-a4b5-1c36c9dbeac2\" class=\"colab-df-container\">\n",
              "    <div>\n",
              "<style scoped>\n",
              "    .dataframe tbody tr th:only-of-type {\n",
              "        vertical-align: middle;\n",
              "    }\n",
              "\n",
              "    .dataframe tbody tr th {\n",
              "        vertical-align: top;\n",
              "    }\n",
              "\n",
              "    .dataframe thead th {\n",
              "        text-align: right;\n",
              "    }\n",
              "</style>\n",
              "<table border=\"1\" class=\"dataframe\">\n",
              "  <thead>\n",
              "    <tr style=\"text-align: right;\">\n",
              "      <th></th>\n",
              "      <th>creditscore</th>\n",
              "      <th>geography</th>\n",
              "      <th>gender</th>\n",
              "      <th>age</th>\n",
              "      <th>tenure</th>\n",
              "      <th>balance</th>\n",
              "      <th>numofproducts</th>\n",
              "      <th>hascrcard</th>\n",
              "      <th>isactivemember</th>\n",
              "      <th>estimatedsalary</th>\n",
              "      <th>exited</th>\n",
              "    </tr>\n",
              "  </thead>\n",
              "  <tbody>\n",
              "    <tr>\n",
              "      <th>0</th>\n",
              "      <td>619</td>\n",
              "      <td>France</td>\n",
              "      <td>Female</td>\n",
              "      <td>42</td>\n",
              "      <td>2.0</td>\n",
              "      <td>0.00</td>\n",
              "      <td>1</td>\n",
              "      <td>1</td>\n",
              "      <td>1</td>\n",
              "      <td>101348.88</td>\n",
              "      <td>1</td>\n",
              "    </tr>\n",
              "    <tr>\n",
              "      <th>1</th>\n",
              "      <td>608</td>\n",
              "      <td>Spain</td>\n",
              "      <td>Female</td>\n",
              "      <td>41</td>\n",
              "      <td>1.0</td>\n",
              "      <td>83807.86</td>\n",
              "      <td>1</td>\n",
              "      <td>0</td>\n",
              "      <td>1</td>\n",
              "      <td>112542.58</td>\n",
              "      <td>0</td>\n",
              "    </tr>\n",
              "    <tr>\n",
              "      <th>2</th>\n",
              "      <td>502</td>\n",
              "      <td>France</td>\n",
              "      <td>Female</td>\n",
              "      <td>42</td>\n",
              "      <td>8.0</td>\n",
              "      <td>159660.80</td>\n",
              "      <td>3</td>\n",
              "      <td>1</td>\n",
              "      <td>0</td>\n",
              "      <td>113931.57</td>\n",
              "      <td>1</td>\n",
              "    </tr>\n",
              "    <tr>\n",
              "      <th>3</th>\n",
              "      <td>699</td>\n",
              "      <td>France</td>\n",
              "      <td>Female</td>\n",
              "      <td>39</td>\n",
              "      <td>1.0</td>\n",
              "      <td>0.00</td>\n",
              "      <td>2</td>\n",
              "      <td>0</td>\n",
              "      <td>0</td>\n",
              "      <td>93826.63</td>\n",
              "      <td>0</td>\n",
              "    </tr>\n",
              "    <tr>\n",
              "      <th>4</th>\n",
              "      <td>850</td>\n",
              "      <td>Spain</td>\n",
              "      <td>Female</td>\n",
              "      <td>43</td>\n",
              "      <td>2.0</td>\n",
              "      <td>125510.82</td>\n",
              "      <td>1</td>\n",
              "      <td>1</td>\n",
              "      <td>1</td>\n",
              "      <td>79084.10</td>\n",
              "      <td>0</td>\n",
              "    </tr>\n",
              "  </tbody>\n",
              "</table>\n",
              "</div>\n",
              "    <div class=\"colab-df-buttons\">\n",
              "\n",
              "  <div class=\"colab-df-container\">\n",
              "    <button class=\"colab-df-convert\" onclick=\"convertToInteractive('df-86ddce08-62d9-42f2-a4b5-1c36c9dbeac2')\"\n",
              "            title=\"Convert this dataframe to an interactive table.\"\n",
              "            style=\"display:none;\">\n",
              "\n",
              "  <svg xmlns=\"http://www.w3.org/2000/svg\" height=\"24px\" viewBox=\"0 -960 960 960\">\n",
              "    <path d=\"M120-120v-720h720v720H120Zm60-500h600v-160H180v160Zm220 220h160v-160H400v160Zm0 220h160v-160H400v160ZM180-400h160v-160H180v160Zm440 0h160v-160H620v160ZM180-180h160v-160H180v160Zm440 0h160v-160H620v160Z\"/>\n",
              "  </svg>\n",
              "    </button>\n",
              "\n",
              "  <style>\n",
              "    .colab-df-container {\n",
              "      display:flex;\n",
              "      gap: 12px;\n",
              "    }\n",
              "\n",
              "    .colab-df-convert {\n",
              "      background-color: #E8F0FE;\n",
              "      border: none;\n",
              "      border-radius: 50%;\n",
              "      cursor: pointer;\n",
              "      display: none;\n",
              "      fill: #1967D2;\n",
              "      height: 32px;\n",
              "      padding: 0 0 0 0;\n",
              "      width: 32px;\n",
              "    }\n",
              "\n",
              "    .colab-df-convert:hover {\n",
              "      background-color: #E2EBFA;\n",
              "      box-shadow: 0px 1px 2px rgba(60, 64, 67, 0.3), 0px 1px 3px 1px rgba(60, 64, 67, 0.15);\n",
              "      fill: #174EA6;\n",
              "    }\n",
              "\n",
              "    .colab-df-buttons div {\n",
              "      margin-bottom: 4px;\n",
              "    }\n",
              "\n",
              "    [theme=dark] .colab-df-convert {\n",
              "      background-color: #3B4455;\n",
              "      fill: #D2E3FC;\n",
              "    }\n",
              "\n",
              "    [theme=dark] .colab-df-convert:hover {\n",
              "      background-color: #434B5C;\n",
              "      box-shadow: 0px 1px 3px 1px rgba(0, 0, 0, 0.15);\n",
              "      filter: drop-shadow(0px 1px 2px rgba(0, 0, 0, 0.3));\n",
              "      fill: #FFFFFF;\n",
              "    }\n",
              "  </style>\n",
              "\n",
              "    <script>\n",
              "      const buttonEl =\n",
              "        document.querySelector('#df-86ddce08-62d9-42f2-a4b5-1c36c9dbeac2 button.colab-df-convert');\n",
              "      buttonEl.style.display =\n",
              "        google.colab.kernel.accessAllowed ? 'block' : 'none';\n",
              "\n",
              "      async function convertToInteractive(key) {\n",
              "        const element = document.querySelector('#df-86ddce08-62d9-42f2-a4b5-1c36c9dbeac2');\n",
              "        const dataTable =\n",
              "          await google.colab.kernel.invokeFunction('convertToInteractive',\n",
              "                                                    [key], {});\n",
              "        if (!dataTable) return;\n",
              "\n",
              "        const docLinkHtml = 'Like what you see? Visit the ' +\n",
              "          '<a target=\"_blank\" href=https://colab.research.google.com/notebooks/data_table.ipynb>data table notebook</a>'\n",
              "          + ' to learn more about interactive tables.';\n",
              "        element.innerHTML = '';\n",
              "        dataTable['output_type'] = 'display_data';\n",
              "        await google.colab.output.renderOutput(dataTable, element);\n",
              "        const docLink = document.createElement('div');\n",
              "        docLink.innerHTML = docLinkHtml;\n",
              "        element.appendChild(docLink);\n",
              "      }\n",
              "    </script>\n",
              "  </div>\n",
              "\n",
              "\n",
              "<div id=\"df-d782d7d8-b1d5-467c-9cb2-ea56b4a1d0f0\">\n",
              "  <button class=\"colab-df-quickchart\" onclick=\"quickchart('df-d782d7d8-b1d5-467c-9cb2-ea56b4a1d0f0')\"\n",
              "            title=\"Suggest charts\"\n",
              "            style=\"display:none;\">\n",
              "\n",
              "<svg xmlns=\"http://www.w3.org/2000/svg\" height=\"24px\"viewBox=\"0 0 24 24\"\n",
              "     width=\"24px\">\n",
              "    <g>\n",
              "        <path d=\"M19 3H5c-1.1 0-2 .9-2 2v14c0 1.1.9 2 2 2h14c1.1 0 2-.9 2-2V5c0-1.1-.9-2-2-2zM9 17H7v-7h2v7zm4 0h-2V7h2v10zm4 0h-2v-4h2v4z\"/>\n",
              "    </g>\n",
              "</svg>\n",
              "  </button>\n",
              "\n",
              "<style>\n",
              "  .colab-df-quickchart {\n",
              "      --bg-color: #E8F0FE;\n",
              "      --fill-color: #1967D2;\n",
              "      --hover-bg-color: #E2EBFA;\n",
              "      --hover-fill-color: #174EA6;\n",
              "      --disabled-fill-color: #AAA;\n",
              "      --disabled-bg-color: #DDD;\n",
              "  }\n",
              "\n",
              "  [theme=dark] .colab-df-quickchart {\n",
              "      --bg-color: #3B4455;\n",
              "      --fill-color: #D2E3FC;\n",
              "      --hover-bg-color: #434B5C;\n",
              "      --hover-fill-color: #FFFFFF;\n",
              "      --disabled-bg-color: #3B4455;\n",
              "      --disabled-fill-color: #666;\n",
              "  }\n",
              "\n",
              "  .colab-df-quickchart {\n",
              "    background-color: var(--bg-color);\n",
              "    border: none;\n",
              "    border-radius: 50%;\n",
              "    cursor: pointer;\n",
              "    display: none;\n",
              "    fill: var(--fill-color);\n",
              "    height: 32px;\n",
              "    padding: 0;\n",
              "    width: 32px;\n",
              "  }\n",
              "\n",
              "  .colab-df-quickchart:hover {\n",
              "    background-color: var(--hover-bg-color);\n",
              "    box-shadow: 0 1px 2px rgba(60, 64, 67, 0.3), 0 1px 3px 1px rgba(60, 64, 67, 0.15);\n",
              "    fill: var(--button-hover-fill-color);\n",
              "  }\n",
              "\n",
              "  .colab-df-quickchart-complete:disabled,\n",
              "  .colab-df-quickchart-complete:disabled:hover {\n",
              "    background-color: var(--disabled-bg-color);\n",
              "    fill: var(--disabled-fill-color);\n",
              "    box-shadow: none;\n",
              "  }\n",
              "\n",
              "  .colab-df-spinner {\n",
              "    border: 2px solid var(--fill-color);\n",
              "    border-color: transparent;\n",
              "    border-bottom-color: var(--fill-color);\n",
              "    animation:\n",
              "      spin 1s steps(1) infinite;\n",
              "  }\n",
              "\n",
              "  @keyframes spin {\n",
              "    0% {\n",
              "      border-color: transparent;\n",
              "      border-bottom-color: var(--fill-color);\n",
              "      border-left-color: var(--fill-color);\n",
              "    }\n",
              "    20% {\n",
              "      border-color: transparent;\n",
              "      border-left-color: var(--fill-color);\n",
              "      border-top-color: var(--fill-color);\n",
              "    }\n",
              "    30% {\n",
              "      border-color: transparent;\n",
              "      border-left-color: var(--fill-color);\n",
              "      border-top-color: var(--fill-color);\n",
              "      border-right-color: var(--fill-color);\n",
              "    }\n",
              "    40% {\n",
              "      border-color: transparent;\n",
              "      border-right-color: var(--fill-color);\n",
              "      border-top-color: var(--fill-color);\n",
              "    }\n",
              "    60% {\n",
              "      border-color: transparent;\n",
              "      border-right-color: var(--fill-color);\n",
              "    }\n",
              "    80% {\n",
              "      border-color: transparent;\n",
              "      border-right-color: var(--fill-color);\n",
              "      border-bottom-color: var(--fill-color);\n",
              "    }\n",
              "    90% {\n",
              "      border-color: transparent;\n",
              "      border-bottom-color: var(--fill-color);\n",
              "    }\n",
              "  }\n",
              "</style>\n",
              "\n",
              "  <script>\n",
              "    async function quickchart(key) {\n",
              "      const quickchartButtonEl =\n",
              "        document.querySelector('#' + key + ' button');\n",
              "      quickchartButtonEl.disabled = true;  // To prevent multiple clicks.\n",
              "      quickchartButtonEl.classList.add('colab-df-spinner');\n",
              "      try {\n",
              "        const charts = await google.colab.kernel.invokeFunction(\n",
              "            'suggestCharts', [key], {});\n",
              "      } catch (error) {\n",
              "        console.error('Error during call to suggestCharts:', error);\n",
              "      }\n",
              "      quickchartButtonEl.classList.remove('colab-df-spinner');\n",
              "      quickchartButtonEl.classList.add('colab-df-quickchart-complete');\n",
              "    }\n",
              "    (() => {\n",
              "      let quickchartButtonEl =\n",
              "        document.querySelector('#df-d782d7d8-b1d5-467c-9cb2-ea56b4a1d0f0 button');\n",
              "      quickchartButtonEl.style.display =\n",
              "        google.colab.kernel.accessAllowed ? 'block' : 'none';\n",
              "    })();\n",
              "  </script>\n",
              "</div>\n",
              "\n",
              "    </div>\n",
              "  </div>\n"
            ],
            "application/vnd.google.colaboratory.intrinsic+json": {
              "type": "dataframe",
              "variable_name": "data_ml",
              "summary": "{\n  \"name\": \"data_ml\",\n  \"rows\": 10000,\n  \"fields\": [\n    {\n      \"column\": \"creditscore\",\n      \"properties\": {\n        \"dtype\": \"number\",\n        \"std\": 96,\n        \"min\": 350,\n        \"max\": 850,\n        \"num_unique_values\": 460,\n        \"samples\": [\n          754,\n          533,\n          744\n        ],\n        \"semantic_type\": \"\",\n        \"description\": \"\"\n      }\n    },\n    {\n      \"column\": \"geography\",\n      \"properties\": {\n        \"dtype\": \"category\",\n        \"num_unique_values\": 3,\n        \"samples\": [\n          \"France\",\n          \"Spain\",\n          \"Germany\"\n        ],\n        \"semantic_type\": \"\",\n        \"description\": \"\"\n      }\n    },\n    {\n      \"column\": \"gender\",\n      \"properties\": {\n        \"dtype\": \"category\",\n        \"num_unique_values\": 2,\n        \"samples\": [\n          \"Male\",\n          \"Female\"\n        ],\n        \"semantic_type\": \"\",\n        \"description\": \"\"\n      }\n    },\n    {\n      \"column\": \"age\",\n      \"properties\": {\n        \"dtype\": \"number\",\n        \"std\": 10,\n        \"min\": 18,\n        \"max\": 92,\n        \"num_unique_values\": 70,\n        \"samples\": [\n          61,\n          42\n        ],\n        \"semantic_type\": \"\",\n        \"description\": \"\"\n      }\n    },\n    {\n      \"column\": \"tenure\",\n      \"properties\": {\n        \"dtype\": \"number\",\n        \"std\": 2.760010310622057,\n        \"min\": 0.0,\n        \"max\": 10.0,\n        \"num_unique_values\": 12,\n        \"samples\": [\n          0.0,\n          9.0\n        ],\n        \"semantic_type\": \"\",\n        \"description\": \"\"\n      }\n    },\n    {\n      \"column\": \"balance\",\n      \"properties\": {\n        \"dtype\": \"number\",\n        \"std\": 62397.40520238623,\n        \"min\": 0.0,\n        \"max\": 250898.09,\n        \"num_unique_values\": 6382,\n        \"samples\": [\n          117707.18,\n          133050.97\n        ],\n        \"semantic_type\": \"\",\n        \"description\": \"\"\n      }\n    },\n    {\n      \"column\": \"numofproducts\",\n      \"properties\": {\n        \"dtype\": \"number\",\n        \"std\": 0,\n        \"min\": 1,\n        \"max\": 4,\n        \"num_unique_values\": 4,\n        \"samples\": [\n          3,\n          4\n        ],\n        \"semantic_type\": \"\",\n        \"description\": \"\"\n      }\n    },\n    {\n      \"column\": \"hascrcard\",\n      \"properties\": {\n        \"dtype\": \"number\",\n        \"std\": 0,\n        \"min\": 0,\n        \"max\": 1,\n        \"num_unique_values\": 2,\n        \"samples\": [\n          0,\n          1\n        ],\n        \"semantic_type\": \"\",\n        \"description\": \"\"\n      }\n    },\n    {\n      \"column\": \"isactivemember\",\n      \"properties\": {\n        \"dtype\": \"number\",\n        \"std\": 0,\n        \"min\": 0,\n        \"max\": 1,\n        \"num_unique_values\": 2,\n        \"samples\": [\n          0,\n          1\n        ],\n        \"semantic_type\": \"\",\n        \"description\": \"\"\n      }\n    },\n    {\n      \"column\": \"estimatedsalary\",\n      \"properties\": {\n        \"dtype\": \"number\",\n        \"std\": 57510.49281769822,\n        \"min\": 11.58,\n        \"max\": 199992.48,\n        \"num_unique_values\": 9999,\n        \"samples\": [\n          100809.99,\n          95273.73\n        ],\n        \"semantic_type\": \"\",\n        \"description\": \"\"\n      }\n    },\n    {\n      \"column\": \"exited\",\n      \"properties\": {\n        \"dtype\": \"number\",\n        \"std\": 0,\n        \"min\": 0,\n        \"max\": 1,\n        \"num_unique_values\": 2,\n        \"samples\": [\n          0,\n          1\n        ],\n        \"semantic_type\": \"\",\n        \"description\": \"\"\n      }\n    }\n  ]\n}"
            }
          },
          "metadata": {},
          "execution_count": 16
        }
      ],
      "source": [
        "# создадим новый датасет на основании исходного, откуда удалим ненужные столбцы\n",
        "data_ml = data.drop(['rownumber','customerid', 'surname'], axis=1)\n",
        "data_ml.head()"
      ]
    },
    {
      "cell_type": "markdown",
      "metadata": {
        "id": "rvdWzdUKLbSp"
      },
      "source": [
        "В столбцах **geography** и **gender** имеются категориальные признаки, которые следует преобразовать в численные методом прямого кодирования (OHE)"
      ]
    },
    {
      "cell_type": "code",
      "execution_count": 17,
      "metadata": {
        "colab": {
          "base_uri": "https://localhost:8080/",
          "height": 206
        },
        "id": "J6B9IGUgLbSp",
        "outputId": "1cd02b6f-ec92-4680-aa51-152d4de0720b"
      },
      "outputs": [
        {
          "output_type": "execute_result",
          "data": {
            "text/plain": [
              "   creditscore  age  tenure    balance  numofproducts  hascrcard  \\\n",
              "0          619   42     2.0       0.00              1          1   \n",
              "1          608   41     1.0   83807.86              1          0   \n",
              "2          502   42     8.0  159660.80              3          1   \n",
              "3          699   39     1.0       0.00              2          0   \n",
              "4          850   43     2.0  125510.82              1          1   \n",
              "\n",
              "   isactivemember  estimatedsalary  exited  geography_Germany  \\\n",
              "0               1        101348.88       1              False   \n",
              "1               1        112542.58       0              False   \n",
              "2               0        113931.57       1              False   \n",
              "3               0         93826.63       0              False   \n",
              "4               1         79084.10       0              False   \n",
              "\n",
              "   geography_Spain  gender_Male  \n",
              "0            False        False  \n",
              "1             True        False  \n",
              "2            False        False  \n",
              "3            False        False  \n",
              "4             True        False  "
            ],
            "text/html": [
              "\n",
              "  <div id=\"df-8a30c6b4-6aba-4769-bb5e-e0bfa0f6ff90\" class=\"colab-df-container\">\n",
              "    <div>\n",
              "<style scoped>\n",
              "    .dataframe tbody tr th:only-of-type {\n",
              "        vertical-align: middle;\n",
              "    }\n",
              "\n",
              "    .dataframe tbody tr th {\n",
              "        vertical-align: top;\n",
              "    }\n",
              "\n",
              "    .dataframe thead th {\n",
              "        text-align: right;\n",
              "    }\n",
              "</style>\n",
              "<table border=\"1\" class=\"dataframe\">\n",
              "  <thead>\n",
              "    <tr style=\"text-align: right;\">\n",
              "      <th></th>\n",
              "      <th>creditscore</th>\n",
              "      <th>age</th>\n",
              "      <th>tenure</th>\n",
              "      <th>balance</th>\n",
              "      <th>numofproducts</th>\n",
              "      <th>hascrcard</th>\n",
              "      <th>isactivemember</th>\n",
              "      <th>estimatedsalary</th>\n",
              "      <th>exited</th>\n",
              "      <th>geography_Germany</th>\n",
              "      <th>geography_Spain</th>\n",
              "      <th>gender_Male</th>\n",
              "    </tr>\n",
              "  </thead>\n",
              "  <tbody>\n",
              "    <tr>\n",
              "      <th>0</th>\n",
              "      <td>619</td>\n",
              "      <td>42</td>\n",
              "      <td>2.0</td>\n",
              "      <td>0.00</td>\n",
              "      <td>1</td>\n",
              "      <td>1</td>\n",
              "      <td>1</td>\n",
              "      <td>101348.88</td>\n",
              "      <td>1</td>\n",
              "      <td>False</td>\n",
              "      <td>False</td>\n",
              "      <td>False</td>\n",
              "    </tr>\n",
              "    <tr>\n",
              "      <th>1</th>\n",
              "      <td>608</td>\n",
              "      <td>41</td>\n",
              "      <td>1.0</td>\n",
              "      <td>83807.86</td>\n",
              "      <td>1</td>\n",
              "      <td>0</td>\n",
              "      <td>1</td>\n",
              "      <td>112542.58</td>\n",
              "      <td>0</td>\n",
              "      <td>False</td>\n",
              "      <td>True</td>\n",
              "      <td>False</td>\n",
              "    </tr>\n",
              "    <tr>\n",
              "      <th>2</th>\n",
              "      <td>502</td>\n",
              "      <td>42</td>\n",
              "      <td>8.0</td>\n",
              "      <td>159660.80</td>\n",
              "      <td>3</td>\n",
              "      <td>1</td>\n",
              "      <td>0</td>\n",
              "      <td>113931.57</td>\n",
              "      <td>1</td>\n",
              "      <td>False</td>\n",
              "      <td>False</td>\n",
              "      <td>False</td>\n",
              "    </tr>\n",
              "    <tr>\n",
              "      <th>3</th>\n",
              "      <td>699</td>\n",
              "      <td>39</td>\n",
              "      <td>1.0</td>\n",
              "      <td>0.00</td>\n",
              "      <td>2</td>\n",
              "      <td>0</td>\n",
              "      <td>0</td>\n",
              "      <td>93826.63</td>\n",
              "      <td>0</td>\n",
              "      <td>False</td>\n",
              "      <td>False</td>\n",
              "      <td>False</td>\n",
              "    </tr>\n",
              "    <tr>\n",
              "      <th>4</th>\n",
              "      <td>850</td>\n",
              "      <td>43</td>\n",
              "      <td>2.0</td>\n",
              "      <td>125510.82</td>\n",
              "      <td>1</td>\n",
              "      <td>1</td>\n",
              "      <td>1</td>\n",
              "      <td>79084.10</td>\n",
              "      <td>0</td>\n",
              "      <td>False</td>\n",
              "      <td>True</td>\n",
              "      <td>False</td>\n",
              "    </tr>\n",
              "  </tbody>\n",
              "</table>\n",
              "</div>\n",
              "    <div class=\"colab-df-buttons\">\n",
              "\n",
              "  <div class=\"colab-df-container\">\n",
              "    <button class=\"colab-df-convert\" onclick=\"convertToInteractive('df-8a30c6b4-6aba-4769-bb5e-e0bfa0f6ff90')\"\n",
              "            title=\"Convert this dataframe to an interactive table.\"\n",
              "            style=\"display:none;\">\n",
              "\n",
              "  <svg xmlns=\"http://www.w3.org/2000/svg\" height=\"24px\" viewBox=\"0 -960 960 960\">\n",
              "    <path d=\"M120-120v-720h720v720H120Zm60-500h600v-160H180v160Zm220 220h160v-160H400v160Zm0 220h160v-160H400v160ZM180-400h160v-160H180v160Zm440 0h160v-160H620v160ZM180-180h160v-160H180v160Zm440 0h160v-160H620v160Z\"/>\n",
              "  </svg>\n",
              "    </button>\n",
              "\n",
              "  <style>\n",
              "    .colab-df-container {\n",
              "      display:flex;\n",
              "      gap: 12px;\n",
              "    }\n",
              "\n",
              "    .colab-df-convert {\n",
              "      background-color: #E8F0FE;\n",
              "      border: none;\n",
              "      border-radius: 50%;\n",
              "      cursor: pointer;\n",
              "      display: none;\n",
              "      fill: #1967D2;\n",
              "      height: 32px;\n",
              "      padding: 0 0 0 0;\n",
              "      width: 32px;\n",
              "    }\n",
              "\n",
              "    .colab-df-convert:hover {\n",
              "      background-color: #E2EBFA;\n",
              "      box-shadow: 0px 1px 2px rgba(60, 64, 67, 0.3), 0px 1px 3px 1px rgba(60, 64, 67, 0.15);\n",
              "      fill: #174EA6;\n",
              "    }\n",
              "\n",
              "    .colab-df-buttons div {\n",
              "      margin-bottom: 4px;\n",
              "    }\n",
              "\n",
              "    [theme=dark] .colab-df-convert {\n",
              "      background-color: #3B4455;\n",
              "      fill: #D2E3FC;\n",
              "    }\n",
              "\n",
              "    [theme=dark] .colab-df-convert:hover {\n",
              "      background-color: #434B5C;\n",
              "      box-shadow: 0px 1px 3px 1px rgba(0, 0, 0, 0.15);\n",
              "      filter: drop-shadow(0px 1px 2px rgba(0, 0, 0, 0.3));\n",
              "      fill: #FFFFFF;\n",
              "    }\n",
              "  </style>\n",
              "\n",
              "    <script>\n",
              "      const buttonEl =\n",
              "        document.querySelector('#df-8a30c6b4-6aba-4769-bb5e-e0bfa0f6ff90 button.colab-df-convert');\n",
              "      buttonEl.style.display =\n",
              "        google.colab.kernel.accessAllowed ? 'block' : 'none';\n",
              "\n",
              "      async function convertToInteractive(key) {\n",
              "        const element = document.querySelector('#df-8a30c6b4-6aba-4769-bb5e-e0bfa0f6ff90');\n",
              "        const dataTable =\n",
              "          await google.colab.kernel.invokeFunction('convertToInteractive',\n",
              "                                                    [key], {});\n",
              "        if (!dataTable) return;\n",
              "\n",
              "        const docLinkHtml = 'Like what you see? Visit the ' +\n",
              "          '<a target=\"_blank\" href=https://colab.research.google.com/notebooks/data_table.ipynb>data table notebook</a>'\n",
              "          + ' to learn more about interactive tables.';\n",
              "        element.innerHTML = '';\n",
              "        dataTable['output_type'] = 'display_data';\n",
              "        await google.colab.output.renderOutput(dataTable, element);\n",
              "        const docLink = document.createElement('div');\n",
              "        docLink.innerHTML = docLinkHtml;\n",
              "        element.appendChild(docLink);\n",
              "      }\n",
              "    </script>\n",
              "  </div>\n",
              "\n",
              "\n",
              "<div id=\"df-fe839f18-e215-4e15-a1e6-04acc53607d3\">\n",
              "  <button class=\"colab-df-quickchart\" onclick=\"quickchart('df-fe839f18-e215-4e15-a1e6-04acc53607d3')\"\n",
              "            title=\"Suggest charts\"\n",
              "            style=\"display:none;\">\n",
              "\n",
              "<svg xmlns=\"http://www.w3.org/2000/svg\" height=\"24px\"viewBox=\"0 0 24 24\"\n",
              "     width=\"24px\">\n",
              "    <g>\n",
              "        <path d=\"M19 3H5c-1.1 0-2 .9-2 2v14c0 1.1.9 2 2 2h14c1.1 0 2-.9 2-2V5c0-1.1-.9-2-2-2zM9 17H7v-7h2v7zm4 0h-2V7h2v10zm4 0h-2v-4h2v4z\"/>\n",
              "    </g>\n",
              "</svg>\n",
              "  </button>\n",
              "\n",
              "<style>\n",
              "  .colab-df-quickchart {\n",
              "      --bg-color: #E8F0FE;\n",
              "      --fill-color: #1967D2;\n",
              "      --hover-bg-color: #E2EBFA;\n",
              "      --hover-fill-color: #174EA6;\n",
              "      --disabled-fill-color: #AAA;\n",
              "      --disabled-bg-color: #DDD;\n",
              "  }\n",
              "\n",
              "  [theme=dark] .colab-df-quickchart {\n",
              "      --bg-color: #3B4455;\n",
              "      --fill-color: #D2E3FC;\n",
              "      --hover-bg-color: #434B5C;\n",
              "      --hover-fill-color: #FFFFFF;\n",
              "      --disabled-bg-color: #3B4455;\n",
              "      --disabled-fill-color: #666;\n",
              "  }\n",
              "\n",
              "  .colab-df-quickchart {\n",
              "    background-color: var(--bg-color);\n",
              "    border: none;\n",
              "    border-radius: 50%;\n",
              "    cursor: pointer;\n",
              "    display: none;\n",
              "    fill: var(--fill-color);\n",
              "    height: 32px;\n",
              "    padding: 0;\n",
              "    width: 32px;\n",
              "  }\n",
              "\n",
              "  .colab-df-quickchart:hover {\n",
              "    background-color: var(--hover-bg-color);\n",
              "    box-shadow: 0 1px 2px rgba(60, 64, 67, 0.3), 0 1px 3px 1px rgba(60, 64, 67, 0.15);\n",
              "    fill: var(--button-hover-fill-color);\n",
              "  }\n",
              "\n",
              "  .colab-df-quickchart-complete:disabled,\n",
              "  .colab-df-quickchart-complete:disabled:hover {\n",
              "    background-color: var(--disabled-bg-color);\n",
              "    fill: var(--disabled-fill-color);\n",
              "    box-shadow: none;\n",
              "  }\n",
              "\n",
              "  .colab-df-spinner {\n",
              "    border: 2px solid var(--fill-color);\n",
              "    border-color: transparent;\n",
              "    border-bottom-color: var(--fill-color);\n",
              "    animation:\n",
              "      spin 1s steps(1) infinite;\n",
              "  }\n",
              "\n",
              "  @keyframes spin {\n",
              "    0% {\n",
              "      border-color: transparent;\n",
              "      border-bottom-color: var(--fill-color);\n",
              "      border-left-color: var(--fill-color);\n",
              "    }\n",
              "    20% {\n",
              "      border-color: transparent;\n",
              "      border-left-color: var(--fill-color);\n",
              "      border-top-color: var(--fill-color);\n",
              "    }\n",
              "    30% {\n",
              "      border-color: transparent;\n",
              "      border-left-color: var(--fill-color);\n",
              "      border-top-color: var(--fill-color);\n",
              "      border-right-color: var(--fill-color);\n",
              "    }\n",
              "    40% {\n",
              "      border-color: transparent;\n",
              "      border-right-color: var(--fill-color);\n",
              "      border-top-color: var(--fill-color);\n",
              "    }\n",
              "    60% {\n",
              "      border-color: transparent;\n",
              "      border-right-color: var(--fill-color);\n",
              "    }\n",
              "    80% {\n",
              "      border-color: transparent;\n",
              "      border-right-color: var(--fill-color);\n",
              "      border-bottom-color: var(--fill-color);\n",
              "    }\n",
              "    90% {\n",
              "      border-color: transparent;\n",
              "      border-bottom-color: var(--fill-color);\n",
              "    }\n",
              "  }\n",
              "</style>\n",
              "\n",
              "  <script>\n",
              "    async function quickchart(key) {\n",
              "      const quickchartButtonEl =\n",
              "        document.querySelector('#' + key + ' button');\n",
              "      quickchartButtonEl.disabled = true;  // To prevent multiple clicks.\n",
              "      quickchartButtonEl.classList.add('colab-df-spinner');\n",
              "      try {\n",
              "        const charts = await google.colab.kernel.invokeFunction(\n",
              "            'suggestCharts', [key], {});\n",
              "      } catch (error) {\n",
              "        console.error('Error during call to suggestCharts:', error);\n",
              "      }\n",
              "      quickchartButtonEl.classList.remove('colab-df-spinner');\n",
              "      quickchartButtonEl.classList.add('colab-df-quickchart-complete');\n",
              "    }\n",
              "    (() => {\n",
              "      let quickchartButtonEl =\n",
              "        document.querySelector('#df-fe839f18-e215-4e15-a1e6-04acc53607d3 button');\n",
              "      quickchartButtonEl.style.display =\n",
              "        google.colab.kernel.accessAllowed ? 'block' : 'none';\n",
              "    })();\n",
              "  </script>\n",
              "</div>\n",
              "\n",
              "    </div>\n",
              "  </div>\n"
            ],
            "application/vnd.google.colaboratory.intrinsic+json": {
              "type": "dataframe",
              "variable_name": "data_ml",
              "summary": "{\n  \"name\": \"data_ml\",\n  \"rows\": 10000,\n  \"fields\": [\n    {\n      \"column\": \"creditscore\",\n      \"properties\": {\n        \"dtype\": \"number\",\n        \"std\": 96,\n        \"min\": 350,\n        \"max\": 850,\n        \"num_unique_values\": 460,\n        \"samples\": [\n          754,\n          533,\n          744\n        ],\n        \"semantic_type\": \"\",\n        \"description\": \"\"\n      }\n    },\n    {\n      \"column\": \"age\",\n      \"properties\": {\n        \"dtype\": \"number\",\n        \"std\": 10,\n        \"min\": 18,\n        \"max\": 92,\n        \"num_unique_values\": 70,\n        \"samples\": [\n          61,\n          42,\n          59\n        ],\n        \"semantic_type\": \"\",\n        \"description\": \"\"\n      }\n    },\n    {\n      \"column\": \"tenure\",\n      \"properties\": {\n        \"dtype\": \"number\",\n        \"std\": 2.760010310622057,\n        \"min\": 0.0,\n        \"max\": 10.0,\n        \"num_unique_values\": 12,\n        \"samples\": [\n          0.0,\n          9.0,\n          2.0\n        ],\n        \"semantic_type\": \"\",\n        \"description\": \"\"\n      }\n    },\n    {\n      \"column\": \"balance\",\n      \"properties\": {\n        \"dtype\": \"number\",\n        \"std\": 62397.40520238623,\n        \"min\": 0.0,\n        \"max\": 250898.09,\n        \"num_unique_values\": 6382,\n        \"samples\": [\n          117707.18,\n          133050.97,\n          124271.26\n        ],\n        \"semantic_type\": \"\",\n        \"description\": \"\"\n      }\n    },\n    {\n      \"column\": \"numofproducts\",\n      \"properties\": {\n        \"dtype\": \"number\",\n        \"std\": 0,\n        \"min\": 1,\n        \"max\": 4,\n        \"num_unique_values\": 4,\n        \"samples\": [\n          3,\n          4,\n          1\n        ],\n        \"semantic_type\": \"\",\n        \"description\": \"\"\n      }\n    },\n    {\n      \"column\": \"hascrcard\",\n      \"properties\": {\n        \"dtype\": \"number\",\n        \"std\": 0,\n        \"min\": 0,\n        \"max\": 1,\n        \"num_unique_values\": 2,\n        \"samples\": [\n          0,\n          1\n        ],\n        \"semantic_type\": \"\",\n        \"description\": \"\"\n      }\n    },\n    {\n      \"column\": \"isactivemember\",\n      \"properties\": {\n        \"dtype\": \"number\",\n        \"std\": 0,\n        \"min\": 0,\n        \"max\": 1,\n        \"num_unique_values\": 2,\n        \"samples\": [\n          0,\n          1\n        ],\n        \"semantic_type\": \"\",\n        \"description\": \"\"\n      }\n    },\n    {\n      \"column\": \"estimatedsalary\",\n      \"properties\": {\n        \"dtype\": \"number\",\n        \"std\": 57510.49281769822,\n        \"min\": 11.58,\n        \"max\": 199992.48,\n        \"num_unique_values\": 9999,\n        \"samples\": [\n          100809.99,\n          95273.73\n        ],\n        \"semantic_type\": \"\",\n        \"description\": \"\"\n      }\n    },\n    {\n      \"column\": \"exited\",\n      \"properties\": {\n        \"dtype\": \"number\",\n        \"std\": 0,\n        \"min\": 0,\n        \"max\": 1,\n        \"num_unique_values\": 2,\n        \"samples\": [\n          0,\n          1\n        ],\n        \"semantic_type\": \"\",\n        \"description\": \"\"\n      }\n    },\n    {\n      \"column\": \"geography_Germany\",\n      \"properties\": {\n        \"dtype\": \"boolean\",\n        \"num_unique_values\": 2,\n        \"samples\": [\n          true,\n          false\n        ],\n        \"semantic_type\": \"\",\n        \"description\": \"\"\n      }\n    },\n    {\n      \"column\": \"geography_Spain\",\n      \"properties\": {\n        \"dtype\": \"boolean\",\n        \"num_unique_values\": 2,\n        \"samples\": [\n          true,\n          false\n        ],\n        \"semantic_type\": \"\",\n        \"description\": \"\"\n      }\n    },\n    {\n      \"column\": \"gender_Male\",\n      \"properties\": {\n        \"dtype\": \"boolean\",\n        \"num_unique_values\": 2,\n        \"samples\": [\n          true,\n          false\n        ],\n        \"semantic_type\": \"\",\n        \"description\": \"\"\n      }\n    }\n  ]\n}"
            }
          },
          "metadata": {},
          "execution_count": 17
        }
      ],
      "source": [
        "data_ml = pd.get_dummies(data_ml, drop_first=True)\n",
        "data_ml.head()"
      ]
    },
    {
      "cell_type": "markdown",
      "metadata": {
        "id": "VNi--UXHLbSp"
      },
      "source": [
        "В изначальном датасете, в столбце **geography** было 3 значения (Spain, Germany, France). В столбце **gender** было два значения (Male и Female). В результате преобразования у нас получилось 2 столбца от **geography** и 1 столбец от **gender**. Такми образом мы не попали в **дамми-ловушку**."
      ]
    },
    {
      "cell_type": "markdown",
      "metadata": {
        "id": "D3G5ojaaLbSp"
      },
      "source": [
        "### Формирование выборок"
      ]
    },
    {
      "cell_type": "markdown",
      "metadata": {
        "id": "MPE9FSK9LbSp"
      },
      "source": [
        "Сформируем данные на три выборки:\n",
        "\n",
        "+ обучающая (60%) - для обучения модели;\n",
        "\n",
        "\n",
        "+ валидационная (20%) - для выбора наилучшего алгоритма;\n",
        "\n",
        "\n",
        "+ тестовая (20%) - для финального теста."
      ]
    },
    {
      "cell_type": "code",
      "execution_count": 18,
      "metadata": {
        "id": "CONVyfaYLbSp"
      },
      "outputs": [],
      "source": [
        "# Сначала объявим признаки\n",
        "\n",
        "features = data_ml.drop('exited', axis=1)\n",
        "target = data_ml['exited']"
      ]
    },
    {
      "cell_type": "code",
      "execution_count": 19,
      "metadata": {
        "id": "SvuDGjW2LbSp"
      },
      "outputs": [],
      "source": [
        "# Разобьем данные на три выборки: 60% тренировочную, 20% валидационную, 20% тестовую\n",
        "features_train, features_valid, target_train, target_valid = train_test_split(features, target, test_size=0.4, random_state=42, stratify=target)\n",
        "\n",
        "features_valid, features_test, target_valid, target_test = train_test_split(features_valid, target_valid, test_size=0.5, random_state=42, stratify=target_valid)"
      ]
    },
    {
      "cell_type": "code",
      "execution_count": 20,
      "metadata": {
        "colab": {
          "base_uri": "https://localhost:8080/"
        },
        "id": "yobuq6XxLbSq",
        "outputId": "4c39267e-ff9d-4760-ecc7-3d95b313cf6d"
      },
      "outputs": [
        {
          "output_type": "stream",
          "name": "stdout",
          "text": [
            "Тренировочные данные (6000, 11) (6000,)\n",
            "Валидационные данные (2000, 11) (2000,)\n",
            "Тестовые данные (2000, 11) (2000,)\n"
          ]
        }
      ],
      "source": [
        "# Проверим правильность формирования\n",
        "\n",
        "print('Тренировочные данные', features_train.shape, target_train.shape)\n",
        "print('Валидационные данные', features_valid.shape, target_valid.shape)\n",
        "print('Тестовые данные', features_test.shape, target_test.shape)"
      ]
    },
    {
      "cell_type": "markdown",
      "metadata": {
        "id": "eGDe0nqfLbSq"
      },
      "source": [
        "### Масштабирование выборок"
      ]
    },
    {
      "cell_type": "markdown",
      "metadata": {
        "id": "HLiksvvTLbSq"
      },
      "source": [
        "В столбцах **creditScore, age, tenure, balance, numofproducts, estimatedsalary** у нас имеются численные признаки. Масштабируем их методом стандартизации данных, чтобы алгоритм не решил, что какой-то из этих признаков важнее другого."
      ]
    },
    {
      "cell_type": "code",
      "execution_count": 21,
      "metadata": {
        "id": "B5xC8KMGLbSq"
      },
      "outputs": [],
      "source": [
        "# Для масштабирования зафиксируем численные признаки\n",
        "numeric = ['creditscore', 'age', 'tenure', 'balance', 'numofproducts', 'estimatedsalary']"
      ]
    },
    {
      "cell_type": "code",
      "execution_count": 22,
      "metadata": {
        "colab": {
          "base_uri": "https://localhost:8080/",
          "height": 74
        },
        "id": "UryLbyBBLbSq",
        "outputId": "add32d44-5be1-4109-b119-39595a658d61"
      },
      "outputs": [
        {
          "output_type": "execute_result",
          "data": {
            "text/plain": [
              "StandardScaler()"
            ],
            "text/html": [
              "<style>#sk-container-id-1 {color: black;}#sk-container-id-1 pre{padding: 0;}#sk-container-id-1 div.sk-toggleable {background-color: white;}#sk-container-id-1 label.sk-toggleable__label {cursor: pointer;display: block;width: 100%;margin-bottom: 0;padding: 0.3em;box-sizing: border-box;text-align: center;}#sk-container-id-1 label.sk-toggleable__label-arrow:before {content: \"▸\";float: left;margin-right: 0.25em;color: #696969;}#sk-container-id-1 label.sk-toggleable__label-arrow:hover:before {color: black;}#sk-container-id-1 div.sk-estimator:hover label.sk-toggleable__label-arrow:before {color: black;}#sk-container-id-1 div.sk-toggleable__content {max-height: 0;max-width: 0;overflow: hidden;text-align: left;background-color: #f0f8ff;}#sk-container-id-1 div.sk-toggleable__content pre {margin: 0.2em;color: black;border-radius: 0.25em;background-color: #f0f8ff;}#sk-container-id-1 input.sk-toggleable__control:checked~div.sk-toggleable__content {max-height: 200px;max-width: 100%;overflow: auto;}#sk-container-id-1 input.sk-toggleable__control:checked~label.sk-toggleable__label-arrow:before {content: \"▾\";}#sk-container-id-1 div.sk-estimator input.sk-toggleable__control:checked~label.sk-toggleable__label {background-color: #d4ebff;}#sk-container-id-1 div.sk-label input.sk-toggleable__control:checked~label.sk-toggleable__label {background-color: #d4ebff;}#sk-container-id-1 input.sk-hidden--visually {border: 0;clip: rect(1px 1px 1px 1px);clip: rect(1px, 1px, 1px, 1px);height: 1px;margin: -1px;overflow: hidden;padding: 0;position: absolute;width: 1px;}#sk-container-id-1 div.sk-estimator {font-family: monospace;background-color: #f0f8ff;border: 1px dotted black;border-radius: 0.25em;box-sizing: border-box;margin-bottom: 0.5em;}#sk-container-id-1 div.sk-estimator:hover {background-color: #d4ebff;}#sk-container-id-1 div.sk-parallel-item::after {content: \"\";width: 100%;border-bottom: 1px solid gray;flex-grow: 1;}#sk-container-id-1 div.sk-label:hover label.sk-toggleable__label {background-color: #d4ebff;}#sk-container-id-1 div.sk-serial::before {content: \"\";position: absolute;border-left: 1px solid gray;box-sizing: border-box;top: 0;bottom: 0;left: 50%;z-index: 0;}#sk-container-id-1 div.sk-serial {display: flex;flex-direction: column;align-items: center;background-color: white;padding-right: 0.2em;padding-left: 0.2em;position: relative;}#sk-container-id-1 div.sk-item {position: relative;z-index: 1;}#sk-container-id-1 div.sk-parallel {display: flex;align-items: stretch;justify-content: center;background-color: white;position: relative;}#sk-container-id-1 div.sk-item::before, #sk-container-id-1 div.sk-parallel-item::before {content: \"\";position: absolute;border-left: 1px solid gray;box-sizing: border-box;top: 0;bottom: 0;left: 50%;z-index: -1;}#sk-container-id-1 div.sk-parallel-item {display: flex;flex-direction: column;z-index: 1;position: relative;background-color: white;}#sk-container-id-1 div.sk-parallel-item:first-child::after {align-self: flex-end;width: 50%;}#sk-container-id-1 div.sk-parallel-item:last-child::after {align-self: flex-start;width: 50%;}#sk-container-id-1 div.sk-parallel-item:only-child::after {width: 0;}#sk-container-id-1 div.sk-dashed-wrapped {border: 1px dashed gray;margin: 0 0.4em 0.5em 0.4em;box-sizing: border-box;padding-bottom: 0.4em;background-color: white;}#sk-container-id-1 div.sk-label label {font-family: monospace;font-weight: bold;display: inline-block;line-height: 1.2em;}#sk-container-id-1 div.sk-label-container {text-align: center;}#sk-container-id-1 div.sk-container {/* jupyter's `normalize.less` sets `[hidden] { display: none; }` but bootstrap.min.css set `[hidden] { display: none !important; }` so we also need the `!important` here to be able to override the default hidden behavior on the sphinx rendered scikit-learn.org. See: https://github.com/scikit-learn/scikit-learn/issues/21755 */display: inline-block !important;position: relative;}#sk-container-id-1 div.sk-text-repr-fallback {display: none;}</style><div id=\"sk-container-id-1\" class=\"sk-top-container\"><div class=\"sk-text-repr-fallback\"><pre>StandardScaler()</pre><b>In a Jupyter environment, please rerun this cell to show the HTML representation or trust the notebook. <br />On GitHub, the HTML representation is unable to render, please try loading this page with nbviewer.org.</b></div><div class=\"sk-container\" hidden><div class=\"sk-item\"><div class=\"sk-estimator sk-toggleable\"><input class=\"sk-toggleable__control sk-hidden--visually\" id=\"sk-estimator-id-1\" type=\"checkbox\" checked><label for=\"sk-estimator-id-1\" class=\"sk-toggleable__label sk-toggleable__label-arrow\">StandardScaler</label><div class=\"sk-toggleable__content\"><pre>StandardScaler()</pre></div></div></div></div></div>"
            ]
          },
          "metadata": {},
          "execution_count": 22
        }
      ],
      "source": [
        "# Создадим объект этой структуры и настроим его на обучающих данных:\n",
        "scaler = StandardScaler()\n",
        "scaler.fit(features_train[numeric])"
      ]
    },
    {
      "cell_type": "code",
      "execution_count": 23,
      "metadata": {
        "colab": {
          "base_uri": "https://localhost:8080/",
          "height": 206
        },
        "id": "OlACg17yLbSq",
        "outputId": "b9318c4d-4688-463d-ae78-07cec16f4057"
      },
      "outputs": [
        {
          "output_type": "execute_result",
          "data": {
            "text/plain": [
              "      creditscore       age    tenure   balance  numofproducts  hascrcard  \\\n",
              "6851    -1.283897  0.008566  1.449713  0.330105       0.783996          1   \n",
              "7026     0.271537 -1.139895 -0.002334 -1.220584       0.783996          0   \n",
              "5705    -0.236571  0.104271 -0.001496  1.692794       0.783996          1   \n",
              "9058    -1.874962  0.869911 -0.002334  1.032566      -0.919109          1   \n",
              "9415     1.215167  0.391386 -1.089903  0.851257       0.783996          0   \n",
              "\n",
              "      isactivemember  estimatedsalary  geography_Germany  geography_Spain  \\\n",
              "6851               0        -0.084061               True            False   \n",
              "7026               1         0.264021              False            False   \n",
              "5705               1         0.515344               True            False   \n",
              "9058               1         0.303842              False             True   \n",
              "9415               0        -1.400817               True            False   \n",
              "\n",
              "      gender_Male  \n",
              "6851        False  \n",
              "7026        False  \n",
              "5705         True  \n",
              "9058        False  \n",
              "9415        False  "
            ],
            "text/html": [
              "\n",
              "  <div id=\"df-23250e55-9d32-4519-896f-41c4bfec8cfb\" class=\"colab-df-container\">\n",
              "    <div>\n",
              "<style scoped>\n",
              "    .dataframe tbody tr th:only-of-type {\n",
              "        vertical-align: middle;\n",
              "    }\n",
              "\n",
              "    .dataframe tbody tr th {\n",
              "        vertical-align: top;\n",
              "    }\n",
              "\n",
              "    .dataframe thead th {\n",
              "        text-align: right;\n",
              "    }\n",
              "</style>\n",
              "<table border=\"1\" class=\"dataframe\">\n",
              "  <thead>\n",
              "    <tr style=\"text-align: right;\">\n",
              "      <th></th>\n",
              "      <th>creditscore</th>\n",
              "      <th>age</th>\n",
              "      <th>tenure</th>\n",
              "      <th>balance</th>\n",
              "      <th>numofproducts</th>\n",
              "      <th>hascrcard</th>\n",
              "      <th>isactivemember</th>\n",
              "      <th>estimatedsalary</th>\n",
              "      <th>geography_Germany</th>\n",
              "      <th>geography_Spain</th>\n",
              "      <th>gender_Male</th>\n",
              "    </tr>\n",
              "  </thead>\n",
              "  <tbody>\n",
              "    <tr>\n",
              "      <th>6851</th>\n",
              "      <td>-1.283897</td>\n",
              "      <td>0.008566</td>\n",
              "      <td>1.449713</td>\n",
              "      <td>0.330105</td>\n",
              "      <td>0.783996</td>\n",
              "      <td>1</td>\n",
              "      <td>0</td>\n",
              "      <td>-0.084061</td>\n",
              "      <td>True</td>\n",
              "      <td>False</td>\n",
              "      <td>False</td>\n",
              "    </tr>\n",
              "    <tr>\n",
              "      <th>7026</th>\n",
              "      <td>0.271537</td>\n",
              "      <td>-1.139895</td>\n",
              "      <td>-0.002334</td>\n",
              "      <td>-1.220584</td>\n",
              "      <td>0.783996</td>\n",
              "      <td>0</td>\n",
              "      <td>1</td>\n",
              "      <td>0.264021</td>\n",
              "      <td>False</td>\n",
              "      <td>False</td>\n",
              "      <td>False</td>\n",
              "    </tr>\n",
              "    <tr>\n",
              "      <th>5705</th>\n",
              "      <td>-0.236571</td>\n",
              "      <td>0.104271</td>\n",
              "      <td>-0.001496</td>\n",
              "      <td>1.692794</td>\n",
              "      <td>0.783996</td>\n",
              "      <td>1</td>\n",
              "      <td>1</td>\n",
              "      <td>0.515344</td>\n",
              "      <td>True</td>\n",
              "      <td>False</td>\n",
              "      <td>True</td>\n",
              "    </tr>\n",
              "    <tr>\n",
              "      <th>9058</th>\n",
              "      <td>-1.874962</td>\n",
              "      <td>0.869911</td>\n",
              "      <td>-0.002334</td>\n",
              "      <td>1.032566</td>\n",
              "      <td>-0.919109</td>\n",
              "      <td>1</td>\n",
              "      <td>1</td>\n",
              "      <td>0.303842</td>\n",
              "      <td>False</td>\n",
              "      <td>True</td>\n",
              "      <td>False</td>\n",
              "    </tr>\n",
              "    <tr>\n",
              "      <th>9415</th>\n",
              "      <td>1.215167</td>\n",
              "      <td>0.391386</td>\n",
              "      <td>-1.089903</td>\n",
              "      <td>0.851257</td>\n",
              "      <td>0.783996</td>\n",
              "      <td>0</td>\n",
              "      <td>0</td>\n",
              "      <td>-1.400817</td>\n",
              "      <td>True</td>\n",
              "      <td>False</td>\n",
              "      <td>False</td>\n",
              "    </tr>\n",
              "  </tbody>\n",
              "</table>\n",
              "</div>\n",
              "    <div class=\"colab-df-buttons\">\n",
              "\n",
              "  <div class=\"colab-df-container\">\n",
              "    <button class=\"colab-df-convert\" onclick=\"convertToInteractive('df-23250e55-9d32-4519-896f-41c4bfec8cfb')\"\n",
              "            title=\"Convert this dataframe to an interactive table.\"\n",
              "            style=\"display:none;\">\n",
              "\n",
              "  <svg xmlns=\"http://www.w3.org/2000/svg\" height=\"24px\" viewBox=\"0 -960 960 960\">\n",
              "    <path d=\"M120-120v-720h720v720H120Zm60-500h600v-160H180v160Zm220 220h160v-160H400v160Zm0 220h160v-160H400v160ZM180-400h160v-160H180v160Zm440 0h160v-160H620v160ZM180-180h160v-160H180v160Zm440 0h160v-160H620v160Z\"/>\n",
              "  </svg>\n",
              "    </button>\n",
              "\n",
              "  <style>\n",
              "    .colab-df-container {\n",
              "      display:flex;\n",
              "      gap: 12px;\n",
              "    }\n",
              "\n",
              "    .colab-df-convert {\n",
              "      background-color: #E8F0FE;\n",
              "      border: none;\n",
              "      border-radius: 50%;\n",
              "      cursor: pointer;\n",
              "      display: none;\n",
              "      fill: #1967D2;\n",
              "      height: 32px;\n",
              "      padding: 0 0 0 0;\n",
              "      width: 32px;\n",
              "    }\n",
              "\n",
              "    .colab-df-convert:hover {\n",
              "      background-color: #E2EBFA;\n",
              "      box-shadow: 0px 1px 2px rgba(60, 64, 67, 0.3), 0px 1px 3px 1px rgba(60, 64, 67, 0.15);\n",
              "      fill: #174EA6;\n",
              "    }\n",
              "\n",
              "    .colab-df-buttons div {\n",
              "      margin-bottom: 4px;\n",
              "    }\n",
              "\n",
              "    [theme=dark] .colab-df-convert {\n",
              "      background-color: #3B4455;\n",
              "      fill: #D2E3FC;\n",
              "    }\n",
              "\n",
              "    [theme=dark] .colab-df-convert:hover {\n",
              "      background-color: #434B5C;\n",
              "      box-shadow: 0px 1px 3px 1px rgba(0, 0, 0, 0.15);\n",
              "      filter: drop-shadow(0px 1px 2px rgba(0, 0, 0, 0.3));\n",
              "      fill: #FFFFFF;\n",
              "    }\n",
              "  </style>\n",
              "\n",
              "    <script>\n",
              "      const buttonEl =\n",
              "        document.querySelector('#df-23250e55-9d32-4519-896f-41c4bfec8cfb button.colab-df-convert');\n",
              "      buttonEl.style.display =\n",
              "        google.colab.kernel.accessAllowed ? 'block' : 'none';\n",
              "\n",
              "      async function convertToInteractive(key) {\n",
              "        const element = document.querySelector('#df-23250e55-9d32-4519-896f-41c4bfec8cfb');\n",
              "        const dataTable =\n",
              "          await google.colab.kernel.invokeFunction('convertToInteractive',\n",
              "                                                    [key], {});\n",
              "        if (!dataTable) return;\n",
              "\n",
              "        const docLinkHtml = 'Like what you see? Visit the ' +\n",
              "          '<a target=\"_blank\" href=https://colab.research.google.com/notebooks/data_table.ipynb>data table notebook</a>'\n",
              "          + ' to learn more about interactive tables.';\n",
              "        element.innerHTML = '';\n",
              "        dataTable['output_type'] = 'display_data';\n",
              "        await google.colab.output.renderOutput(dataTable, element);\n",
              "        const docLink = document.createElement('div');\n",
              "        docLink.innerHTML = docLinkHtml;\n",
              "        element.appendChild(docLink);\n",
              "      }\n",
              "    </script>\n",
              "  </div>\n",
              "\n",
              "\n",
              "<div id=\"df-9e15f376-3bd7-46a0-b657-64ce252222c4\">\n",
              "  <button class=\"colab-df-quickchart\" onclick=\"quickchart('df-9e15f376-3bd7-46a0-b657-64ce252222c4')\"\n",
              "            title=\"Suggest charts\"\n",
              "            style=\"display:none;\">\n",
              "\n",
              "<svg xmlns=\"http://www.w3.org/2000/svg\" height=\"24px\"viewBox=\"0 0 24 24\"\n",
              "     width=\"24px\">\n",
              "    <g>\n",
              "        <path d=\"M19 3H5c-1.1 0-2 .9-2 2v14c0 1.1.9 2 2 2h14c1.1 0 2-.9 2-2V5c0-1.1-.9-2-2-2zM9 17H7v-7h2v7zm4 0h-2V7h2v10zm4 0h-2v-4h2v4z\"/>\n",
              "    </g>\n",
              "</svg>\n",
              "  </button>\n",
              "\n",
              "<style>\n",
              "  .colab-df-quickchart {\n",
              "      --bg-color: #E8F0FE;\n",
              "      --fill-color: #1967D2;\n",
              "      --hover-bg-color: #E2EBFA;\n",
              "      --hover-fill-color: #174EA6;\n",
              "      --disabled-fill-color: #AAA;\n",
              "      --disabled-bg-color: #DDD;\n",
              "  }\n",
              "\n",
              "  [theme=dark] .colab-df-quickchart {\n",
              "      --bg-color: #3B4455;\n",
              "      --fill-color: #D2E3FC;\n",
              "      --hover-bg-color: #434B5C;\n",
              "      --hover-fill-color: #FFFFFF;\n",
              "      --disabled-bg-color: #3B4455;\n",
              "      --disabled-fill-color: #666;\n",
              "  }\n",
              "\n",
              "  .colab-df-quickchart {\n",
              "    background-color: var(--bg-color);\n",
              "    border: none;\n",
              "    border-radius: 50%;\n",
              "    cursor: pointer;\n",
              "    display: none;\n",
              "    fill: var(--fill-color);\n",
              "    height: 32px;\n",
              "    padding: 0;\n",
              "    width: 32px;\n",
              "  }\n",
              "\n",
              "  .colab-df-quickchart:hover {\n",
              "    background-color: var(--hover-bg-color);\n",
              "    box-shadow: 0 1px 2px rgba(60, 64, 67, 0.3), 0 1px 3px 1px rgba(60, 64, 67, 0.15);\n",
              "    fill: var(--button-hover-fill-color);\n",
              "  }\n",
              "\n",
              "  .colab-df-quickchart-complete:disabled,\n",
              "  .colab-df-quickchart-complete:disabled:hover {\n",
              "    background-color: var(--disabled-bg-color);\n",
              "    fill: var(--disabled-fill-color);\n",
              "    box-shadow: none;\n",
              "  }\n",
              "\n",
              "  .colab-df-spinner {\n",
              "    border: 2px solid var(--fill-color);\n",
              "    border-color: transparent;\n",
              "    border-bottom-color: var(--fill-color);\n",
              "    animation:\n",
              "      spin 1s steps(1) infinite;\n",
              "  }\n",
              "\n",
              "  @keyframes spin {\n",
              "    0% {\n",
              "      border-color: transparent;\n",
              "      border-bottom-color: var(--fill-color);\n",
              "      border-left-color: var(--fill-color);\n",
              "    }\n",
              "    20% {\n",
              "      border-color: transparent;\n",
              "      border-left-color: var(--fill-color);\n",
              "      border-top-color: var(--fill-color);\n",
              "    }\n",
              "    30% {\n",
              "      border-color: transparent;\n",
              "      border-left-color: var(--fill-color);\n",
              "      border-top-color: var(--fill-color);\n",
              "      border-right-color: var(--fill-color);\n",
              "    }\n",
              "    40% {\n",
              "      border-color: transparent;\n",
              "      border-right-color: var(--fill-color);\n",
              "      border-top-color: var(--fill-color);\n",
              "    }\n",
              "    60% {\n",
              "      border-color: transparent;\n",
              "      border-right-color: var(--fill-color);\n",
              "    }\n",
              "    80% {\n",
              "      border-color: transparent;\n",
              "      border-right-color: var(--fill-color);\n",
              "      border-bottom-color: var(--fill-color);\n",
              "    }\n",
              "    90% {\n",
              "      border-color: transparent;\n",
              "      border-bottom-color: var(--fill-color);\n",
              "    }\n",
              "  }\n",
              "</style>\n",
              "\n",
              "  <script>\n",
              "    async function quickchart(key) {\n",
              "      const quickchartButtonEl =\n",
              "        document.querySelector('#' + key + ' button');\n",
              "      quickchartButtonEl.disabled = true;  // To prevent multiple clicks.\n",
              "      quickchartButtonEl.classList.add('colab-df-spinner');\n",
              "      try {\n",
              "        const charts = await google.colab.kernel.invokeFunction(\n",
              "            'suggestCharts', [key], {});\n",
              "      } catch (error) {\n",
              "        console.error('Error during call to suggestCharts:', error);\n",
              "      }\n",
              "      quickchartButtonEl.classList.remove('colab-df-spinner');\n",
              "      quickchartButtonEl.classList.add('colab-df-quickchart-complete');\n",
              "    }\n",
              "    (() => {\n",
              "      let quickchartButtonEl =\n",
              "        document.querySelector('#df-9e15f376-3bd7-46a0-b657-64ce252222c4 button');\n",
              "      quickchartButtonEl.style.display =\n",
              "        google.colab.kernel.accessAllowed ? 'block' : 'none';\n",
              "    })();\n",
              "  </script>\n",
              "</div>\n",
              "\n",
              "    </div>\n",
              "  </div>\n"
            ],
            "application/vnd.google.colaboratory.intrinsic+json": {
              "type": "dataframe",
              "variable_name": "features_train",
              "summary": "{\n  \"name\": \"features_train\",\n  \"rows\": 6000,\n  \"fields\": [\n    {\n      \"column\": \"creditscore\",\n      \"properties\": {\n        \"dtype\": \"number\",\n        \"std\": 1.0000833437514456,\n        \"min\": -3.119309331450106,\n        \"max\": 2.0654715156017374,\n        \"num_unique_values\": 448,\n        \"samples\": [\n          1.2359065800734423,\n          -1.2735273498996498,\n          -1.7090489410520047\n        ],\n        \"semantic_type\": \"\",\n        \"description\": \"\"\n      }\n    },\n    {\n      \"column\": \"age\",\n      \"properties\": {\n        \"dtype\": \"number\",\n        \"std\": 1.0000833437514436,\n        \"min\": -2.001240075527568,\n        \"max\": 5.080932306244271,\n        \"num_unique_values\": 66,\n        \"samples\": [\n          2.592601469405517,\n          3.741061855638788,\n          0.008565600380656579\n        ],\n        \"semantic_type\": \"\",\n        \"description\": \"\"\n      }\n    },\n    {\n      \"column\": \"tenure\",\n      \"properties\": {\n        \"dtype\": \"number\",\n        \"std\": 1.0000833437514358,\n        \"min\": -1.8155070311616146,\n        \"max\": 1.8125147147037315,\n        \"num_unique_values\": 12,\n        \"samples\": [\n          0.7241081909441277,\n          -1.8155070311616146,\n          1.449712540117197\n        ],\n        \"semantic_type\": \"\",\n        \"description\": \"\"\n      }\n    },\n    {\n      \"column\": \"balance\",\n      \"properties\": {\n        \"dtype\": \"number\",\n        \"std\": 1.0000833437514722,\n        \"min\": -1.2205841042771546,\n        \"max\": 2.3301384221696924,\n        \"num_unique_values\": 3818,\n        \"samples\": [\n          0.988456218450162,\n          -0.23847464874157417,\n          0.025479037978901848\n        ],\n        \"semantic_type\": \"\",\n        \"description\": \"\"\n      }\n    },\n    {\n      \"column\": \"numofproducts\",\n      \"properties\": {\n        \"dtype\": \"number\",\n        \"std\": 1.0000833437514074,\n        \"min\": -0.9191094427804861,\n        \"max\": 4.190208027895471,\n        \"num_unique_values\": 4,\n        \"samples\": [\n          -0.9191094427804861,\n          4.190208027895471,\n          0.7839963807781661\n        ],\n        \"semantic_type\": \"\",\n        \"description\": \"\"\n      }\n    },\n    {\n      \"column\": \"hascrcard\",\n      \"properties\": {\n        \"dtype\": \"number\",\n        \"std\": 0,\n        \"min\": 0,\n        \"max\": 1,\n        \"num_unique_values\": 2,\n        \"samples\": [\n          0,\n          1\n        ],\n        \"semantic_type\": \"\",\n        \"description\": \"\"\n      }\n    },\n    {\n      \"column\": \"isactivemember\",\n      \"properties\": {\n        \"dtype\": \"number\",\n        \"std\": 0,\n        \"min\": 0,\n        \"max\": 1,\n        \"num_unique_values\": 2,\n        \"samples\": [\n          1,\n          0\n        ],\n        \"semantic_type\": \"\",\n        \"description\": \"\"\n      }\n    },\n    {\n      \"column\": \"estimatedsalary\",\n      \"properties\": {\n        \"dtype\": \"number\",\n        \"std\": 1.0000833437514471,\n        \"min\": -1.7343321854360263,\n        \"max\": 1.7502221653572358,\n        \"num_unique_values\": 5999,\n        \"samples\": [\n          0.7642839678672794,\n          0.5274573520924555\n        ],\n        \"semantic_type\": \"\",\n        \"description\": \"\"\n      }\n    },\n    {\n      \"column\": \"geography_Germany\",\n      \"properties\": {\n        \"dtype\": \"boolean\",\n        \"num_unique_values\": 2,\n        \"samples\": [\n          false,\n          true\n        ],\n        \"semantic_type\": \"\",\n        \"description\": \"\"\n      }\n    },\n    {\n      \"column\": \"geography_Spain\",\n      \"properties\": {\n        \"dtype\": \"boolean\",\n        \"num_unique_values\": 2,\n        \"samples\": [\n          true,\n          false\n        ],\n        \"semantic_type\": \"\",\n        \"description\": \"\"\n      }\n    },\n    {\n      \"column\": \"gender_Male\",\n      \"properties\": {\n        \"dtype\": \"boolean\",\n        \"num_unique_values\": 2,\n        \"samples\": [\n          true,\n          false\n        ],\n        \"semantic_type\": \"\",\n        \"description\": \"\"\n      }\n    }\n  ]\n}"
            }
          },
          "metadata": {},
          "execution_count": 23
        }
      ],
      "source": [
        "# Масштабируем численные признаки обучающей выборки\n",
        "features_train[numeric] = scaler.transform(features_train[numeric])\n",
        "features_train.head()"
      ]
    },
    {
      "cell_type": "code",
      "execution_count": 24,
      "metadata": {
        "colab": {
          "base_uri": "https://localhost:8080/",
          "height": 206
        },
        "id": "bXe_idbVhAaJ",
        "outputId": "61df4233-ec53-4040-9c44-e0bb98f38208"
      },
      "outputs": [
        {
          "output_type": "execute_result",
          "data": {
            "text/plain": [
              "      creditscore       age    tenure   balance  numofproducts  hascrcard  \\\n",
              "8583    -0.620245 -0.087139 -1.089903  1.060025      -0.919109          0   \n",
              "1924     0.167842  0.487091  1.086910  0.739283      -0.919109          1   \n",
              "3195     0.478929 -0.948485 -1.815507  1.547344      -0.919109          0   \n",
              "5263     1.640319  0.199976 -1.452705  0.056946       0.783996          1   \n",
              "1484     2.065472 -0.948485 -1.452705 -1.220584       0.783996          1   \n",
              "\n",
              "      isactivemember  estimatedsalary  geography_Germany  geography_Spain  \\\n",
              "8583               1         0.350332              False            False   \n",
              "1924               1        -0.134610              False            False   \n",
              "3195               0         0.736502               True            False   \n",
              "5263               0         1.152573               True            False   \n",
              "1484               1         1.715821              False             True   \n",
              "\n",
              "      gender_Male  \n",
              "8583        False  \n",
              "1924         True  \n",
              "3195         True  \n",
              "5263         True  \n",
              "1484        False  "
            ],
            "text/html": [
              "\n",
              "  <div id=\"df-77735042-0b8a-4141-8473-b736d9c41022\" class=\"colab-df-container\">\n",
              "    <div>\n",
              "<style scoped>\n",
              "    .dataframe tbody tr th:only-of-type {\n",
              "        vertical-align: middle;\n",
              "    }\n",
              "\n",
              "    .dataframe tbody tr th {\n",
              "        vertical-align: top;\n",
              "    }\n",
              "\n",
              "    .dataframe thead th {\n",
              "        text-align: right;\n",
              "    }\n",
              "</style>\n",
              "<table border=\"1\" class=\"dataframe\">\n",
              "  <thead>\n",
              "    <tr style=\"text-align: right;\">\n",
              "      <th></th>\n",
              "      <th>creditscore</th>\n",
              "      <th>age</th>\n",
              "      <th>tenure</th>\n",
              "      <th>balance</th>\n",
              "      <th>numofproducts</th>\n",
              "      <th>hascrcard</th>\n",
              "      <th>isactivemember</th>\n",
              "      <th>estimatedsalary</th>\n",
              "      <th>geography_Germany</th>\n",
              "      <th>geography_Spain</th>\n",
              "      <th>gender_Male</th>\n",
              "    </tr>\n",
              "  </thead>\n",
              "  <tbody>\n",
              "    <tr>\n",
              "      <th>8583</th>\n",
              "      <td>-0.620245</td>\n",
              "      <td>-0.087139</td>\n",
              "      <td>-1.089903</td>\n",
              "      <td>1.060025</td>\n",
              "      <td>-0.919109</td>\n",
              "      <td>0</td>\n",
              "      <td>1</td>\n",
              "      <td>0.350332</td>\n",
              "      <td>False</td>\n",
              "      <td>False</td>\n",
              "      <td>False</td>\n",
              "    </tr>\n",
              "    <tr>\n",
              "      <th>1924</th>\n",
              "      <td>0.167842</td>\n",
              "      <td>0.487091</td>\n",
              "      <td>1.086910</td>\n",
              "      <td>0.739283</td>\n",
              "      <td>-0.919109</td>\n",
              "      <td>1</td>\n",
              "      <td>1</td>\n",
              "      <td>-0.134610</td>\n",
              "      <td>False</td>\n",
              "      <td>False</td>\n",
              "      <td>True</td>\n",
              "    </tr>\n",
              "    <tr>\n",
              "      <th>3195</th>\n",
              "      <td>0.478929</td>\n",
              "      <td>-0.948485</td>\n",
              "      <td>-1.815507</td>\n",
              "      <td>1.547344</td>\n",
              "      <td>-0.919109</td>\n",
              "      <td>0</td>\n",
              "      <td>0</td>\n",
              "      <td>0.736502</td>\n",
              "      <td>True</td>\n",
              "      <td>False</td>\n",
              "      <td>True</td>\n",
              "    </tr>\n",
              "    <tr>\n",
              "      <th>5263</th>\n",
              "      <td>1.640319</td>\n",
              "      <td>0.199976</td>\n",
              "      <td>-1.452705</td>\n",
              "      <td>0.056946</td>\n",
              "      <td>0.783996</td>\n",
              "      <td>1</td>\n",
              "      <td>0</td>\n",
              "      <td>1.152573</td>\n",
              "      <td>True</td>\n",
              "      <td>False</td>\n",
              "      <td>True</td>\n",
              "    </tr>\n",
              "    <tr>\n",
              "      <th>1484</th>\n",
              "      <td>2.065472</td>\n",
              "      <td>-0.948485</td>\n",
              "      <td>-1.452705</td>\n",
              "      <td>-1.220584</td>\n",
              "      <td>0.783996</td>\n",
              "      <td>1</td>\n",
              "      <td>1</td>\n",
              "      <td>1.715821</td>\n",
              "      <td>False</td>\n",
              "      <td>True</td>\n",
              "      <td>False</td>\n",
              "    </tr>\n",
              "  </tbody>\n",
              "</table>\n",
              "</div>\n",
              "    <div class=\"colab-df-buttons\">\n",
              "\n",
              "  <div class=\"colab-df-container\">\n",
              "    <button class=\"colab-df-convert\" onclick=\"convertToInteractive('df-77735042-0b8a-4141-8473-b736d9c41022')\"\n",
              "            title=\"Convert this dataframe to an interactive table.\"\n",
              "            style=\"display:none;\">\n",
              "\n",
              "  <svg xmlns=\"http://www.w3.org/2000/svg\" height=\"24px\" viewBox=\"0 -960 960 960\">\n",
              "    <path d=\"M120-120v-720h720v720H120Zm60-500h600v-160H180v160Zm220 220h160v-160H400v160Zm0 220h160v-160H400v160ZM180-400h160v-160H180v160Zm440 0h160v-160H620v160ZM180-180h160v-160H180v160Zm440 0h160v-160H620v160Z\"/>\n",
              "  </svg>\n",
              "    </button>\n",
              "\n",
              "  <style>\n",
              "    .colab-df-container {\n",
              "      display:flex;\n",
              "      gap: 12px;\n",
              "    }\n",
              "\n",
              "    .colab-df-convert {\n",
              "      background-color: #E8F0FE;\n",
              "      border: none;\n",
              "      border-radius: 50%;\n",
              "      cursor: pointer;\n",
              "      display: none;\n",
              "      fill: #1967D2;\n",
              "      height: 32px;\n",
              "      padding: 0 0 0 0;\n",
              "      width: 32px;\n",
              "    }\n",
              "\n",
              "    .colab-df-convert:hover {\n",
              "      background-color: #E2EBFA;\n",
              "      box-shadow: 0px 1px 2px rgba(60, 64, 67, 0.3), 0px 1px 3px 1px rgba(60, 64, 67, 0.15);\n",
              "      fill: #174EA6;\n",
              "    }\n",
              "\n",
              "    .colab-df-buttons div {\n",
              "      margin-bottom: 4px;\n",
              "    }\n",
              "\n",
              "    [theme=dark] .colab-df-convert {\n",
              "      background-color: #3B4455;\n",
              "      fill: #D2E3FC;\n",
              "    }\n",
              "\n",
              "    [theme=dark] .colab-df-convert:hover {\n",
              "      background-color: #434B5C;\n",
              "      box-shadow: 0px 1px 3px 1px rgba(0, 0, 0, 0.15);\n",
              "      filter: drop-shadow(0px 1px 2px rgba(0, 0, 0, 0.3));\n",
              "      fill: #FFFFFF;\n",
              "    }\n",
              "  </style>\n",
              "\n",
              "    <script>\n",
              "      const buttonEl =\n",
              "        document.querySelector('#df-77735042-0b8a-4141-8473-b736d9c41022 button.colab-df-convert');\n",
              "      buttonEl.style.display =\n",
              "        google.colab.kernel.accessAllowed ? 'block' : 'none';\n",
              "\n",
              "      async function convertToInteractive(key) {\n",
              "        const element = document.querySelector('#df-77735042-0b8a-4141-8473-b736d9c41022');\n",
              "        const dataTable =\n",
              "          await google.colab.kernel.invokeFunction('convertToInteractive',\n",
              "                                                    [key], {});\n",
              "        if (!dataTable) return;\n",
              "\n",
              "        const docLinkHtml = 'Like what you see? Visit the ' +\n",
              "          '<a target=\"_blank\" href=https://colab.research.google.com/notebooks/data_table.ipynb>data table notebook</a>'\n",
              "          + ' to learn more about interactive tables.';\n",
              "        element.innerHTML = '';\n",
              "        dataTable['output_type'] = 'display_data';\n",
              "        await google.colab.output.renderOutput(dataTable, element);\n",
              "        const docLink = document.createElement('div');\n",
              "        docLink.innerHTML = docLinkHtml;\n",
              "        element.appendChild(docLink);\n",
              "      }\n",
              "    </script>\n",
              "  </div>\n",
              "\n",
              "\n",
              "<div id=\"df-02e9de1b-72bf-47f7-82fa-8ff0b3abbec2\">\n",
              "  <button class=\"colab-df-quickchart\" onclick=\"quickchart('df-02e9de1b-72bf-47f7-82fa-8ff0b3abbec2')\"\n",
              "            title=\"Suggest charts\"\n",
              "            style=\"display:none;\">\n",
              "\n",
              "<svg xmlns=\"http://www.w3.org/2000/svg\" height=\"24px\"viewBox=\"0 0 24 24\"\n",
              "     width=\"24px\">\n",
              "    <g>\n",
              "        <path d=\"M19 3H5c-1.1 0-2 .9-2 2v14c0 1.1.9 2 2 2h14c1.1 0 2-.9 2-2V5c0-1.1-.9-2-2-2zM9 17H7v-7h2v7zm4 0h-2V7h2v10zm4 0h-2v-4h2v4z\"/>\n",
              "    </g>\n",
              "</svg>\n",
              "  </button>\n",
              "\n",
              "<style>\n",
              "  .colab-df-quickchart {\n",
              "      --bg-color: #E8F0FE;\n",
              "      --fill-color: #1967D2;\n",
              "      --hover-bg-color: #E2EBFA;\n",
              "      --hover-fill-color: #174EA6;\n",
              "      --disabled-fill-color: #AAA;\n",
              "      --disabled-bg-color: #DDD;\n",
              "  }\n",
              "\n",
              "  [theme=dark] .colab-df-quickchart {\n",
              "      --bg-color: #3B4455;\n",
              "      --fill-color: #D2E3FC;\n",
              "      --hover-bg-color: #434B5C;\n",
              "      --hover-fill-color: #FFFFFF;\n",
              "      --disabled-bg-color: #3B4455;\n",
              "      --disabled-fill-color: #666;\n",
              "  }\n",
              "\n",
              "  .colab-df-quickchart {\n",
              "    background-color: var(--bg-color);\n",
              "    border: none;\n",
              "    border-radius: 50%;\n",
              "    cursor: pointer;\n",
              "    display: none;\n",
              "    fill: var(--fill-color);\n",
              "    height: 32px;\n",
              "    padding: 0;\n",
              "    width: 32px;\n",
              "  }\n",
              "\n",
              "  .colab-df-quickchart:hover {\n",
              "    background-color: var(--hover-bg-color);\n",
              "    box-shadow: 0 1px 2px rgba(60, 64, 67, 0.3), 0 1px 3px 1px rgba(60, 64, 67, 0.15);\n",
              "    fill: var(--button-hover-fill-color);\n",
              "  }\n",
              "\n",
              "  .colab-df-quickchart-complete:disabled,\n",
              "  .colab-df-quickchart-complete:disabled:hover {\n",
              "    background-color: var(--disabled-bg-color);\n",
              "    fill: var(--disabled-fill-color);\n",
              "    box-shadow: none;\n",
              "  }\n",
              "\n",
              "  .colab-df-spinner {\n",
              "    border: 2px solid var(--fill-color);\n",
              "    border-color: transparent;\n",
              "    border-bottom-color: var(--fill-color);\n",
              "    animation:\n",
              "      spin 1s steps(1) infinite;\n",
              "  }\n",
              "\n",
              "  @keyframes spin {\n",
              "    0% {\n",
              "      border-color: transparent;\n",
              "      border-bottom-color: var(--fill-color);\n",
              "      border-left-color: var(--fill-color);\n",
              "    }\n",
              "    20% {\n",
              "      border-color: transparent;\n",
              "      border-left-color: var(--fill-color);\n",
              "      border-top-color: var(--fill-color);\n",
              "    }\n",
              "    30% {\n",
              "      border-color: transparent;\n",
              "      border-left-color: var(--fill-color);\n",
              "      border-top-color: var(--fill-color);\n",
              "      border-right-color: var(--fill-color);\n",
              "    }\n",
              "    40% {\n",
              "      border-color: transparent;\n",
              "      border-right-color: var(--fill-color);\n",
              "      border-top-color: var(--fill-color);\n",
              "    }\n",
              "    60% {\n",
              "      border-color: transparent;\n",
              "      border-right-color: var(--fill-color);\n",
              "    }\n",
              "    80% {\n",
              "      border-color: transparent;\n",
              "      border-right-color: var(--fill-color);\n",
              "      border-bottom-color: var(--fill-color);\n",
              "    }\n",
              "    90% {\n",
              "      border-color: transparent;\n",
              "      border-bottom-color: var(--fill-color);\n",
              "    }\n",
              "  }\n",
              "</style>\n",
              "\n",
              "  <script>\n",
              "    async function quickchart(key) {\n",
              "      const quickchartButtonEl =\n",
              "        document.querySelector('#' + key + ' button');\n",
              "      quickchartButtonEl.disabled = true;  // To prevent multiple clicks.\n",
              "      quickchartButtonEl.classList.add('colab-df-spinner');\n",
              "      try {\n",
              "        const charts = await google.colab.kernel.invokeFunction(\n",
              "            'suggestCharts', [key], {});\n",
              "      } catch (error) {\n",
              "        console.error('Error during call to suggestCharts:', error);\n",
              "      }\n",
              "      quickchartButtonEl.classList.remove('colab-df-spinner');\n",
              "      quickchartButtonEl.classList.add('colab-df-quickchart-complete');\n",
              "    }\n",
              "    (() => {\n",
              "      let quickchartButtonEl =\n",
              "        document.querySelector('#df-02e9de1b-72bf-47f7-82fa-8ff0b3abbec2 button');\n",
              "      quickchartButtonEl.style.display =\n",
              "        google.colab.kernel.accessAllowed ? 'block' : 'none';\n",
              "    })();\n",
              "  </script>\n",
              "</div>\n",
              "\n",
              "    </div>\n",
              "  </div>\n"
            ],
            "application/vnd.google.colaboratory.intrinsic+json": {
              "type": "dataframe",
              "variable_name": "features_valid",
              "summary": "{\n  \"name\": \"features_valid\",\n  \"rows\": 2000,\n  \"fields\": [\n    {\n      \"column\": \"creditscore\",\n      \"properties\": {\n        \"dtype\": \"number\",\n        \"std\": 1.001096972630727,\n        \"min\": -3.119309331450106,\n        \"max\": 2.0654715156017374,\n        \"num_unique_values\": 402,\n        \"samples\": [\n          -2.6526790552154402,\n          -1.6572011325814862,\n          0.0019287384751036536\n        ],\n        \"semantic_type\": \"\",\n        \"description\": \"\"\n      }\n    },\n    {\n      \"column\": \"age\",\n      \"properties\": {\n        \"dtype\": \"number\",\n        \"std\": 1.0224285735377345,\n        \"min\": -2.001240075527568,\n        \"max\": 4.410997080941529,\n        \"num_unique_values\": 65,\n        \"samples\": [\n          4.028176952197105,\n          3.741061855638788,\n          -0.08713943180544935\n        ],\n        \"semantic_type\": \"\",\n        \"description\": \"\"\n      }\n    },\n    {\n      \"column\": \"tenure\",\n      \"properties\": {\n        \"dtype\": \"number\",\n        \"std\": 0.9978189507838578,\n        \"min\": -1.8155070311616146,\n        \"max\": 1.8125147147037315,\n        \"num_unique_values\": 12,\n        \"samples\": [\n          -0.36429833281547613,\n          -0.7271005074020107,\n          -1.0899026819885453\n        ],\n        \"semantic_type\": \"\",\n        \"description\": \"\"\n      }\n    },\n    {\n      \"column\": \"balance\",\n      \"properties\": {\n        \"dtype\": \"number\",\n        \"std\": 0.9951631112673163,\n        \"min\": -1.2205841042771546,\n        \"max\": 2.600286120433134,\n        \"num_unique_values\": 1290,\n        \"samples\": [\n          0.36026019285372507,\n          1.352965743695436,\n          1.5239872989435435\n        ],\n        \"semantic_type\": \"\",\n        \"description\": \"\"\n      }\n    },\n    {\n      \"column\": \"numofproducts\",\n      \"properties\": {\n        \"dtype\": \"number\",\n        \"std\": 0.9695591559659963,\n        \"min\": -0.9191094427804861,\n        \"max\": 4.190208027895471,\n        \"num_unique_values\": 4,\n        \"samples\": [\n          0.7839963807781661,\n          4.190208027895471,\n          -0.9191094427804861\n        ],\n        \"semantic_type\": \"\",\n        \"description\": \"\"\n      }\n    },\n    {\n      \"column\": \"hascrcard\",\n      \"properties\": {\n        \"dtype\": \"number\",\n        \"std\": 0,\n        \"min\": 0,\n        \"max\": 1,\n        \"num_unique_values\": 2,\n        \"samples\": [\n          1,\n          0\n        ],\n        \"semantic_type\": \"\",\n        \"description\": \"\"\n      }\n    },\n    {\n      \"column\": \"isactivemember\",\n      \"properties\": {\n        \"dtype\": \"number\",\n        \"std\": 0,\n        \"min\": 0,\n        \"max\": 1,\n        \"num_unique_values\": 2,\n        \"samples\": [\n          0,\n          1\n        ],\n        \"semantic_type\": \"\",\n        \"description\": \"\"\n      }\n    },\n    {\n      \"column\": \"estimatedsalary\",\n      \"properties\": {\n        \"dtype\": \"number\",\n        \"std\": 1.0044038276377802,\n        \"min\": -1.7329351165430429,\n        \"max\": 1.7494977528103817,\n        \"num_unique_values\": 2000,\n        \"samples\": [\n          -0.9431330537861705,\n          -1.7304135265615699\n        ],\n        \"semantic_type\": \"\",\n        \"description\": \"\"\n      }\n    },\n    {\n      \"column\": \"geography_Germany\",\n      \"properties\": {\n        \"dtype\": \"boolean\",\n        \"num_unique_values\": 2,\n        \"samples\": [\n          true,\n          false\n        ],\n        \"semantic_type\": \"\",\n        \"description\": \"\"\n      }\n    },\n    {\n      \"column\": \"geography_Spain\",\n      \"properties\": {\n        \"dtype\": \"boolean\",\n        \"num_unique_values\": 2,\n        \"samples\": [\n          true,\n          false\n        ],\n        \"semantic_type\": \"\",\n        \"description\": \"\"\n      }\n    },\n    {\n      \"column\": \"gender_Male\",\n      \"properties\": {\n        \"dtype\": \"boolean\",\n        \"num_unique_values\": 2,\n        \"samples\": [\n          true,\n          false\n        ],\n        \"semantic_type\": \"\",\n        \"description\": \"\"\n      }\n    }\n  ]\n}"
            }
          },
          "metadata": {},
          "execution_count": 24
        }
      ],
      "source": [
        "# Масштабируем численные признаки валидационной выборки\n",
        "features_valid[numeric] = scaler.transform(features_valid[numeric])\n",
        "features_valid.head()"
      ]
    },
    {
      "cell_type": "code",
      "execution_count": 25,
      "metadata": {
        "colab": {
          "base_uri": "https://localhost:8080/",
          "height": 206
        },
        "id": "oOKoDbRPLbSq",
        "outputId": "b78afded-ee94-4fa4-b184-daaa077648ec",
        "scrolled": true
      },
      "outputs": [
        {
          "output_type": "execute_result",
          "data": {
            "text/plain": [
              "      creditscore       age    tenure   balance  numofproducts  hascrcard  \\\n",
              "9167    -0.454332 -1.235600 -1.452705 -1.220584      -0.919109          1   \n",
              "9387    -1.315006 -0.661370 -1.452705  1.101480      -0.919109          0   \n",
              "6859     0.852233 -0.087139 -0.727101  1.306360      -0.919109          0   \n",
              "3500     2.065472 -0.661370 -0.001496  0.483040      -0.919109          1   \n",
              "6233     2.065472 -0.469960 -1.089903 -0.065292      -0.919109          1   \n",
              "\n",
              "      isactivemember  estimatedsalary  geography_Germany  geography_Spain  \\\n",
              "9167               0        -1.214912              False            False   \n",
              "9387               0         1.537086              False            False   \n",
              "6859               0        -1.391960              False            False   \n",
              "3500               0         0.391177              False            False   \n",
              "6233               1         0.282876              False            False   \n",
              "\n",
              "      gender_Male  \n",
              "9167         True  \n",
              "9387         True  \n",
              "6859        False  \n",
              "3500        False  \n",
              "6233         True  "
            ],
            "text/html": [
              "\n",
              "  <div id=\"df-50d5dff3-866f-4fba-b3fa-152c019bd834\" class=\"colab-df-container\">\n",
              "    <div>\n",
              "<style scoped>\n",
              "    .dataframe tbody tr th:only-of-type {\n",
              "        vertical-align: middle;\n",
              "    }\n",
              "\n",
              "    .dataframe tbody tr th {\n",
              "        vertical-align: top;\n",
              "    }\n",
              "\n",
              "    .dataframe thead th {\n",
              "        text-align: right;\n",
              "    }\n",
              "</style>\n",
              "<table border=\"1\" class=\"dataframe\">\n",
              "  <thead>\n",
              "    <tr style=\"text-align: right;\">\n",
              "      <th></th>\n",
              "      <th>creditscore</th>\n",
              "      <th>age</th>\n",
              "      <th>tenure</th>\n",
              "      <th>balance</th>\n",
              "      <th>numofproducts</th>\n",
              "      <th>hascrcard</th>\n",
              "      <th>isactivemember</th>\n",
              "      <th>estimatedsalary</th>\n",
              "      <th>geography_Germany</th>\n",
              "      <th>geography_Spain</th>\n",
              "      <th>gender_Male</th>\n",
              "    </tr>\n",
              "  </thead>\n",
              "  <tbody>\n",
              "    <tr>\n",
              "      <th>9167</th>\n",
              "      <td>-0.454332</td>\n",
              "      <td>-1.235600</td>\n",
              "      <td>-1.452705</td>\n",
              "      <td>-1.220584</td>\n",
              "      <td>-0.919109</td>\n",
              "      <td>1</td>\n",
              "      <td>0</td>\n",
              "      <td>-1.214912</td>\n",
              "      <td>False</td>\n",
              "      <td>False</td>\n",
              "      <td>True</td>\n",
              "    </tr>\n",
              "    <tr>\n",
              "      <th>9387</th>\n",
              "      <td>-1.315006</td>\n",
              "      <td>-0.661370</td>\n",
              "      <td>-1.452705</td>\n",
              "      <td>1.101480</td>\n",
              "      <td>-0.919109</td>\n",
              "      <td>0</td>\n",
              "      <td>0</td>\n",
              "      <td>1.537086</td>\n",
              "      <td>False</td>\n",
              "      <td>False</td>\n",
              "      <td>True</td>\n",
              "    </tr>\n",
              "    <tr>\n",
              "      <th>6859</th>\n",
              "      <td>0.852233</td>\n",
              "      <td>-0.087139</td>\n",
              "      <td>-0.727101</td>\n",
              "      <td>1.306360</td>\n",
              "      <td>-0.919109</td>\n",
              "      <td>0</td>\n",
              "      <td>0</td>\n",
              "      <td>-1.391960</td>\n",
              "      <td>False</td>\n",
              "      <td>False</td>\n",
              "      <td>False</td>\n",
              "    </tr>\n",
              "    <tr>\n",
              "      <th>3500</th>\n",
              "      <td>2.065472</td>\n",
              "      <td>-0.661370</td>\n",
              "      <td>-0.001496</td>\n",
              "      <td>0.483040</td>\n",
              "      <td>-0.919109</td>\n",
              "      <td>1</td>\n",
              "      <td>0</td>\n",
              "      <td>0.391177</td>\n",
              "      <td>False</td>\n",
              "      <td>False</td>\n",
              "      <td>False</td>\n",
              "    </tr>\n",
              "    <tr>\n",
              "      <th>6233</th>\n",
              "      <td>2.065472</td>\n",
              "      <td>-0.469960</td>\n",
              "      <td>-1.089903</td>\n",
              "      <td>-0.065292</td>\n",
              "      <td>-0.919109</td>\n",
              "      <td>1</td>\n",
              "      <td>1</td>\n",
              "      <td>0.282876</td>\n",
              "      <td>False</td>\n",
              "      <td>False</td>\n",
              "      <td>True</td>\n",
              "    </tr>\n",
              "  </tbody>\n",
              "</table>\n",
              "</div>\n",
              "    <div class=\"colab-df-buttons\">\n",
              "\n",
              "  <div class=\"colab-df-container\">\n",
              "    <button class=\"colab-df-convert\" onclick=\"convertToInteractive('df-50d5dff3-866f-4fba-b3fa-152c019bd834')\"\n",
              "            title=\"Convert this dataframe to an interactive table.\"\n",
              "            style=\"display:none;\">\n",
              "\n",
              "  <svg xmlns=\"http://www.w3.org/2000/svg\" height=\"24px\" viewBox=\"0 -960 960 960\">\n",
              "    <path d=\"M120-120v-720h720v720H120Zm60-500h600v-160H180v160Zm220 220h160v-160H400v160Zm0 220h160v-160H400v160ZM180-400h160v-160H180v160Zm440 0h160v-160H620v160ZM180-180h160v-160H180v160Zm440 0h160v-160H620v160Z\"/>\n",
              "  </svg>\n",
              "    </button>\n",
              "\n",
              "  <style>\n",
              "    .colab-df-container {\n",
              "      display:flex;\n",
              "      gap: 12px;\n",
              "    }\n",
              "\n",
              "    .colab-df-convert {\n",
              "      background-color: #E8F0FE;\n",
              "      border: none;\n",
              "      border-radius: 50%;\n",
              "      cursor: pointer;\n",
              "      display: none;\n",
              "      fill: #1967D2;\n",
              "      height: 32px;\n",
              "      padding: 0 0 0 0;\n",
              "      width: 32px;\n",
              "    }\n",
              "\n",
              "    .colab-df-convert:hover {\n",
              "      background-color: #E2EBFA;\n",
              "      box-shadow: 0px 1px 2px rgba(60, 64, 67, 0.3), 0px 1px 3px 1px rgba(60, 64, 67, 0.15);\n",
              "      fill: #174EA6;\n",
              "    }\n",
              "\n",
              "    .colab-df-buttons div {\n",
              "      margin-bottom: 4px;\n",
              "    }\n",
              "\n",
              "    [theme=dark] .colab-df-convert {\n",
              "      background-color: #3B4455;\n",
              "      fill: #D2E3FC;\n",
              "    }\n",
              "\n",
              "    [theme=dark] .colab-df-convert:hover {\n",
              "      background-color: #434B5C;\n",
              "      box-shadow: 0px 1px 3px 1px rgba(0, 0, 0, 0.15);\n",
              "      filter: drop-shadow(0px 1px 2px rgba(0, 0, 0, 0.3));\n",
              "      fill: #FFFFFF;\n",
              "    }\n",
              "  </style>\n",
              "\n",
              "    <script>\n",
              "      const buttonEl =\n",
              "        document.querySelector('#df-50d5dff3-866f-4fba-b3fa-152c019bd834 button.colab-df-convert');\n",
              "      buttonEl.style.display =\n",
              "        google.colab.kernel.accessAllowed ? 'block' : 'none';\n",
              "\n",
              "      async function convertToInteractive(key) {\n",
              "        const element = document.querySelector('#df-50d5dff3-866f-4fba-b3fa-152c019bd834');\n",
              "        const dataTable =\n",
              "          await google.colab.kernel.invokeFunction('convertToInteractive',\n",
              "                                                    [key], {});\n",
              "        if (!dataTable) return;\n",
              "\n",
              "        const docLinkHtml = 'Like what you see? Visit the ' +\n",
              "          '<a target=\"_blank\" href=https://colab.research.google.com/notebooks/data_table.ipynb>data table notebook</a>'\n",
              "          + ' to learn more about interactive tables.';\n",
              "        element.innerHTML = '';\n",
              "        dataTable['output_type'] = 'display_data';\n",
              "        await google.colab.output.renderOutput(dataTable, element);\n",
              "        const docLink = document.createElement('div');\n",
              "        docLink.innerHTML = docLinkHtml;\n",
              "        element.appendChild(docLink);\n",
              "      }\n",
              "    </script>\n",
              "  </div>\n",
              "\n",
              "\n",
              "<div id=\"df-eaf1d433-79ae-4413-9e64-3baed9ac358b\">\n",
              "  <button class=\"colab-df-quickchart\" onclick=\"quickchart('df-eaf1d433-79ae-4413-9e64-3baed9ac358b')\"\n",
              "            title=\"Suggest charts\"\n",
              "            style=\"display:none;\">\n",
              "\n",
              "<svg xmlns=\"http://www.w3.org/2000/svg\" height=\"24px\"viewBox=\"0 0 24 24\"\n",
              "     width=\"24px\">\n",
              "    <g>\n",
              "        <path d=\"M19 3H5c-1.1 0-2 .9-2 2v14c0 1.1.9 2 2 2h14c1.1 0 2-.9 2-2V5c0-1.1-.9-2-2-2zM9 17H7v-7h2v7zm4 0h-2V7h2v10zm4 0h-2v-4h2v4z\"/>\n",
              "    </g>\n",
              "</svg>\n",
              "  </button>\n",
              "\n",
              "<style>\n",
              "  .colab-df-quickchart {\n",
              "      --bg-color: #E8F0FE;\n",
              "      --fill-color: #1967D2;\n",
              "      --hover-bg-color: #E2EBFA;\n",
              "      --hover-fill-color: #174EA6;\n",
              "      --disabled-fill-color: #AAA;\n",
              "      --disabled-bg-color: #DDD;\n",
              "  }\n",
              "\n",
              "  [theme=dark] .colab-df-quickchart {\n",
              "      --bg-color: #3B4455;\n",
              "      --fill-color: #D2E3FC;\n",
              "      --hover-bg-color: #434B5C;\n",
              "      --hover-fill-color: #FFFFFF;\n",
              "      --disabled-bg-color: #3B4455;\n",
              "      --disabled-fill-color: #666;\n",
              "  }\n",
              "\n",
              "  .colab-df-quickchart {\n",
              "    background-color: var(--bg-color);\n",
              "    border: none;\n",
              "    border-radius: 50%;\n",
              "    cursor: pointer;\n",
              "    display: none;\n",
              "    fill: var(--fill-color);\n",
              "    height: 32px;\n",
              "    padding: 0;\n",
              "    width: 32px;\n",
              "  }\n",
              "\n",
              "  .colab-df-quickchart:hover {\n",
              "    background-color: var(--hover-bg-color);\n",
              "    box-shadow: 0 1px 2px rgba(60, 64, 67, 0.3), 0 1px 3px 1px rgba(60, 64, 67, 0.15);\n",
              "    fill: var(--button-hover-fill-color);\n",
              "  }\n",
              "\n",
              "  .colab-df-quickchart-complete:disabled,\n",
              "  .colab-df-quickchart-complete:disabled:hover {\n",
              "    background-color: var(--disabled-bg-color);\n",
              "    fill: var(--disabled-fill-color);\n",
              "    box-shadow: none;\n",
              "  }\n",
              "\n",
              "  .colab-df-spinner {\n",
              "    border: 2px solid var(--fill-color);\n",
              "    border-color: transparent;\n",
              "    border-bottom-color: var(--fill-color);\n",
              "    animation:\n",
              "      spin 1s steps(1) infinite;\n",
              "  }\n",
              "\n",
              "  @keyframes spin {\n",
              "    0% {\n",
              "      border-color: transparent;\n",
              "      border-bottom-color: var(--fill-color);\n",
              "      border-left-color: var(--fill-color);\n",
              "    }\n",
              "    20% {\n",
              "      border-color: transparent;\n",
              "      border-left-color: var(--fill-color);\n",
              "      border-top-color: var(--fill-color);\n",
              "    }\n",
              "    30% {\n",
              "      border-color: transparent;\n",
              "      border-left-color: var(--fill-color);\n",
              "      border-top-color: var(--fill-color);\n",
              "      border-right-color: var(--fill-color);\n",
              "    }\n",
              "    40% {\n",
              "      border-color: transparent;\n",
              "      border-right-color: var(--fill-color);\n",
              "      border-top-color: var(--fill-color);\n",
              "    }\n",
              "    60% {\n",
              "      border-color: transparent;\n",
              "      border-right-color: var(--fill-color);\n",
              "    }\n",
              "    80% {\n",
              "      border-color: transparent;\n",
              "      border-right-color: var(--fill-color);\n",
              "      border-bottom-color: var(--fill-color);\n",
              "    }\n",
              "    90% {\n",
              "      border-color: transparent;\n",
              "      border-bottom-color: var(--fill-color);\n",
              "    }\n",
              "  }\n",
              "</style>\n",
              "\n",
              "  <script>\n",
              "    async function quickchart(key) {\n",
              "      const quickchartButtonEl =\n",
              "        document.querySelector('#' + key + ' button');\n",
              "      quickchartButtonEl.disabled = true;  // To prevent multiple clicks.\n",
              "      quickchartButtonEl.classList.add('colab-df-spinner');\n",
              "      try {\n",
              "        const charts = await google.colab.kernel.invokeFunction(\n",
              "            'suggestCharts', [key], {});\n",
              "      } catch (error) {\n",
              "        console.error('Error during call to suggestCharts:', error);\n",
              "      }\n",
              "      quickchartButtonEl.classList.remove('colab-df-spinner');\n",
              "      quickchartButtonEl.classList.add('colab-df-quickchart-complete');\n",
              "    }\n",
              "    (() => {\n",
              "      let quickchartButtonEl =\n",
              "        document.querySelector('#df-eaf1d433-79ae-4413-9e64-3baed9ac358b button');\n",
              "      quickchartButtonEl.style.display =\n",
              "        google.colab.kernel.accessAllowed ? 'block' : 'none';\n",
              "    })();\n",
              "  </script>\n",
              "</div>\n",
              "\n",
              "    </div>\n",
              "  </div>\n"
            ],
            "application/vnd.google.colaboratory.intrinsic+json": {
              "type": "dataframe",
              "variable_name": "features_test",
              "summary": "{\n  \"name\": \"features_test\",\n  \"rows\": 2000,\n  \"fields\": [\n    {\n      \"column\": \"creditscore\",\n      \"properties\": {\n        \"dtype\": \"number\",\n        \"std\": 1.0102954676742688,\n        \"min\": -2.963765906038551,\n        \"max\": 2.0654715156017374,\n        \"num_unique_values\": 409,\n        \"samples\": [\n          0.32338515099231796,\n          0.38560252115694005,\n          -0.4128537292890438\n        ],\n        \"semantic_type\": \"\",\n        \"description\": \"\"\n      }\n    },\n    {\n      \"column\": \"age\",\n      \"properties\": {\n        \"dtype\": \"number\",\n        \"std\": 0.9959096126103972,\n        \"min\": -2.001240075527568,\n        \"max\": 4.698112177499847,\n        \"num_unique_values\": 64,\n        \"samples\": [\n          3.645356823452682,\n          4.315292048755423,\n          -1.2355998180387204\n        ],\n        \"semantic_type\": \"\",\n        \"description\": \"\"\n      }\n    },\n    {\n      \"column\": \"tenure\",\n      \"properties\": {\n        \"dtype\": \"number\",\n        \"std\": 1.009006964156368,\n        \"min\": -1.8155070311616146,\n        \"max\": 1.8125147147037315,\n        \"num_unique_values\": 12,\n        \"samples\": [\n          -0.36429833281547613,\n          1.8125147147037315,\n          -1.45270485657508\n        ],\n        \"semantic_type\": \"\",\n        \"description\": \"\"\n      }\n    },\n    {\n      \"column\": \"balance\",\n      \"properties\": {\n        \"dtype\": \"number\",\n        \"std\": 1.0054722888861716,\n        \"min\": -1.2205841042771546,\n        \"max\": 2.8008046020701154,\n        \"num_unique_values\": 1277,\n        \"samples\": [\n          1.2372214740195329,\n          0.023859891786457102,\n          0.5281771290414822\n        ],\n        \"semantic_type\": \"\",\n        \"description\": \"\"\n      }\n    },\n    {\n      \"column\": \"numofproducts\",\n      \"properties\": {\n        \"dtype\": \"number\",\n        \"std\": 0.9822271484776833,\n        \"min\": -0.9191094427804861,\n        \"max\": 4.190208027895471,\n        \"num_unique_values\": 4,\n        \"samples\": [\n          0.7839963807781661,\n          4.190208027895471,\n          -0.9191094427804861\n        ],\n        \"semantic_type\": \"\",\n        \"description\": \"\"\n      }\n    },\n    {\n      \"column\": \"hascrcard\",\n      \"properties\": {\n        \"dtype\": \"number\",\n        \"std\": 0,\n        \"min\": 0,\n        \"max\": 1,\n        \"num_unique_values\": 2,\n        \"samples\": [\n          0,\n          1\n        ],\n        \"semantic_type\": \"\",\n        \"description\": \"\"\n      }\n    },\n    {\n      \"column\": \"isactivemember\",\n      \"properties\": {\n        \"dtype\": \"number\",\n        \"std\": 0,\n        \"min\": 0,\n        \"max\": 1,\n        \"num_unique_values\": 2,\n        \"samples\": [\n          1,\n          0\n        ],\n        \"semantic_type\": \"\",\n        \"description\": \"\"\n      }\n    },\n    {\n      \"column\": \"estimatedsalary\",\n      \"properties\": {\n        \"dtype\": \"number\",\n        \"std\": 1.0052832570730366,\n        \"min\": -1.732856349530491,\n        \"max\": 1.7506010137760144,\n        \"num_unique_values\": 2000,\n        \"samples\": [\n          -0.1719797783041666,\n          -0.5303531304015698\n        ],\n        \"semantic_type\": \"\",\n        \"description\": \"\"\n      }\n    },\n    {\n      \"column\": \"geography_Germany\",\n      \"properties\": {\n        \"dtype\": \"boolean\",\n        \"num_unique_values\": 2,\n        \"samples\": [\n          true,\n          false\n        ],\n        \"semantic_type\": \"\",\n        \"description\": \"\"\n      }\n    },\n    {\n      \"column\": \"geography_Spain\",\n      \"properties\": {\n        \"dtype\": \"boolean\",\n        \"num_unique_values\": 2,\n        \"samples\": [\n          true,\n          false\n        ],\n        \"semantic_type\": \"\",\n        \"description\": \"\"\n      }\n    },\n    {\n      \"column\": \"gender_Male\",\n      \"properties\": {\n        \"dtype\": \"boolean\",\n        \"num_unique_values\": 2,\n        \"samples\": [\n          false,\n          true\n        ],\n        \"semantic_type\": \"\",\n        \"description\": \"\"\n      }\n    }\n  ]\n}"
            }
          },
          "metadata": {},
          "execution_count": 25
        }
      ],
      "source": [
        "# Масштабируем численные признаки тестовой выборки\n",
        "features_test[numeric] = scaler.transform(features_test[numeric])\n",
        "features_test.head()"
      ]
    },
    {
      "cell_type": "markdown",
      "metadata": {
        "id": "zKl65WOlLbSr"
      },
      "source": [
        "## Исследование задачи"
      ]
    },
    {
      "cell_type": "markdown",
      "metadata": {
        "id": "MD_NEqAELbSr"
      },
      "source": [
        "### Исследование баланса классов"
      ]
    },
    {
      "cell_type": "markdown",
      "metadata": {
        "id": "kMIZdt3sLbSr"
      },
      "source": [
        "Проверим выборки на дисбаланс классов"
      ]
    },
    {
      "cell_type": "code",
      "execution_count": 26,
      "metadata": {
        "colab": {
          "base_uri": "https://localhost:8080/",
          "height": 531
        },
        "id": "y0yR8isNLbSr",
        "outputId": "15e5a587-e0cc-4833-bb19-7f6246fc36b4"
      },
      "outputs": [
        {
          "output_type": "stream",
          "name": "stdout",
          "text": [
            "exited\n",
            "0    0.796333\n",
            "1    0.203667\n",
            "Name: proportion, dtype: float64\n"
          ]
        },
        {
          "output_type": "execute_result",
          "data": {
            "text/plain": [
              "<Axes: xlabel='exited'>"
            ]
          },
          "metadata": {},
          "execution_count": 26
        },
        {
          "output_type": "display_data",
          "data": {
            "text/plain": [
              "<Figure size 640x480 with 1 Axes>"
            ],
            "image/png": "[encoded data removed]"
          },
          "metadata": {}
        }
      ],
      "source": [
        "# Посчитаем процентное соотношение классов по тренировочной выборке\n",
        "class_frequency = target_train.value_counts(normalize=True)\n",
        "print(class_frequency)\n",
        "\n",
        "# Построим гистограмму\n",
        "class_frequency.plot(kind='bar')"
      ]
    },
    {
      "cell_type": "markdown",
      "metadata": {
        "id": "10yYj-jsLbSr"
      },
      "source": [
        "У обучающией выборки наблюдается заметный дисбаланс класов по факту ухода клиентов. 79% - клиентов осталось(\"0\"), 21% - клинетов ушло (\"1\")."
      ]
    },
    {
      "cell_type": "markdown",
      "metadata": {
        "id": "iRmzo4VWRlIW"
      },
      "source": [
        "### Устранение дисбаланса"
      ]
    },
    {
      "cell_type": "markdown",
      "metadata": {
        "id": "-eryTNwaPhsP"
      },
      "source": [
        "Для устранения дисбаланса классов в данных мы будем использовать следующие подходы:\n",
        "\n",
        "*  **Взвешивание классов**: задаём модели веса для каждого класса, чтобы учесть дисбаланс и увеличить вклад меньшинств.\n",
        "*   **Уменьшение выборки (undersampling)**: сокращаем количество данных для доминирующего класса, чтобы уравновесить распределение.\n",
        "*   **Увеличение выборки (oversampling)**: добавляем больше данных для меньшинства, дублируя существующие записи или используя методы аугментации.\n",
        "*   **Генерация синтетических данных**: создаём искусственные данные для меньшинств с помощью алгоритмов, таких как SMOTE (Synthetic Minority Oversampling Technique).\n",
        "\n"
      ]
    },
    {
      "cell_type": "markdown",
      "metadata": {
        "id": "wkhx_oWCLbSv"
      },
      "source": [
        "Создадим функцию для **уменьшения доли отрицательных ответов**.\n",
        "\n",
        "Для этого необходимо сделать следующее:\n",
        "\n",
        "+ Разделим обучающую выборку на отрицательные и положительные объекты;\n",
        "\n",
        "+ Случайным образом отбросим часть из отрицательных объектов;\n",
        "\n",
        "+ С учётом полученных данных создадим новую обучающую выборку;\n",
        "\n",
        "+ Перемешаем данные;\n",
        "\n",
        "+ Обучим модели на основе сбалансированной выборки."
      ]
    },
    {
      "cell_type": "code",
      "execution_count": 27,
      "metadata": {
        "id": "iCj7NgPELbSv"
      },
      "outputs": [],
      "source": [
        "def downsample(features, target, fraction):\n",
        "    features_zeros = features[target == 0]\n",
        "    features_ones = features[target == 1]\n",
        "    target_zeros = target[target == 0]\n",
        "    target_ones = target[target == 1]\n",
        "\n",
        "    features_downsampled = pd.concat(\n",
        "        [features_zeros.sample(frac=fraction, random_state=42)] + [features_ones])\n",
        "    target_downsampled = pd.concat(\n",
        "        [target_zeros.sample(frac=fraction, random_state=42)] + [target_ones])\n",
        "\n",
        "    features_downsampled, target_downsampled = shuffle(\n",
        "        features_downsampled, target_downsampled, random_state=42)\n",
        "\n",
        "    return features_downsampled, target_downsampled"
      ]
    },
    {
      "cell_type": "markdown",
      "metadata": {
        "id": "by8taWKuLbSw"
      },
      "source": [
        "Создадим функцию для **увеличения доли отрицательных ответов**.\n",
        "\n",
        "Для этого необходимо сделать следующее:\n",
        "\n",
        "+ Разделим обучающую выборку на отрицательные и положительные объекты;\n",
        "\n",
        "+ Скопируем несколько раз положительные объекты;\n",
        "\n",
        "+ С учётом полученных данных создадим новую обучающую выборку;\n",
        "\n",
        "+ Перемешаем данные;\n",
        "\n",
        "+ Обучим модели на основе сбалансированной выборки."
      ]
    },
    {
      "cell_type": "code",
      "execution_count": 28,
      "metadata": {
        "id": "iTq0pnJ1LbSw"
      },
      "outputs": [],
      "source": [
        "# создадим функцию для увеличения выборки\n",
        "def upsample(features, target, repeat):\n",
        "    features_zeros = features[target == 0]\n",
        "    features_ones = features[target == 1]\n",
        "    target_zeros = target[target == 0]\n",
        "    target_ones = target[target == 1]\n",
        "\n",
        "    features_upsampled = pd.concat([features_zeros] + [features_ones] * repeat)\n",
        "    target_upsampled = pd.concat([target_zeros] + [target_ones] * repeat)\n",
        "\n",
        "    features_upsampled, target_upsampled = shuffle(\n",
        "        features_upsampled, target_upsampled, random_state=42)\n",
        "\n",
        "    return features_upsampled, target_upsampled"
      ]
    },
    {
      "cell_type": "markdown",
      "metadata": {
        "id": "cFwS-N4HRxZ3"
      },
      "source": [
        "В качестве тестирования методов устранения дисбаланса будет использовать следующие модели:\n",
        "\n",
        "*   LogisticRegression;\n",
        "*   DecisionTreeClassifier;\n",
        "*   RandomForestClassifier;\n",
        "*   XGBClassifier.\n"
      ]
    },
    {
      "cell_type": "code",
      "execution_count": 29,
      "metadata": {
        "colab": {
          "base_uri": "https://localhost:8080/",
          "height": 711
        },
        "id": "Dm1RqiUZLbSs",
        "outputId": "027f011c-e76b-47e2-d639-34cd403f85dc"
      },
      "outputs": [
        {
          "output_type": "stream",
          "name": "stdout",
          "text": [
            "\n",
            "Сравнительная таблица моделей:\n"
          ]
        },
        {
          "output_type": "display_data",
          "data": {
            "text/plain": [
              "<pandas.io.formats.style.Styler at 0x79160900f0d0>"
            ],
            "text/html": [
              "<style type=\"text/css\">\n",
              "#T_3132c_row0_col2, #T_3132c_row0_col4, #T_3132c_row0_col5, #T_3132c_row7_col3 {\n",
              "  background-color: #ffffcc;\n",
              "  color: #000000;\n",
              "}\n",
              "#T_3132c_row0_col3, #T_3132c_row11_col5 {\n",
              "  background-color: #f74327;\n",
              "  color: #f1f1f1;\n",
              "}\n",
              "#T_3132c_row1_col2, #T_3132c_row3_col2, #T_3132c_row10_col4 {\n",
              "  background-color: #9f0026;\n",
              "  color: #f1f1f1;\n",
              "}\n",
              "#T_3132c_row1_col3, #T_3132c_row4_col3 {\n",
              "  background-color: #ffefa5;\n",
              "  color: #000000;\n",
              "}\n",
              "#T_3132c_row1_col4, #T_3132c_row3_col4 {\n",
              "  background-color: #f54026;\n",
              "  color: #f1f1f1;\n",
              "}\n",
              "#T_3132c_row1_col5 {\n",
              "  background-color: #dc151e;\n",
              "  color: #f1f1f1;\n",
              "}\n",
              "#T_3132c_row2_col2 {\n",
              "  background-color: #970026;\n",
              "  color: #f1f1f1;\n",
              "}\n",
              "#T_3132c_row2_col3 {\n",
              "  background-color: #ffefa4;\n",
              "  color: #000000;\n",
              "}\n",
              "#T_3132c_row2_col4 {\n",
              "  background-color: #f33b25;\n",
              "  color: #f1f1f1;\n",
              "}\n",
              "#T_3132c_row2_col5 {\n",
              "  background-color: #d51020;\n",
              "  color: #f1f1f1;\n",
              "}\n",
              "#T_3132c_row3_col3 {\n",
              "  background-color: #fff0a7;\n",
              "  color: #000000;\n",
              "}\n",
              "#T_3132c_row3_col5, #T_3132c_row10_col5 {\n",
              "  background-color: #dd161d;\n",
              "  color: #f1f1f1;\n",
              "}\n",
              "#T_3132c_row4_col2 {\n",
              "  background-color: #c40524;\n",
              "  color: #f1f1f1;\n",
              "}\n",
              "#T_3132c_row4_col4 {\n",
              "  background-color: #fc512b;\n",
              "  color: #f1f1f1;\n",
              "}\n",
              "#T_3132c_row4_col5, #T_3132c_row9_col5 {\n",
              "  background-color: #f03523;\n",
              "  color: #f1f1f1;\n",
              "}\n",
              "#T_3132c_row5_col2 {\n",
              "  background-color: #fd8a3b;\n",
              "  color: #f1f1f1;\n",
              "}\n",
              "#T_3132c_row5_col3, #T_3132c_row8_col3 {\n",
              "  background-color: #fec35e;\n",
              "  color: #000000;\n",
              "}\n",
              "#T_3132c_row5_col4 {\n",
              "  background-color: #fc6832;\n",
              "  color: #f1f1f1;\n",
              "}\n",
              "#T_3132c_row5_col5 {\n",
              "  background-color: #fd863a;\n",
              "  color: #f1f1f1;\n",
              "}\n",
              "#T_3132c_row6_col2 {\n",
              "  background-color: #fd8f3d;\n",
              "  color: #f1f1f1;\n",
              "}\n",
              "#T_3132c_row6_col3 {\n",
              "  background-color: #feba55;\n",
              "  color: #000000;\n",
              "}\n",
              "#T_3132c_row6_col4 {\n",
              "  background-color: #fc6330;\n",
              "  color: #f1f1f1;\n",
              "}\n",
              "#T_3132c_row6_col5 {\n",
              "  background-color: #fd8239;\n",
              "  color: #f1f1f1;\n",
              "}\n",
              "#T_3132c_row7_col2, #T_3132c_row13_col5 {\n",
              "  background-color: #ae0026;\n",
              "  color: #f1f1f1;\n",
              "}\n",
              "#T_3132c_row7_col4 {\n",
              "  background-color: #fd883b;\n",
              "  color: #f1f1f1;\n",
              "}\n",
              "#T_3132c_row7_col5 {\n",
              "  background-color: #fc6c33;\n",
              "  color: #f1f1f1;\n",
              "}\n",
              "#T_3132c_row8_col2, #T_3132c_row8_col5, #T_3132c_row18_col3 {\n",
              "  background-color: #fd9740;\n",
              "  color: #000000;\n",
              "}\n",
              "#T_3132c_row8_col4 {\n",
              "  background-color: #fd7a37;\n",
              "  color: #f1f1f1;\n",
              "}\n",
              "#T_3132c_row9_col2 {\n",
              "  background-color: #ed2e21;\n",
              "  color: #f1f1f1;\n",
              "}\n",
              "#T_3132c_row9_col3 {\n",
              "  background-color: #fed976;\n",
              "  color: #000000;\n",
              "}\n",
              "#T_3132c_row9_col4 {\n",
              "  background-color: #f23924;\n",
              "  color: #f1f1f1;\n",
              "}\n",
              "#T_3132c_row10_col2 {\n",
              "  background-color: #fd913e;\n",
              "  color: #000000;\n",
              "}\n",
              "#T_3132c_row10_col3, #T_3132c_row12_col5, #T_3132c_row13_col4, #T_3132c_row17_col2 {\n",
              "  background-color: #800026;\n",
              "  color: #f1f1f1;\n",
              "  background-color: lightgreen;\n",
              "}\n",
              "#T_3132c_row11_col2 {\n",
              "  background-color: #fea647;\n",
              "  color: #000000;\n",
              "}\n",
              "#T_3132c_row11_col3 {\n",
              "  background-color: #910026;\n",
              "  color: #f1f1f1;\n",
              "}\n",
              "#T_3132c_row11_col4, #T_3132c_row15_col3, #T_3132c_row16_col3 {\n",
              "  background-color: #ce0c22;\n",
              "  color: #f1f1f1;\n",
              "}\n",
              "#T_3132c_row12_col2 {\n",
              "  background-color: #8d0026;\n",
              "  color: #f1f1f1;\n",
              "}\n",
              "#T_3132c_row12_col3 {\n",
              "  background-color: #fed470;\n",
              "  color: #000000;\n",
              "}\n",
              "#T_3132c_row12_col4, #T_3132c_row19_col5 {\n",
              "  background-color: #c20325;\n",
              "  color: #f1f1f1;\n",
              "}\n",
              "#T_3132c_row13_col2 {\n",
              "  background-color: #fb4b29;\n",
              "  color: #f1f1f1;\n",
              "}\n",
              "#T_3132c_row13_col3, #T_3132c_row15_col5, #T_3132c_row16_col5 {\n",
              "  background-color: #db141e;\n",
              "  color: #f1f1f1;\n",
              "}\n",
              "#T_3132c_row14_col2 {\n",
              "  background-color: #e61f1d;\n",
              "  color: #f1f1f1;\n",
              "}\n",
              "#T_3132c_row14_col3 {\n",
              "  background-color: #fc592d;\n",
              "  color: #f1f1f1;\n",
              "}\n",
              "#T_3132c_row14_col4 {\n",
              "  background-color: #820026;\n",
              "  color: #f1f1f1;\n",
              "}\n",
              "#T_3132c_row14_col5 {\n",
              "  background-color: #8f0026;\n",
              "  color: #f1f1f1;\n",
              "}\n",
              "#T_3132c_row15_col2, #T_3132c_row16_col2 {\n",
              "  background-color: #fd7c37;\n",
              "  color: #f1f1f1;\n",
              "}\n",
              "#T_3132c_row15_col4, #T_3132c_row16_col4 {\n",
              "  background-color: #ac0026;\n",
              "  color: #f1f1f1;\n",
              "}\n",
              "#T_3132c_row17_col3 {\n",
              "  background-color: #fede80;\n",
              "  color: #000000;\n",
              "}\n",
              "#T_3132c_row17_col4 {\n",
              "  background-color: #cd0b22;\n",
              "  color: #f1f1f1;\n",
              "}\n",
              "#T_3132c_row17_col5 {\n",
              "  background-color: #880026;\n",
              "  color: #f1f1f1;\n",
              "}\n",
              "#T_3132c_row18_col2 {\n",
              "  background-color: #e51e1d;\n",
              "  color: #f1f1f1;\n",
              "}\n",
              "#T_3132c_row18_col4 {\n",
              "  background-color: #b60026;\n",
              "  color: #f1f1f1;\n",
              "}\n",
              "#T_3132c_row18_col5 {\n",
              "  background-color: #b40026;\n",
              "  color: #f1f1f1;\n",
              "}\n",
              "#T_3132c_row19_col2 {\n",
              "  background-color: #f64227;\n",
              "  color: #f1f1f1;\n",
              "}\n",
              "#T_3132c_row19_col3 {\n",
              "  background-color: #fc552c;\n",
              "  color: #f1f1f1;\n",
              "}\n",
              "#T_3132c_row19_col4 {\n",
              "  background-color: #a60026;\n",
              "  color: #f1f1f1;\n",
              "}\n",
              "</style>\n",
              "<table id=\"T_3132c\" class=\"dataframe\">\n",
              "  <thead>\n",
              "    <tr>\n",
              "      <th class=\"blank level0\" >&nbsp;</th>\n",
              "      <th id=\"T_3132c_level0_col0\" class=\"col_heading level0 col0\" >model</th>\n",
              "      <th id=\"T_3132c_level0_col1\" class=\"col_heading level0 col1\" >balance_method</th>\n",
              "      <th id=\"T_3132c_level0_col2\" class=\"col_heading level0 col2\" >recall</th>\n",
              "      <th id=\"T_3132c_level0_col3\" class=\"col_heading level0 col3\" >precision</th>\n",
              "      <th id=\"T_3132c_level0_col4\" class=\"col_heading level0 col4\" >f1</th>\n",
              "      <th id=\"T_3132c_level0_col5\" class=\"col_heading level0 col5\" >auc_roc</th>\n",
              "    </tr>\n",
              "  </thead>\n",
              "  <tbody>\n",
              "    <tr>\n",
              "      <th id=\"T_3132c_level0_row0\" class=\"row_heading level0 row0\" >0</th>\n",
              "      <td id=\"T_3132c_row0_col0\" class=\"data row0 col0\" >LogisticRegression</td>\n",
              "      <td id=\"T_3132c_row0_col1\" class=\"data row0 col1\" >none</td>\n",
              "      <td id=\"T_3132c_row0_col2\" class=\"data row0 col2\" >0.223</td>\n",
              "      <td id=\"T_3132c_row0_col3\" class=\"data row0 col3\" >0.619</td>\n",
              "      <td id=\"T_3132c_row0_col4\" class=\"data row0 col4\" >0.328</td>\n",
              "      <td id=\"T_3132c_row0_col5\" class=\"data row0 col5\" >0.594</td>\n",
              "    </tr>\n",
              "    <tr>\n",
              "      <th id=\"T_3132c_level0_row1\" class=\"row_heading level0 row1\" >1</th>\n",
              "      <td id=\"T_3132c_row1_col0\" class=\"data row1 col0\" >LogisticRegression</td>\n",
              "      <td id=\"T_3132c_row1_col1\" class=\"data row1 col1\" >class_weight</td>\n",
              "      <td id=\"T_3132c_row1_col2\" class=\"data row1 col2\" >0.745</td>\n",
              "      <td id=\"T_3132c_row1_col3\" class=\"data row1 col3\" >0.399</td>\n",
              "      <td id=\"T_3132c_row1_col4\" class=\"data row1 col4\" >0.520</td>\n",
              "      <td id=\"T_3132c_row1_col5\" class=\"data row1 col5\" >0.729</td>\n",
              "    </tr>\n",
              "    <tr>\n",
              "      <th id=\"T_3132c_level0_row2\" class=\"row_heading level0 row2\" >2</th>\n",
              "      <td id=\"T_3132c_row2_col0\" class=\"data row2 col0\" >LogisticRegression</td>\n",
              "      <td id=\"T_3132c_row2_col1\" class=\"data row2 col1\" >downsample</td>\n",
              "      <td id=\"T_3132c_row2_col2\" class=\"data row2 col2\" >0.755</td>\n",
              "      <td id=\"T_3132c_row2_col3\" class=\"data row2 col3\" >0.401</td>\n",
              "      <td id=\"T_3132c_row2_col4\" class=\"data row2 col4\" >0.523</td>\n",
              "      <td id=\"T_3132c_row2_col5\" class=\"data row2 col5\" >0.733</td>\n",
              "    </tr>\n",
              "    <tr>\n",
              "      <th id=\"T_3132c_level0_row3\" class=\"row_heading level0 row3\" >3</th>\n",
              "      <td id=\"T_3132c_row3_col0\" class=\"data row3 col0\" >LogisticRegression</td>\n",
              "      <td id=\"T_3132c_row3_col1\" class=\"data row3 col1\" >upsample</td>\n",
              "      <td id=\"T_3132c_row3_col2\" class=\"data row3 col2\" >0.745</td>\n",
              "      <td id=\"T_3132c_row3_col3\" class=\"data row3 col3\" >0.398</td>\n",
              "      <td id=\"T_3132c_row3_col4\" class=\"data row3 col4\" >0.519</td>\n",
              "      <td id=\"T_3132c_row3_col5\" class=\"data row3 col5\" >0.728</td>\n",
              "    </tr>\n",
              "    <tr>\n",
              "      <th id=\"T_3132c_level0_row4\" class=\"row_heading level0 row4\" >4</th>\n",
              "      <td id=\"T_3132c_row4_col0\" class=\"data row4 col0\" >LogisticRegression</td>\n",
              "      <td id=\"T_3132c_row4_col1\" class=\"data row4 col1\" >smote</td>\n",
              "      <td id=\"T_3132c_row4_col2\" class=\"data row4 col2\" >0.699</td>\n",
              "      <td id=\"T_3132c_row4_col3\" class=\"data row4 col3\" >0.399</td>\n",
              "      <td id=\"T_3132c_row4_col4\" class=\"data row4 col4\" >0.508</td>\n",
              "      <td id=\"T_3132c_row4_col5\" class=\"data row4 col5\" >0.714</td>\n",
              "    </tr>\n",
              "    <tr>\n",
              "      <th id=\"T_3132c_level0_row5\" class=\"row_heading level0 row5\" >5</th>\n",
              "      <td id=\"T_3132c_row5_col0\" class=\"data row5 col0\" >DecisionTreeClassifier</td>\n",
              "      <td id=\"T_3132c_row5_col1\" class=\"data row5 col1\" >none</td>\n",
              "      <td id=\"T_3132c_row5_col2\" class=\"data row5 col2\" >0.505</td>\n",
              "      <td id=\"T_3132c_row5_col3\" class=\"data row5 col3\" >0.486</td>\n",
              "      <td id=\"T_3132c_row5_col4\" class=\"data row5 col4\" >0.495</td>\n",
              "      <td id=\"T_3132c_row5_col5\" class=\"data row5 col5\" >0.684</td>\n",
              "    </tr>\n",
              "    <tr>\n",
              "      <th id=\"T_3132c_level0_row6\" class=\"row_heading level0 row6\" >6</th>\n",
              "      <td id=\"T_3132c_row6_col0\" class=\"data row6 col0\" >DecisionTreeClassifier</td>\n",
              "      <td id=\"T_3132c_row6_col1\" class=\"data row6 col1\" >class_weight</td>\n",
              "      <td id=\"T_3132c_row6_col2\" class=\"data row6 col2\" >0.500</td>\n",
              "      <td id=\"T_3132c_row6_col3\" class=\"data row6 col3\" >0.496</td>\n",
              "      <td id=\"T_3132c_row6_col4\" class=\"data row6 col4\" >0.498</td>\n",
              "      <td id=\"T_3132c_row6_col5\" class=\"data row6 col5\" >0.685</td>\n",
              "    </tr>\n",
              "    <tr>\n",
              "      <th id=\"T_3132c_level0_row7\" class=\"row_heading level0 row7\" >7</th>\n",
              "      <td id=\"T_3132c_row7_col0\" class=\"data row7 col0\" >DecisionTreeClassifier</td>\n",
              "      <td id=\"T_3132c_row7_col1\" class=\"data row7 col1\" >downsample</td>\n",
              "      <td id=\"T_3132c_row7_col2\" class=\"data row7 col2\" >0.728</td>\n",
              "      <td id=\"T_3132c_row7_col3\" class=\"data row7 col3\" >0.354</td>\n",
              "      <td id=\"T_3132c_row7_col4\" class=\"data row7 col4\" >0.476</td>\n",
              "      <td id=\"T_3132c_row7_col5\" class=\"data row7 col5\" >0.693</td>\n",
              "    </tr>\n",
              "    <tr>\n",
              "      <th id=\"T_3132c_level0_row8\" class=\"row_heading level0 row8\" >8</th>\n",
              "      <td id=\"T_3132c_row8_col0\" class=\"data row8 col0\" >DecisionTreeClassifier</td>\n",
              "      <td id=\"T_3132c_row8_col1\" class=\"data row8 col1\" >upsample</td>\n",
              "      <td id=\"T_3132c_row8_col2\" class=\"data row8 col2\" >0.483</td>\n",
              "      <td id=\"T_3132c_row8_col3\" class=\"data row8 col3\" >0.485</td>\n",
              "      <td id=\"T_3132c_row8_col4\" class=\"data row8 col4\" >0.484</td>\n",
              "      <td id=\"T_3132c_row8_col5\" class=\"data row8 col5\" >0.676</td>\n",
              "    </tr>\n",
              "    <tr>\n",
              "      <th id=\"T_3132c_level0_row9\" class=\"row_heading level0 row9\" >9</th>\n",
              "      <td id=\"T_3132c_row9_col0\" class=\"data row9 col0\" >DecisionTreeClassifier</td>\n",
              "      <td id=\"T_3132c_row9_col1\" class=\"data row9 col1\" >smote</td>\n",
              "      <td id=\"T_3132c_row9_col2\" class=\"data row9 col2\" >0.615</td>\n",
              "      <td id=\"T_3132c_row9_col3\" class=\"data row9 col3\" >0.456</td>\n",
              "      <td id=\"T_3132c_row9_col4\" class=\"data row9 col4\" >0.524</td>\n",
              "      <td id=\"T_3132c_row9_col5\" class=\"data row9 col5\" >0.714</td>\n",
              "    </tr>\n",
              "    <tr>\n",
              "      <th id=\"T_3132c_level0_row10\" class=\"row_heading level0 row10\" >10</th>\n",
              "      <td id=\"T_3132c_row10_col0\" class=\"data row10 col0\" >RandomForestClassifier</td>\n",
              "      <td id=\"T_3132c_row10_col1\" class=\"data row10 col1\" >none</td>\n",
              "      <td id=\"T_3132c_row10_col2\" class=\"data row10 col2\" >0.495</td>\n",
              "      <td id=\"T_3132c_row10_col3\" class=\"data row10 col3\" >0.762</td>\n",
              "      <td id=\"T_3132c_row10_col4\" class=\"data row10 col4\" >0.600</td>\n",
              "      <td id=\"T_3132c_row10_col5\" class=\"data row10 col5\" >0.728</td>\n",
              "    </tr>\n",
              "    <tr>\n",
              "      <th id=\"T_3132c_level0_row11\" class=\"row_heading level0 row11\" >11</th>\n",
              "      <td id=\"T_3132c_row11_col0\" class=\"data row11 col0\" >RandomForestClassifier</td>\n",
              "      <td id=\"T_3132c_row11_col1\" class=\"data row11 col1\" >class_weight</td>\n",
              "      <td id=\"T_3132c_row11_col2\" class=\"data row11 col2\" >0.456</td>\n",
              "      <td id=\"T_3132c_row11_col3\" class=\"data row11 col3\" >0.747</td>\n",
              "      <td id=\"T_3132c_row11_col4\" class=\"data row11 col4\" >0.566</td>\n",
              "      <td id=\"T_3132c_row11_col5\" class=\"data row11 col5\" >0.708</td>\n",
              "    </tr>\n",
              "    <tr>\n",
              "      <th id=\"T_3132c_level0_row12\" class=\"row_heading level0 row12\" >12</th>\n",
              "      <td id=\"T_3132c_row12_col0\" class=\"data row12 col0\" >RandomForestClassifier</td>\n",
              "      <td id=\"T_3132c_row12_col1\" class=\"data row12 col1\" >downsample</td>\n",
              "      <td id=\"T_3132c_row12_col2\" class=\"data row12 col2\" >0.765</td>\n",
              "      <td id=\"T_3132c_row12_col3\" class=\"data row12 col3\" >0.463</td>\n",
              "      <td id=\"T_3132c_row12_col4\" class=\"data row12 col4\" >0.577</td>\n",
              "      <td id=\"T_3132c_row12_col5\" class=\"data row12 col5\" >0.769</td>\n",
              "    </tr>\n",
              "    <tr>\n",
              "      <th id=\"T_3132c_level0_row13\" class=\"row_heading level0 row13\" >13</th>\n",
              "      <td id=\"T_3132c_row13_col0\" class=\"data row13 col0\" >RandomForestClassifier</td>\n",
              "      <td id=\"T_3132c_row13_col1\" class=\"data row13 col1\" >upsample</td>\n",
              "      <td id=\"T_3132c_row13_col2\" class=\"data row13 col2\" >0.576</td>\n",
              "      <td id=\"T_3132c_row13_col3\" class=\"data row13 col3\" >0.670</td>\n",
              "      <td id=\"T_3132c_row13_col4\" class=\"data row13 col4\" >0.619</td>\n",
              "      <td id=\"T_3132c_row13_col5\" class=\"data row13 col5\" >0.752</td>\n",
              "    </tr>\n",
              "    <tr>\n",
              "      <th id=\"T_3132c_level0_row14\" class=\"row_heading level0 row14\" >14</th>\n",
              "      <td id=\"T_3132c_row14_col0\" class=\"data row14 col0\" >RandomForestClassifier</td>\n",
              "      <td id=\"T_3132c_row14_col1\" class=\"data row14 col1\" >smote</td>\n",
              "      <td id=\"T_3132c_row14_col2\" class=\"data row14 col2\" >0.635</td>\n",
              "      <td id=\"T_3132c_row14_col3\" class=\"data row14 col3\" >0.601</td>\n",
              "      <td id=\"T_3132c_row14_col4\" class=\"data row14 col4\" >0.617</td>\n",
              "      <td id=\"T_3132c_row14_col5\" class=\"data row14 col5\" >0.763</td>\n",
              "    </tr>\n",
              "    <tr>\n",
              "      <th id=\"T_3132c_level0_row15\" class=\"row_heading level0 row15\" >15</th>\n",
              "      <td id=\"T_3132c_row15_col0\" class=\"data row15 col0\" >XGBClassifier</td>\n",
              "      <td id=\"T_3132c_row15_col1\" class=\"data row15 col1\" >none</td>\n",
              "      <td id=\"T_3132c_row15_col2\" class=\"data row15 col2\" >0.520</td>\n",
              "      <td id=\"T_3132c_row15_col3\" class=\"data row15 col3\" >0.688</td>\n",
              "      <td id=\"T_3132c_row15_col4\" class=\"data row15 col4\" >0.592</td>\n",
              "      <td id=\"T_3132c_row15_col5\" class=\"data row15 col5\" >0.730</td>\n",
              "    </tr>\n",
              "    <tr>\n",
              "      <th id=\"T_3132c_level0_row16\" class=\"row_heading level0 row16\" >16</th>\n",
              "      <td id=\"T_3132c_row16_col0\" class=\"data row16 col0\" >XGBClassifier</td>\n",
              "      <td id=\"T_3132c_row16_col1\" class=\"data row16 col1\" >class_weight</td>\n",
              "      <td id=\"T_3132c_row16_col2\" class=\"data row16 col2\" >0.520</td>\n",
              "      <td id=\"T_3132c_row16_col3\" class=\"data row16 col3\" >0.688</td>\n",
              "      <td id=\"T_3132c_row16_col4\" class=\"data row16 col4\" >0.592</td>\n",
              "      <td id=\"T_3132c_row16_col5\" class=\"data row16 col5\" >0.730</td>\n",
              "    </tr>\n",
              "    <tr>\n",
              "      <th id=\"T_3132c_level0_row17\" class=\"row_heading level0 row17\" >17</th>\n",
              "      <td id=\"T_3132c_row17_col0\" class=\"data row17 col0\" >XGBClassifier</td>\n",
              "      <td id=\"T_3132c_row17_col1\" class=\"data row17 col1\" >downsample</td>\n",
              "      <td id=\"T_3132c_row17_col2\" class=\"data row17 col2\" >0.782</td>\n",
              "      <td id=\"T_3132c_row17_col3\" class=\"data row17 col3\" >0.444</td>\n",
              "      <td id=\"T_3132c_row17_col4\" class=\"data row17 col4\" >0.567</td>\n",
              "      <td id=\"T_3132c_row17_col5\" class=\"data row17 col5\" >0.766</td>\n",
              "    </tr>\n",
              "    <tr>\n",
              "      <th id=\"T_3132c_level0_row18\" class=\"row_heading level0 row18\" >18</th>\n",
              "      <td id=\"T_3132c_row18_col0\" class=\"data row18 col0\" >XGBClassifier</td>\n",
              "      <td id=\"T_3132c_row18_col1\" class=\"data row18 col1\" >upsample</td>\n",
              "      <td id=\"T_3132c_row18_col2\" class=\"data row18 col2\" >0.637</td>\n",
              "      <td id=\"T_3132c_row18_col3\" class=\"data row18 col3\" >0.544</td>\n",
              "      <td id=\"T_3132c_row18_col4\" class=\"data row18 col4\" >0.587</td>\n",
              "      <td id=\"T_3132c_row18_col5\" class=\"data row18 col5\" >0.750</td>\n",
              "    </tr>\n",
              "    <tr>\n",
              "      <th id=\"T_3132c_level0_row19\" class=\"row_heading level0 row19\" >19</th>\n",
              "      <td id=\"T_3132c_row19_col0\" class=\"data row19 col0\" >XGBClassifier</td>\n",
              "      <td id=\"T_3132c_row19_col1\" class=\"data row19 col1\" >smote</td>\n",
              "      <td id=\"T_3132c_row19_col2\" class=\"data row19 col2\" >0.588</td>\n",
              "      <td id=\"T_3132c_row19_col3\" class=\"data row19 col3\" >0.603</td>\n",
              "      <td id=\"T_3132c_row19_col4\" class=\"data row19 col4\" >0.596</td>\n",
              "      <td id=\"T_3132c_row19_col5\" class=\"data row19 col5\" >0.744</td>\n",
              "    </tr>\n",
              "  </tbody>\n",
              "</table>\n"
            ]
          },
          "metadata": {}
        }
      ],
      "source": [
        "# создадим функцию, которая будет проверять модели с учетом разных методов борьбы с дисбалансом\n",
        "def evaluate_model(model, X_train, X_valid, y_train, y_valid, balance_method=None):\n",
        "\n",
        "    # Создаем копии данных\n",
        "    X_train_balanced = X_train.copy()\n",
        "    y_train_balanced = y_train.copy()\n",
        "\n",
        "    # Подготовка данных в зависимости от метода балансировки\n",
        "    if balance_method == 'class_weight':\n",
        "        if model == 'XGBClassifier':\n",
        "                model.set_params(scale_pos_weight = len(y_train_balanced[y_train_balanced == 0]) / len(y_train_balanced[y_train_balanced == 1]))\n",
        "        elif hasattr(model, 'class_weight'):\n",
        "                model.set_params(class_weight='balanced')\n",
        "\n",
        "    elif balance_method == 'downsample':\n",
        "        X_train_balanced, y_train_balanced = downsample(X_train, y_train, 0.25)\n",
        "\n",
        "    elif balance_method == 'upsample':\n",
        "        X_train_balanced, y_train_balanced = upsample(X_train, y_train, 4)\n",
        "\n",
        "    elif balance_method == 'smote':\n",
        "        smote = SMOTE(random_state=42)\n",
        "        X_train_balanced, y_train_balanced = smote.fit_resample(X_train, y_train)\n",
        "\n",
        "    # Обучение модели\n",
        "    model.fit(X_train_balanced, y_train_balanced)\n",
        "\n",
        "    # Предсказания\n",
        "    y_pred = model.predict(X_valid)\n",
        "\n",
        "    # Расчет метрик\n",
        "    metrics = {\n",
        "        'model': model.__class__.__name__,\n",
        "        'balance_method': balance_method if balance_method else 'none',\n",
        "        'recall': recall_score(y_valid, y_pred),\n",
        "        'precision': precision_score(y_valid, y_pred),\n",
        "        'f1': f1_score(y_valid, y_pred),\n",
        "        'auc_roc': roc_auc_score(y_valid, y_pred)\n",
        "    }\n",
        "\n",
        "    return metrics\n",
        "\n",
        "# Создадим список моделей для тестирования\n",
        "models = [\n",
        "    LogisticRegression(random_state=42, solver='liblinear'),\n",
        "    DecisionTreeClassifier(random_state=42),\n",
        "    RandomForestClassifier(random_state=42),\n",
        "    XGBClassifier(eval_metric='logloss', random_state=42)\n",
        "]\n",
        "\n",
        "# Список методов балансировки\n",
        "balance_methods = [None, 'class_weight', 'downsample', 'upsample', 'smote']\n",
        "\n",
        "# Создадим список для хранения результатов\n",
        "results = []\n",
        "\n",
        "# Тестируем каждую модель с каждым методом балансировки\n",
        "for model in models:\n",
        "    for method in balance_methods:\n",
        "        try:\n",
        "            metrics = evaluate_model(\n",
        "                model=model,\n",
        "                X_train=features_train,\n",
        "                X_valid=features_valid,\n",
        "                y_train=target_train,\n",
        "                y_valid=target_valid,\n",
        "                balance_method=method\n",
        "            )\n",
        "            results.append(metrics)\n",
        "        except Exception as e:\n",
        "            print(f\"Ошибка для модели {model.__class__.__name__} с методом {method}: {str(e)}\")\n",
        "\n",
        "# Создаем DataFrame с результатами\n",
        "results_df = pd.DataFrame(results)\n",
        "\n",
        "# Округляем числовые значения для лучшей читаемости\n",
        "numeric_columns = ['recall', 'precision', 'f1', 'auc_roc']\n",
        "results_df[numeric_columns] = results_df[numeric_columns].round(3)\n",
        "\n",
        "# Стилизация таблицы\n",
        "styled_df = results_df.style.background_gradient(subset=numeric_columns, cmap='YlOrRd')\\\n",
        "    .highlight_max(subset=numeric_columns, color='lightgreen')\\\n",
        "    .format(precision=3)\n",
        "\n",
        "# Выводим результаты\n",
        "print(\"\\nСравнительная таблица моделей:\")\n",
        "display(styled_df)"
      ]
    },
    {
      "cell_type": "markdown",
      "metadata": {
        "id": "5a82u9gHRXVR"
      },
      "source": [
        "Лучше всего показала себя модель **Random Forest** с методом устранения дисбаланса **upsample**"
      ]
    },
    {
      "cell_type": "markdown",
      "metadata": {
        "id": "TS2XxISqLbSy"
      },
      "source": [
        "## Улучшение качества модели"
      ]
    },
    {
      "cell_type": "markdown",
      "metadata": {
        "id": "gZq1ZbMATRRk"
      },
      "source": [
        "Для начала подготовим данные для обучения. Применим метод **Upsample** для тренировочной выборки."
      ]
    },
    {
      "cell_type": "code",
      "execution_count": 30,
      "metadata": {
        "id": "vZ2JyWTGTapQ"
      },
      "outputs": [],
      "source": [
        "X_train_balanced, y_train_balanced = upsample(features_train, target_train, 2) # если сильно увеличиваем, то модель переобучается"
      ]
    },
    {
      "cell_type": "markdown",
      "metadata": {
        "id": "9Nw28aB_-Pox"
      },
      "source": [
        "Найдем наилучшие гиперпараметры для модели **RandomForest**"
      ]
    },
    {
      "cell_type": "markdown",
      "metadata": {
        "id": "qIIzQM-i-Pox"
      },
      "source": [
        "Осуществим подбор гиперпараметрова через модуль **RandomizedSearchCV**"
      ]
    },
    {
      "cell_type": "code",
      "execution_count": 31,
      "metadata": {
        "colab": {
          "base_uri": "https://localhost:8080/"
        },
        "id": "dd01qMVh-Pox",
        "outputId": "413acfeb-9d98-4d3c-993c-8a637378dfa9"
      },
      "outputs": [
        {
          "output_type": "stream",
          "name": "stdout",
          "text": [
            "Fitting 5 folds for each of 50 candidates, totalling 250 fits\n",
            "Лучшие параметры: {'n_estimators': 400, 'min_samples_split': 3, 'min_samples_leaf': 1, 'max_features': 'log2', 'max_depth': 13}\n",
            "Лучший f1-score: 0.8199097154918416\n"
          ]
        }
      ],
      "source": [
        "param_dist = {\n",
        "    'n_estimators': range(100, 500, 50),\n",
        "    'max_depth': range(3, 15),\n",
        "    'min_samples_split': range(2, 10),\n",
        "    'min_samples_leaf': range(1, 5),\n",
        "    'max_features': ['sqrt', 'log2']\n",
        "}\n",
        "# Создаем модель\n",
        "rf = RandomForestClassifier(random_state=42, bootstrap=True)\n",
        "\n",
        "\n",
        "# Случайный поиск\n",
        "random_search = RandomizedSearchCV(\n",
        "    estimator=rf,\n",
        "    param_distributions=param_dist,\n",
        "    n_iter=50,\n",
        "    scoring='f1',\n",
        "    cv=5,\n",
        "    verbose=2,\n",
        "    random_state=42,\n",
        "    n_jobs=-1\n",
        ")\n",
        "\n",
        "# Обучаем модель\n",
        "random_search.fit(X_train_balanced, y_train_balanced)\n",
        "\n",
        "# Выводим лучшие параметры\n",
        "print(\"Лучшие параметры:\", random_search.best_params_)\n",
        "print(\"Лучший f1-score:\", random_search.best_score_)"
      ]
    },
    {
      "cell_type": "markdown",
      "metadata": {
        "id": "H937XiS--Pox"
      },
      "source": [
        "### Обучение финальной модели"
      ]
    },
    {
      "cell_type": "code",
      "execution_count": 32,
      "metadata": {
        "colab": {
          "base_uri": "https://localhost:8080/"
        },
        "id": "EHe0Fpvj-Pox",
        "outputId": "fc00da61-fdd9-47ba-ddb8-cb52b66c701b"
      },
      "outputs": [
        {
          "output_type": "stream",
          "name": "stdout",
          "text": [
            "\n",
            "Метрики на валидационной выборке:\n",
            "Полнота: 0.5686274509803921\n",
            "Точность: 0.6803519061583577\n",
            "F1-мера: 0.6194926568758344\n",
            "AUC-ROC: 0.7500800571484876\n"
          ]
        }
      ],
      "source": [
        "# Обучение финальной модели с лучшими параметрами\n",
        "best_params = random_search.best_params_\n",
        "final_model = RandomForestClassifier(**best_params, random_state=42, bootstrap=True)\n",
        "final_model.fit(X_train_balanced, y_train_balanced)\n",
        "\n",
        "# Оценка на валидационной выборке\n",
        "predictions = final_model.predict(features_valid)\n",
        "print(\"\\nМетрики на валидационной выборке:\")\n",
        "print(\"Полнота:\", recall_score(target_valid, predictions))\n",
        "print(\"Точность:\", precision_score(target_valid, predictions))\n",
        "print(\"F1-мера:\", f1_score(target_valid, predictions))\n",
        "print(\"AUC-ROC:\", roc_auc_score(target_valid, predictions))"
      ]
    },
    {
      "cell_type": "markdown",
      "metadata": {
        "id": "RC0evk84-Poy"
      },
      "source": [
        "### Проверка финальной модели на адекватность"
      ]
    },
    {
      "cell_type": "code",
      "execution_count": 33,
      "metadata": {
        "colab": {
          "base_uri": "https://localhost:8080/",
          "height": 115
        },
        "id": "oUXz0fCA-Poy",
        "outputId": "21a403db-6538-488b-b2ef-4c6eff79e9a6"
      },
      "outputs": [
        {
          "output_type": "execute_result",
          "data": {
            "text/plain": [
              "0    2000\n",
              "Name: count, dtype: int64"
            ],
            "text/html": [
              "<div>\n",
              "<style scoped>\n",
              "    .dataframe tbody tr th:only-of-type {\n",
              "        vertical-align: middle;\n",
              "    }\n",
              "\n",
              "    .dataframe tbody tr th {\n",
              "        vertical-align: top;\n",
              "    }\n",
              "\n",
              "    .dataframe thead th {\n",
              "        text-align: right;\n",
              "    }\n",
              "</style>\n",
              "<table border=\"1\" class=\"dataframe\">\n",
              "  <thead>\n",
              "    <tr style=\"text-align: right;\">\n",
              "      <th></th>\n",
              "      <th>count</th>\n",
              "    </tr>\n",
              "  </thead>\n",
              "  <tbody>\n",
              "    <tr>\n",
              "      <th>0</th>\n",
              "      <td>2000</td>\n",
              "    </tr>\n",
              "  </tbody>\n",
              "</table>\n",
              "</div><br><label><b>dtype:</b> int64</label>"
            ]
          },
          "metadata": {},
          "execution_count": 33
        }
      ],
      "source": [
        "# Создадим константную модель\n",
        "target_predict_constant = pd.Series([0]*len(target_valid))\n",
        "target_predict_constant.value_counts()"
      ]
    },
    {
      "cell_type": "code",
      "execution_count": 34,
      "metadata": {
        "colab": {
          "base_uri": "https://localhost:8080/"
        },
        "id": "SvNDrYcI-Poy",
        "outputId": "1c642a60-80b2-4b76-8568-2fcc474b3d30"
      },
      "outputs": [
        {
          "output_type": "stream",
          "name": "stdout",
          "text": [
            "f1_score константой модели: 0.0\n",
            "f1_score финальной модели: 0.6194926568758344\n",
            "AUC-ROC константой модели: 0.5\n",
            "AUC-ROC финальной модели: 0.7500800571484876\n"
          ]
        }
      ],
      "source": [
        "# Сравним показатели accuracy_score и AUC-ROC константной модели и финальной\n",
        "print('f1_score константой модели:', f1_score(target_valid, target_predict_constant))\n",
        "print('f1_score финальной модели:', f1_score(target_valid, predictions))\n",
        "print('AUC-ROC константой модели:', roc_auc_score(target_valid, target_predict_constant))\n",
        "print('AUC-ROC финальной модели:', roc_auc_score(target_valid, predictions))"
      ]
    },
    {
      "cell_type": "markdown",
      "metadata": {
        "id": "haEYkh4n-Poy"
      },
      "source": [
        "Финальную модель можно считать адекватной, т.к. её показатели выше показателей константной модели."
      ]
    },
    {
      "cell_type": "markdown",
      "metadata": {
        "id": "SuvpBOVm-Poy"
      },
      "source": [
        "**Выводы:**\n",
        "\n",
        "+ в первоначальных данных наблюдался дисбаланс. Методом upsampling мы его устранили;\n",
        "\n",
        "\n",
        "+ На сбалансированных данных модели показали результат лучше, чем на несбалансированных данных;\n",
        "\n",
        "\n",
        "+ Наблюдается переобучение модели. Нужно больше данных, чтобы модель не переобучалась;\n",
        "\n",
        "\n",
        "+ Финальная модель прошла проверку на адекватность."
      ]
    },
    {
      "cell_type": "markdown",
      "metadata": {
        "id": "2EyfXlEg-Poy"
      },
      "source": [
        "## Тестирование модели"
      ]
    },
    {
      "cell_type": "code",
      "execution_count": 35,
      "metadata": {
        "colab": {
          "base_uri": "https://localhost:8080/"
        },
        "id": "PUtWtjDG-Poy",
        "outputId": "b966d978-114f-49d7-969e-0c2aa87cf446"
      },
      "outputs": [
        {
          "output_type": "stream",
          "name": "stdout",
          "text": [
            "\n",
            "Метрики на Тестовой выборке:\n",
            "Полнота 0.5282555282555282\n",
            "Точность 0.6677018633540373\n",
            "F1-мера 0.5898491083676268\n",
            "AUC-ROC 0.7305433322382475\n"
          ]
        }
      ],
      "source": [
        "# Замерим метрики по тестовой выборке\n",
        "RandomForest_prediction_final_test = final_model.predict(features_test)\n",
        "print(\"\\nМетрики на Тестовой выборке:\")\n",
        "print(\"Полнота\" , recall_score(target_test, RandomForest_prediction_final_test))\n",
        "print(\"Точность\", precision_score(target_test, RandomForest_prediction_final_test))\n",
        "print(\"F1-мера\", f1_score(target_test, RandomForest_prediction_final_test))\n",
        "print(\"AUC-ROC\", roc_auc_score(target_test, RandomForest_prediction_final_test))"
      ]
    },
    {
      "cell_type": "code",
      "execution_count": 36,
      "metadata": {
        "colab": {
          "base_uri": "https://localhost:8080/",
          "height": 472
        },
        "id": "xwOKZl8v-Poy",
        "outputId": "e8b23fc4-e2c1-4937-ce60-c7178f90d8ef"
      },
      "outputs": [
        {
          "output_type": "display_data",
          "data": {
            "text/plain": [
              "<Figure size 640x480 with 1 Axes>"
            ],
            "image/png": "[encoded data removed]"
          },
          "metadata": {}
        }
      ],
      "source": [
        "# Построим ROC-кривую финальной модели по тестовой выборке\n",
        "final_model_probabilities_one = final_model.predict_proba(features_test)[:, 1]\n",
        "\n",
        "fpr, tpr, thresholds = roc_curve(target_test, final_model_probabilities_one)\n",
        "\n",
        "plt.figure()\n",
        "plt.plot(fpr, tpr)\n",
        "plt.plot([0, 1], [0, 1], linestyle='--')\n",
        "plt.xlim([0.0, 1.0])\n",
        "plt.ylim([0.0, 1.0])\n",
        "plt.xlabel('False Positive Rate')\n",
        "plt.ylabel('True Positive Rate')\n",
        "plt.title('ROC-кривая')\n",
        "plt.show()"
      ]
    }
  ],
  "metadata": {
    "ExecuteTimeLog": [
      {
        "duration": 46,
        "start_time": "2022-06-18T16:12:52.441Z"
      },
      {
        "duration": 1105,
        "start_time": "2022-06-18T16:12:55.600Z"
      },
      {
        "duration": 86,
        "start_time": "2022-06-18T16:12:56.750Z"
      },
      {
        "duration": 60,
        "start_time": "2022-06-18T16:13:09.781Z"
      },
      {
        "duration": 63,
        "start_time": "2022-06-18T16:17:08.904Z"
      },
      {
        "duration": 39,
        "start_time": "2022-06-18T16:17:28.580Z"
      },
      {
        "duration": 55,
        "start_time": "2022-06-18T16:17:33.086Z"
      },
      {
        "duration": 65,
        "start_time": "2022-06-18T16:17:40.377Z"
      },
      {
        "duration": 78,
        "start_time": "2022-06-18T16:27:48.976Z"
      },
      {
        "duration": 14,
        "start_time": "2022-06-18T16:27:53.065Z"
      },
      {
        "duration": 10,
        "start_time": "2022-06-18T16:48:25.911Z"
      },
      {
        "duration": 3,
        "start_time": "2022-06-18T16:50:34.590Z"
      },
      {
        "duration": 11,
        "start_time": "2022-06-18T16:51:40.207Z"
      },
      {
        "duration": 18,
        "start_time": "2022-06-18T16:51:44.840Z"
      },
      {
        "duration": 6,
        "start_time": "2022-06-18T16:54:10.121Z"
      },
      {
        "duration": 5,
        "start_time": "2022-06-18T16:55:30.486Z"
      },
      {
        "duration": 16,
        "start_time": "2022-06-18T16:55:43.137Z"
      },
      {
        "duration": 9,
        "start_time": "2022-06-18T16:56:02.231Z"
      },
      {
        "duration": 5,
        "start_time": "2022-06-18T16:56:24.306Z"
      },
      {
        "duration": 376,
        "start_time": "2022-06-18T16:56:36.620Z"
      },
      {
        "duration": 5,
        "start_time": "2022-06-18T16:56:39.550Z"
      },
      {
        "duration": 5,
        "start_time": "2022-06-18T16:56:50.882Z"
      },
      {
        "duration": 5,
        "start_time": "2022-06-18T17:06:19.817Z"
      },
      {
        "duration": 5,
        "start_time": "2022-06-19T08:55:53.613Z"
      },
      {
        "duration": 29,
        "start_time": "2022-06-19T08:56:25.506Z"
      },
      {
        "duration": 14,
        "start_time": "2022-06-19T09:32:49.702Z"
      },
      {
        "duration": 1059,
        "start_time": "2022-06-19T09:32:54.876Z"
      },
      {
        "duration": 67,
        "start_time": "2022-06-19T09:32:55.937Z"
      },
      {
        "duration": 12,
        "start_time": "2022-06-19T09:32:56.005Z"
      },
      {
        "duration": 14,
        "start_time": "2022-06-19T09:32:56.019Z"
      },
      {
        "duration": 6,
        "start_time": "2022-06-19T09:32:56.034Z"
      },
      {
        "duration": 19,
        "start_time": "2022-06-19T09:32:56.042Z"
      },
      {
        "duration": 5,
        "start_time": "2022-06-19T09:32:56.062Z"
      },
      {
        "duration": 11,
        "start_time": "2022-06-19T09:32:56.069Z"
      },
      {
        "duration": 9,
        "start_time": "2022-06-19T09:32:56.082Z"
      },
      {
        "duration": 13,
        "start_time": "2022-06-19T09:32:56.093Z"
      },
      {
        "duration": 20,
        "start_time": "2022-06-19T09:45:55.016Z"
      },
      {
        "duration": 19,
        "start_time": "2022-06-19T10:15:04.015Z"
      },
      {
        "duration": 110,
        "start_time": "2022-06-19T10:15:06.155Z"
      },
      {
        "duration": 7,
        "start_time": "2022-06-19T10:16:06.006Z"
      },
      {
        "duration": 8,
        "start_time": "2022-06-19T10:17:01.587Z"
      },
      {
        "duration": 5,
        "start_time": "2022-06-19T10:20:13.009Z"
      },
      {
        "duration": 9,
        "start_time": "2022-06-19T10:20:45.515Z"
      },
      {
        "duration": 31,
        "start_time": "2022-06-19T10:20:52.327Z"
      },
      {
        "duration": 4,
        "start_time": "2022-06-19T10:21:00.701Z"
      },
      {
        "duration": 4,
        "start_time": "2022-06-19T10:21:28.726Z"
      },
      {
        "duration": 4,
        "start_time": "2022-06-19T10:26:04.215Z"
      },
      {
        "duration": 1071,
        "start_time": "2022-06-19T10:26:08.148Z"
      },
      {
        "duration": 66,
        "start_time": "2022-06-19T10:26:09.221Z"
      },
      {
        "duration": 16,
        "start_time": "2022-06-19T10:26:09.290Z"
      },
      {
        "duration": 15,
        "start_time": "2022-06-19T10:26:09.309Z"
      },
      {
        "duration": 6,
        "start_time": "2022-06-19T10:26:09.326Z"
      },
      {
        "duration": 14,
        "start_time": "2022-06-19T10:26:09.334Z"
      },
      {
        "duration": 5,
        "start_time": "2022-06-19T10:26:09.350Z"
      },
      {
        "duration": 6,
        "start_time": "2022-06-19T10:26:09.357Z"
      },
      {
        "duration": 6,
        "start_time": "2022-06-19T10:26:09.364Z"
      },
      {
        "duration": 16,
        "start_time": "2022-06-19T10:26:09.372Z"
      },
      {
        "duration": 50,
        "start_time": "2022-06-19T10:26:09.390Z"
      },
      {
        "duration": 9,
        "start_time": "2022-06-19T10:26:09.442Z"
      },
      {
        "duration": 7,
        "start_time": "2022-06-19T10:26:09.453Z"
      },
      {
        "duration": 7,
        "start_time": "2022-06-19T10:26:09.462Z"
      },
      {
        "duration": 3,
        "start_time": "2022-06-19T10:30:35.995Z"
      },
      {
        "duration": 9,
        "start_time": "2022-06-19T10:32:17.378Z"
      },
      {
        "duration": 122,
        "start_time": "2022-06-19T10:33:01.769Z"
      },
      {
        "duration": 21,
        "start_time": "2022-06-19T10:33:05.451Z"
      },
      {
        "duration": 19,
        "start_time": "2022-06-19T10:34:49.398Z"
      },
      {
        "duration": 21,
        "start_time": "2022-06-19T10:34:51.782Z"
      },
      {
        "duration": 1160,
        "start_time": "2022-06-19T10:36:54.015Z"
      },
      {
        "duration": 67,
        "start_time": "2022-06-19T10:36:55.177Z"
      },
      {
        "duration": 16,
        "start_time": "2022-06-19T10:36:55.246Z"
      },
      {
        "duration": 24,
        "start_time": "2022-06-19T10:36:55.265Z"
      },
      {
        "duration": 18,
        "start_time": "2022-06-19T10:36:55.291Z"
      },
      {
        "duration": 26,
        "start_time": "2022-06-19T10:36:55.311Z"
      },
      {
        "duration": 5,
        "start_time": "2022-06-19T10:36:55.339Z"
      },
      {
        "duration": 8,
        "start_time": "2022-06-19T10:36:55.346Z"
      },
      {
        "duration": 9,
        "start_time": "2022-06-19T10:36:55.356Z"
      },
      {
        "duration": 18,
        "start_time": "2022-06-19T10:36:55.367Z"
      },
      {
        "duration": 44,
        "start_time": "2022-06-19T10:36:55.387Z"
      },
      {
        "duration": 10,
        "start_time": "2022-06-19T10:36:55.433Z"
      },
      {
        "duration": 8,
        "start_time": "2022-06-19T10:36:55.445Z"
      },
      {
        "duration": 7,
        "start_time": "2022-06-19T10:36:55.455Z"
      },
      {
        "duration": 6,
        "start_time": "2022-06-19T10:36:55.463Z"
      },
      {
        "duration": 10,
        "start_time": "2022-06-19T10:36:55.471Z"
      },
      {
        "duration": 51,
        "start_time": "2022-06-19T10:36:55.483Z"
      },
      {
        "duration": 20,
        "start_time": "2022-06-19T10:36:55.535Z"
      },
      {
        "duration": 19,
        "start_time": "2022-06-19T10:36:55.557Z"
      },
      {
        "duration": 84,
        "start_time": "2022-06-19T14:19:12.807Z"
      },
      {
        "duration": 1212,
        "start_time": "2022-06-19T14:19:18.163Z"
      },
      {
        "duration": 119,
        "start_time": "2022-06-19T14:19:19.378Z"
      },
      {
        "duration": 16,
        "start_time": "2022-06-19T14:19:19.500Z"
      },
      {
        "duration": 18,
        "start_time": "2022-06-19T14:19:19.518Z"
      },
      {
        "duration": 17,
        "start_time": "2022-06-19T14:19:19.543Z"
      },
      {
        "duration": 16,
        "start_time": "2022-06-19T14:19:19.563Z"
      },
      {
        "duration": 6,
        "start_time": "2022-06-19T14:19:19.582Z"
      },
      {
        "duration": 10,
        "start_time": "2022-06-19T14:19:19.591Z"
      },
      {
        "duration": 23,
        "start_time": "2022-06-19T14:19:19.604Z"
      },
      {
        "duration": 35,
        "start_time": "2022-06-19T14:19:19.629Z"
      },
      {
        "duration": 24,
        "start_time": "2022-06-19T14:19:19.666Z"
      },
      {
        "duration": 10,
        "start_time": "2022-06-19T14:19:19.693Z"
      },
      {
        "duration": 9,
        "start_time": "2022-06-19T14:19:19.705Z"
      },
      {
        "duration": 21,
        "start_time": "2022-06-19T14:19:19.727Z"
      },
      {
        "duration": 10,
        "start_time": "2022-06-19T14:19:19.750Z"
      },
      {
        "duration": 15,
        "start_time": "2022-06-19T14:19:19.763Z"
      },
      {
        "duration": 22,
        "start_time": "2022-06-19T14:19:19.780Z"
      },
      {
        "duration": 37,
        "start_time": "2022-06-19T14:19:19.805Z"
      },
      {
        "duration": 30,
        "start_time": "2022-06-19T14:19:19.843Z"
      },
      {
        "duration": 30,
        "start_time": "2022-06-19T14:19:42.049Z"
      },
      {
        "duration": 1202,
        "start_time": "2022-06-19T14:19:48.362Z"
      },
      {
        "duration": 65,
        "start_time": "2022-06-19T14:19:49.566Z"
      },
      {
        "duration": 15,
        "start_time": "2022-06-19T14:19:49.632Z"
      },
      {
        "duration": 17,
        "start_time": "2022-06-19T14:19:49.650Z"
      },
      {
        "duration": 16,
        "start_time": "2022-06-19T14:19:49.669Z"
      },
      {
        "duration": 22,
        "start_time": "2022-06-19T14:19:49.687Z"
      },
      {
        "duration": 18,
        "start_time": "2022-06-19T14:19:49.712Z"
      },
      {
        "duration": 28,
        "start_time": "2022-06-19T14:19:49.734Z"
      },
      {
        "duration": 18,
        "start_time": "2022-06-19T14:19:49.764Z"
      },
      {
        "duration": 30,
        "start_time": "2022-06-19T14:19:49.784Z"
      },
      {
        "duration": 24,
        "start_time": "2022-06-19T14:19:49.816Z"
      },
      {
        "duration": 18,
        "start_time": "2022-06-19T14:19:49.842Z"
      },
      {
        "duration": 8,
        "start_time": "2022-06-19T14:19:49.861Z"
      },
      {
        "duration": 10,
        "start_time": "2022-06-19T14:19:49.870Z"
      },
      {
        "duration": 6,
        "start_time": "2022-06-19T14:19:49.881Z"
      },
      {
        "duration": 13,
        "start_time": "2022-06-19T14:19:49.889Z"
      },
      {
        "duration": 42,
        "start_time": "2022-06-19T14:19:49.904Z"
      },
      {
        "duration": 35,
        "start_time": "2022-06-19T14:19:49.947Z"
      },
      {
        "duration": 17,
        "start_time": "2022-06-19T14:19:49.984Z"
      },
      {
        "duration": 1084,
        "start_time": "2022-06-20T16:36:58.020Z"
      },
      {
        "duration": 114,
        "start_time": "2022-06-20T16:36:59.106Z"
      },
      {
        "duration": 12,
        "start_time": "2022-06-20T16:36:59.221Z"
      },
      {
        "duration": 19,
        "start_time": "2022-06-20T16:36:59.235Z"
      },
      {
        "duration": 35,
        "start_time": "2022-06-20T16:36:59.256Z"
      },
      {
        "duration": 26,
        "start_time": "2022-06-20T16:36:59.293Z"
      },
      {
        "duration": 9,
        "start_time": "2022-06-20T16:36:59.320Z"
      },
      {
        "duration": 16,
        "start_time": "2022-06-20T16:36:59.330Z"
      },
      {
        "duration": 37,
        "start_time": "2022-06-20T16:36:59.347Z"
      },
      {
        "duration": 32,
        "start_time": "2022-06-20T16:36:59.386Z"
      },
      {
        "duration": 40,
        "start_time": "2022-06-20T16:36:59.420Z"
      },
      {
        "duration": 27,
        "start_time": "2022-06-20T16:36:59.462Z"
      },
      {
        "duration": 19,
        "start_time": "2022-06-20T16:36:59.491Z"
      },
      {
        "duration": 31,
        "start_time": "2022-06-20T16:36:59.513Z"
      },
      {
        "duration": 56,
        "start_time": "2022-06-20T16:36:59.546Z"
      },
      {
        "duration": 25,
        "start_time": "2022-06-20T16:36:59.603Z"
      },
      {
        "duration": 48,
        "start_time": "2022-06-20T16:36:59.629Z"
      },
      {
        "duration": 30,
        "start_time": "2022-06-20T16:36:59.679Z"
      },
      {
        "duration": 22,
        "start_time": "2022-06-20T16:36:59.711Z"
      },
      {
        "duration": 7,
        "start_time": "2022-06-20T16:44:11.849Z"
      },
      {
        "duration": 15,
        "start_time": "2022-06-20T16:44:30.958Z"
      },
      {
        "duration": 8,
        "start_time": "2022-06-20T16:44:32.080Z"
      },
      {
        "duration": 106,
        "start_time": "2022-06-20T17:07:38.645Z"
      },
      {
        "duration": 1096,
        "start_time": "2022-06-20T17:07:43.974Z"
      },
      {
        "duration": 64,
        "start_time": "2022-06-20T17:07:45.073Z"
      },
      {
        "duration": 11,
        "start_time": "2022-06-20T17:07:45.139Z"
      },
      {
        "duration": 32,
        "start_time": "2022-06-20T17:07:45.152Z"
      },
      {
        "duration": 9,
        "start_time": "2022-06-20T17:07:45.186Z"
      },
      {
        "duration": 15,
        "start_time": "2022-06-20T17:07:45.197Z"
      },
      {
        "duration": 4,
        "start_time": "2022-06-20T17:07:45.214Z"
      },
      {
        "duration": 14,
        "start_time": "2022-06-20T17:07:45.220Z"
      },
      {
        "duration": 7,
        "start_time": "2022-06-20T17:07:45.236Z"
      },
      {
        "duration": 23,
        "start_time": "2022-06-20T17:07:45.245Z"
      },
      {
        "duration": 37,
        "start_time": "2022-06-20T17:07:45.270Z"
      },
      {
        "duration": 9,
        "start_time": "2022-06-20T17:07:45.309Z"
      },
      {
        "duration": 24,
        "start_time": "2022-06-20T17:07:45.320Z"
      },
      {
        "duration": 28,
        "start_time": "2022-06-20T17:07:45.346Z"
      },
      {
        "duration": 22,
        "start_time": "2022-06-20T17:07:45.377Z"
      },
      {
        "duration": 26,
        "start_time": "2022-06-20T17:07:45.401Z"
      },
      {
        "duration": 23,
        "start_time": "2022-06-20T17:07:45.428Z"
      },
      {
        "duration": 20,
        "start_time": "2022-06-20T17:07:45.452Z"
      },
      {
        "duration": 18,
        "start_time": "2022-06-20T17:07:45.474Z"
      },
      {
        "duration": 45,
        "start_time": "2022-06-20T17:07:45.494Z"
      },
      {
        "duration": 28,
        "start_time": "2022-06-20T17:07:45.540Z"
      },
      {
        "duration": 27,
        "start_time": "2022-06-20T17:07:45.570Z"
      },
      {
        "duration": 178,
        "start_time": "2022-06-20T17:07:45.601Z"
      },
      {
        "duration": 203,
        "start_time": "2022-06-20T17:07:45.785Z"
      },
      {
        "duration": 30,
        "start_time": "2022-06-20T17:08:25.130Z"
      },
      {
        "duration": 1522,
        "start_time": "2022-06-20T17:08:26.317Z"
      },
      {
        "duration": 3070,
        "start_time": "2022-06-20T17:12:05.921Z"
      },
      {
        "duration": 3005,
        "start_time": "2022-06-20T17:12:18.587Z"
      },
      {
        "duration": 14579,
        "start_time": "2022-06-20T17:12:48.586Z"
      },
      {
        "duration": 3026,
        "start_time": "2022-06-20T17:13:04.594Z"
      },
      {
        "duration": 8716,
        "start_time": "2022-06-20T17:15:42.921Z"
      },
      {
        "duration": 725,
        "start_time": "2022-06-20T17:16:12.744Z"
      },
      {
        "duration": 8692,
        "start_time": "2022-06-20T17:22:12.438Z"
      },
      {
        "duration": 12607,
        "start_time": "2022-06-20T17:23:20.480Z"
      },
      {
        "duration": 2,
        "start_time": "2022-06-20T17:29:01.224Z"
      },
      {
        "duration": 1113,
        "start_time": "2022-06-21T05:05:45.907Z"
      },
      {
        "duration": 122,
        "start_time": "2022-06-21T05:05:47.022Z"
      },
      {
        "duration": 17,
        "start_time": "2022-06-21T05:05:47.145Z"
      },
      {
        "duration": 18,
        "start_time": "2022-06-21T05:05:47.171Z"
      },
      {
        "duration": 21,
        "start_time": "2022-06-21T05:05:47.191Z"
      },
      {
        "duration": 18,
        "start_time": "2022-06-21T05:05:47.214Z"
      },
      {
        "duration": 9,
        "start_time": "2022-06-21T05:05:47.234Z"
      },
      {
        "duration": 8,
        "start_time": "2022-06-21T05:05:47.245Z"
      },
      {
        "duration": 18,
        "start_time": "2022-06-21T05:05:47.254Z"
      },
      {
        "duration": 13,
        "start_time": "2022-06-21T05:05:47.275Z"
      },
      {
        "duration": 21,
        "start_time": "2022-06-21T05:05:47.290Z"
      },
      {
        "duration": 7,
        "start_time": "2022-06-21T05:05:47.313Z"
      },
      {
        "duration": 6,
        "start_time": "2022-06-21T05:05:47.322Z"
      },
      {
        "duration": 9,
        "start_time": "2022-06-21T05:05:47.329Z"
      },
      {
        "duration": 4,
        "start_time": "2022-06-21T05:05:47.340Z"
      },
      {
        "duration": 30,
        "start_time": "2022-06-21T05:05:47.345Z"
      },
      {
        "duration": 19,
        "start_time": "2022-06-21T05:05:47.377Z"
      },
      {
        "duration": 16,
        "start_time": "2022-06-21T05:05:47.398Z"
      },
      {
        "duration": 15,
        "start_time": "2022-06-21T05:05:47.416Z"
      },
      {
        "duration": 30,
        "start_time": "2022-06-21T05:05:47.432Z"
      },
      {
        "duration": 6,
        "start_time": "2022-06-21T05:05:47.471Z"
      },
      {
        "duration": 32,
        "start_time": "2022-06-21T05:05:47.478Z"
      },
      {
        "duration": 1401,
        "start_time": "2022-06-21T05:05:47.512Z"
      },
      {
        "duration": 49,
        "start_time": "2022-06-21T05:05:48.915Z"
      },
      {
        "duration": 8609,
        "start_time": "2022-06-21T05:05:48.965Z"
      },
      {
        "duration": 12296,
        "start_time": "2022-06-21T05:05:57.575Z"
      },
      {
        "duration": 636,
        "start_time": "2022-06-21T05:06:09.873Z"
      },
      {
        "duration": 126,
        "start_time": "2022-06-21T05:07:12.791Z"
      },
      {
        "duration": 11,
        "start_time": "2022-06-21T05:09:00.774Z"
      },
      {
        "duration": 1391,
        "start_time": "2022-06-21T05:14:39.689Z"
      },
      {
        "duration": 71,
        "start_time": "2022-06-21T05:14:41.083Z"
      },
      {
        "duration": 16,
        "start_time": "2022-06-21T05:14:41.156Z"
      },
      {
        "duration": 71,
        "start_time": "2022-06-21T05:14:41.174Z"
      },
      {
        "duration": 35,
        "start_time": "2022-06-21T05:14:41.248Z"
      },
      {
        "duration": 34,
        "start_time": "2022-06-21T05:14:41.285Z"
      },
      {
        "duration": 9,
        "start_time": "2022-06-21T05:14:41.321Z"
      },
      {
        "duration": 6,
        "start_time": "2022-06-21T05:14:41.332Z"
      },
      {
        "duration": 6,
        "start_time": "2022-06-21T05:14:41.340Z"
      },
      {
        "duration": 28,
        "start_time": "2022-06-21T05:14:41.348Z"
      },
      {
        "duration": 49,
        "start_time": "2022-06-21T05:14:41.378Z"
      },
      {
        "duration": 8,
        "start_time": "2022-06-21T05:14:41.429Z"
      },
      {
        "duration": 11,
        "start_time": "2022-06-21T05:14:41.439Z"
      },
      {
        "duration": 7,
        "start_time": "2022-06-21T05:14:41.453Z"
      },
      {
        "duration": 40,
        "start_time": "2022-06-21T05:14:41.462Z"
      },
      {
        "duration": 15,
        "start_time": "2022-06-21T05:14:41.504Z"
      },
      {
        "duration": 21,
        "start_time": "2022-06-21T05:14:41.521Z"
      },
      {
        "duration": 27,
        "start_time": "2022-06-21T05:14:41.543Z"
      },
      {
        "duration": 24,
        "start_time": "2022-06-21T05:14:41.572Z"
      },
      {
        "duration": 6,
        "start_time": "2022-06-21T05:14:41.598Z"
      },
      {
        "duration": 7,
        "start_time": "2022-06-21T05:14:41.605Z"
      },
      {
        "duration": 148,
        "start_time": "2022-06-21T05:14:41.614Z"
      },
      {
        "duration": 0,
        "start_time": "2022-06-21T05:14:41.771Z"
      },
      {
        "duration": 0,
        "start_time": "2022-06-21T05:14:41.772Z"
      },
      {
        "duration": 0,
        "start_time": "2022-06-21T05:14:41.773Z"
      },
      {
        "duration": 0,
        "start_time": "2022-06-21T05:14:41.775Z"
      },
      {
        "duration": 0,
        "start_time": "2022-06-21T05:14:41.776Z"
      },
      {
        "duration": 54,
        "start_time": "2022-06-21T05:15:26.881Z"
      },
      {
        "duration": 1166,
        "start_time": "2022-06-21T05:15:40.040Z"
      },
      {
        "duration": 65,
        "start_time": "2022-06-21T05:15:41.208Z"
      },
      {
        "duration": 14,
        "start_time": "2022-06-21T05:15:41.274Z"
      },
      {
        "duration": 34,
        "start_time": "2022-06-21T05:15:41.290Z"
      },
      {
        "duration": 23,
        "start_time": "2022-06-21T05:15:41.326Z"
      },
      {
        "duration": 45,
        "start_time": "2022-06-21T05:15:41.351Z"
      },
      {
        "duration": 18,
        "start_time": "2022-06-21T05:15:41.397Z"
      },
      {
        "duration": 26,
        "start_time": "2022-06-21T05:15:41.417Z"
      },
      {
        "duration": 46,
        "start_time": "2022-06-21T05:15:41.446Z"
      },
      {
        "duration": 23,
        "start_time": "2022-06-21T05:15:41.496Z"
      },
      {
        "duration": 46,
        "start_time": "2022-06-21T05:15:41.521Z"
      },
      {
        "duration": 15,
        "start_time": "2022-06-21T05:15:41.569Z"
      },
      {
        "duration": 9,
        "start_time": "2022-06-21T05:15:41.586Z"
      },
      {
        "duration": 5,
        "start_time": "2022-06-21T05:15:41.597Z"
      },
      {
        "duration": 6,
        "start_time": "2022-06-21T05:15:41.604Z"
      },
      {
        "duration": 16,
        "start_time": "2022-06-21T05:15:41.612Z"
      },
      {
        "duration": 48,
        "start_time": "2022-06-21T05:15:41.629Z"
      },
      {
        "duration": 20,
        "start_time": "2022-06-21T05:15:41.679Z"
      },
      {
        "duration": 21,
        "start_time": "2022-06-21T05:15:41.701Z"
      },
      {
        "duration": 7,
        "start_time": "2022-06-21T05:15:41.724Z"
      },
      {
        "duration": 29,
        "start_time": "2022-06-21T05:15:41.732Z"
      },
      {
        "duration": 68,
        "start_time": "2022-06-21T05:15:41.762Z"
      },
      {
        "duration": 99,
        "start_time": "2022-06-21T05:15:41.832Z"
      },
      {
        "duration": 0,
        "start_time": "2022-06-21T05:15:41.933Z"
      },
      {
        "duration": 0,
        "start_time": "2022-06-21T05:15:41.934Z"
      },
      {
        "duration": 0,
        "start_time": "2022-06-21T05:15:41.936Z"
      },
      {
        "duration": 0,
        "start_time": "2022-06-21T05:15:41.938Z"
      },
      {
        "duration": 678,
        "start_time": "2022-06-21T05:17:21.342Z"
      },
      {
        "duration": 166,
        "start_time": "2022-06-21T05:17:51.537Z"
      },
      {
        "duration": 1220,
        "start_time": "2022-06-21T05:22:08.925Z"
      },
      {
        "duration": 109,
        "start_time": "2022-06-21T05:22:10.147Z"
      },
      {
        "duration": 21,
        "start_time": "2022-06-21T05:22:10.260Z"
      },
      {
        "duration": 39,
        "start_time": "2022-06-21T05:22:10.284Z"
      },
      {
        "duration": 7,
        "start_time": "2022-06-21T05:22:10.325Z"
      },
      {
        "duration": 22,
        "start_time": "2022-06-21T05:22:10.334Z"
      },
      {
        "duration": 14,
        "start_time": "2022-06-21T05:22:10.358Z"
      },
      {
        "duration": 27,
        "start_time": "2022-06-21T05:22:10.382Z"
      },
      {
        "duration": 12,
        "start_time": "2022-06-21T05:22:10.411Z"
      },
      {
        "duration": 20,
        "start_time": "2022-06-21T05:22:10.426Z"
      },
      {
        "duration": 26,
        "start_time": "2022-06-21T05:22:10.448Z"
      },
      {
        "duration": 42,
        "start_time": "2022-06-21T05:22:10.476Z"
      },
      {
        "duration": 8,
        "start_time": "2022-06-21T05:22:10.520Z"
      },
      {
        "duration": 15,
        "start_time": "2022-06-21T05:22:10.530Z"
      },
      {
        "duration": 6,
        "start_time": "2022-06-21T05:22:10.547Z"
      },
      {
        "duration": 53,
        "start_time": "2022-06-21T05:22:10.555Z"
      },
      {
        "duration": 23,
        "start_time": "2022-06-21T05:22:10.610Z"
      },
      {
        "duration": 18,
        "start_time": "2022-06-21T05:22:10.635Z"
      },
      {
        "duration": 24,
        "start_time": "2022-06-21T05:22:10.654Z"
      },
      {
        "duration": 464,
        "start_time": "2022-06-21T05:22:10.680Z"
      },
      {
        "duration": 174,
        "start_time": "2022-06-21T05:22:11.146Z"
      },
      {
        "duration": 72,
        "start_time": "2022-06-21T05:22:11.322Z"
      },
      {
        "duration": 799,
        "start_time": "2022-06-21T05:22:11.396Z"
      },
      {
        "duration": 69,
        "start_time": "2022-06-21T05:22:12.199Z"
      },
      {
        "duration": 4896,
        "start_time": "2022-06-21T05:22:12.282Z"
      },
      {
        "duration": 6931,
        "start_time": "2022-06-21T05:22:17.180Z"
      },
      {
        "duration": 399,
        "start_time": "2022-06-21T05:22:24.113Z"
      },
      {
        "duration": 994,
        "start_time": "2022-06-21T05:25:10.988Z"
      },
      {
        "duration": 333,
        "start_time": "2022-06-21T05:28:00.881Z"
      },
      {
        "duration": 1179,
        "start_time": "2022-06-21T05:28:18.631Z"
      },
      {
        "duration": 68,
        "start_time": "2022-06-21T05:28:19.812Z"
      },
      {
        "duration": 19,
        "start_time": "2022-06-21T05:28:19.887Z"
      },
      {
        "duration": 62,
        "start_time": "2022-06-21T05:28:19.909Z"
      },
      {
        "duration": 52,
        "start_time": "2022-06-21T05:28:19.976Z"
      },
      {
        "duration": 74,
        "start_time": "2022-06-21T05:28:20.030Z"
      },
      {
        "duration": 25,
        "start_time": "2022-06-21T05:28:20.106Z"
      },
      {
        "duration": 57,
        "start_time": "2022-06-21T05:28:20.133Z"
      },
      {
        "duration": 35,
        "start_time": "2022-06-21T05:28:20.192Z"
      },
      {
        "duration": 74,
        "start_time": "2022-06-21T05:28:20.231Z"
      },
      {
        "duration": 44,
        "start_time": "2022-06-21T05:28:20.307Z"
      },
      {
        "duration": 59,
        "start_time": "2022-06-21T05:28:20.353Z"
      },
      {
        "duration": 21,
        "start_time": "2022-06-21T05:28:20.415Z"
      },
      {
        "duration": 17,
        "start_time": "2022-06-21T05:28:20.438Z"
      },
      {
        "duration": 64,
        "start_time": "2022-06-21T05:28:20.457Z"
      },
      {
        "duration": 48,
        "start_time": "2022-06-21T05:28:20.523Z"
      },
      {
        "duration": 48,
        "start_time": "2022-06-21T05:28:20.579Z"
      },
      {
        "duration": 19,
        "start_time": "2022-06-21T05:28:20.629Z"
      },
      {
        "duration": 72,
        "start_time": "2022-06-21T05:28:20.650Z"
      },
      {
        "duration": 425,
        "start_time": "2022-06-21T05:28:20.724Z"
      },
      {
        "duration": 130,
        "start_time": "2022-06-21T05:28:21.159Z"
      },
      {
        "duration": 44,
        "start_time": "2022-06-21T05:28:21.293Z"
      },
      {
        "duration": 793,
        "start_time": "2022-06-21T05:28:21.339Z"
      },
      {
        "duration": 381,
        "start_time": "2022-06-21T05:28:22.134Z"
      },
      {
        "duration": 0,
        "start_time": "2022-06-21T05:28:22.518Z"
      },
      {
        "duration": 0,
        "start_time": "2022-06-21T05:28:22.519Z"
      },
      {
        "duration": 0,
        "start_time": "2022-06-21T05:28:22.521Z"
      },
      {
        "duration": 57,
        "start_time": "2022-06-21T05:30:41.378Z"
      },
      {
        "duration": 88,
        "start_time": "2022-06-21T05:33:21.221Z"
      },
      {
        "duration": 87,
        "start_time": "2022-06-21T05:33:24.940Z"
      },
      {
        "duration": 56,
        "start_time": "2022-06-21T05:33:32.020Z"
      },
      {
        "duration": 946,
        "start_time": "2022-06-21T05:34:01.107Z"
      },
      {
        "duration": 83,
        "start_time": "2022-06-21T05:36:15.968Z"
      },
      {
        "duration": 101,
        "start_time": "2022-06-21T05:36:22.856Z"
      },
      {
        "duration": 81,
        "start_time": "2022-06-21T05:36:30.552Z"
      },
      {
        "duration": 68,
        "start_time": "2022-06-21T05:36:38.617Z"
      },
      {
        "duration": 130,
        "start_time": "2022-06-21T05:36:49.601Z"
      },
      {
        "duration": 70,
        "start_time": "2022-06-21T05:37:00.279Z"
      },
      {
        "duration": 77,
        "start_time": "2022-06-21T05:37:10.540Z"
      },
      {
        "duration": 876,
        "start_time": "2022-06-21T05:37:39.806Z"
      },
      {
        "duration": 209,
        "start_time": "2022-06-21T05:38:22.881Z"
      },
      {
        "duration": 192,
        "start_time": "2022-06-21T05:39:02.486Z"
      },
      {
        "duration": 176,
        "start_time": "2022-06-21T05:39:06.150Z"
      },
      {
        "duration": 428,
        "start_time": "2022-06-21T05:40:27.894Z"
      },
      {
        "duration": 373,
        "start_time": "2022-06-21T05:40:38.147Z"
      },
      {
        "duration": 23,
        "start_time": "2022-06-21T05:42:05.698Z"
      },
      {
        "duration": 30,
        "start_time": "2022-06-21T05:42:59.228Z"
      },
      {
        "duration": 2098,
        "start_time": "2022-06-21T05:43:05.635Z"
      },
      {
        "duration": 162,
        "start_time": "2022-06-21T05:43:07.736Z"
      },
      {
        "duration": 57,
        "start_time": "2022-06-21T05:43:07.909Z"
      },
      {
        "duration": 128,
        "start_time": "2022-06-21T05:43:07.974Z"
      },
      {
        "duration": 62,
        "start_time": "2022-06-21T05:43:08.120Z"
      },
      {
        "duration": 188,
        "start_time": "2022-06-21T05:43:08.185Z"
      },
      {
        "duration": 103,
        "start_time": "2022-06-21T05:43:08.383Z"
      },
      {
        "duration": 146,
        "start_time": "2022-06-21T05:43:08.494Z"
      },
      {
        "duration": 125,
        "start_time": "2022-06-21T05:43:08.645Z"
      },
      {
        "duration": 170,
        "start_time": "2022-06-21T05:43:08.778Z"
      },
      {
        "duration": 121,
        "start_time": "2022-06-21T05:43:08.950Z"
      },
      {
        "duration": 163,
        "start_time": "2022-06-21T05:43:09.074Z"
      },
      {
        "duration": 118,
        "start_time": "2022-06-21T05:43:09.253Z"
      },
      {
        "duration": 218,
        "start_time": "2022-06-21T05:43:09.386Z"
      },
      {
        "duration": 113,
        "start_time": "2022-06-21T05:43:09.617Z"
      },
      {
        "duration": 204,
        "start_time": "2022-06-21T05:43:09.733Z"
      },
      {
        "duration": 191,
        "start_time": "2022-06-21T05:43:09.941Z"
      },
      {
        "duration": 106,
        "start_time": "2022-06-21T05:43:10.142Z"
      },
      {
        "duration": 179,
        "start_time": "2022-06-21T05:43:10.251Z"
      },
      {
        "duration": 963,
        "start_time": "2022-06-21T05:43:10.439Z"
      },
      {
        "duration": 275,
        "start_time": "2022-06-21T05:43:11.405Z"
      },
      {
        "duration": 75,
        "start_time": "2022-06-21T05:43:11.686Z"
      },
      {
        "duration": 1173,
        "start_time": "2022-06-21T05:43:11.767Z"
      },
      {
        "duration": 500,
        "start_time": "2022-06-21T05:43:12.947Z"
      },
      {
        "duration": 185,
        "start_time": "2022-06-21T05:43:13.472Z"
      },
      {
        "duration": 6867,
        "start_time": "2022-06-21T05:43:13.706Z"
      },
      {
        "duration": 8998,
        "start_time": "2022-06-21T05:43:20.580Z"
      },
      {
        "duration": 663,
        "start_time": "2022-06-21T05:43:29.586Z"
      },
      {
        "duration": 500,
        "start_time": "2022-06-21T05:43:38.442Z"
      },
      {
        "duration": 140,
        "start_time": "2022-06-21T05:48:45.034Z"
      },
      {
        "duration": 369,
        "start_time": "2022-06-21T05:49:37.816Z"
      },
      {
        "duration": 15,
        "start_time": "2022-06-21T05:49:57.863Z"
      },
      {
        "duration": 2551,
        "start_time": "2022-06-21T05:50:03.957Z"
      },
      {
        "duration": 140,
        "start_time": "2022-06-21T05:50:06.522Z"
      },
      {
        "duration": 29,
        "start_time": "2022-06-21T05:50:06.667Z"
      },
      {
        "duration": 175,
        "start_time": "2022-06-21T05:50:06.701Z"
      },
      {
        "duration": 231,
        "start_time": "2022-06-21T05:50:06.891Z"
      },
      {
        "duration": 224,
        "start_time": "2022-06-21T05:50:07.134Z"
      },
      {
        "duration": 166,
        "start_time": "2022-06-21T05:50:07.364Z"
      },
      {
        "duration": 190,
        "start_time": "2022-06-21T05:50:07.536Z"
      },
      {
        "duration": 132,
        "start_time": "2022-06-21T05:50:07.738Z"
      },
      {
        "duration": 177,
        "start_time": "2022-06-21T05:50:07.879Z"
      },
      {
        "duration": 223,
        "start_time": "2022-06-21T05:50:08.061Z"
      },
      {
        "duration": 78,
        "start_time": "2022-06-21T05:50:08.290Z"
      },
      {
        "duration": 164,
        "start_time": "2022-06-21T05:50:08.374Z"
      },
      {
        "duration": 158,
        "start_time": "2022-06-21T05:50:08.549Z"
      },
      {
        "duration": 162,
        "start_time": "2022-06-21T05:50:08.718Z"
      },
      {
        "duration": 153,
        "start_time": "2022-06-21T05:50:08.885Z"
      },
      {
        "duration": 153,
        "start_time": "2022-06-21T05:50:09.043Z"
      },
      {
        "duration": 92,
        "start_time": "2022-06-21T05:50:09.202Z"
      },
      {
        "duration": 225,
        "start_time": "2022-06-21T05:50:09.302Z"
      },
      {
        "duration": 365,
        "start_time": "2022-06-21T05:50:09.530Z"
      },
      {
        "duration": 160,
        "start_time": "2022-06-21T05:50:09.900Z"
      },
      {
        "duration": 242,
        "start_time": "2022-06-21T05:50:10.065Z"
      },
      {
        "duration": 1058,
        "start_time": "2022-06-21T05:50:10.313Z"
      },
      {
        "duration": 474,
        "start_time": "2022-06-21T05:50:11.376Z"
      },
      {
        "duration": 5958,
        "start_time": "2022-06-21T05:50:11.876Z"
      },
      {
        "duration": 7847,
        "start_time": "2022-06-21T05:50:17.835Z"
      },
      {
        "duration": 487,
        "start_time": "2022-06-21T05:50:25.687Z"
      },
      {
        "duration": 1151,
        "start_time": "2022-06-21T05:51:27.879Z"
      },
      {
        "duration": 958,
        "start_time": "2022-06-21T05:51:32.943Z"
      },
      {
        "duration": 64,
        "start_time": "2022-06-21T05:54:59.538Z"
      },
      {
        "duration": 950,
        "start_time": "2022-06-21T05:55:03.165Z"
      },
      {
        "duration": 262,
        "start_time": "2022-06-21T05:55:05.825Z"
      },
      {
        "duration": 96,
        "start_time": "2022-06-21T06:16:30.543Z"
      },
      {
        "duration": 1050,
        "start_time": "2022-06-21T06:16:32.584Z"
      },
      {
        "duration": 2327,
        "start_time": "2022-06-21T06:26:42.145Z"
      },
      {
        "duration": 109,
        "start_time": "2022-06-21T06:26:44.478Z"
      },
      {
        "duration": 25,
        "start_time": "2022-06-21T06:26:44.592Z"
      },
      {
        "duration": 147,
        "start_time": "2022-06-21T06:26:44.623Z"
      },
      {
        "duration": 125,
        "start_time": "2022-06-21T06:26:44.780Z"
      },
      {
        "duration": 121,
        "start_time": "2022-06-21T06:26:44.917Z"
      },
      {
        "duration": 14,
        "start_time": "2022-06-21T06:26:45.040Z"
      },
      {
        "duration": 9,
        "start_time": "2022-06-21T06:26:45.056Z"
      },
      {
        "duration": 85,
        "start_time": "2022-06-21T06:26:45.066Z"
      },
      {
        "duration": 95,
        "start_time": "2022-06-21T06:26:45.154Z"
      },
      {
        "duration": 83,
        "start_time": "2022-06-21T06:26:45.251Z"
      },
      {
        "duration": 111,
        "start_time": "2022-06-21T06:26:45.344Z"
      },
      {
        "duration": 9,
        "start_time": "2022-06-21T06:26:45.457Z"
      },
      {
        "duration": 75,
        "start_time": "2022-06-21T06:26:45.473Z"
      },
      {
        "duration": 6,
        "start_time": "2022-06-21T06:26:45.550Z"
      },
      {
        "duration": 57,
        "start_time": "2022-06-21T06:26:45.558Z"
      },
      {
        "duration": 90,
        "start_time": "2022-06-21T06:26:45.620Z"
      },
      {
        "duration": 79,
        "start_time": "2022-06-21T06:26:45.717Z"
      },
      {
        "duration": 63,
        "start_time": "2022-06-21T06:26:45.815Z"
      },
      {
        "duration": 309,
        "start_time": "2022-06-21T06:26:45.881Z"
      },
      {
        "duration": 141,
        "start_time": "2022-06-21T06:26:46.195Z"
      },
      {
        "duration": 87,
        "start_time": "2022-06-21T06:26:46.344Z"
      },
      {
        "duration": 956,
        "start_time": "2022-06-21T06:26:46.433Z"
      },
      {
        "duration": 418,
        "start_time": "2022-06-21T06:26:47.391Z"
      },
      {
        "duration": 6216,
        "start_time": "2022-06-21T06:26:47.812Z"
      },
      {
        "duration": 9441,
        "start_time": "2022-06-21T06:26:54.030Z"
      },
      {
        "duration": 631,
        "start_time": "2022-06-21T06:27:03.473Z"
      },
      {
        "duration": 1849,
        "start_time": "2022-06-21T06:38:35.598Z"
      },
      {
        "duration": 109,
        "start_time": "2022-06-21T06:38:37.449Z"
      },
      {
        "duration": 88,
        "start_time": "2022-06-21T06:38:37.563Z"
      },
      {
        "duration": 122,
        "start_time": "2022-06-21T06:38:37.656Z"
      },
      {
        "duration": 41,
        "start_time": "2022-06-21T06:38:37.787Z"
      },
      {
        "duration": 53,
        "start_time": "2022-06-21T06:38:37.833Z"
      },
      {
        "duration": 37,
        "start_time": "2022-06-21T06:38:37.891Z"
      },
      {
        "duration": 59,
        "start_time": "2022-06-21T06:38:37.933Z"
      },
      {
        "duration": 18,
        "start_time": "2022-06-21T06:38:37.996Z"
      },
      {
        "duration": 210,
        "start_time": "2022-06-21T06:38:38.019Z"
      },
      {
        "duration": 49,
        "start_time": "2022-06-21T06:38:38.236Z"
      },
      {
        "duration": 64,
        "start_time": "2022-06-21T06:38:38.291Z"
      },
      {
        "duration": 201,
        "start_time": "2022-06-21T06:38:38.356Z"
      },
      {
        "duration": 75,
        "start_time": "2022-06-21T06:38:38.568Z"
      },
      {
        "duration": 31,
        "start_time": "2022-06-21T06:38:38.645Z"
      },
      {
        "duration": 179,
        "start_time": "2022-06-21T06:38:38.678Z"
      },
      {
        "duration": 113,
        "start_time": "2022-06-21T06:38:38.859Z"
      },
      {
        "duration": 126,
        "start_time": "2022-06-21T06:38:38.976Z"
      },
      {
        "duration": 134,
        "start_time": "2022-06-21T06:38:39.105Z"
      },
      {
        "duration": 269,
        "start_time": "2022-06-21T06:38:39.245Z"
      },
      {
        "duration": 184,
        "start_time": "2022-06-21T06:38:39.519Z"
      },
      {
        "duration": 89,
        "start_time": "2022-06-21T06:38:39.708Z"
      },
      {
        "duration": 1003,
        "start_time": "2022-06-21T06:38:39.799Z"
      },
      {
        "duration": 811,
        "start_time": "2022-06-21T06:38:40.804Z"
      },
      {
        "duration": 7138,
        "start_time": "2022-06-21T06:38:41.617Z"
      },
      {
        "duration": 7531,
        "start_time": "2022-06-21T06:38:48.760Z"
      },
      {
        "duration": 430,
        "start_time": "2022-06-21T06:38:56.293Z"
      },
      {
        "duration": 350,
        "start_time": "2022-06-21T07:28:27.896Z"
      },
      {
        "duration": 5,
        "start_time": "2022-06-21T07:42:08.158Z"
      },
      {
        "duration": 1424,
        "start_time": "2022-06-21T07:43:42.624Z"
      },
      {
        "duration": 78,
        "start_time": "2022-06-21T07:43:44.050Z"
      },
      {
        "duration": 12,
        "start_time": "2022-06-21T07:43:44.130Z"
      },
      {
        "duration": 12,
        "start_time": "2022-06-21T07:43:44.144Z"
      },
      {
        "duration": 33,
        "start_time": "2022-06-21T07:43:44.160Z"
      },
      {
        "duration": 19,
        "start_time": "2022-06-21T07:43:44.195Z"
      },
      {
        "duration": 4,
        "start_time": "2022-06-21T07:43:44.216Z"
      },
      {
        "duration": 10,
        "start_time": "2022-06-21T07:43:44.221Z"
      },
      {
        "duration": 6,
        "start_time": "2022-06-21T07:43:44.232Z"
      },
      {
        "duration": 15,
        "start_time": "2022-06-21T07:43:44.240Z"
      },
      {
        "duration": 30,
        "start_time": "2022-06-21T07:43:44.256Z"
      },
      {
        "duration": 12,
        "start_time": "2022-06-21T07:43:44.292Z"
      },
      {
        "duration": 19,
        "start_time": "2022-06-21T07:43:44.305Z"
      },
      {
        "duration": 12,
        "start_time": "2022-06-21T07:43:44.325Z"
      },
      {
        "duration": 21,
        "start_time": "2022-06-21T07:43:44.339Z"
      },
      {
        "duration": 52,
        "start_time": "2022-06-21T07:43:44.361Z"
      },
      {
        "duration": 37,
        "start_time": "2022-06-21T07:43:44.414Z"
      },
      {
        "duration": 32,
        "start_time": "2022-06-21T07:43:44.453Z"
      },
      {
        "duration": 38,
        "start_time": "2022-06-21T07:43:44.488Z"
      },
      {
        "duration": 148,
        "start_time": "2022-06-21T07:43:44.528Z"
      },
      {
        "duration": 127,
        "start_time": "2022-06-21T07:43:44.681Z"
      },
      {
        "duration": 62,
        "start_time": "2022-06-21T07:43:44.810Z"
      },
      {
        "duration": 820,
        "start_time": "2022-06-21T07:43:44.874Z"
      },
      {
        "duration": 79,
        "start_time": "2022-06-21T07:43:45.696Z"
      },
      {
        "duration": 87,
        "start_time": "2022-06-21T07:43:45.777Z"
      },
      {
        "duration": 78,
        "start_time": "2022-06-21T07:43:45.866Z"
      },
      {
        "duration": 4845,
        "start_time": "2022-06-21T07:43:45.946Z"
      },
      {
        "duration": 6187,
        "start_time": "2022-06-21T07:43:50.795Z"
      },
      {
        "duration": 289,
        "start_time": "2022-06-21T07:43:56.983Z"
      },
      {
        "duration": 49,
        "start_time": "2022-06-21T14:01:43.816Z"
      },
      {
        "duration": 1564,
        "start_time": "2022-06-21T14:01:49.649Z"
      },
      {
        "duration": 157,
        "start_time": "2022-06-21T14:01:51.215Z"
      },
      {
        "duration": 12,
        "start_time": "2022-06-21T14:01:51.373Z"
      },
      {
        "duration": 18,
        "start_time": "2022-06-21T14:01:51.387Z"
      },
      {
        "duration": 10,
        "start_time": "2022-06-21T14:01:51.407Z"
      },
      {
        "duration": 22,
        "start_time": "2022-06-21T14:01:51.419Z"
      },
      {
        "duration": 4,
        "start_time": "2022-06-21T14:01:51.443Z"
      },
      {
        "duration": 10,
        "start_time": "2022-06-21T14:01:51.448Z"
      },
      {
        "duration": 6,
        "start_time": "2022-06-21T14:01:51.459Z"
      },
      {
        "duration": 23,
        "start_time": "2022-06-21T14:01:51.467Z"
      },
      {
        "duration": 23,
        "start_time": "2022-06-21T14:01:51.491Z"
      },
      {
        "duration": 8,
        "start_time": "2022-06-21T14:01:51.516Z"
      },
      {
        "duration": 8,
        "start_time": "2022-06-21T14:01:51.525Z"
      },
      {
        "duration": 7,
        "start_time": "2022-06-21T14:01:51.536Z"
      },
      {
        "duration": 6,
        "start_time": "2022-06-21T14:01:51.545Z"
      },
      {
        "duration": 21,
        "start_time": "2022-06-21T14:01:51.552Z"
      },
      {
        "duration": 37,
        "start_time": "2022-06-21T14:01:51.575Z"
      },
      {
        "duration": 17,
        "start_time": "2022-06-21T14:01:51.613Z"
      },
      {
        "duration": 17,
        "start_time": "2022-06-21T14:01:51.632Z"
      },
      {
        "duration": 152,
        "start_time": "2022-06-21T14:01:51.650Z"
      },
      {
        "duration": 137,
        "start_time": "2022-06-21T14:01:51.803Z"
      },
      {
        "duration": 61,
        "start_time": "2022-06-21T14:01:51.942Z"
      },
      {
        "duration": 806,
        "start_time": "2022-06-21T14:01:52.005Z"
      },
      {
        "duration": 86,
        "start_time": "2022-06-21T14:01:52.812Z"
      },
      {
        "duration": 95,
        "start_time": "2022-06-21T14:01:52.899Z"
      },
      {
        "duration": 24,
        "start_time": "2022-06-21T14:01:52.996Z"
      },
      {
        "duration": 71,
        "start_time": "2022-06-21T14:01:53.022Z"
      },
      {
        "duration": 784,
        "start_time": "2022-06-21T14:01:53.095Z"
      },
      {
        "duration": 117,
        "start_time": "2022-06-21T14:01:53.881Z"
      },
      {
        "duration": 4607,
        "start_time": "2022-06-21T14:01:53.999Z"
      },
      {
        "duration": 6463,
        "start_time": "2022-06-21T14:01:58.607Z"
      },
      {
        "duration": 315,
        "start_time": "2022-06-21T14:02:05.072Z"
      },
      {
        "duration": 1399,
        "start_time": "2022-06-21T14:02:12.414Z"
      },
      {
        "duration": 169,
        "start_time": "2022-06-21T14:02:16.828Z"
      },
      {
        "duration": 8225,
        "start_time": "2022-06-21T14:02:45.044Z"
      },
      {
        "duration": 15325,
        "start_time": "2022-06-21T14:02:59.926Z"
      },
      {
        "duration": 8417,
        "start_time": "2022-06-21T14:03:33.410Z"
      },
      {
        "duration": 1386,
        "start_time": "2022-06-21T14:04:33.653Z"
      },
      {
        "duration": 159,
        "start_time": "2022-06-21T14:09:20.734Z"
      },
      {
        "duration": 4,
        "start_time": "2022-06-21T14:09:35.424Z"
      },
      {
        "duration": 1282,
        "start_time": "2022-06-21T14:09:54.191Z"
      },
      {
        "duration": 56,
        "start_time": "2022-06-21T14:09:55.475Z"
      },
      {
        "duration": 12,
        "start_time": "2022-06-21T14:09:55.533Z"
      },
      {
        "duration": 14,
        "start_time": "2022-06-21T14:09:55.546Z"
      },
      {
        "duration": 8,
        "start_time": "2022-06-21T14:09:55.563Z"
      },
      {
        "duration": 25,
        "start_time": "2022-06-21T14:09:55.573Z"
      },
      {
        "duration": 5,
        "start_time": "2022-06-21T14:09:55.599Z"
      },
      {
        "duration": 11,
        "start_time": "2022-06-21T14:09:55.605Z"
      },
      {
        "duration": 7,
        "start_time": "2022-06-21T14:09:55.617Z"
      },
      {
        "duration": 17,
        "start_time": "2022-06-21T14:09:55.625Z"
      },
      {
        "duration": 23,
        "start_time": "2022-06-21T14:09:55.643Z"
      },
      {
        "duration": 26,
        "start_time": "2022-06-21T14:09:55.668Z"
      },
      {
        "duration": 7,
        "start_time": "2022-06-21T14:09:55.696Z"
      },
      {
        "duration": 12,
        "start_time": "2022-06-21T14:09:55.705Z"
      },
      {
        "duration": 7,
        "start_time": "2022-06-21T14:09:55.719Z"
      },
      {
        "duration": 12,
        "start_time": "2022-06-21T14:09:55.728Z"
      },
      {
        "duration": 22,
        "start_time": "2022-06-21T14:09:55.741Z"
      },
      {
        "duration": 36,
        "start_time": "2022-06-21T14:09:55.765Z"
      },
      {
        "duration": 18,
        "start_time": "2022-06-21T14:09:55.802Z"
      },
      {
        "duration": 143,
        "start_time": "2022-06-21T14:09:55.821Z"
      },
      {
        "duration": 129,
        "start_time": "2022-06-21T14:09:55.965Z"
      },
      {
        "duration": 50,
        "start_time": "2022-06-21T14:09:56.096Z"
      },
      {
        "duration": 799,
        "start_time": "2022-06-21T14:09:56.148Z"
      },
      {
        "duration": 147,
        "start_time": "2022-06-21T14:09:56.949Z"
      },
      {
        "duration": 5,
        "start_time": "2022-06-21T14:09:57.099Z"
      },
      {
        "duration": 98,
        "start_time": "2022-06-21T14:09:57.106Z"
      },
      {
        "duration": 69,
        "start_time": "2022-06-21T14:09:57.205Z"
      },
      {
        "duration": 1386,
        "start_time": "2022-06-21T14:09:57.276Z"
      },
      {
        "duration": 132,
        "start_time": "2022-06-21T14:09:58.664Z"
      },
      {
        "duration": 15571,
        "start_time": "2022-06-21T14:09:58.798Z"
      },
      {
        "duration": 8426,
        "start_time": "2022-06-21T14:10:14.370Z"
      },
      {
        "duration": 1384,
        "start_time": "2022-06-21T14:10:22.798Z"
      },
      {
        "duration": 110,
        "start_time": "2022-06-21T14:10:24.184Z"
      },
      {
        "duration": 97,
        "start_time": "2022-06-21T14:11:32.383Z"
      },
      {
        "duration": 84,
        "start_time": "2022-06-21T14:11:38.228Z"
      },
      {
        "duration": 106,
        "start_time": "2022-06-21T14:16:52.550Z"
      },
      {
        "duration": 112,
        "start_time": "2022-06-21T14:16:55.486Z"
      },
      {
        "duration": 1250,
        "start_time": "2022-06-21T14:17:08.642Z"
      },
      {
        "duration": 55,
        "start_time": "2022-06-21T14:17:09.894Z"
      },
      {
        "duration": 13,
        "start_time": "2022-06-21T14:17:09.951Z"
      },
      {
        "duration": 13,
        "start_time": "2022-06-21T14:17:09.965Z"
      },
      {
        "duration": 8,
        "start_time": "2022-06-21T14:17:09.980Z"
      },
      {
        "duration": 14,
        "start_time": "2022-06-21T14:17:09.994Z"
      },
      {
        "duration": 7,
        "start_time": "2022-06-21T14:17:10.009Z"
      },
      {
        "duration": 10,
        "start_time": "2022-06-21T14:17:10.018Z"
      },
      {
        "duration": 13,
        "start_time": "2022-06-21T14:17:10.029Z"
      },
      {
        "duration": 19,
        "start_time": "2022-06-21T14:17:10.044Z"
      },
      {
        "duration": 31,
        "start_time": "2022-06-21T14:17:10.064Z"
      },
      {
        "duration": 8,
        "start_time": "2022-06-21T14:17:10.096Z"
      },
      {
        "duration": 7,
        "start_time": "2022-06-21T14:17:10.105Z"
      },
      {
        "duration": 8,
        "start_time": "2022-06-21T14:17:10.114Z"
      },
      {
        "duration": 5,
        "start_time": "2022-06-21T14:17:10.123Z"
      },
      {
        "duration": 12,
        "start_time": "2022-06-21T14:17:10.129Z"
      },
      {
        "duration": 21,
        "start_time": "2022-06-21T14:17:10.142Z"
      },
      {
        "duration": 45,
        "start_time": "2022-06-21T14:17:10.164Z"
      },
      {
        "duration": 16,
        "start_time": "2022-06-21T14:17:10.211Z"
      },
      {
        "duration": 140,
        "start_time": "2022-06-21T14:17:10.229Z"
      },
      {
        "duration": 124,
        "start_time": "2022-06-21T14:17:10.371Z"
      },
      {
        "duration": 45,
        "start_time": "2022-06-21T14:17:10.497Z"
      },
      {
        "duration": 769,
        "start_time": "2022-06-21T14:17:10.543Z"
      },
      {
        "duration": 90,
        "start_time": "2022-06-21T14:17:11.313Z"
      },
      {
        "duration": 4,
        "start_time": "2022-06-21T14:17:11.495Z"
      },
      {
        "duration": 13,
        "start_time": "2022-06-21T14:17:11.500Z"
      },
      {
        "duration": 123,
        "start_time": "2022-06-21T14:17:11.515Z"
      },
      {
        "duration": 61,
        "start_time": "2022-06-21T14:17:11.640Z"
      },
      {
        "duration": 1000,
        "start_time": "2022-06-21T14:17:11.702Z"
      },
      {
        "duration": 192,
        "start_time": "2022-06-21T14:17:12.703Z"
      },
      {
        "duration": 11034,
        "start_time": "2022-06-21T14:17:12.897Z"
      },
      {
        "duration": 8213,
        "start_time": "2022-06-21T14:17:23.933Z"
      },
      {
        "duration": 992,
        "start_time": "2022-06-21T14:17:32.147Z"
      },
      {
        "duration": 106,
        "start_time": "2022-06-21T14:17:33.140Z"
      },
      {
        "duration": 13845,
        "start_time": "2022-06-21T14:17:52.472Z"
      },
      {
        "duration": 8150,
        "start_time": "2022-06-21T14:18:18.246Z"
      },
      {
        "duration": 716,
        "start_time": "2022-06-21T14:18:44.999Z"
      },
      {
        "duration": 730,
        "start_time": "2022-06-21T14:20:28.167Z"
      },
      {
        "duration": 718,
        "start_time": "2022-06-21T14:20:32.696Z"
      },
      {
        "duration": 1047,
        "start_time": "2022-06-21T15:06:56.170Z"
      },
      {
        "duration": 1050,
        "start_time": "2022-06-21T15:07:07.750Z"
      },
      {
        "duration": 89,
        "start_time": "2022-06-21T15:07:25.692Z"
      },
      {
        "duration": 771,
        "start_time": "2022-06-21T15:07:30.934Z"
      },
      {
        "duration": 770,
        "start_time": "2022-06-21T15:07:39.485Z"
      },
      {
        "duration": 49,
        "start_time": "2022-06-21T18:52:14.784Z"
      },
      {
        "duration": 1551,
        "start_time": "2022-06-21T18:52:20.597Z"
      },
      {
        "duration": 179,
        "start_time": "2022-06-21T18:52:22.151Z"
      },
      {
        "duration": 15,
        "start_time": "2022-06-21T18:52:22.332Z"
      },
      {
        "duration": 17,
        "start_time": "2022-06-21T18:52:22.349Z"
      },
      {
        "duration": 18,
        "start_time": "2022-06-21T18:52:22.368Z"
      },
      {
        "duration": 19,
        "start_time": "2022-06-21T18:52:22.387Z"
      },
      {
        "duration": 5,
        "start_time": "2022-06-21T18:52:22.408Z"
      },
      {
        "duration": 17,
        "start_time": "2022-06-21T18:52:22.414Z"
      },
      {
        "duration": 14,
        "start_time": "2022-06-21T18:52:22.433Z"
      },
      {
        "duration": 21,
        "start_time": "2022-06-21T18:52:22.450Z"
      },
      {
        "duration": 55,
        "start_time": "2022-06-21T18:52:22.474Z"
      },
      {
        "duration": 9,
        "start_time": "2022-06-21T18:52:22.530Z"
      },
      {
        "duration": 16,
        "start_time": "2022-06-21T18:52:22.541Z"
      },
      {
        "duration": 33,
        "start_time": "2022-06-21T18:52:22.559Z"
      },
      {
        "duration": 9,
        "start_time": "2022-06-21T18:52:22.594Z"
      },
      {
        "duration": 19,
        "start_time": "2022-06-21T18:52:22.605Z"
      },
      {
        "duration": 33,
        "start_time": "2022-06-21T18:52:22.625Z"
      },
      {
        "duration": 17,
        "start_time": "2022-06-21T18:52:22.659Z"
      },
      {
        "duration": 20,
        "start_time": "2022-06-21T18:52:22.677Z"
      },
      {
        "duration": 152,
        "start_time": "2022-06-21T18:52:22.698Z"
      },
      {
        "duration": 128,
        "start_time": "2022-06-21T18:52:22.852Z"
      },
      {
        "duration": 65,
        "start_time": "2022-06-21T18:52:22.982Z"
      },
      {
        "duration": 789,
        "start_time": "2022-06-21T18:52:23.050Z"
      },
      {
        "duration": 108,
        "start_time": "2022-06-21T18:52:23.842Z"
      },
      {
        "duration": 136,
        "start_time": "2022-06-21T18:52:23.952Z"
      },
      {
        "duration": 754,
        "start_time": "2022-06-21T18:52:24.090Z"
      },
      {
        "duration": 198,
        "start_time": "2022-06-21T18:52:24.845Z"
      },
      {
        "duration": 4,
        "start_time": "2022-06-21T18:52:25.046Z"
      },
      {
        "duration": 16,
        "start_time": "2022-06-21T18:52:25.052Z"
      },
      {
        "duration": 117,
        "start_time": "2022-06-21T18:52:25.070Z"
      },
      {
        "duration": 62,
        "start_time": "2022-06-21T18:52:25.189Z"
      },
      {
        "duration": 1016,
        "start_time": "2022-06-21T18:52:25.253Z"
      },
      {
        "duration": 176,
        "start_time": "2022-06-21T18:52:26.271Z"
      },
      {
        "duration": 4,
        "start_time": "2022-06-21T18:52:26.449Z"
      },
      {
        "duration": 16,
        "start_time": "2022-06-21T18:52:26.455Z"
      },
      {
        "duration": 148,
        "start_time": "2022-06-21T18:52:26.473Z"
      },
      {
        "duration": 81,
        "start_time": "2022-06-21T18:52:26.623Z"
      },
      {
        "duration": 1036,
        "start_time": "2022-06-21T18:52:26.706Z"
      },
      {
        "duration": 198,
        "start_time": "2022-06-21T18:52:27.744Z"
      },
      {
        "duration": 13905,
        "start_time": "2022-06-21T18:52:27.943Z"
      },
      {
        "duration": 8382,
        "start_time": "2022-06-21T18:52:41.850Z"
      },
      {
        "duration": 752,
        "start_time": "2022-06-21T18:52:50.234Z"
      },
      {
        "duration": 5,
        "start_time": "2022-06-21T18:59:38.387Z"
      },
      {
        "duration": 1633,
        "start_time": "2022-06-21T19:00:03.114Z"
      },
      {
        "duration": 63,
        "start_time": "2022-06-21T19:00:04.749Z"
      },
      {
        "duration": 14,
        "start_time": "2022-06-21T19:00:04.817Z"
      },
      {
        "duration": 16,
        "start_time": "2022-06-21T19:00:04.833Z"
      },
      {
        "duration": 6,
        "start_time": "2022-06-21T19:00:04.851Z"
      },
      {
        "duration": 16,
        "start_time": "2022-06-21T19:00:04.858Z"
      },
      {
        "duration": 6,
        "start_time": "2022-06-21T19:00:04.876Z"
      },
      {
        "duration": 7,
        "start_time": "2022-06-21T19:00:04.884Z"
      },
      {
        "duration": 5,
        "start_time": "2022-06-21T19:00:04.894Z"
      },
      {
        "duration": 50,
        "start_time": "2022-06-21T19:00:04.901Z"
      },
      {
        "duration": 26,
        "start_time": "2022-06-21T19:00:04.953Z"
      },
      {
        "duration": 9,
        "start_time": "2022-06-21T19:00:04.981Z"
      },
      {
        "duration": 8,
        "start_time": "2022-06-21T19:00:04.992Z"
      },
      {
        "duration": 12,
        "start_time": "2022-06-21T19:00:05.003Z"
      },
      {
        "duration": 25,
        "start_time": "2022-06-21T19:00:05.017Z"
      },
      {
        "duration": 14,
        "start_time": "2022-06-21T19:00:05.044Z"
      },
      {
        "duration": 26,
        "start_time": "2022-06-21T19:00:05.060Z"
      },
      {
        "duration": 23,
        "start_time": "2022-06-21T19:00:05.089Z"
      },
      {
        "duration": 46,
        "start_time": "2022-06-21T19:00:05.114Z"
      },
      {
        "duration": 158,
        "start_time": "2022-06-21T19:00:05.162Z"
      },
      {
        "duration": 142,
        "start_time": "2022-06-21T19:00:05.322Z"
      },
      {
        "duration": 54,
        "start_time": "2022-06-21T19:00:05.466Z"
      },
      {
        "duration": 867,
        "start_time": "2022-06-21T19:00:05.522Z"
      },
      {
        "duration": 252,
        "start_time": "2022-06-21T19:00:06.391Z"
      },
      {
        "duration": 62,
        "start_time": "2022-06-21T19:00:06.645Z"
      },
      {
        "duration": 970,
        "start_time": "2022-06-21T19:00:06.714Z"
      },
      {
        "duration": 162,
        "start_time": "2022-06-21T19:00:07.686Z"
      },
      {
        "duration": 5,
        "start_time": "2022-06-21T19:00:07.852Z"
      },
      {
        "duration": 95,
        "start_time": "2022-06-21T19:00:07.860Z"
      },
      {
        "duration": 126,
        "start_time": "2022-06-21T19:00:07.957Z"
      },
      {
        "duration": 0,
        "start_time": "2022-06-21T19:00:08.086Z"
      },
      {
        "duration": 0,
        "start_time": "2022-06-21T19:00:08.087Z"
      },
      {
        "duration": 0,
        "start_time": "2022-06-21T19:00:08.089Z"
      },
      {
        "duration": 0,
        "start_time": "2022-06-21T19:00:08.090Z"
      },
      {
        "duration": 0,
        "start_time": "2022-06-21T19:00:08.091Z"
      },
      {
        "duration": 0,
        "start_time": "2022-06-21T19:00:08.093Z"
      },
      {
        "duration": 0,
        "start_time": "2022-06-21T19:00:08.094Z"
      },
      {
        "duration": 0,
        "start_time": "2022-06-21T19:00:08.096Z"
      },
      {
        "duration": 0,
        "start_time": "2022-06-21T19:00:08.097Z"
      },
      {
        "duration": 0,
        "start_time": "2022-06-21T19:00:08.098Z"
      },
      {
        "duration": 0,
        "start_time": "2022-06-21T19:00:08.100Z"
      },
      {
        "duration": 0,
        "start_time": "2022-06-21T19:00:08.101Z"
      },
      {
        "duration": 106,
        "start_time": "2022-06-21T19:00:25.429Z"
      },
      {
        "duration": 120,
        "start_time": "2022-06-21T19:00:50.093Z"
      },
      {
        "duration": 41,
        "start_time": "2022-06-21T19:01:19.757Z"
      },
      {
        "duration": 452,
        "start_time": "2022-06-21T19:01:46.996Z"
      },
      {
        "duration": 60,
        "start_time": "2022-06-21T19:01:49.886Z"
      },
      {
        "duration": 1511,
        "start_time": "2022-06-21T19:02:19.949Z"
      },
      {
        "duration": 67,
        "start_time": "2022-06-21T19:02:21.462Z"
      },
      {
        "duration": 15,
        "start_time": "2022-06-21T19:02:21.530Z"
      },
      {
        "duration": 15,
        "start_time": "2022-06-21T19:02:21.547Z"
      },
      {
        "duration": 18,
        "start_time": "2022-06-21T19:02:21.564Z"
      },
      {
        "duration": 17,
        "start_time": "2022-06-21T19:02:21.583Z"
      },
      {
        "duration": 6,
        "start_time": "2022-06-21T19:02:21.602Z"
      },
      {
        "duration": 8,
        "start_time": "2022-06-21T19:02:21.610Z"
      },
      {
        "duration": 23,
        "start_time": "2022-06-21T19:02:21.620Z"
      },
      {
        "duration": 15,
        "start_time": "2022-06-21T19:02:21.646Z"
      },
      {
        "duration": 31,
        "start_time": "2022-06-21T19:02:21.663Z"
      },
      {
        "duration": 9,
        "start_time": "2022-06-21T19:02:21.696Z"
      },
      {
        "duration": 8,
        "start_time": "2022-06-21T19:02:21.707Z"
      },
      {
        "duration": 26,
        "start_time": "2022-06-21T19:02:21.717Z"
      },
      {
        "duration": 6,
        "start_time": "2022-06-21T19:02:21.745Z"
      },
      {
        "duration": 16,
        "start_time": "2022-06-21T19:02:21.753Z"
      },
      {
        "duration": 25,
        "start_time": "2022-06-21T19:02:21.771Z"
      },
      {
        "duration": 44,
        "start_time": "2022-06-21T19:02:21.798Z"
      },
      {
        "duration": 21,
        "start_time": "2022-06-21T19:02:21.844Z"
      },
      {
        "duration": 165,
        "start_time": "2022-06-21T19:02:21.867Z"
      },
      {
        "duration": 145,
        "start_time": "2022-06-21T19:02:22.042Z"
      },
      {
        "duration": 64,
        "start_time": "2022-06-21T19:02:22.189Z"
      },
      {
        "duration": 841,
        "start_time": "2022-06-21T19:02:22.254Z"
      },
      {
        "duration": 151,
        "start_time": "2022-06-21T19:02:23.097Z"
      },
      {
        "duration": 138,
        "start_time": "2022-06-21T19:02:23.250Z"
      },
      {
        "duration": 840,
        "start_time": "2022-06-21T19:02:23.390Z"
      },
      {
        "duration": 118,
        "start_time": "2022-06-21T19:02:24.232Z"
      },
      {
        "duration": 106,
        "start_time": "2022-06-21T19:02:24.354Z"
      },
      {
        "duration": 38,
        "start_time": "2022-06-21T19:02:24.462Z"
      },
      {
        "duration": 131,
        "start_time": "2022-06-21T19:02:24.502Z"
      },
      {
        "duration": 37,
        "start_time": "2022-06-21T19:02:24.636Z"
      },
      {
        "duration": 469,
        "start_time": "2022-06-21T19:02:24.675Z"
      },
      {
        "duration": 105,
        "start_time": "2022-06-21T19:02:25.146Z"
      },
      {
        "duration": 4,
        "start_time": "2022-06-21T19:02:25.343Z"
      },
      {
        "duration": 17,
        "start_time": "2022-06-21T19:02:25.349Z"
      },
      {
        "duration": 135,
        "start_time": "2022-06-21T19:02:25.368Z"
      },
      {
        "duration": 67,
        "start_time": "2022-06-21T19:02:25.505Z"
      },
      {
        "duration": 1136,
        "start_time": "2022-06-21T19:02:25.573Z"
      },
      {
        "duration": 137,
        "start_time": "2022-06-21T19:02:26.711Z"
      },
      {
        "duration": 16789,
        "start_time": "2022-06-21T19:02:26.850Z"
      },
      {
        "duration": 9565,
        "start_time": "2022-06-21T19:02:43.642Z"
      },
      {
        "duration": 848,
        "start_time": "2022-06-21T19:02:53.209Z"
      },
      {
        "duration": 15589,
        "start_time": "2022-06-21T19:05:24.455Z"
      },
      {
        "duration": 279,
        "start_time": "2022-06-21T19:05:49.103Z"
      },
      {
        "duration": 193,
        "start_time": "2022-06-21T19:06:55.222Z"
      },
      {
        "duration": 1423,
        "start_time": "2022-06-21T19:07:11.880Z"
      },
      {
        "duration": 65,
        "start_time": "2022-06-21T19:07:13.305Z"
      },
      {
        "duration": 15,
        "start_time": "2022-06-21T19:07:13.372Z"
      },
      {
        "duration": 15,
        "start_time": "2022-06-21T19:07:13.389Z"
      },
      {
        "duration": 5,
        "start_time": "2022-06-21T19:07:13.407Z"
      },
      {
        "duration": 38,
        "start_time": "2022-06-21T19:07:13.414Z"
      },
      {
        "duration": 6,
        "start_time": "2022-06-21T19:07:13.454Z"
      },
      {
        "duration": 8,
        "start_time": "2022-06-21T19:07:13.462Z"
      },
      {
        "duration": 11,
        "start_time": "2022-06-21T19:07:13.472Z"
      },
      {
        "duration": 15,
        "start_time": "2022-06-21T19:07:13.486Z"
      },
      {
        "duration": 48,
        "start_time": "2022-06-21T19:07:13.502Z"
      },
      {
        "duration": 9,
        "start_time": "2022-06-21T19:07:13.552Z"
      },
      {
        "duration": 9,
        "start_time": "2022-06-21T19:07:13.562Z"
      },
      {
        "duration": 7,
        "start_time": "2022-06-21T19:07:13.574Z"
      },
      {
        "duration": 6,
        "start_time": "2022-06-21T19:07:13.583Z"
      },
      {
        "duration": 13,
        "start_time": "2022-06-21T19:07:13.591Z"
      },
      {
        "duration": 49,
        "start_time": "2022-06-21T19:07:13.606Z"
      },
      {
        "duration": 20,
        "start_time": "2022-06-21T19:07:13.657Z"
      },
      {
        "duration": 21,
        "start_time": "2022-06-21T19:07:13.678Z"
      },
      {
        "duration": 170,
        "start_time": "2022-06-21T19:07:13.701Z"
      },
      {
        "duration": 134,
        "start_time": "2022-06-21T19:07:13.873Z"
      },
      {
        "duration": 72,
        "start_time": "2022-06-21T19:07:14.009Z"
      },
      {
        "duration": 842,
        "start_time": "2022-06-21T19:07:14.083Z"
      },
      {
        "duration": 122,
        "start_time": "2022-06-21T19:07:14.928Z"
      },
      {
        "duration": 138,
        "start_time": "2022-06-21T19:07:15.052Z"
      },
      {
        "duration": 859,
        "start_time": "2022-06-21T19:07:15.192Z"
      },
      {
        "duration": 290,
        "start_time": "2022-06-21T19:07:16.053Z"
      },
      {
        "duration": 5,
        "start_time": "2022-06-21T19:07:16.344Z"
      },
      {
        "duration": 14,
        "start_time": "2022-06-21T19:07:16.351Z"
      },
      {
        "duration": 136,
        "start_time": "2022-06-21T19:07:16.366Z"
      },
      {
        "duration": 44,
        "start_time": "2022-06-21T19:07:16.504Z"
      },
      {
        "duration": 520,
        "start_time": "2022-06-21T19:07:16.550Z"
      },
      {
        "duration": 170,
        "start_time": "2022-06-21T19:07:17.072Z"
      },
      {
        "duration": 4,
        "start_time": "2022-06-21T19:07:17.244Z"
      },
      {
        "duration": 17,
        "start_time": "2022-06-21T19:07:17.249Z"
      },
      {
        "duration": 133,
        "start_time": "2022-06-21T19:07:17.268Z"
      },
      {
        "duration": 68,
        "start_time": "2022-06-21T19:07:17.403Z"
      },
      {
        "duration": 1129,
        "start_time": "2022-06-21T19:07:17.473Z"
      },
      {
        "duration": 140,
        "start_time": "2022-06-21T19:07:18.604Z"
      },
      {
        "duration": 400,
        "start_time": "2022-06-21T19:07:18.746Z"
      },
      {
        "duration": 0,
        "start_time": "2022-06-21T19:07:19.148Z"
      },
      {
        "duration": 0,
        "start_time": "2022-06-21T19:07:19.149Z"
      },
      {
        "duration": 15420,
        "start_time": "2022-06-21T19:08:36.185Z"
      },
      {
        "duration": 15324,
        "start_time": "2022-06-21T19:08:56.667Z"
      },
      {
        "duration": 9298,
        "start_time": "2022-06-21T19:09:13.353Z"
      },
      {
        "duration": 772,
        "start_time": "2022-06-21T19:12:59.452Z"
      },
      {
        "duration": 1448,
        "start_time": "2022-06-21T19:13:20.378Z"
      },
      {
        "duration": 62,
        "start_time": "2022-06-21T19:13:21.828Z"
      },
      {
        "duration": 14,
        "start_time": "2022-06-21T19:13:21.892Z"
      },
      {
        "duration": 14,
        "start_time": "2022-06-21T19:13:21.909Z"
      },
      {
        "duration": 5,
        "start_time": "2022-06-21T19:13:21.925Z"
      },
      {
        "duration": 15,
        "start_time": "2022-06-21T19:13:21.941Z"
      },
      {
        "duration": 6,
        "start_time": "2022-06-21T19:13:21.958Z"
      },
      {
        "duration": 11,
        "start_time": "2022-06-21T19:13:21.966Z"
      },
      {
        "duration": 6,
        "start_time": "2022-06-21T19:13:21.979Z"
      },
      {
        "duration": 14,
        "start_time": "2022-06-21T19:13:21.988Z"
      },
      {
        "duration": 56,
        "start_time": "2022-06-21T19:13:22.004Z"
      },
      {
        "duration": 17,
        "start_time": "2022-06-21T19:13:22.062Z"
      },
      {
        "duration": 16,
        "start_time": "2022-06-21T19:13:22.081Z"
      },
      {
        "duration": 12,
        "start_time": "2022-06-21T19:13:22.099Z"
      },
      {
        "duration": 9,
        "start_time": "2022-06-21T19:13:22.113Z"
      },
      {
        "duration": 23,
        "start_time": "2022-06-21T19:13:22.124Z"
      },
      {
        "duration": 24,
        "start_time": "2022-06-21T19:13:22.150Z"
      },
      {
        "duration": 19,
        "start_time": "2022-06-21T19:13:22.175Z"
      },
      {
        "duration": 47,
        "start_time": "2022-06-21T19:13:22.196Z"
      },
      {
        "duration": 147,
        "start_time": "2022-06-21T19:13:22.244Z"
      },
      {
        "duration": 135,
        "start_time": "2022-06-21T19:13:22.393Z"
      },
      {
        "duration": 57,
        "start_time": "2022-06-21T19:13:22.541Z"
      },
      {
        "duration": 831,
        "start_time": "2022-06-21T19:13:22.600Z"
      },
      {
        "duration": 209,
        "start_time": "2022-06-21T19:13:23.433Z"
      },
      {
        "duration": 52,
        "start_time": "2022-06-21T19:13:23.644Z"
      },
      {
        "duration": 830,
        "start_time": "2022-06-21T19:13:23.698Z"
      },
      {
        "duration": 121,
        "start_time": "2022-06-21T19:13:24.530Z"
      },
      {
        "duration": 5,
        "start_time": "2022-06-21T19:13:24.744Z"
      },
      {
        "duration": 13,
        "start_time": "2022-06-21T19:13:24.751Z"
      },
      {
        "duration": 131,
        "start_time": "2022-06-21T19:13:24.766Z"
      },
      {
        "duration": 44,
        "start_time": "2022-06-21T19:13:24.898Z"
      },
      {
        "duration": 458,
        "start_time": "2022-06-21T19:13:24.944Z"
      },
      {
        "duration": 139,
        "start_time": "2022-06-21T19:13:25.404Z"
      },
      {
        "duration": 5,
        "start_time": "2022-06-21T19:13:25.546Z"
      },
      {
        "duration": 93,
        "start_time": "2022-06-21T19:13:25.553Z"
      },
      {
        "duration": 142,
        "start_time": "2022-06-21T19:13:25.649Z"
      },
      {
        "duration": 67,
        "start_time": "2022-06-21T19:13:25.793Z"
      },
      {
        "duration": 1171,
        "start_time": "2022-06-21T19:13:25.862Z"
      },
      {
        "duration": 209,
        "start_time": "2022-06-21T19:13:27.035Z"
      },
      {
        "duration": 15280,
        "start_time": "2022-06-21T19:13:27.246Z"
      },
      {
        "duration": 9379,
        "start_time": "2022-06-21T19:13:42.528Z"
      },
      {
        "duration": 795,
        "start_time": "2022-06-21T19:13:51.909Z"
      },
      {
        "duration": 3,
        "start_time": "2022-06-21T19:14:42.841Z"
      },
      {
        "duration": 807,
        "start_time": "2022-06-21T19:15:57.249Z"
      },
      {
        "duration": 840,
        "start_time": "2022-06-21T19:18:23.702Z"
      },
      {
        "duration": 790,
        "start_time": "2022-06-21T19:18:39.481Z"
      },
      {
        "duration": 63,
        "start_time": "2022-06-21T19:19:49.803Z"
      },
      {
        "duration": 52,
        "start_time": "2022-06-22T15:10:12.290Z"
      },
      {
        "duration": 1551,
        "start_time": "2022-06-22T15:10:16.550Z"
      },
      {
        "duration": 93,
        "start_time": "2022-06-22T15:10:18.103Z"
      },
      {
        "duration": 12,
        "start_time": "2022-06-22T15:10:18.198Z"
      },
      {
        "duration": 13,
        "start_time": "2022-06-22T15:10:18.211Z"
      },
      {
        "duration": 7,
        "start_time": "2022-06-22T15:10:18.226Z"
      },
      {
        "duration": 15,
        "start_time": "2022-06-22T15:10:18.234Z"
      },
      {
        "duration": 4,
        "start_time": "2022-06-22T15:10:18.251Z"
      },
      {
        "duration": 6,
        "start_time": "2022-06-22T15:10:18.256Z"
      },
      {
        "duration": 7,
        "start_time": "2022-06-22T15:10:18.264Z"
      },
      {
        "duration": 15,
        "start_time": "2022-06-22T15:10:18.272Z"
      },
      {
        "duration": 43,
        "start_time": "2022-06-22T15:10:18.288Z"
      },
      {
        "duration": 7,
        "start_time": "2022-06-22T15:10:18.333Z"
      },
      {
        "duration": 7,
        "start_time": "2022-06-22T15:10:18.341Z"
      },
      {
        "duration": 6,
        "start_time": "2022-06-22T15:10:18.352Z"
      },
      {
        "duration": 5,
        "start_time": "2022-06-22T15:10:18.359Z"
      },
      {
        "duration": 12,
        "start_time": "2022-06-22T15:10:18.365Z"
      },
      {
        "duration": 23,
        "start_time": "2022-06-22T15:10:18.379Z"
      },
      {
        "duration": 38,
        "start_time": "2022-06-22T15:10:18.404Z"
      },
      {
        "duration": 15,
        "start_time": "2022-06-22T15:10:18.444Z"
      },
      {
        "duration": 135,
        "start_time": "2022-06-22T15:10:18.461Z"
      },
      {
        "duration": 111,
        "start_time": "2022-06-22T15:10:18.597Z"
      },
      {
        "duration": 56,
        "start_time": "2022-06-22T15:10:18.709Z"
      },
      {
        "duration": 739,
        "start_time": "2022-06-22T15:10:18.767Z"
      },
      {
        "duration": 124,
        "start_time": "2022-06-22T15:10:19.507Z"
      },
      {
        "duration": 138,
        "start_time": "2022-06-22T15:10:19.633Z"
      },
      {
        "duration": 741,
        "start_time": "2022-06-22T15:10:19.772Z"
      },
      {
        "duration": 214,
        "start_time": "2022-06-22T15:10:20.514Z"
      },
      {
        "duration": 5,
        "start_time": "2022-06-22T15:10:20.729Z"
      },
      {
        "duration": 11,
        "start_time": "2022-06-22T15:10:20.736Z"
      },
      {
        "duration": 115,
        "start_time": "2022-06-22T15:10:20.748Z"
      },
      {
        "duration": 32,
        "start_time": "2022-06-22T15:10:20.865Z"
      },
      {
        "duration": 457,
        "start_time": "2022-06-22T15:10:20.900Z"
      },
      {
        "duration": 175,
        "start_time": "2022-06-22T15:10:21.359Z"
      },
      {
        "duration": 4,
        "start_time": "2022-06-22T15:10:21.536Z"
      },
      {
        "duration": 19,
        "start_time": "2022-06-22T15:10:21.542Z"
      },
      {
        "duration": 146,
        "start_time": "2022-06-22T15:10:21.562Z"
      },
      {
        "duration": 66,
        "start_time": "2022-06-22T15:10:21.710Z"
      },
      {
        "duration": 992,
        "start_time": "2022-06-22T15:10:21.778Z"
      },
      {
        "duration": 162,
        "start_time": "2022-06-22T15:10:22.772Z"
      },
      {
        "duration": 317,
        "start_time": "2022-06-22T15:10:22.936Z"
      },
      {
        "duration": 13847,
        "start_time": "2022-06-22T15:10:23.258Z"
      },
      {
        "duration": 8248,
        "start_time": "2022-06-22T15:10:37.106Z"
      },
      {
        "duration": 706,
        "start_time": "2022-06-22T15:10:45.356Z"
      },
      {
        "duration": 151,
        "start_time": "2022-06-22T15:10:46.064Z"
      },
      {
        "duration": 1273,
        "start_time": "2022-06-22T15:15:53.785Z"
      },
      {
        "duration": 1444,
        "start_time": "2022-06-22T15:16:05.907Z"
      },
      {
        "duration": 71,
        "start_time": "2022-06-22T15:16:07.354Z"
      },
      {
        "duration": 14,
        "start_time": "2022-06-22T15:16:07.428Z"
      },
      {
        "duration": 28,
        "start_time": "2022-06-22T15:16:07.444Z"
      },
      {
        "duration": 10,
        "start_time": "2022-06-22T15:16:07.475Z"
      },
      {
        "duration": 22,
        "start_time": "2022-06-22T15:16:07.487Z"
      },
      {
        "duration": 5,
        "start_time": "2022-06-22T15:16:07.511Z"
      },
      {
        "duration": 8,
        "start_time": "2022-06-22T15:16:07.526Z"
      },
      {
        "duration": 12,
        "start_time": "2022-06-22T15:16:07.537Z"
      },
      {
        "duration": 20,
        "start_time": "2022-06-22T15:16:07.550Z"
      },
      {
        "duration": 37,
        "start_time": "2022-06-22T15:16:07.571Z"
      },
      {
        "duration": 8,
        "start_time": "2022-06-22T15:16:07.610Z"
      },
      {
        "duration": 21,
        "start_time": "2022-06-22T15:16:07.620Z"
      },
      {
        "duration": 5,
        "start_time": "2022-06-22T15:16:07.645Z"
      },
      {
        "duration": 21,
        "start_time": "2022-06-22T15:16:07.652Z"
      },
      {
        "duration": 14,
        "start_time": "2022-06-22T15:16:07.675Z"
      },
      {
        "duration": 22,
        "start_time": "2022-06-22T15:16:07.691Z"
      },
      {
        "duration": 19,
        "start_time": "2022-06-22T15:16:07.716Z"
      },
      {
        "duration": 19,
        "start_time": "2022-06-22T15:16:07.737Z"
      },
      {
        "duration": 155,
        "start_time": "2022-06-22T15:16:07.758Z"
      },
      {
        "duration": 136,
        "start_time": "2022-06-22T15:16:07.914Z"
      },
      {
        "duration": 51,
        "start_time": "2022-06-22T15:16:08.052Z"
      },
      {
        "duration": 788,
        "start_time": "2022-06-22T15:16:08.105Z"
      },
      {
        "duration": 231,
        "start_time": "2022-06-22T15:16:08.895Z"
      },
      {
        "duration": 73,
        "start_time": "2022-06-22T15:16:09.128Z"
      },
      {
        "duration": 745,
        "start_time": "2022-06-22T15:16:09.203Z"
      },
      {
        "duration": 183,
        "start_time": "2022-06-22T15:16:09.950Z"
      },
      {
        "duration": 4,
        "start_time": "2022-06-22T15:16:10.135Z"
      },
      {
        "duration": 22,
        "start_time": "2022-06-22T15:16:10.141Z"
      },
      {
        "duration": 149,
        "start_time": "2022-06-22T15:16:10.165Z"
      },
      {
        "duration": 34,
        "start_time": "2022-06-22T15:16:10.326Z"
      },
      {
        "duration": 467,
        "start_time": "2022-06-22T15:16:10.362Z"
      },
      {
        "duration": 102,
        "start_time": "2022-06-22T15:16:10.831Z"
      },
      {
        "duration": 91,
        "start_time": "2022-06-22T15:16:10.935Z"
      },
      {
        "duration": 11,
        "start_time": "2022-06-22T15:16:11.029Z"
      },
      {
        "duration": 133,
        "start_time": "2022-06-22T15:16:11.042Z"
      },
      {
        "duration": 65,
        "start_time": "2022-06-22T15:16:11.177Z"
      },
      {
        "duration": 1082,
        "start_time": "2022-06-22T15:16:11.244Z"
      },
      {
        "duration": 202,
        "start_time": "2022-06-22T15:16:12.328Z"
      },
      {
        "duration": 1266,
        "start_time": "2022-06-22T15:16:12.532Z"
      },
      {
        "duration": 14310,
        "start_time": "2022-06-22T15:16:13.802Z"
      },
      {
        "duration": 9019,
        "start_time": "2022-06-22T15:16:28.114Z"
      },
      {
        "duration": 772,
        "start_time": "2022-06-22T15:16:37.135Z"
      },
      {
        "duration": 157,
        "start_time": "2022-06-22T15:16:37.909Z"
      },
      {
        "duration": 8,
        "start_time": "2022-06-22T15:18:33.490Z"
      },
      {
        "duration": 14,
        "start_time": "2022-06-22T15:19:24.534Z"
      },
      {
        "duration": 5,
        "start_time": "2022-06-22T15:20:10.519Z"
      },
      {
        "duration": 10,
        "start_time": "2022-06-22T15:20:22.102Z"
      },
      {
        "duration": 173,
        "start_time": "2022-06-22T15:21:24.683Z"
      },
      {
        "duration": 1392,
        "start_time": "2022-06-22T15:21:43.553Z"
      },
      {
        "duration": 59,
        "start_time": "2022-06-22T15:21:44.947Z"
      },
      {
        "duration": 15,
        "start_time": "2022-06-22T15:21:45.008Z"
      },
      {
        "duration": 47,
        "start_time": "2022-06-22T15:21:45.028Z"
      },
      {
        "duration": 13,
        "start_time": "2022-06-22T15:21:45.077Z"
      },
      {
        "duration": 19,
        "start_time": "2022-06-22T15:21:45.092Z"
      },
      {
        "duration": 5,
        "start_time": "2022-06-22T15:21:45.113Z"
      },
      {
        "duration": 13,
        "start_time": "2022-06-22T15:21:45.119Z"
      },
      {
        "duration": 15,
        "start_time": "2022-06-22T15:21:45.134Z"
      },
      {
        "duration": 13,
        "start_time": "2022-06-22T15:21:45.152Z"
      },
      {
        "duration": 19,
        "start_time": "2022-06-22T15:21:45.167Z"
      },
      {
        "duration": 9,
        "start_time": "2022-06-22T15:21:45.187Z"
      },
      {
        "duration": 6,
        "start_time": "2022-06-22T15:21:45.197Z"
      },
      {
        "duration": 23,
        "start_time": "2022-06-22T15:21:45.205Z"
      },
      {
        "duration": 7,
        "start_time": "2022-06-22T15:21:45.232Z"
      },
      {
        "duration": 17,
        "start_time": "2022-06-22T15:21:45.240Z"
      },
      {
        "duration": 27,
        "start_time": "2022-06-22T15:21:45.259Z"
      },
      {
        "duration": 18,
        "start_time": "2022-06-22T15:21:45.288Z"
      },
      {
        "duration": 36,
        "start_time": "2022-06-22T15:21:45.308Z"
      },
      {
        "duration": 132,
        "start_time": "2022-06-22T15:21:45.346Z"
      },
      {
        "duration": 115,
        "start_time": "2022-06-22T15:21:45.480Z"
      },
      {
        "duration": 65,
        "start_time": "2022-06-22T15:21:45.597Z"
      },
      {
        "duration": 766,
        "start_time": "2022-06-22T15:21:45.664Z"
      },
      {
        "duration": 202,
        "start_time": "2022-06-22T15:21:46.434Z"
      },
      {
        "duration": 46,
        "start_time": "2022-06-22T15:21:46.641Z"
      },
      {
        "duration": 781,
        "start_time": "2022-06-22T15:21:46.689Z"
      },
      {
        "duration": 71,
        "start_time": "2022-06-22T15:21:47.472Z"
      },
      {
        "duration": 7,
        "start_time": "2022-06-22T15:21:47.627Z"
      },
      {
        "duration": 31,
        "start_time": "2022-06-22T15:21:47.636Z"
      },
      {
        "duration": 120,
        "start_time": "2022-06-22T15:21:47.669Z"
      },
      {
        "duration": 43,
        "start_time": "2022-06-22T15:21:47.790Z"
      },
      {
        "duration": 426,
        "start_time": "2022-06-22T15:21:47.834Z"
      },
      {
        "duration": 169,
        "start_time": "2022-06-22T15:21:48.262Z"
      },
      {
        "duration": 5,
        "start_time": "2022-06-22T15:21:48.433Z"
      },
      {
        "duration": 89,
        "start_time": "2022-06-22T15:21:48.439Z"
      },
      {
        "duration": 122,
        "start_time": "2022-06-22T15:21:48.530Z"
      },
      {
        "duration": 54,
        "start_time": "2022-06-22T15:21:48.654Z"
      },
      {
        "duration": 1076,
        "start_time": "2022-06-22T15:21:48.710Z"
      },
      {
        "duration": 155,
        "start_time": "2022-06-22T15:21:49.788Z"
      },
      {
        "duration": 14350,
        "start_time": "2022-06-22T15:21:49.946Z"
      },
      {
        "duration": 8965,
        "start_time": "2022-06-22T15:22:04.298Z"
      },
      {
        "duration": 719,
        "start_time": "2022-06-22T15:22:13.266Z"
      },
      {
        "duration": 6,
        "start_time": "2022-06-22T15:22:13.987Z"
      },
      {
        "duration": 16,
        "start_time": "2022-06-22T15:22:13.994Z"
      },
      {
        "duration": 9,
        "start_time": "2022-06-22T15:23:16.390Z"
      },
      {
        "duration": 49,
        "start_time": "2022-06-22T15:30:44.388Z"
      },
      {
        "duration": 8392,
        "start_time": "2022-06-22T15:30:48.009Z"
      },
      {
        "duration": 13331,
        "start_time": "2022-06-22T15:31:34.874Z"
      },
      {
        "duration": 7839,
        "start_time": "2022-06-22T15:32:02.981Z"
      },
      {
        "duration": 1111,
        "start_time": "2022-06-22T15:32:27.504Z"
      },
      {
        "duration": 1119,
        "start_time": "2022-06-22T15:33:12.016Z"
      },
      {
        "duration": 12,
        "start_time": "2022-06-22T15:33:25.731Z"
      },
      {
        "duration": 1459,
        "start_time": "2022-06-22T15:33:59.615Z"
      },
      {
        "duration": 61,
        "start_time": "2022-06-22T15:34:01.077Z"
      },
      {
        "duration": 13,
        "start_time": "2022-06-22T15:34:01.140Z"
      },
      {
        "duration": 37,
        "start_time": "2022-06-22T15:34:01.155Z"
      },
      {
        "duration": 29,
        "start_time": "2022-06-22T15:34:01.196Z"
      },
      {
        "duration": 50,
        "start_time": "2022-06-22T15:34:01.227Z"
      },
      {
        "duration": 30,
        "start_time": "2022-06-22T15:34:01.280Z"
      },
      {
        "duration": 27,
        "start_time": "2022-06-22T15:34:01.312Z"
      },
      {
        "duration": 31,
        "start_time": "2022-06-22T15:34:01.341Z"
      },
      {
        "duration": 30,
        "start_time": "2022-06-22T15:34:01.374Z"
      },
      {
        "duration": 72,
        "start_time": "2022-06-22T15:34:01.407Z"
      },
      {
        "duration": 20,
        "start_time": "2022-06-22T15:34:01.481Z"
      },
      {
        "duration": 87,
        "start_time": "2022-06-22T15:34:01.504Z"
      },
      {
        "duration": 318,
        "start_time": "2022-06-22T15:34:01.594Z"
      },
      {
        "duration": 87,
        "start_time": "2022-06-22T15:34:01.914Z"
      },
      {
        "duration": 34,
        "start_time": "2022-06-22T15:34:02.005Z"
      },
      {
        "duration": 64,
        "start_time": "2022-06-22T15:34:02.041Z"
      },
      {
        "duration": 45,
        "start_time": "2022-06-22T15:34:02.107Z"
      },
      {
        "duration": 52,
        "start_time": "2022-06-22T15:34:02.154Z"
      },
      {
        "duration": 174,
        "start_time": "2022-06-22T15:34:02.208Z"
      },
      {
        "duration": 126,
        "start_time": "2022-06-22T15:34:02.384Z"
      },
      {
        "duration": 61,
        "start_time": "2022-06-22T15:34:02.512Z"
      },
      {
        "duration": 813,
        "start_time": "2022-06-22T15:34:02.574Z"
      },
      {
        "duration": 141,
        "start_time": "2022-06-22T15:34:03.389Z"
      },
      {
        "duration": 135,
        "start_time": "2022-06-22T15:34:03.533Z"
      },
      {
        "duration": 820,
        "start_time": "2022-06-22T15:34:03.670Z"
      },
      {
        "duration": 142,
        "start_time": "2022-06-22T15:34:04.492Z"
      },
      {
        "duration": 91,
        "start_time": "2022-06-22T15:34:04.636Z"
      },
      {
        "duration": 34,
        "start_time": "2022-06-22T15:34:04.730Z"
      },
      {
        "duration": 135,
        "start_time": "2022-06-22T15:34:04.766Z"
      },
      {
        "duration": 48,
        "start_time": "2022-06-22T15:34:04.903Z"
      },
      {
        "duration": 467,
        "start_time": "2022-06-22T15:34:04.953Z"
      },
      {
        "duration": 105,
        "start_time": "2022-06-22T15:34:05.426Z"
      },
      {
        "duration": 108,
        "start_time": "2022-06-22T15:34:05.533Z"
      },
      {
        "duration": 23,
        "start_time": "2022-06-22T15:34:05.643Z"
      },
      {
        "duration": 106,
        "start_time": "2022-06-22T15:34:05.668Z"
      },
      {
        "duration": 64,
        "start_time": "2022-06-22T15:34:05.776Z"
      },
      {
        "duration": 1112,
        "start_time": "2022-06-22T15:34:05.842Z"
      },
      {
        "duration": 84,
        "start_time": "2022-06-22T15:34:06.956Z"
      },
      {
        "duration": 14097,
        "start_time": "2022-06-22T15:34:07.126Z"
      },
      {
        "duration": 7937,
        "start_time": "2022-06-22T15:34:21.228Z"
      },
      {
        "duration": 1260,
        "start_time": "2022-06-22T15:34:29.167Z"
      },
      {
        "duration": 7,
        "start_time": "2022-06-22T15:34:30.429Z"
      },
      {
        "duration": 18,
        "start_time": "2022-06-22T15:34:30.437Z"
      },
      {
        "duration": 71,
        "start_time": "2022-06-22T15:36:39.574Z"
      },
      {
        "duration": 167,
        "start_time": "2022-06-22T15:38:14.201Z"
      },
      {
        "duration": 1389,
        "start_time": "2022-06-22T15:38:50.189Z"
      },
      {
        "duration": 62,
        "start_time": "2022-06-22T15:38:51.581Z"
      },
      {
        "duration": 15,
        "start_time": "2022-06-22T15:38:51.645Z"
      },
      {
        "duration": 16,
        "start_time": "2022-06-22T15:38:51.661Z"
      },
      {
        "duration": 6,
        "start_time": "2022-06-22T15:38:51.679Z"
      },
      {
        "duration": 19,
        "start_time": "2022-06-22T15:38:51.686Z"
      },
      {
        "duration": 21,
        "start_time": "2022-06-22T15:38:51.706Z"
      },
      {
        "duration": 11,
        "start_time": "2022-06-22T15:38:51.729Z"
      },
      {
        "duration": 11,
        "start_time": "2022-06-22T15:38:51.742Z"
      },
      {
        "duration": 26,
        "start_time": "2022-06-22T15:38:51.754Z"
      },
      {
        "duration": 26,
        "start_time": "2022-06-22T15:38:51.782Z"
      },
      {
        "duration": 8,
        "start_time": "2022-06-22T15:38:51.809Z"
      },
      {
        "duration": 19,
        "start_time": "2022-06-22T15:38:51.818Z"
      },
      {
        "duration": 12,
        "start_time": "2022-06-22T15:38:51.840Z"
      },
      {
        "duration": 4,
        "start_time": "2022-06-22T15:38:51.854Z"
      },
      {
        "duration": 16,
        "start_time": "2022-06-22T15:38:51.860Z"
      },
      {
        "duration": 34,
        "start_time": "2022-06-22T15:38:51.878Z"
      },
      {
        "duration": 18,
        "start_time": "2022-06-22T15:38:51.914Z"
      },
      {
        "duration": 18,
        "start_time": "2022-06-22T15:38:51.933Z"
      },
      {
        "duration": 194,
        "start_time": "2022-06-22T15:38:51.952Z"
      },
      {
        "duration": 123,
        "start_time": "2022-06-22T15:38:52.147Z"
      },
      {
        "duration": 65,
        "start_time": "2022-06-22T15:38:52.271Z"
      },
      {
        "duration": 746,
        "start_time": "2022-06-22T15:38:52.338Z"
      },
      {
        "duration": 147,
        "start_time": "2022-06-22T15:38:53.086Z"
      },
      {
        "duration": 131,
        "start_time": "2022-06-22T15:38:53.236Z"
      },
      {
        "duration": 727,
        "start_time": "2022-06-22T15:38:53.369Z"
      },
      {
        "duration": 130,
        "start_time": "2022-06-22T15:38:54.097Z"
      },
      {
        "duration": 10,
        "start_time": "2022-06-22T15:38:54.230Z"
      },
      {
        "duration": 20,
        "start_time": "2022-06-22T15:38:54.327Z"
      },
      {
        "duration": 126,
        "start_time": "2022-06-22T15:38:54.349Z"
      },
      {
        "duration": 52,
        "start_time": "2022-06-22T15:38:54.477Z"
      },
      {
        "duration": 455,
        "start_time": "2022-06-22T15:38:54.532Z"
      },
      {
        "duration": 147,
        "start_time": "2022-06-22T15:38:54.989Z"
      },
      {
        "duration": 91,
        "start_time": "2022-06-22T15:38:55.139Z"
      },
      {
        "duration": 20,
        "start_time": "2022-06-22T15:38:55.232Z"
      },
      {
        "duration": 113,
        "start_time": "2022-06-22T15:38:55.253Z"
      },
      {
        "duration": 62,
        "start_time": "2022-06-22T15:38:55.368Z"
      },
      {
        "duration": 1019,
        "start_time": "2022-06-22T15:38:55.432Z"
      },
      {
        "duration": 276,
        "start_time": "2022-06-22T15:38:56.453Z"
      },
      {
        "duration": 14266,
        "start_time": "2022-06-22T15:38:56.731Z"
      },
      {
        "duration": 7720,
        "start_time": "2022-06-22T15:39:11.001Z"
      },
      {
        "duration": 1107,
        "start_time": "2022-06-22T15:39:18.725Z"
      },
      {
        "duration": 6,
        "start_time": "2022-06-22T15:39:19.834Z"
      },
      {
        "duration": 122,
        "start_time": "2022-06-22T15:39:19.841Z"
      },
      {
        "duration": 0,
        "start_time": "2022-06-22T15:39:19.964Z"
      },
      {
        "duration": 0,
        "start_time": "2022-06-22T15:39:19.965Z"
      },
      {
        "duration": 4,
        "start_time": "2022-06-22T15:39:45.876Z"
      },
      {
        "duration": 10,
        "start_time": "2022-06-22T15:39:52.280Z"
      },
      {
        "duration": 79,
        "start_time": "2022-06-22T15:39:53.814Z"
      },
      {
        "duration": 275,
        "start_time": "2022-06-22T15:39:54.125Z"
      },
      {
        "duration": 58,
        "start_time": "2022-06-22T15:44:09.222Z"
      },
      {
        "duration": 8716,
        "start_time": "2022-06-22T15:44:12.398Z"
      },
      {
        "duration": 8438,
        "start_time": "2022-06-22T15:44:52.985Z"
      },
      {
        "duration": 203,
        "start_time": "2022-06-22T15:45:41.134Z"
      },
      {
        "duration": 1425,
        "start_time": "2022-06-22T15:53:02.140Z"
      },
      {
        "duration": 68,
        "start_time": "2022-06-22T15:53:03.566Z"
      },
      {
        "duration": 15,
        "start_time": "2022-06-22T15:53:03.636Z"
      },
      {
        "duration": 14,
        "start_time": "2022-06-22T15:53:03.653Z"
      },
      {
        "duration": 17,
        "start_time": "2022-06-22T15:53:03.669Z"
      },
      {
        "duration": 21,
        "start_time": "2022-06-22T15:53:03.688Z"
      },
      {
        "duration": 5,
        "start_time": "2022-06-22T15:53:03.711Z"
      },
      {
        "duration": 14,
        "start_time": "2022-06-22T15:53:03.728Z"
      },
      {
        "duration": 9,
        "start_time": "2022-06-22T15:53:03.745Z"
      },
      {
        "duration": 18,
        "start_time": "2022-06-22T15:53:03.756Z"
      },
      {
        "duration": 23,
        "start_time": "2022-06-22T15:53:03.776Z"
      },
      {
        "duration": 8,
        "start_time": "2022-06-22T15:53:03.801Z"
      },
      {
        "duration": 25,
        "start_time": "2022-06-22T15:53:03.811Z"
      },
      {
        "duration": 5,
        "start_time": "2022-06-22T15:53:03.844Z"
      },
      {
        "duration": 11,
        "start_time": "2022-06-22T15:53:03.850Z"
      },
      {
        "duration": 16,
        "start_time": "2022-06-22T15:53:03.863Z"
      },
      {
        "duration": 23,
        "start_time": "2022-06-22T15:53:03.881Z"
      },
      {
        "duration": 32,
        "start_time": "2022-06-22T15:53:03.905Z"
      },
      {
        "duration": 18,
        "start_time": "2022-06-22T15:53:03.939Z"
      },
      {
        "duration": 154,
        "start_time": "2022-06-22T15:53:03.958Z"
      },
      {
        "duration": 135,
        "start_time": "2022-06-22T15:53:04.114Z"
      },
      {
        "duration": 51,
        "start_time": "2022-06-22T15:53:04.251Z"
      },
      {
        "duration": 872,
        "start_time": "2022-06-22T15:53:04.304Z"
      },
      {
        "duration": 75,
        "start_time": "2022-06-22T15:53:05.178Z"
      },
      {
        "duration": 117,
        "start_time": "2022-06-22T15:53:05.334Z"
      },
      {
        "duration": 796,
        "start_time": "2022-06-22T15:53:05.453Z"
      },
      {
        "duration": 189,
        "start_time": "2022-06-22T15:53:06.251Z"
      },
      {
        "duration": 6,
        "start_time": "2022-06-22T15:53:06.442Z"
      },
      {
        "duration": 94,
        "start_time": "2022-06-22T15:53:06.450Z"
      },
      {
        "duration": 115,
        "start_time": "2022-06-22T15:53:06.546Z"
      },
      {
        "duration": 34,
        "start_time": "2022-06-22T15:53:06.662Z"
      },
      {
        "duration": 466,
        "start_time": "2022-06-22T15:53:06.698Z"
      },
      {
        "duration": 72,
        "start_time": "2022-06-22T15:53:07.166Z"
      },
      {
        "duration": 111,
        "start_time": "2022-06-22T15:53:07.244Z"
      },
      {
        "duration": 23,
        "start_time": "2022-06-22T15:53:07.358Z"
      },
      {
        "duration": 133,
        "start_time": "2022-06-22T15:53:07.383Z"
      },
      {
        "duration": 81,
        "start_time": "2022-06-22T15:53:07.518Z"
      },
      {
        "duration": 1151,
        "start_time": "2022-06-22T15:53:07.602Z"
      },
      {
        "duration": 178,
        "start_time": "2022-06-22T15:53:08.755Z"
      },
      {
        "duration": 8782,
        "start_time": "2022-06-22T15:53:08.935Z"
      },
      {
        "duration": 8311,
        "start_time": "2022-06-22T15:53:17.727Z"
      },
      {
        "duration": 1178,
        "start_time": "2022-06-22T15:53:26.042Z"
      },
      {
        "duration": 19,
        "start_time": "2022-06-22T15:53:27.222Z"
      },
      {
        "duration": 20,
        "start_time": "2022-06-22T15:53:27.244Z"
      },
      {
        "duration": 76,
        "start_time": "2022-06-22T15:53:27.267Z"
      },
      {
        "duration": 278,
        "start_time": "2022-06-22T15:53:27.345Z"
      },
      {
        "duration": 2136,
        "start_time": "2022-06-22T18:51:37.234Z"
      },
      {
        "duration": 85,
        "start_time": "2022-06-22T18:51:39.372Z"
      },
      {
        "duration": 71,
        "start_time": "2022-06-22T18:51:39.459Z"
      },
      {
        "duration": 12,
        "start_time": "2022-06-22T18:51:39.532Z"
      },
      {
        "duration": 6,
        "start_time": "2022-06-22T18:51:39.545Z"
      },
      {
        "duration": 13,
        "start_time": "2022-06-22T18:51:39.553Z"
      },
      {
        "duration": 62,
        "start_time": "2022-06-22T18:51:39.567Z"
      },
      {
        "duration": 4,
        "start_time": "2022-06-22T18:51:39.631Z"
      },
      {
        "duration": 9,
        "start_time": "2022-06-22T18:51:39.637Z"
      },
      {
        "duration": 15,
        "start_time": "2022-06-22T18:51:39.648Z"
      },
      {
        "duration": 75,
        "start_time": "2022-06-22T18:51:39.664Z"
      },
      {
        "duration": 7,
        "start_time": "2022-06-22T18:51:39.740Z"
      },
      {
        "duration": 10,
        "start_time": "2022-06-22T18:51:39.748Z"
      },
      {
        "duration": 6,
        "start_time": "2022-06-22T18:51:39.760Z"
      },
      {
        "duration": 4,
        "start_time": "2022-06-22T18:51:39.767Z"
      },
      {
        "duration": 8,
        "start_time": "2022-06-22T18:51:39.829Z"
      },
      {
        "duration": 22,
        "start_time": "2022-06-22T18:51:39.838Z"
      },
      {
        "duration": 74,
        "start_time": "2022-06-22T18:51:39.862Z"
      },
      {
        "duration": 15,
        "start_time": "2022-06-22T18:51:39.937Z"
      },
      {
        "duration": 218,
        "start_time": "2022-06-22T18:51:39.954Z"
      },
      {
        "duration": 258,
        "start_time": "2022-06-22T18:51:40.173Z"
      },
      {
        "duration": 113,
        "start_time": "2022-06-22T18:51:40.433Z"
      },
      {
        "duration": 1397,
        "start_time": "2022-06-22T18:51:40.548Z"
      },
      {
        "duration": 183,
        "start_time": "2022-06-22T18:51:41.947Z"
      },
      {
        "duration": 115,
        "start_time": "2022-06-22T18:51:42.132Z"
      },
      {
        "duration": 1408,
        "start_time": "2022-06-22T18:51:42.248Z"
      },
      {
        "duration": 172,
        "start_time": "2022-06-22T18:51:43.658Z"
      },
      {
        "duration": 95,
        "start_time": "2022-06-22T18:51:43.834Z"
      },
      {
        "duration": 9,
        "start_time": "2022-06-22T18:51:43.931Z"
      },
      {
        "duration": 196,
        "start_time": "2022-06-22T18:51:43.941Z"
      },
      {
        "duration": 27,
        "start_time": "2022-06-22T18:51:44.139Z"
      },
      {
        "duration": 780,
        "start_time": "2022-06-22T18:51:44.168Z"
      },
      {
        "duration": 184,
        "start_time": "2022-06-22T18:51:44.949Z"
      },
      {
        "duration": 5,
        "start_time": "2022-06-22T18:51:45.134Z"
      },
      {
        "duration": 10,
        "start_time": "2022-06-22T18:51:45.230Z"
      },
      {
        "duration": 196,
        "start_time": "2022-06-22T18:51:45.242Z"
      },
      {
        "duration": 122,
        "start_time": "2022-06-22T18:51:45.440Z"
      },
      {
        "duration": 2071,
        "start_time": "2022-06-22T18:51:45.565Z"
      },
      {
        "duration": 192,
        "start_time": "2022-06-22T18:51:47.638Z"
      },
      {
        "duration": 13268,
        "start_time": "2022-06-22T18:51:47.831Z"
      },
      {
        "duration": 6682,
        "start_time": "2022-06-22T18:52:01.101Z"
      },
      {
        "duration": 954,
        "start_time": "2022-06-22T18:52:07.784Z"
      },
      {
        "duration": 5,
        "start_time": "2022-06-22T18:52:08.739Z"
      },
      {
        "duration": 27,
        "start_time": "2022-06-22T18:52:08.745Z"
      },
      {
        "duration": 86,
        "start_time": "2022-06-22T18:52:08.773Z"
      },
      {
        "duration": 218,
        "start_time": "2022-06-22T18:52:08.861Z"
      },
      {
        "duration": 1379,
        "start_time": "2022-06-24T13:49:47.272Z"
      },
      {
        "duration": 176,
        "start_time": "2022-06-24T13:49:48.653Z"
      },
      {
        "duration": 14,
        "start_time": "2022-06-24T13:49:48.831Z"
      },
      {
        "duration": 16,
        "start_time": "2022-06-24T13:49:48.847Z"
      },
      {
        "duration": 4,
        "start_time": "2022-06-24T13:49:48.865Z"
      },
      {
        "duration": 12,
        "start_time": "2022-06-24T13:49:48.871Z"
      },
      {
        "duration": 3,
        "start_time": "2022-06-24T13:49:48.885Z"
      },
      {
        "duration": 6,
        "start_time": "2022-06-24T13:49:48.890Z"
      },
      {
        "duration": 31,
        "start_time": "2022-06-24T13:49:48.897Z"
      },
      {
        "duration": 14,
        "start_time": "2022-06-24T13:49:48.929Z"
      },
      {
        "duration": 17,
        "start_time": "2022-06-24T13:49:48.945Z"
      },
      {
        "duration": 7,
        "start_time": "2022-06-24T13:49:48.964Z"
      },
      {
        "duration": 6,
        "start_time": "2022-06-24T13:49:48.973Z"
      },
      {
        "duration": 6,
        "start_time": "2022-06-24T13:49:48.982Z"
      },
      {
        "duration": 3,
        "start_time": "2022-06-24T13:49:48.990Z"
      },
      {
        "duration": 10,
        "start_time": "2022-06-24T13:49:49.026Z"
      },
      {
        "duration": 21,
        "start_time": "2022-06-24T13:49:49.038Z"
      },
      {
        "duration": 19,
        "start_time": "2022-06-24T13:49:49.061Z"
      },
      {
        "duration": 55,
        "start_time": "2022-06-24T13:49:49.082Z"
      },
      {
        "duration": 131,
        "start_time": "2022-06-24T13:49:49.139Z"
      },
      {
        "duration": 117,
        "start_time": "2022-06-24T13:49:49.272Z"
      },
      {
        "duration": 62,
        "start_time": "2022-06-24T13:49:49.391Z"
      },
      {
        "duration": 688,
        "start_time": "2022-06-24T13:49:49.455Z"
      },
      {
        "duration": 181,
        "start_time": "2022-06-24T13:49:50.145Z"
      },
      {
        "duration": 45,
        "start_time": "2022-06-24T13:49:50.328Z"
      },
      {
        "duration": 705,
        "start_time": "2022-06-24T13:49:50.375Z"
      },
      {
        "duration": 149,
        "start_time": "2022-06-24T13:49:51.082Z"
      },
      {
        "duration": 5,
        "start_time": "2022-06-24T13:49:51.233Z"
      },
      {
        "duration": 102,
        "start_time": "2022-06-24T13:49:51.240Z"
      },
      {
        "duration": 99,
        "start_time": "2022-06-24T13:49:51.343Z"
      },
      {
        "duration": 28,
        "start_time": "2022-06-24T13:49:51.443Z"
      },
      {
        "duration": 389,
        "start_time": "2022-06-24T13:49:51.472Z"
      },
      {
        "duration": 164,
        "start_time": "2022-06-24T13:49:51.863Z"
      },
      {
        "duration": 5,
        "start_time": "2022-06-24T13:49:52.028Z"
      },
      {
        "duration": 17,
        "start_time": "2022-06-24T13:49:52.034Z"
      },
      {
        "duration": 160,
        "start_time": "2022-06-24T13:49:52.052Z"
      },
      {
        "duration": 48,
        "start_time": "2022-06-24T13:49:52.225Z"
      },
      {
        "duration": 969,
        "start_time": "2022-06-24T13:49:52.275Z"
      },
      {
        "duration": 86,
        "start_time": "2022-06-24T13:49:53.246Z"
      },
      {
        "duration": 7557,
        "start_time": "2022-06-24T13:49:53.333Z"
      },
      {
        "duration": 7133,
        "start_time": "2022-06-24T13:50:00.893Z"
      },
      {
        "duration": 1082,
        "start_time": "2022-06-24T13:50:08.028Z"
      },
      {
        "duration": 13,
        "start_time": "2022-06-24T13:50:09.112Z"
      },
      {
        "duration": 13,
        "start_time": "2022-06-24T13:50:09.128Z"
      },
      {
        "duration": 87,
        "start_time": "2022-06-24T13:50:09.144Z"
      },
      {
        "duration": 180,
        "start_time": "2022-06-24T13:50:09.232Z"
      },
      {
        "duration": 134,
        "start_time": "2022-06-24T13:52:08.700Z"
      },
      {
        "duration": 13,
        "start_time": "2022-06-24T13:52:26.376Z"
      },
      {
        "duration": 1377,
        "start_time": "2022-06-24T13:52:39.137Z"
      },
      {
        "duration": 62,
        "start_time": "2022-06-24T13:52:40.516Z"
      },
      {
        "duration": 12,
        "start_time": "2022-06-24T13:52:40.580Z"
      },
      {
        "duration": 25,
        "start_time": "2022-06-24T13:52:40.595Z"
      },
      {
        "duration": 118,
        "start_time": "2022-06-24T13:52:40.622Z"
      },
      {
        "duration": 0,
        "start_time": "2022-06-24T13:52:40.743Z"
      },
      {
        "duration": 0,
        "start_time": "2022-06-24T13:52:40.744Z"
      },
      {
        "duration": 0,
        "start_time": "2022-06-24T13:52:40.745Z"
      },
      {
        "duration": 0,
        "start_time": "2022-06-24T13:52:40.747Z"
      },
      {
        "duration": 0,
        "start_time": "2022-06-24T13:52:40.748Z"
      },
      {
        "duration": 0,
        "start_time": "2022-06-24T13:52:40.749Z"
      },
      {
        "duration": 0,
        "start_time": "2022-06-24T13:52:40.751Z"
      },
      {
        "duration": 0,
        "start_time": "2022-06-24T13:52:40.752Z"
      },
      {
        "duration": 0,
        "start_time": "2022-06-24T13:52:40.753Z"
      },
      {
        "duration": 0,
        "start_time": "2022-06-24T13:52:40.755Z"
      },
      {
        "duration": 0,
        "start_time": "2022-06-24T13:52:40.757Z"
      },
      {
        "duration": 0,
        "start_time": "2022-06-24T13:52:40.758Z"
      },
      {
        "duration": 0,
        "start_time": "2022-06-24T13:52:40.759Z"
      },
      {
        "duration": 0,
        "start_time": "2022-06-24T13:52:40.761Z"
      },
      {
        "duration": 0,
        "start_time": "2022-06-24T13:52:40.762Z"
      },
      {
        "duration": 0,
        "start_time": "2022-06-24T13:52:40.764Z"
      },
      {
        "duration": 0,
        "start_time": "2022-06-24T13:52:40.765Z"
      },
      {
        "duration": 0,
        "start_time": "2022-06-24T13:52:40.767Z"
      },
      {
        "duration": 0,
        "start_time": "2022-06-24T13:52:40.768Z"
      },
      {
        "duration": 0,
        "start_time": "2022-06-24T13:52:40.769Z"
      },
      {
        "duration": 0,
        "start_time": "2022-06-24T13:52:40.770Z"
      },
      {
        "duration": 0,
        "start_time": "2022-06-24T13:52:40.772Z"
      },
      {
        "duration": 0,
        "start_time": "2022-06-24T13:52:40.773Z"
      },
      {
        "duration": 0,
        "start_time": "2022-06-24T13:52:40.776Z"
      },
      {
        "duration": 0,
        "start_time": "2022-06-24T13:52:40.825Z"
      },
      {
        "duration": 1,
        "start_time": "2022-06-24T13:52:40.826Z"
      },
      {
        "duration": 0,
        "start_time": "2022-06-24T13:52:40.827Z"
      },
      {
        "duration": 0,
        "start_time": "2022-06-24T13:52:40.828Z"
      },
      {
        "duration": 0,
        "start_time": "2022-06-24T13:52:40.829Z"
      },
      {
        "duration": 0,
        "start_time": "2022-06-24T13:52:40.830Z"
      },
      {
        "duration": 0,
        "start_time": "2022-06-24T13:52:40.832Z"
      },
      {
        "duration": 0,
        "start_time": "2022-06-24T13:52:40.833Z"
      },
      {
        "duration": 0,
        "start_time": "2022-06-24T13:52:40.834Z"
      },
      {
        "duration": 0,
        "start_time": "2022-06-24T13:52:40.835Z"
      },
      {
        "duration": 0,
        "start_time": "2022-06-24T13:52:40.836Z"
      },
      {
        "duration": 0,
        "start_time": "2022-06-24T13:52:40.837Z"
      },
      {
        "duration": 0,
        "start_time": "2022-06-24T13:52:40.838Z"
      },
      {
        "duration": 0,
        "start_time": "2022-06-24T13:52:40.839Z"
      },
      {
        "duration": 0,
        "start_time": "2022-06-24T13:52:40.840Z"
      },
      {
        "duration": 0,
        "start_time": "2022-06-24T13:52:40.841Z"
      },
      {
        "duration": 0,
        "start_time": "2022-06-24T13:52:40.841Z"
      },
      {
        "duration": 0,
        "start_time": "2022-06-24T13:52:40.842Z"
      },
      {
        "duration": 6,
        "start_time": "2022-06-24T13:55:34.595Z"
      },
      {
        "duration": 6,
        "start_time": "2022-06-24T13:55:43.225Z"
      },
      {
        "duration": 34,
        "start_time": "2022-06-24T13:56:27.129Z"
      },
      {
        "duration": 10,
        "start_time": "2022-06-24T13:56:51.178Z"
      },
      {
        "duration": 14,
        "start_time": "2022-06-24T13:56:56.755Z"
      },
      {
        "duration": 3,
        "start_time": "2022-06-24T13:57:57.308Z"
      },
      {
        "duration": 17,
        "start_time": "2022-06-24T13:57:57.313Z"
      },
      {
        "duration": 4,
        "start_time": "2022-06-24T13:57:57.332Z"
      },
      {
        "duration": 5,
        "start_time": "2022-06-24T13:57:57.338Z"
      },
      {
        "duration": 5,
        "start_time": "2022-06-24T13:57:57.345Z"
      },
      {
        "duration": 16,
        "start_time": "2022-06-24T13:57:57.351Z"
      },
      {
        "duration": 66,
        "start_time": "2022-06-24T13:57:57.369Z"
      },
      {
        "duration": 7,
        "start_time": "2022-06-24T13:57:57.437Z"
      },
      {
        "duration": 11,
        "start_time": "2022-06-24T13:57:57.446Z"
      },
      {
        "duration": 11,
        "start_time": "2022-06-24T13:57:57.459Z"
      },
      {
        "duration": 6,
        "start_time": "2022-06-24T13:57:57.471Z"
      },
      {
        "duration": 51,
        "start_time": "2022-06-24T13:57:57.479Z"
      },
      {
        "duration": 23,
        "start_time": "2022-06-24T13:57:57.531Z"
      },
      {
        "duration": 19,
        "start_time": "2022-06-24T13:57:57.556Z"
      },
      {
        "duration": 50,
        "start_time": "2022-06-24T13:57:57.577Z"
      },
      {
        "duration": 128,
        "start_time": "2022-06-24T13:57:57.629Z"
      },
      {
        "duration": 123,
        "start_time": "2022-06-24T13:57:57.759Z"
      },
      {
        "duration": 52,
        "start_time": "2022-06-24T13:57:57.884Z"
      },
      {
        "duration": 729,
        "start_time": "2022-06-24T13:57:57.938Z"
      },
      {
        "duration": 160,
        "start_time": "2022-06-24T13:57:58.669Z"
      },
      {
        "duration": 122,
        "start_time": "2022-06-24T13:57:58.831Z"
      },
      {
        "duration": 719,
        "start_time": "2022-06-24T13:57:58.954Z"
      },
      {
        "duration": 151,
        "start_time": "2022-06-24T13:57:59.675Z"
      },
      {
        "duration": 4,
        "start_time": "2022-06-24T13:57:59.828Z"
      },
      {
        "duration": 18,
        "start_time": "2022-06-24T13:57:59.834Z"
      },
      {
        "duration": 137,
        "start_time": "2022-06-24T13:57:59.854Z"
      },
      {
        "duration": 45,
        "start_time": "2022-06-24T13:57:59.993Z"
      },
      {
        "duration": 512,
        "start_time": "2022-06-24T13:58:00.041Z"
      },
      {
        "duration": 175,
        "start_time": "2022-06-24T13:58:00.555Z"
      },
      {
        "duration": 94,
        "start_time": "2022-06-24T13:58:00.732Z"
      },
      {
        "duration": 65,
        "start_time": "2022-06-24T13:58:00.828Z"
      },
      {
        "duration": 230,
        "start_time": "2022-06-24T13:58:00.895Z"
      },
      {
        "duration": 109,
        "start_time": "2022-06-24T13:58:01.127Z"
      },
      {
        "duration": 1620,
        "start_time": "2022-06-24T13:58:01.243Z"
      },
      {
        "duration": 164,
        "start_time": "2022-06-24T13:58:02.865Z"
      },
      {
        "duration": 8066,
        "start_time": "2022-06-24T13:58:03.031Z"
      },
      {
        "duration": 7597,
        "start_time": "2022-06-24T13:58:11.099Z"
      },
      {
        "duration": 1086,
        "start_time": "2022-06-24T13:58:18.698Z"
      },
      {
        "duration": 6,
        "start_time": "2022-06-24T13:58:19.786Z"
      },
      {
        "duration": 11,
        "start_time": "2022-06-24T13:58:19.794Z"
      },
      {
        "duration": 87,
        "start_time": "2022-06-24T13:58:19.825Z"
      },
      {
        "duration": 192,
        "start_time": "2022-06-24T13:58:19.915Z"
      },
      {
        "duration": 13,
        "start_time": "2022-06-24T14:00:21.419Z"
      },
      {
        "duration": 4,
        "start_time": "2022-06-24T14:01:18.618Z"
      },
      {
        "duration": 20,
        "start_time": "2022-06-24T14:01:21.298Z"
      },
      {
        "duration": 1420,
        "start_time": "2022-06-24T14:01:41.322Z"
      },
      {
        "duration": 70,
        "start_time": "2022-06-24T14:01:42.744Z"
      },
      {
        "duration": 14,
        "start_time": "2022-06-24T14:01:42.816Z"
      },
      {
        "duration": 20,
        "start_time": "2022-06-24T14:01:42.833Z"
      },
      {
        "duration": 22,
        "start_time": "2022-06-24T14:01:42.855Z"
      },
      {
        "duration": 119,
        "start_time": "2022-06-24T14:01:42.879Z"
      },
      {
        "duration": 0,
        "start_time": "2022-06-24T14:01:43.002Z"
      },
      {
        "duration": 0,
        "start_time": "2022-06-24T14:01:43.003Z"
      },
      {
        "duration": 0,
        "start_time": "2022-06-24T14:01:43.005Z"
      },
      {
        "duration": 0,
        "start_time": "2022-06-24T14:01:43.007Z"
      },
      {
        "duration": 1,
        "start_time": "2022-06-24T14:01:43.007Z"
      },
      {
        "duration": 0,
        "start_time": "2022-06-24T14:01:43.009Z"
      },
      {
        "duration": 0,
        "start_time": "2022-06-24T14:01:43.010Z"
      },
      {
        "duration": 0,
        "start_time": "2022-06-24T14:01:43.012Z"
      },
      {
        "duration": 0,
        "start_time": "2022-06-24T14:01:43.025Z"
      },
      {
        "duration": 0,
        "start_time": "2022-06-24T14:01:43.026Z"
      },
      {
        "duration": 0,
        "start_time": "2022-06-24T14:01:43.028Z"
      },
      {
        "duration": 0,
        "start_time": "2022-06-24T14:01:43.029Z"
      },
      {
        "duration": 0,
        "start_time": "2022-06-24T14:01:43.031Z"
      },
      {
        "duration": 0,
        "start_time": "2022-06-24T14:01:43.032Z"
      },
      {
        "duration": 0,
        "start_time": "2022-06-24T14:01:43.034Z"
      },
      {
        "duration": 0,
        "start_time": "2022-06-24T14:01:43.035Z"
      },
      {
        "duration": 0,
        "start_time": "2022-06-24T14:01:43.036Z"
      },
      {
        "duration": 0,
        "start_time": "2022-06-24T14:01:43.039Z"
      },
      {
        "duration": 0,
        "start_time": "2022-06-24T14:01:43.041Z"
      },
      {
        "duration": 0,
        "start_time": "2022-06-24T14:01:43.042Z"
      },
      {
        "duration": 0,
        "start_time": "2022-06-24T14:01:43.043Z"
      },
      {
        "duration": 0,
        "start_time": "2022-06-24T14:01:43.047Z"
      },
      {
        "duration": 0,
        "start_time": "2022-06-24T14:01:43.047Z"
      },
      {
        "duration": 0,
        "start_time": "2022-06-24T14:01:43.049Z"
      },
      {
        "duration": 0,
        "start_time": "2022-06-24T14:01:43.050Z"
      },
      {
        "duration": 0,
        "start_time": "2022-06-24T14:01:43.051Z"
      },
      {
        "duration": 0,
        "start_time": "2022-06-24T14:01:43.052Z"
      },
      {
        "duration": 0,
        "start_time": "2022-06-24T14:01:43.053Z"
      },
      {
        "duration": 0,
        "start_time": "2022-06-24T14:01:43.054Z"
      },
      {
        "duration": 0,
        "start_time": "2022-06-24T14:01:43.055Z"
      },
      {
        "duration": 0,
        "start_time": "2022-06-24T14:01:43.055Z"
      },
      {
        "duration": 0,
        "start_time": "2022-06-24T14:01:43.056Z"
      },
      {
        "duration": 0,
        "start_time": "2022-06-24T14:01:43.057Z"
      },
      {
        "duration": 0,
        "start_time": "2022-06-24T14:01:43.058Z"
      },
      {
        "duration": 0,
        "start_time": "2022-06-24T14:01:43.059Z"
      },
      {
        "duration": 0,
        "start_time": "2022-06-24T14:01:43.061Z"
      },
      {
        "duration": 0,
        "start_time": "2022-06-24T14:01:43.062Z"
      },
      {
        "duration": 0,
        "start_time": "2022-06-24T14:01:43.126Z"
      },
      {
        "duration": 0,
        "start_time": "2022-06-24T14:01:43.129Z"
      },
      {
        "duration": 0,
        "start_time": "2022-06-24T14:01:43.131Z"
      },
      {
        "duration": 1,
        "start_time": "2022-06-24T14:01:43.132Z"
      },
      {
        "duration": 0,
        "start_time": "2022-06-24T14:01:43.133Z"
      },
      {
        "duration": 0,
        "start_time": "2022-06-24T14:01:43.134Z"
      },
      {
        "duration": 0,
        "start_time": "2022-06-24T14:01:43.135Z"
      },
      {
        "duration": 1418,
        "start_time": "2022-06-24T14:03:00.710Z"
      },
      {
        "duration": 63,
        "start_time": "2022-06-24T14:03:02.131Z"
      },
      {
        "duration": 23,
        "start_time": "2022-06-24T14:03:02.197Z"
      },
      {
        "duration": 15,
        "start_time": "2022-06-24T14:03:02.224Z"
      },
      {
        "duration": 133,
        "start_time": "2022-06-24T14:03:02.241Z"
      },
      {
        "duration": 0,
        "start_time": "2022-06-24T14:03:02.376Z"
      },
      {
        "duration": 0,
        "start_time": "2022-06-24T14:03:02.377Z"
      },
      {
        "duration": 0,
        "start_time": "2022-06-24T14:03:02.378Z"
      },
      {
        "duration": 0,
        "start_time": "2022-06-24T14:03:02.379Z"
      },
      {
        "duration": 0,
        "start_time": "2022-06-24T14:03:02.381Z"
      },
      {
        "duration": 0,
        "start_time": "2022-06-24T14:03:02.382Z"
      },
      {
        "duration": 0,
        "start_time": "2022-06-24T14:03:02.383Z"
      },
      {
        "duration": 0,
        "start_time": "2022-06-24T14:03:02.384Z"
      },
      {
        "duration": 0,
        "start_time": "2022-06-24T14:03:02.386Z"
      },
      {
        "duration": 0,
        "start_time": "2022-06-24T14:03:02.388Z"
      },
      {
        "duration": 0,
        "start_time": "2022-06-24T14:03:02.389Z"
      },
      {
        "duration": 0,
        "start_time": "2022-06-24T14:03:02.391Z"
      },
      {
        "duration": 0,
        "start_time": "2022-06-24T14:03:02.393Z"
      },
      {
        "duration": 0,
        "start_time": "2022-06-24T14:03:02.394Z"
      },
      {
        "duration": 0,
        "start_time": "2022-06-24T14:03:02.396Z"
      },
      {
        "duration": 1,
        "start_time": "2022-06-24T14:03:02.426Z"
      },
      {
        "duration": 0,
        "start_time": "2022-06-24T14:03:02.428Z"
      },
      {
        "duration": 0,
        "start_time": "2022-06-24T14:03:02.430Z"
      },
      {
        "duration": 0,
        "start_time": "2022-06-24T14:03:02.432Z"
      },
      {
        "duration": 0,
        "start_time": "2022-06-24T14:03:02.434Z"
      },
      {
        "duration": 0,
        "start_time": "2022-06-24T14:03:02.435Z"
      },
      {
        "duration": 0,
        "start_time": "2022-06-24T14:03:02.436Z"
      },
      {
        "duration": 0,
        "start_time": "2022-06-24T14:03:02.438Z"
      },
      {
        "duration": 0,
        "start_time": "2022-06-24T14:03:02.439Z"
      },
      {
        "duration": 0,
        "start_time": "2022-06-24T14:03:02.441Z"
      },
      {
        "duration": 0,
        "start_time": "2022-06-24T14:03:02.442Z"
      },
      {
        "duration": 0,
        "start_time": "2022-06-24T14:03:02.444Z"
      },
      {
        "duration": 0,
        "start_time": "2022-06-24T14:03:02.445Z"
      },
      {
        "duration": 0,
        "start_time": "2022-06-24T14:03:02.447Z"
      },
      {
        "duration": 0,
        "start_time": "2022-06-24T14:03:02.448Z"
      },
      {
        "duration": 0,
        "start_time": "2022-06-24T14:03:02.450Z"
      },
      {
        "duration": 0,
        "start_time": "2022-06-24T14:03:02.451Z"
      },
      {
        "duration": 0,
        "start_time": "2022-06-24T14:03:02.452Z"
      },
      {
        "duration": 0,
        "start_time": "2022-06-24T14:03:02.454Z"
      },
      {
        "duration": 0,
        "start_time": "2022-06-24T14:03:02.455Z"
      },
      {
        "duration": 0,
        "start_time": "2022-06-24T14:03:02.456Z"
      },
      {
        "duration": 0,
        "start_time": "2022-06-24T14:03:02.458Z"
      },
      {
        "duration": 0,
        "start_time": "2022-06-24T14:03:02.459Z"
      },
      {
        "duration": 0,
        "start_time": "2022-06-24T14:03:02.460Z"
      },
      {
        "duration": 0,
        "start_time": "2022-06-24T14:03:02.462Z"
      },
      {
        "duration": 0,
        "start_time": "2022-06-24T14:03:02.463Z"
      },
      {
        "duration": 1,
        "start_time": "2022-06-24T14:03:02.463Z"
      },
      {
        "duration": 1496,
        "start_time": "2022-06-24T14:03:15.522Z"
      },
      {
        "duration": 59,
        "start_time": "2022-06-24T14:03:17.020Z"
      },
      {
        "duration": 11,
        "start_time": "2022-06-24T14:03:17.081Z"
      },
      {
        "duration": 14,
        "start_time": "2022-06-24T14:03:17.095Z"
      },
      {
        "duration": 13,
        "start_time": "2022-06-24T14:03:17.112Z"
      },
      {
        "duration": 12,
        "start_time": "2022-06-24T14:03:17.127Z"
      },
      {
        "duration": 14,
        "start_time": "2022-06-24T14:03:17.140Z"
      },
      {
        "duration": 5,
        "start_time": "2022-06-24T14:03:17.155Z"
      },
      {
        "duration": 6,
        "start_time": "2022-06-24T14:03:17.163Z"
      },
      {
        "duration": 5,
        "start_time": "2022-06-24T14:03:17.174Z"
      },
      {
        "duration": 59,
        "start_time": "2022-06-24T14:03:17.182Z"
      },
      {
        "duration": 41,
        "start_time": "2022-06-24T14:03:17.243Z"
      },
      {
        "duration": 12,
        "start_time": "2022-06-24T14:03:17.287Z"
      },
      {
        "duration": 7,
        "start_time": "2022-06-24T14:03:17.301Z"
      },
      {
        "duration": 5,
        "start_time": "2022-06-24T14:03:17.326Z"
      },
      {
        "duration": 9,
        "start_time": "2022-06-24T14:03:17.333Z"
      },
      {
        "duration": 10,
        "start_time": "2022-06-24T14:03:17.344Z"
      },
      {
        "duration": 24,
        "start_time": "2022-06-24T14:03:17.356Z"
      },
      {
        "duration": 18,
        "start_time": "2022-06-24T14:03:17.382Z"
      },
      {
        "duration": 19,
        "start_time": "2022-06-24T14:03:17.426Z"
      },
      {
        "duration": 153,
        "start_time": "2022-06-24T14:03:17.447Z"
      },
      {
        "duration": 123,
        "start_time": "2022-06-24T14:03:17.602Z"
      },
      {
        "duration": 45,
        "start_time": "2022-06-24T14:03:17.727Z"
      },
      {
        "duration": 748,
        "start_time": "2022-06-24T14:03:17.773Z"
      },
      {
        "duration": 205,
        "start_time": "2022-06-24T14:03:18.526Z"
      },
      {
        "duration": 72,
        "start_time": "2022-06-24T14:03:18.733Z"
      },
      {
        "duration": 739,
        "start_time": "2022-06-24T14:03:18.807Z"
      },
      {
        "duration": 176,
        "start_time": "2022-06-24T14:03:19.550Z"
      },
      {
        "duration": 6,
        "start_time": "2022-06-24T14:03:19.728Z"
      },
      {
        "duration": 96,
        "start_time": "2022-06-24T14:03:19.736Z"
      },
      {
        "duration": 106,
        "start_time": "2022-06-24T14:03:19.835Z"
      },
      {
        "duration": 31,
        "start_time": "2022-06-24T14:03:19.943Z"
      },
      {
        "duration": 421,
        "start_time": "2022-06-24T14:03:19.976Z"
      },
      {
        "duration": 131,
        "start_time": "2022-06-24T14:03:20.398Z"
      },
      {
        "duration": 5,
        "start_time": "2022-06-24T14:03:20.531Z"
      },
      {
        "duration": 103,
        "start_time": "2022-06-24T14:03:20.537Z"
      },
      {
        "duration": 137,
        "start_time": "2022-06-24T14:03:20.642Z"
      },
      {
        "duration": 78,
        "start_time": "2022-06-24T14:03:20.782Z"
      },
      {
        "duration": 1937,
        "start_time": "2022-06-24T14:03:20.863Z"
      },
      {
        "duration": 100,
        "start_time": "2022-06-24T14:03:22.827Z"
      },
      {
        "duration": 8411,
        "start_time": "2022-06-24T14:03:22.929Z"
      },
      {
        "duration": 7840,
        "start_time": "2022-06-24T14:03:31.341Z"
      },
      {
        "duration": 1086,
        "start_time": "2022-06-24T14:03:39.182Z"
      },
      {
        "duration": 6,
        "start_time": "2022-06-24T14:03:40.269Z"
      },
      {
        "duration": 16,
        "start_time": "2022-06-24T14:03:40.276Z"
      },
      {
        "duration": 104,
        "start_time": "2022-06-24T14:03:40.296Z"
      },
      {
        "duration": 218,
        "start_time": "2022-06-24T14:03:40.402Z"
      },
      {
        "duration": 112,
        "start_time": "2022-06-24T14:43:53.324Z"
      },
      {
        "duration": 1374,
        "start_time": "2022-06-24T14:43:59.672Z"
      },
      {
        "duration": 62,
        "start_time": "2022-06-24T14:44:01.048Z"
      },
      {
        "duration": 13,
        "start_time": "2022-06-24T14:44:01.111Z"
      },
      {
        "duration": 19,
        "start_time": "2022-06-24T14:44:01.126Z"
      },
      {
        "duration": 25,
        "start_time": "2022-06-24T14:44:01.147Z"
      },
      {
        "duration": 14,
        "start_time": "2022-06-24T14:44:01.174Z"
      },
      {
        "duration": 32,
        "start_time": "2022-06-24T14:44:01.189Z"
      },
      {
        "duration": 23,
        "start_time": "2022-06-24T14:44:01.222Z"
      },
      {
        "duration": 9,
        "start_time": "2022-06-24T14:44:01.247Z"
      },
      {
        "duration": 19,
        "start_time": "2022-06-24T14:44:01.258Z"
      },
      {
        "duration": 23,
        "start_time": "2022-06-24T14:44:01.278Z"
      },
      {
        "duration": 40,
        "start_time": "2022-06-24T14:44:01.303Z"
      },
      {
        "duration": 117,
        "start_time": "2022-06-24T14:44:01.346Z"
      },
      {
        "duration": 0,
        "start_time": "2022-06-24T14:44:01.466Z"
      },
      {
        "duration": 0,
        "start_time": "2022-06-24T14:44:01.467Z"
      },
      {
        "duration": 0,
        "start_time": "2022-06-24T14:44:01.468Z"
      },
      {
        "duration": 0,
        "start_time": "2022-06-24T14:44:01.469Z"
      },
      {
        "duration": 0,
        "start_time": "2022-06-24T14:44:01.470Z"
      },
      {
        "duration": 0,
        "start_time": "2022-06-24T14:44:01.471Z"
      },
      {
        "duration": 0,
        "start_time": "2022-06-24T14:44:01.472Z"
      },
      {
        "duration": 0,
        "start_time": "2022-06-24T14:44:01.473Z"
      },
      {
        "duration": 0,
        "start_time": "2022-06-24T14:44:01.474Z"
      },
      {
        "duration": 0,
        "start_time": "2022-06-24T14:44:01.475Z"
      },
      {
        "duration": 0,
        "start_time": "2022-06-24T14:44:01.476Z"
      },
      {
        "duration": 0,
        "start_time": "2022-06-24T14:44:01.476Z"
      },
      {
        "duration": 0,
        "start_time": "2022-06-24T14:44:01.478Z"
      },
      {
        "duration": 0,
        "start_time": "2022-06-24T14:44:01.478Z"
      },
      {
        "duration": 0,
        "start_time": "2022-06-24T14:44:01.479Z"
      },
      {
        "duration": 0,
        "start_time": "2022-06-24T14:44:01.480Z"
      },
      {
        "duration": 0,
        "start_time": "2022-06-24T14:44:01.483Z"
      },
      {
        "duration": 0,
        "start_time": "2022-06-24T14:44:01.484Z"
      },
      {
        "duration": 0,
        "start_time": "2022-06-24T14:44:01.485Z"
      },
      {
        "duration": 0,
        "start_time": "2022-06-24T14:44:01.485Z"
      },
      {
        "duration": 0,
        "start_time": "2022-06-24T14:44:01.486Z"
      },
      {
        "duration": 0,
        "start_time": "2022-06-24T14:44:01.487Z"
      },
      {
        "duration": 0,
        "start_time": "2022-06-24T14:44:01.526Z"
      },
      {
        "duration": 0,
        "start_time": "2022-06-24T14:44:01.527Z"
      },
      {
        "duration": 0,
        "start_time": "2022-06-24T14:44:01.529Z"
      },
      {
        "duration": 0,
        "start_time": "2022-06-24T14:44:01.529Z"
      },
      {
        "duration": 0,
        "start_time": "2022-06-24T14:44:01.531Z"
      },
      {
        "duration": 0,
        "start_time": "2022-06-24T14:44:01.532Z"
      },
      {
        "duration": 0,
        "start_time": "2022-06-24T14:44:01.533Z"
      },
      {
        "duration": 0,
        "start_time": "2022-06-24T14:44:01.534Z"
      },
      {
        "duration": 0,
        "start_time": "2022-06-24T14:44:01.536Z"
      },
      {
        "duration": 0,
        "start_time": "2022-06-24T14:44:01.537Z"
      },
      {
        "duration": 0,
        "start_time": "2022-06-24T14:44:01.538Z"
      },
      {
        "duration": 0,
        "start_time": "2022-06-24T14:44:01.539Z"
      },
      {
        "duration": 19,
        "start_time": "2022-06-24T14:44:11.546Z"
      },
      {
        "duration": 10,
        "start_time": "2022-06-24T14:44:16.580Z"
      },
      {
        "duration": 59,
        "start_time": "2022-06-25T14:30:05.588Z"
      },
      {
        "duration": 7,
        "start_time": "2022-06-25T14:33:41.207Z"
      },
      {
        "duration": 1583,
        "start_time": "2022-06-25T14:33:49.061Z"
      },
      {
        "duration": 110,
        "start_time": "2022-06-25T14:33:50.652Z"
      },
      {
        "duration": 14,
        "start_time": "2022-06-25T14:33:50.766Z"
      },
      {
        "duration": 12,
        "start_time": "2022-06-25T14:33:50.783Z"
      },
      {
        "duration": 5,
        "start_time": "2022-06-25T14:33:50.797Z"
      },
      {
        "duration": 7,
        "start_time": "2022-06-25T14:33:50.804Z"
      },
      {
        "duration": 48,
        "start_time": "2022-06-25T14:33:50.812Z"
      },
      {
        "duration": 9,
        "start_time": "2022-06-25T14:33:50.862Z"
      },
      {
        "duration": 6,
        "start_time": "2022-06-25T14:33:50.872Z"
      },
      {
        "duration": 6,
        "start_time": "2022-06-25T14:33:50.880Z"
      },
      {
        "duration": 19,
        "start_time": "2022-06-25T14:33:50.887Z"
      },
      {
        "duration": 32,
        "start_time": "2022-06-25T14:33:50.907Z"
      },
      {
        "duration": 8,
        "start_time": "2022-06-25T14:33:50.944Z"
      },
      {
        "duration": 15,
        "start_time": "2022-06-25T14:33:50.954Z"
      },
      {
        "duration": 12,
        "start_time": "2022-06-25T14:33:50.970Z"
      },
      {
        "duration": 10,
        "start_time": "2022-06-25T14:33:50.984Z"
      },
      {
        "duration": 118,
        "start_time": "2022-06-25T14:33:50.996Z"
      },
      {
        "duration": 0,
        "start_time": "2022-06-25T14:33:51.117Z"
      },
      {
        "duration": 0,
        "start_time": "2022-06-25T14:33:51.117Z"
      },
      {
        "duration": 0,
        "start_time": "2022-06-25T14:33:51.125Z"
      },
      {
        "duration": 0,
        "start_time": "2022-06-25T14:33:51.126Z"
      },
      {
        "duration": 0,
        "start_time": "2022-06-25T14:33:51.126Z"
      },
      {
        "duration": 0,
        "start_time": "2022-06-25T14:33:51.127Z"
      },
      {
        "duration": 0,
        "start_time": "2022-06-25T14:33:51.128Z"
      },
      {
        "duration": 0,
        "start_time": "2022-06-25T14:33:51.128Z"
      },
      {
        "duration": 0,
        "start_time": "2022-06-25T14:33:51.131Z"
      },
      {
        "duration": 0,
        "start_time": "2022-06-25T14:33:51.131Z"
      },
      {
        "duration": 0,
        "start_time": "2022-06-25T14:33:51.132Z"
      },
      {
        "duration": 0,
        "start_time": "2022-06-25T14:33:51.138Z"
      },
      {
        "duration": 0,
        "start_time": "2022-06-25T14:33:51.139Z"
      },
      {
        "duration": 0,
        "start_time": "2022-06-25T14:33:51.139Z"
      },
      {
        "duration": 0,
        "start_time": "2022-06-25T14:33:51.140Z"
      },
      {
        "duration": 0,
        "start_time": "2022-06-25T14:33:51.141Z"
      },
      {
        "duration": 0,
        "start_time": "2022-06-25T14:33:51.143Z"
      },
      {
        "duration": 0,
        "start_time": "2022-06-25T14:33:51.143Z"
      },
      {
        "duration": 0,
        "start_time": "2022-06-25T14:33:51.144Z"
      },
      {
        "duration": 1,
        "start_time": "2022-06-25T14:33:51.147Z"
      },
      {
        "duration": 0,
        "start_time": "2022-06-25T14:33:51.148Z"
      },
      {
        "duration": 0,
        "start_time": "2022-06-25T14:33:51.149Z"
      },
      {
        "duration": 0,
        "start_time": "2022-06-25T14:33:51.149Z"
      },
      {
        "duration": 0,
        "start_time": "2022-06-25T14:33:51.150Z"
      },
      {
        "duration": 0,
        "start_time": "2022-06-25T14:33:51.151Z"
      },
      {
        "duration": 0,
        "start_time": "2022-06-25T14:33:51.154Z"
      },
      {
        "duration": 0,
        "start_time": "2022-06-25T14:33:51.154Z"
      },
      {
        "duration": 0,
        "start_time": "2022-06-25T14:33:51.155Z"
      },
      {
        "duration": 0,
        "start_time": "2022-06-25T14:33:51.156Z"
      },
      {
        "duration": 0,
        "start_time": "2022-06-25T14:33:51.157Z"
      },
      {
        "duration": 0,
        "start_time": "2022-06-25T14:33:51.158Z"
      },
      {
        "duration": 0,
        "start_time": "2022-06-25T14:33:51.159Z"
      },
      {
        "duration": 1339,
        "start_time": "2022-06-25T14:37:42.931Z"
      },
      {
        "duration": 59,
        "start_time": "2022-06-25T14:37:44.273Z"
      },
      {
        "duration": 11,
        "start_time": "2022-06-25T14:37:44.333Z"
      },
      {
        "duration": 12,
        "start_time": "2022-06-25T14:37:44.346Z"
      },
      {
        "duration": 5,
        "start_time": "2022-06-25T14:37:44.359Z"
      },
      {
        "duration": 5,
        "start_time": "2022-06-25T14:37:44.365Z"
      },
      {
        "duration": 13,
        "start_time": "2022-06-25T14:37:44.372Z"
      },
      {
        "duration": 4,
        "start_time": "2022-06-25T14:37:44.386Z"
      },
      {
        "duration": 7,
        "start_time": "2022-06-25T14:37:44.391Z"
      },
      {
        "duration": 4,
        "start_time": "2022-06-25T14:37:44.425Z"
      },
      {
        "duration": 16,
        "start_time": "2022-06-25T14:37:44.430Z"
      },
      {
        "duration": 20,
        "start_time": "2022-06-25T14:37:44.447Z"
      },
      {
        "duration": 5,
        "start_time": "2022-06-25T14:37:44.468Z"
      },
      {
        "duration": 127,
        "start_time": "2022-06-25T14:37:44.475Z"
      },
      {
        "duration": 0,
        "start_time": "2022-06-25T14:37:44.604Z"
      },
      {
        "duration": 0,
        "start_time": "2022-06-25T14:37:44.605Z"
      },
      {
        "duration": 0,
        "start_time": "2022-06-25T14:37:44.606Z"
      },
      {
        "duration": 0,
        "start_time": "2022-06-25T14:37:44.606Z"
      },
      {
        "duration": 0,
        "start_time": "2022-06-25T14:37:44.607Z"
      },
      {
        "duration": 0,
        "start_time": "2022-06-25T14:37:44.608Z"
      },
      {
        "duration": 0,
        "start_time": "2022-06-25T14:37:44.609Z"
      },
      {
        "duration": 0,
        "start_time": "2022-06-25T14:37:44.610Z"
      },
      {
        "duration": 0,
        "start_time": "2022-06-25T14:37:44.612Z"
      },
      {
        "duration": 0,
        "start_time": "2022-06-25T14:37:44.612Z"
      },
      {
        "duration": 0,
        "start_time": "2022-06-25T14:37:44.613Z"
      },
      {
        "duration": 0,
        "start_time": "2022-06-25T14:37:44.613Z"
      },
      {
        "duration": 0,
        "start_time": "2022-06-25T14:37:44.623Z"
      },
      {
        "duration": 0,
        "start_time": "2022-06-25T14:37:44.624Z"
      },
      {
        "duration": 0,
        "start_time": "2022-06-25T14:37:44.625Z"
      },
      {
        "duration": 0,
        "start_time": "2022-06-25T14:37:44.626Z"
      },
      {
        "duration": 0,
        "start_time": "2022-06-25T14:37:44.628Z"
      },
      {
        "duration": 0,
        "start_time": "2022-06-25T14:37:44.628Z"
      },
      {
        "duration": 0,
        "start_time": "2022-06-25T14:37:44.629Z"
      },
      {
        "duration": 0,
        "start_time": "2022-06-25T14:37:44.630Z"
      },
      {
        "duration": 0,
        "start_time": "2022-06-25T14:37:44.631Z"
      },
      {
        "duration": 0,
        "start_time": "2022-06-25T14:37:44.632Z"
      },
      {
        "duration": 0,
        "start_time": "2022-06-25T14:37:44.634Z"
      },
      {
        "duration": 0,
        "start_time": "2022-06-25T14:37:44.635Z"
      },
      {
        "duration": 0,
        "start_time": "2022-06-25T14:37:44.636Z"
      },
      {
        "duration": 0,
        "start_time": "2022-06-25T14:37:44.637Z"
      },
      {
        "duration": 0,
        "start_time": "2022-06-25T14:37:44.638Z"
      },
      {
        "duration": 0,
        "start_time": "2022-06-25T14:37:44.640Z"
      },
      {
        "duration": 0,
        "start_time": "2022-06-25T14:37:44.641Z"
      },
      {
        "duration": 0,
        "start_time": "2022-06-25T14:37:44.642Z"
      },
      {
        "duration": 0,
        "start_time": "2022-06-25T14:37:44.643Z"
      },
      {
        "duration": 0,
        "start_time": "2022-06-25T14:37:44.644Z"
      },
      {
        "duration": 0,
        "start_time": "2022-06-25T14:37:44.645Z"
      },
      {
        "duration": 0,
        "start_time": "2022-06-25T14:37:44.646Z"
      },
      {
        "duration": 1,
        "start_time": "2022-06-25T14:37:44.647Z"
      },
      {
        "duration": 15,
        "start_time": "2022-06-25T14:38:58.329Z"
      },
      {
        "duration": 14,
        "start_time": "2022-06-25T14:39:11.168Z"
      },
      {
        "duration": 1372,
        "start_time": "2022-06-25T14:39:47.919Z"
      },
      {
        "duration": 57,
        "start_time": "2022-06-25T14:39:49.293Z"
      },
      {
        "duration": 12,
        "start_time": "2022-06-25T14:39:49.351Z"
      },
      {
        "duration": 12,
        "start_time": "2022-06-25T14:39:49.365Z"
      },
      {
        "duration": 5,
        "start_time": "2022-06-25T14:39:49.378Z"
      },
      {
        "duration": 8,
        "start_time": "2022-06-25T14:39:49.384Z"
      },
      {
        "duration": 31,
        "start_time": "2022-06-25T14:39:49.394Z"
      },
      {
        "duration": 5,
        "start_time": "2022-06-25T14:39:49.427Z"
      },
      {
        "duration": 12,
        "start_time": "2022-06-25T14:39:49.434Z"
      },
      {
        "duration": 5,
        "start_time": "2022-06-25T14:39:49.449Z"
      },
      {
        "duration": 15,
        "start_time": "2022-06-25T14:39:49.456Z"
      },
      {
        "duration": 20,
        "start_time": "2022-06-25T14:39:49.472Z"
      },
      {
        "duration": 28,
        "start_time": "2022-06-25T14:39:49.495Z"
      },
      {
        "duration": 115,
        "start_time": "2022-06-25T14:39:49.525Z"
      },
      {
        "duration": 0,
        "start_time": "2022-06-25T14:39:49.643Z"
      },
      {
        "duration": 0,
        "start_time": "2022-06-25T14:39:49.644Z"
      },
      {
        "duration": 0,
        "start_time": "2022-06-25T14:39:49.646Z"
      },
      {
        "duration": 0,
        "start_time": "2022-06-25T14:39:49.647Z"
      },
      {
        "duration": 0,
        "start_time": "2022-06-25T14:39:49.649Z"
      },
      {
        "duration": 0,
        "start_time": "2022-06-25T14:39:49.650Z"
      },
      {
        "duration": 0,
        "start_time": "2022-06-25T14:39:49.651Z"
      },
      {
        "duration": 0,
        "start_time": "2022-06-25T14:39:49.652Z"
      },
      {
        "duration": 0,
        "start_time": "2022-06-25T14:39:49.653Z"
      },
      {
        "duration": 0,
        "start_time": "2022-06-25T14:39:49.655Z"
      },
      {
        "duration": 0,
        "start_time": "2022-06-25T14:39:49.656Z"
      },
      {
        "duration": 0,
        "start_time": "2022-06-25T14:39:49.659Z"
      },
      {
        "duration": 0,
        "start_time": "2022-06-25T14:39:49.660Z"
      },
      {
        "duration": 0,
        "start_time": "2022-06-25T14:39:49.662Z"
      },
      {
        "duration": 0,
        "start_time": "2022-06-25T14:39:49.664Z"
      },
      {
        "duration": 0,
        "start_time": "2022-06-25T14:39:49.665Z"
      },
      {
        "duration": 0,
        "start_time": "2022-06-25T14:39:49.666Z"
      },
      {
        "duration": 0,
        "start_time": "2022-06-25T14:39:49.668Z"
      },
      {
        "duration": 0,
        "start_time": "2022-06-25T14:39:49.669Z"
      },
      {
        "duration": 0,
        "start_time": "2022-06-25T14:39:49.670Z"
      },
      {
        "duration": 0,
        "start_time": "2022-06-25T14:39:49.671Z"
      },
      {
        "duration": 0,
        "start_time": "2022-06-25T14:39:49.672Z"
      },
      {
        "duration": 0,
        "start_time": "2022-06-25T14:39:49.723Z"
      },
      {
        "duration": 0,
        "start_time": "2022-06-25T14:39:49.725Z"
      },
      {
        "duration": 0,
        "start_time": "2022-06-25T14:39:49.726Z"
      },
      {
        "duration": 0,
        "start_time": "2022-06-25T14:39:49.728Z"
      },
      {
        "duration": 0,
        "start_time": "2022-06-25T14:39:49.729Z"
      },
      {
        "duration": 0,
        "start_time": "2022-06-25T14:39:49.730Z"
      },
      {
        "duration": 0,
        "start_time": "2022-06-25T14:39:49.732Z"
      },
      {
        "duration": 0,
        "start_time": "2022-06-25T14:39:49.733Z"
      },
      {
        "duration": 0,
        "start_time": "2022-06-25T14:39:49.734Z"
      },
      {
        "duration": 0,
        "start_time": "2022-06-25T14:39:49.736Z"
      },
      {
        "duration": 0,
        "start_time": "2022-06-25T14:39:49.737Z"
      },
      {
        "duration": 0,
        "start_time": "2022-06-25T14:39:49.738Z"
      },
      {
        "duration": 0,
        "start_time": "2022-06-25T14:39:49.739Z"
      },
      {
        "duration": 11,
        "start_time": "2022-06-25T14:41:16.361Z"
      },
      {
        "duration": 11,
        "start_time": "2022-06-25T14:41:30.441Z"
      },
      {
        "duration": 6,
        "start_time": "2022-06-25T14:41:33.969Z"
      },
      {
        "duration": 1313,
        "start_time": "2022-06-25T14:42:30.668Z"
      },
      {
        "duration": 60,
        "start_time": "2022-06-25T14:42:31.983Z"
      },
      {
        "duration": 14,
        "start_time": "2022-06-25T14:42:32.044Z"
      },
      {
        "duration": 15,
        "start_time": "2022-06-25T14:42:32.060Z"
      },
      {
        "duration": 13,
        "start_time": "2022-06-25T14:42:32.077Z"
      },
      {
        "duration": 16,
        "start_time": "2022-06-25T14:42:32.092Z"
      },
      {
        "duration": 21,
        "start_time": "2022-06-25T14:42:32.109Z"
      },
      {
        "duration": 13,
        "start_time": "2022-06-25T14:42:32.131Z"
      },
      {
        "duration": 13,
        "start_time": "2022-06-25T14:42:32.145Z"
      },
      {
        "duration": 17,
        "start_time": "2022-06-25T14:42:32.160Z"
      },
      {
        "duration": 13,
        "start_time": "2022-06-25T14:42:32.178Z"
      },
      {
        "duration": 18,
        "start_time": "2022-06-25T14:42:32.193Z"
      },
      {
        "duration": 5,
        "start_time": "2022-06-25T14:42:32.213Z"
      },
      {
        "duration": 18,
        "start_time": "2022-06-25T14:42:32.219Z"
      },
      {
        "duration": 3,
        "start_time": "2022-06-25T14:42:32.238Z"
      },
      {
        "duration": 5,
        "start_time": "2022-06-25T14:42:32.242Z"
      },
      {
        "duration": 7,
        "start_time": "2022-06-25T14:42:32.249Z"
      },
      {
        "duration": 5,
        "start_time": "2022-06-25T14:42:32.258Z"
      },
      {
        "duration": 12,
        "start_time": "2022-06-25T14:42:32.264Z"
      },
      {
        "duration": 21,
        "start_time": "2022-06-25T14:42:32.277Z"
      },
      {
        "duration": 36,
        "start_time": "2022-06-25T14:42:32.300Z"
      },
      {
        "duration": 16,
        "start_time": "2022-06-25T14:42:32.338Z"
      },
      {
        "duration": 135,
        "start_time": "2022-06-25T14:42:32.355Z"
      },
      {
        "duration": 153,
        "start_time": "2022-06-25T14:42:32.492Z"
      },
      {
        "duration": 56,
        "start_time": "2022-06-25T14:42:32.647Z"
      },
      {
        "duration": 768,
        "start_time": "2022-06-25T14:42:32.706Z"
      },
      {
        "duration": 153,
        "start_time": "2022-06-25T14:42:33.475Z"
      },
      {
        "duration": 115,
        "start_time": "2022-06-25T14:42:33.632Z"
      },
      {
        "duration": 711,
        "start_time": "2022-06-25T14:42:33.749Z"
      },
      {
        "duration": 168,
        "start_time": "2022-06-25T14:42:34.461Z"
      },
      {
        "duration": 4,
        "start_time": "2022-06-25T14:42:34.631Z"
      },
      {
        "duration": 13,
        "start_time": "2022-06-25T14:42:34.636Z"
      },
      {
        "duration": 106,
        "start_time": "2022-06-25T14:42:34.650Z"
      },
      {
        "duration": 29,
        "start_time": "2022-06-25T14:42:34.758Z"
      },
      {
        "duration": 422,
        "start_time": "2022-06-25T14:42:34.788Z"
      },
      {
        "duration": 121,
        "start_time": "2022-06-25T14:42:35.212Z"
      },
      {
        "duration": 4,
        "start_time": "2022-06-25T14:42:35.424Z"
      },
      {
        "duration": 11,
        "start_time": "2022-06-25T14:42:35.430Z"
      },
      {
        "duration": 109,
        "start_time": "2022-06-25T14:42:35.443Z"
      },
      {
        "duration": 53,
        "start_time": "2022-06-25T14:42:35.554Z"
      },
      {
        "duration": 1081,
        "start_time": "2022-06-25T14:42:35.608Z"
      },
      {
        "duration": 138,
        "start_time": "2022-06-25T14:42:36.691Z"
      },
      {
        "duration": 8026,
        "start_time": "2022-06-25T14:42:36.830Z"
      },
      {
        "duration": 7625,
        "start_time": "2022-06-25T14:42:44.858Z"
      },
      {
        "duration": 1173,
        "start_time": "2022-06-25T14:42:52.485Z"
      },
      {
        "duration": 6,
        "start_time": "2022-06-25T14:42:53.660Z"
      },
      {
        "duration": 9,
        "start_time": "2022-06-25T14:42:53.668Z"
      },
      {
        "duration": 89,
        "start_time": "2022-06-25T14:42:53.679Z"
      },
      {
        "duration": 190,
        "start_time": "2022-06-25T14:42:53.770Z"
      },
      {
        "duration": 7050,
        "start_time": "2022-06-25T14:46:31.541Z"
      },
      {
        "duration": 9609,
        "start_time": "2022-06-25T14:47:15.302Z"
      },
      {
        "duration": 535,
        "start_time": "2022-06-25T14:48:02.173Z"
      },
      {
        "duration": 92,
        "start_time": "2022-06-25T14:54:28.800Z"
      },
      {
        "duration": 4,
        "start_time": "2022-06-25T15:02:28.062Z"
      },
      {
        "duration": 5649,
        "start_time": "2022-06-25T15:04:48.179Z"
      },
      {
        "duration": 51,
        "start_time": "2022-06-25T15:24:58.346Z"
      },
      {
        "duration": 59,
        "start_time": "2022-06-25T15:25:05.411Z"
      },
      {
        "duration": 48,
        "start_time": "2022-06-25T15:25:09.562Z"
      },
      {
        "duration": 106,
        "start_time": "2022-06-25T15:25:37.189Z"
      },
      {
        "duration": 5,
        "start_time": "2022-06-25T15:25:49.291Z"
      },
      {
        "duration": 10,
        "start_time": "2022-06-25T15:25:58.293Z"
      },
      {
        "duration": 1432,
        "start_time": "2022-06-25T15:36:19.463Z"
      },
      {
        "duration": 63,
        "start_time": "2022-06-25T15:36:20.897Z"
      },
      {
        "duration": 13,
        "start_time": "2022-06-25T15:36:20.962Z"
      },
      {
        "duration": 13,
        "start_time": "2022-06-25T15:36:20.977Z"
      },
      {
        "duration": 7,
        "start_time": "2022-06-25T15:36:20.991Z"
      },
      {
        "duration": 6,
        "start_time": "2022-06-25T15:36:21.000Z"
      },
      {
        "duration": 28,
        "start_time": "2022-06-25T15:36:21.007Z"
      },
      {
        "duration": 6,
        "start_time": "2022-06-25T15:36:21.036Z"
      },
      {
        "duration": 8,
        "start_time": "2022-06-25T15:36:21.044Z"
      },
      {
        "duration": 6,
        "start_time": "2022-06-25T15:36:21.055Z"
      },
      {
        "duration": 18,
        "start_time": "2022-06-25T15:36:21.063Z"
      },
      {
        "duration": 52,
        "start_time": "2022-06-25T15:36:21.084Z"
      },
      {
        "duration": 8,
        "start_time": "2022-06-25T15:36:21.138Z"
      },
      {
        "duration": 17,
        "start_time": "2022-06-25T15:36:21.148Z"
      },
      {
        "duration": 3,
        "start_time": "2022-06-25T15:36:21.168Z"
      },
      {
        "duration": 7,
        "start_time": "2022-06-25T15:36:21.173Z"
      },
      {
        "duration": 8,
        "start_time": "2022-06-25T15:36:21.182Z"
      },
      {
        "duration": 33,
        "start_time": "2022-06-25T15:36:21.192Z"
      },
      {
        "duration": 18,
        "start_time": "2022-06-25T15:36:21.227Z"
      },
      {
        "duration": 28,
        "start_time": "2022-06-25T15:36:21.247Z"
      },
      {
        "duration": 20,
        "start_time": "2022-06-25T15:36:21.276Z"
      },
      {
        "duration": 44,
        "start_time": "2022-06-25T15:36:21.298Z"
      },
      {
        "duration": 153,
        "start_time": "2022-06-25T15:36:21.344Z"
      },
      {
        "duration": 132,
        "start_time": "2022-06-25T15:36:21.499Z"
      },
      {
        "duration": 51,
        "start_time": "2022-06-25T15:36:21.632Z"
      },
      {
        "duration": 793,
        "start_time": "2022-06-25T15:36:21.685Z"
      },
      {
        "duration": 152,
        "start_time": "2022-06-25T15:36:22.479Z"
      },
      {
        "duration": 75408,
        "start_time": "2022-06-25T15:36:22.636Z"
      },
      {
        "duration": 119,
        "start_time": "2022-06-25T15:37:38.045Z"
      },
      {
        "duration": 736,
        "start_time": "2022-06-25T15:37:38.166Z"
      },
      {
        "duration": 132,
        "start_time": "2022-06-25T15:37:38.904Z"
      },
      {
        "duration": 86,
        "start_time": "2022-06-25T15:37:39.038Z"
      },
      {
        "duration": 12,
        "start_time": "2022-06-25T15:37:39.126Z"
      },
      {
        "duration": 124,
        "start_time": "2022-06-25T15:37:39.139Z"
      },
      {
        "duration": 36,
        "start_time": "2022-06-25T15:37:39.266Z"
      },
      {
        "duration": 436,
        "start_time": "2022-06-25T15:37:39.304Z"
      },
      {
        "duration": 196,
        "start_time": "2022-06-25T15:37:39.741Z"
      },
      {
        "duration": 4,
        "start_time": "2022-06-25T15:37:40.024Z"
      },
      {
        "duration": 14,
        "start_time": "2022-06-25T15:37:40.030Z"
      },
      {
        "duration": 119,
        "start_time": "2022-06-25T15:37:40.045Z"
      },
      {
        "duration": 66,
        "start_time": "2022-06-25T15:37:40.166Z"
      },
      {
        "duration": 1072,
        "start_time": "2022-06-25T15:37:40.235Z"
      },
      {
        "duration": 119,
        "start_time": "2022-06-25T15:37:41.309Z"
      },
      {
        "duration": 8354,
        "start_time": "2022-06-25T15:37:41.431Z"
      },
      {
        "duration": 9860,
        "start_time": "2022-06-25T15:37:49.786Z"
      },
      {
        "duration": 569,
        "start_time": "2022-06-25T15:49:22.256Z"
      },
      {
        "duration": 5,
        "start_time": "2022-06-25T15:49:22.827Z"
      },
      {
        "duration": 10,
        "start_time": "2022-06-25T15:49:22.833Z"
      },
      {
        "duration": 39,
        "start_time": "2022-06-25T15:49:22.845Z"
      },
      {
        "duration": 176,
        "start_time": "2022-06-25T15:49:22.886Z"
      },
      {
        "duration": 1648,
        "start_time": "2022-06-25T16:30:18.000Z"
      },
      {
        "duration": 77,
        "start_time": "2022-06-25T16:30:19.650Z"
      },
      {
        "duration": 16,
        "start_time": "2022-06-25T16:30:19.735Z"
      },
      {
        "duration": 28,
        "start_time": "2022-06-25T16:30:19.755Z"
      },
      {
        "duration": 11,
        "start_time": "2022-06-25T16:30:19.784Z"
      },
      {
        "duration": 12,
        "start_time": "2022-06-25T16:30:19.796Z"
      },
      {
        "duration": 21,
        "start_time": "2022-06-25T16:30:19.809Z"
      },
      {
        "duration": 33,
        "start_time": "2022-06-25T16:30:19.831Z"
      },
      {
        "duration": 6,
        "start_time": "2022-06-25T16:30:19.866Z"
      },
      {
        "duration": 5,
        "start_time": "2022-06-25T16:30:19.875Z"
      },
      {
        "duration": 16,
        "start_time": "2022-06-25T16:30:19.881Z"
      },
      {
        "duration": 22,
        "start_time": "2022-06-25T16:30:19.898Z"
      },
      {
        "duration": 30,
        "start_time": "2022-06-25T16:30:19.921Z"
      },
      {
        "duration": 42,
        "start_time": "2022-06-25T16:30:19.955Z"
      },
      {
        "duration": 2,
        "start_time": "2022-06-25T16:30:19.999Z"
      },
      {
        "duration": 5,
        "start_time": "2022-06-25T16:30:20.003Z"
      },
      {
        "duration": 9,
        "start_time": "2022-06-25T16:30:20.009Z"
      },
      {
        "duration": 46,
        "start_time": "2022-06-25T16:30:20.019Z"
      },
      {
        "duration": 17,
        "start_time": "2022-06-25T16:30:20.067Z"
      },
      {
        "duration": 24,
        "start_time": "2022-06-25T16:30:20.086Z"
      },
      {
        "duration": 28,
        "start_time": "2022-06-25T16:30:20.111Z"
      },
      {
        "duration": 41,
        "start_time": "2022-06-25T16:30:20.141Z"
      },
      {
        "duration": 154,
        "start_time": "2022-06-25T16:30:20.184Z"
      },
      {
        "duration": 132,
        "start_time": "2022-06-25T16:30:20.349Z"
      },
      {
        "duration": 62,
        "start_time": "2022-06-25T16:30:20.483Z"
      },
      {
        "duration": 842,
        "start_time": "2022-06-25T16:30:20.547Z"
      },
      {
        "duration": 167,
        "start_time": "2022-06-25T16:30:21.391Z"
      },
      {
        "duration": 79878,
        "start_time": "2022-06-25T16:30:21.565Z"
      },
      {
        "duration": 50,
        "start_time": "2022-06-25T16:31:41.445Z"
      },
      {
        "duration": 816,
        "start_time": "2022-06-25T16:31:41.496Z"
      },
      {
        "duration": 142,
        "start_time": "2022-06-25T16:31:42.314Z"
      },
      {
        "duration": 53,
        "start_time": "2022-06-25T16:31:42.522Z"
      },
      {
        "duration": 12,
        "start_time": "2022-06-25T16:31:42.578Z"
      },
      {
        "duration": 147,
        "start_time": "2022-06-25T16:31:42.593Z"
      },
      {
        "duration": 41,
        "start_time": "2022-06-25T16:31:42.741Z"
      },
      {
        "duration": 495,
        "start_time": "2022-06-25T16:31:42.785Z"
      },
      {
        "duration": 248,
        "start_time": "2022-06-25T16:31:43.282Z"
      },
      {
        "duration": 7,
        "start_time": "2022-06-25T16:31:43.532Z"
      },
      {
        "duration": 33,
        "start_time": "2022-06-25T16:31:43.542Z"
      },
      {
        "duration": 109,
        "start_time": "2022-06-25T16:31:43.576Z"
      },
      {
        "duration": 68,
        "start_time": "2022-06-25T16:31:43.687Z"
      },
      {
        "duration": 1191,
        "start_time": "2022-06-25T16:31:43.757Z"
      },
      {
        "duration": 198,
        "start_time": "2022-06-25T16:31:44.950Z"
      },
      {
        "duration": 9163,
        "start_time": "2022-06-25T16:31:45.151Z"
      },
      {
        "duration": 11185,
        "start_time": "2022-06-25T16:31:54.316Z"
      },
      {
        "duration": 5,
        "start_time": "2022-06-25T16:32:05.503Z"
      },
      {
        "duration": 746282,
        "start_time": "2022-06-25T16:32:05.510Z"
      },
      {
        "duration": 5,
        "start_time": "2022-06-25T16:44:31.794Z"
      },
      {
        "duration": 586,
        "start_time": "2022-06-25T16:44:31.801Z"
      },
      {
        "duration": 6,
        "start_time": "2022-06-25T16:44:32.389Z"
      },
      {
        "duration": 10,
        "start_time": "2022-06-25T16:44:32.396Z"
      },
      {
        "duration": 50,
        "start_time": "2022-06-25T16:44:32.423Z"
      },
      {
        "duration": 178,
        "start_time": "2022-06-25T16:44:32.475Z"
      },
      {
        "duration": 1281,
        "start_time": "2022-06-25T17:02:23.214Z"
      },
      {
        "duration": 558,
        "start_time": "2022-06-25T17:02:42.005Z"
      },
      {
        "duration": 41,
        "start_time": "2022-06-25T17:03:09.115Z"
      },
      {
        "duration": 1341,
        "start_time": "2022-06-25T17:03:42.767Z"
      },
      {
        "duration": 7,
        "start_time": "2022-06-25T17:03:47.546Z"
      },
      {
        "duration": 19,
        "start_time": "2022-06-25T17:03:48.719Z"
      },
      {
        "duration": 82,
        "start_time": "2022-06-25T17:03:52.347Z"
      },
      {
        "duration": 193,
        "start_time": "2022-06-25T17:03:54.182Z"
      },
      {
        "duration": 1422,
        "start_time": "2022-06-25T17:04:11.848Z"
      },
      {
        "duration": 558,
        "start_time": "2022-06-25T17:04:20.390Z"
      },
      {
        "duration": 13,
        "start_time": "2022-06-25T17:04:24.517Z"
      },
      {
        "duration": 8,
        "start_time": "2022-06-25T17:04:25.454Z"
      },
      {
        "duration": 48,
        "start_time": "2022-06-25T17:04:30.988Z"
      },
      {
        "duration": 227,
        "start_time": "2022-06-25T17:04:33.485Z"
      },
      {
        "duration": 1850,
        "start_time": "2022-06-25T21:30:15.691Z"
      },
      {
        "duration": 116,
        "start_time": "2022-06-25T21:30:17.546Z"
      },
      {
        "duration": 23,
        "start_time": "2022-06-25T21:30:17.668Z"
      },
      {
        "duration": 14,
        "start_time": "2022-06-25T21:30:18.908Z"
      },
      {
        "duration": 119,
        "start_time": "2022-06-25T21:30:24.647Z"
      },
      {
        "duration": 762,
        "start_time": "2022-06-25T21:30:55.801Z"
      }
    ],
    "accelerator": "GPU",
    "colab": {
      "gpuType": "A100",
      "machine_shape": "hm",
      "provenance": []
    },
    "kernelspec": {
      "display_name": "Python 3",
      "name": "python3"
    },
    "language_info": {
      "codemirror_mode": {
        "name": "ipython",
        "version": 3
      },
      "file_extension": ".py",
      "mimetype": "text/x-python",
      "name": "python",
      "nbconvert_exporter": "python",
      "pygments_lexer": "ipython3",
      "version": "3.10.11"
    },
    "toc": {
      "base_numbering": 1,
      "nav_menu": {},
      "number_sections": true,
      "sideBar": true,
      "skip_h1_title": true,
      "title_cell": "Содержание",
      "title_sidebar": "Contents",
      "toc_cell": true,
      "toc_position": {
        "height": "calc(100% - 180px)",
        "left": "10px",
        "top": "150px",
        "width": "202.344px"
      },
      "toc_section_display": true,
      "toc_window_display": true
    }
  },
  "nbformat": 4,
  "nbformat_minor": 0
}
